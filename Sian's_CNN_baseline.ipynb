{
  "nbformat": 4,
  "nbformat_minor": 0,
  "metadata": {
    "colab": {
      "provenance": [],
      "mount_file_id": "1_W6EF0n4B17vgMBwNRMR1FY7z6iB5lhK",
      "authorship_tag": "ABX9TyP3sIep8wkfq0nTYFJBEgnl",
      "include_colab_link": true
    },
    "kernelspec": {
      "name": "python3",
      "display_name": "Python 3"
    },
    "language_info": {
      "name": "python"
    }
  },
  "cells": [
    {
      "cell_type": "markdown",
      "metadata": {
        "id": "view-in-github",
        "colab_type": "text"
      },
      "source": [
        "<a href=\"https://colab.research.google.com/github/SianC7/LAIDS/blob/main/Sian's_CNN_baseline.ipynb\" target=\"_parent\"><img src=\"https://colab.research.google.com/assets/colab-badge.svg\" alt=\"Open In Colab\"/></a>"
      ]
    },
    {
      "cell_type": "markdown",
      "source": [
        "#CTU-IoT-Malware-Capture-1-1 data preprocessing and baseline (supervised) CNN model\n",
        "- Collection\n",
        "- Cleaning\n",
        "- Encoding\n",
        "- Scaling\n",
        "- Normalisation"
      ],
      "metadata": {
        "id": "oOSaPtDFUdwR"
      }
    },
    {
      "cell_type": "code",
      "source": [
        "import pandas as pd\n",
        "import numpy as np\n",
        "from sklearn.preprocessing import LabelEncoder\n",
        "from sklearn.preprocessing import StandardScaler\n",
        "\n",
        "\n",
        "# Set pandas display options for wide output\n",
        "pd.set_option('display.max_columns', None)\n",
        "pd.set_option('display.width', None)\n",
        "pd.set_option('display.max_colwidth', None)\n",
        "\n",
        "# Step 1: Data Collection\n",
        "data_file_path = '/content/drive/MyDrive/Colab Notebooks/Honours Project/IoT-23 8GB Dataset/Malware-Project/BigDataset/IoTScenarios/CTU-IoT-Malware-Capture-1-1/bro/conn.log.labeled' # 1-1, 34-1, 49-1\n",
        "\n",
        "# Read the file\n",
        "df = pd.read_csv(\n",
        "    data_file_path,\n",
        "    sep=\"\\t\",\n",
        "    comment=\"#\",\n",
        "    header=None,\n",
        "    names=[\n",
        "        \"ts\", \"uid\", \"id.orig_h\", \"id.orig_p\", \"id.resp_h\", \"id.resp_p\", \"proto\",\n",
        "        \"service\", \"duration\", \"orig_bytes\", \"resp_bytes\", \"conn_state\",\n",
        "        \"local_orig\", \"local_resp\", \"missed_bytes\", \"history\", \"orig_pkts\",\n",
        "        \"orig_ip_bytes\", \"resp_pkts\", \"resp_ip_bytes\", \"label\"\n",
        "    ]\n",
        ")\n",
        "\n",
        "print(\"\\nInitial sample:\")\n",
        "print(df.head().to_string())\n",
        "\n",
        "# Step 2: Data Cleaning\n",
        "# Convert timestamp to datetime\n",
        "df[\"ts\"] = pd.to_datetime(df[\"ts\"], unit=\"s\", errors='coerce')\n",
        "\n",
        "# Drop non-informative or redundant columns\n",
        "df.drop(columns=['uid', 'id.orig_h', 'id.resp_h', 'local_orig', 'local_resp', 'history'], inplace=True)\n",
        "\n",
        "# Replace '-' with NaN for consistent handling\n",
        "df.replace('-', np.nan, inplace=True)\n",
        "\n",
        "# Drop rows where critical numeric fields are missing\n",
        "df.dropna(subset=[\n",
        "    'duration', 'orig_bytes', 'resp_bytes', 'id.orig_p', 'id.resp_p',\n",
        "    'orig_pkts', 'orig_ip_bytes', 'resp_pkts', 'resp_ip_bytes'\n",
        "], inplace=True)\n",
        "\n",
        "# Convert appropriate columns to numeric types\n",
        "numeric_columns = [\n",
        "    'duration', 'orig_bytes', 'resp_bytes', 'id.orig_p', 'id.resp_p',\n",
        "    'orig_pkts', 'orig_ip_bytes', 'resp_pkts', 'resp_ip_bytes', 'missed_bytes'\n",
        "]\n",
        "for col in numeric_columns:\n",
        "    df[col] = pd.to_numeric(df[col], errors='coerce').fillna(0)\n",
        "\n",
        "# Encode categorical columns\n",
        "categorical_columns = ['proto', 'conn_state', 'service']\n",
        "for col in categorical_columns:\n",
        "    df[col] = df[col].astype(str)  # Ensure strings\n",
        "    df[col] = LabelEncoder().fit_transform(df[col])\n",
        "\n",
        "# Convert label to binary (malicious=1, benign=0)\n",
        "df['label'] = df['label'].apply(lambda x: 1 if 'Malicious' in str(x) else 0)\n",
        "\n",
        "# Drop any rows still containing NaN\n",
        "df.dropna(inplace=True)\n",
        "\n",
        "print(\"\\nCleaned sample:\")\n",
        "print(df.head().to_string())\n",
        "print(\"\\nData types and nulls:\")\n",
        "print(df.info())\n",
        "# print(\"\\nStatistics:\")\n",
        "# print(df.describe().to_string())\n",
        "\n",
        "\n",
        "# --- Split features and labels ---\n",
        "X = df.drop(columns=['label', 'ts']).values  # Drop label and timestamp\n",
        "y = df['label'].values\n",
        "\n",
        "# --- Normalize ---\n",
        "scaler = StandardScaler()\n",
        "X_scaled = scaler.fit_transform(X)\n",
        "\n",
        "\n",
        "# --- Add counts of malware and benign logs ---\n",
        "total_logs = len(df)\n",
        "malware_logs = df['label'].sum()  # since malware=1\n",
        "benign_logs = total_logs - malware_logs\n",
        "\n",
        "print(f\"\\nTotal logs: {total_logs}\")\n",
        "print(f\"Malware logs: {malware_logs}\")\n",
        "print(f\"Benign (non-malicious) logs: {benign_logs}\")\n"
      ],
      "metadata": {
        "colab": {
          "base_uri": "https://localhost:8080/"
        },
        "id": "9S8k3TYGvIBW",
        "outputId": "61c39527-cc3e-401e-9327-c3374ac7f7d9"
      },
      "execution_count": 1,
      "outputs": [
        {
          "output_type": "stream",
          "name": "stdout",
          "text": [
            "\n",
            "Initial sample:\n",
            "             ts                 uid        id.orig_h  id.orig_p        id.resp_h  id.resp_p proto service  duration orig_bytes resp_bytes conn_state local_orig local_resp  missed_bytes history  orig_pkts  orig_ip_bytes  resp_pkts  resp_ip_bytes                                            label\n",
            "0  1.525880e+09  CUmrqr4svHuSXJy5z7  192.168.100.103      51524   65.127.233.163         23   tcp       -  2.999051          0          0         S0          -          -             0       S          3            180          0              0  (empty)   Malicious   PartOfAHorizontalPortScan\n",
            "1  1.525880e+09  CH98aB3s1kJeq6SFOc  192.168.100.103      56305    63.150.16.171         23   tcp       -         -          -          -         S0          -          -             0       S          1             60          0              0  (empty)   Malicious   PartOfAHorizontalPortScan\n",
            "2  1.525880e+09   C3GBTkINvXNjVGtN5  192.168.100.103      41101     111.40.23.49         23   tcp       -         -          -          -         S0          -          -             0       S          1             60          0              0  (empty)   Malicious   PartOfAHorizontalPortScan\n",
            "3  1.525880e+09   CDe43c1PtgynajGI6  192.168.100.103      60905  131.174.215.147         23   tcp       -  2.998796          0          0         S0          -          -             0       S          3            180          0              0  (empty)   Malicious   PartOfAHorizontalPortScan\n",
            "4  1.525880e+09  CJaDcG3MZzvf1YVYI4  192.168.100.103      44301      91.42.47.63         23   tcp       -         -          -          -         S0          -          -             0       S          1             60          0              0  (empty)   Malicious   PartOfAHorizontalPortScan\n",
            "\n",
            "Cleaned sample:\n",
            "                              ts  id.orig_p  id.resp_p  proto  service  duration  orig_bytes  resp_bytes  conn_state  missed_bytes  orig_pkts  orig_ip_bytes  resp_pkts  resp_ip_bytes  label\n",
            "0  2018-05-09 15:30:31.015810966      51524         23      1        3  2.999051           0           0           6             0          3            180          0              0      1\n",
            "3  2018-05-09 15:30:32.016239882      60905         23      1        3  2.998796           0           0           6             0          3            180          0              0      1\n",
            "6  2018-05-09 15:30:33.016170978      34243      49560      1        3  2.998804           0           0           6             0          3            180          0              0      0\n",
            "11 2018-05-09 15:30:37.005651951      52259         23      1        3  2.999300           0           0           6             0          3            180          0              0      1\n",
            "12 2018-05-09 15:30:38.006081104      42207       8080      1        3  2.993548           0           0           6             0          3            180          0              0      1\n",
            "\n",
            "Data types and nulls:\n",
            "<class 'pandas.core.frame.DataFrame'>\n",
            "Index: 212448 entries, 0 to 1008685\n",
            "Data columns (total 15 columns):\n",
            " #   Column         Non-Null Count   Dtype         \n",
            "---  ------         --------------   -----         \n",
            " 0   ts             212448 non-null  datetime64[ns]\n",
            " 1   id.orig_p      212448 non-null  int64         \n",
            " 2   id.resp_p      212448 non-null  int64         \n",
            " 3   proto          212448 non-null  int64         \n",
            " 4   service        212448 non-null  int64         \n",
            " 5   duration       212448 non-null  float64       \n",
            " 6   orig_bytes     212448 non-null  int64         \n",
            " 7   resp_bytes     212448 non-null  int64         \n",
            " 8   conn_state     212448 non-null  int64         \n",
            " 9   missed_bytes   212448 non-null  int64         \n",
            " 10  orig_pkts      212448 non-null  int64         \n",
            " 11  orig_ip_bytes  212448 non-null  int64         \n",
            " 12  resp_pkts      212448 non-null  int64         \n",
            " 13  resp_ip_bytes  212448 non-null  int64         \n",
            " 14  label          212448 non-null  int64         \n",
            "dtypes: datetime64[ns](1), float64(1), int64(13)\n",
            "memory usage: 25.9 MB\n",
            "None\n",
            "\n",
            "Total logs: 212448\n",
            "Malware logs: 189291\n",
            "Benign (non-malicious) logs: 23157\n"
          ]
        }
      ]
    },
    {
      "cell_type": "markdown",
      "source": [
        "# Pad & Reshape for 2D CNN"
      ],
      "metadata": {
        "id": "Xy_tEwFevJZN"
      }
    },
    {
      "cell_type": "code",
      "source": [
        "from sklearn.model_selection import train_test_split\n",
        "from sklearn.preprocessing import StandardScaler\n",
        "import numpy as np\n",
        "\n",
        "# # --- Split features and labels ---\n",
        "# X = df.drop(columns=['label', 'ts']).values  # Drop label and timestamp\n",
        "# y = df['label'].values\n",
        "\n",
        "# # --- Normalize ---\n",
        "# scaler = StandardScaler()\n",
        "# X_scaled = scaler.fit_transform(X)\n",
        "\n",
        "# --- Pad/truncate to 16 features for 4x4 reshape ---\n",
        "target_feature_count = 16\n",
        "current_feature_count = X_scaled.shape[1]\n",
        "\n",
        "if current_feature_count < target_feature_count:\n",
        "    # Pad with zeros\n",
        "    pad_width = target_feature_count - current_feature_count\n",
        "    X_padded = np.pad(X_scaled, ((0, 0), (0, pad_width)), mode='constant')\n",
        "else:\n",
        "    # Truncate extra columns\n",
        "    X_padded = X_scaled[:, :target_feature_count]\n",
        "\n",
        "# --- Reshape into (samples, 4, 4, 1) for 2D CNN input ---\n",
        "X_2dcnn = X_padded.reshape(-1, 4, 4, 1) #CNN input shape: (total_samples, height, width, channels)\n",
        "\n",
        "# --- Testing ---\n",
        "# print(\"X-cnn:\")\n",
        "# print(X_cnn)\n",
        "# print(\"Before reshape (sample 0):\", X[0])\n",
        "print(\"After reshape (sample 0):\", X_2dcnn[0])\n",
        "\n",
        "\n",
        "# Step 1: Split off the test set (e.g., 20%)\n",
        "X2_temp, X2_test, y2_temp, y2_test = train_test_split(X_2dcnn, y, test_size=0.2, random_state=42, stratify=y) #  stratify=y ensures that the class distribution (e.g., number of benign vs. malicious labels) in the split matches the original dataset's distribution.\n",
        "\n",
        "# Step 2: Split remaining data into training and validation sets (e.g., 20% val from temp)\n",
        "X2_train, X2_val, y2_train, y2_val = train_test_split(X2_temp, y2_temp, test_size=0.2, random_state=42, stratify=y2_temp) #ensures class balance in both the training and validation sets\n",
        "\n",
        "print(\"CNN input shape:\", X_2dcnn.shape)\n"
      ],
      "metadata": {
        "colab": {
          "base_uri": "https://localhost:8080/"
        },
        "id": "f5RLj0rHvH5N",
        "outputId": "8e310ffa-737c-4b71-c817-efce32a8d5d7"
      },
      "execution_count": 2,
      "outputs": [
        {
          "output_type": "stream",
          "name": "stdout",
          "text": [
            "After reshape (sample 0): [[[ 0.53280701]\n",
            "  [-0.52457017]\n",
            "  [-0.11968774]\n",
            "  [ 0.12429118]]\n",
            "\n",
            " [[-0.04855243]\n",
            "  [-0.20352119]\n",
            "  [-0.12056746]\n",
            "  [-0.02812535]]\n",
            "\n",
            " [[ 0.        ]\n",
            "  [-0.11265215]\n",
            "  [-0.11029572]\n",
            "  [-0.16961599]]\n",
            "\n",
            " [[-0.16652979]\n",
            "  [ 0.        ]\n",
            "  [ 0.        ]\n",
            "  [ 0.        ]]]\n",
            "CNN input shape: (212448, 4, 4, 1)\n"
          ]
        }
      ]
    },
    {
      "cell_type": "markdown",
      "source": [
        "#Build the 2D CNN"
      ],
      "metadata": {
        "id": "xgV3nNQzDfOq"
      }
    },
    {
      "cell_type": "code",
      "source": [
        "import tensorflow as tf\n",
        "from tensorflow.keras.models import Sequential\n",
        "from tensorflow.keras.layers import Conv2D, MaxPooling2D, Flatten, Dense, Dropout\n",
        "\n",
        "# --- Build model ---\n",
        "#This Sequential model is a Convolutional Neural Network (CNN) built using Keras, designed for binary classification (e.g., \"benign\" vs. \"malicious\").\n",
        "\n",
        "model = Sequential([                                                # Model Definition - This creates a linear stack of layers — meaning each layer has exactly one input and one output.\n",
        "    Conv2D(32, (2, 2), activation='relu', input_shape=(4, 4, 1)),   # A convolutional layer that scans small regions of the input image (feature extractor), 32: Number of filters (kernels)(hyperparameter) — the model will learn 32 features from the input, (2, 2): Size of each filter — each filter scans a 2×2 patch of the input, Applies the ReLU activation function to introduce non-linearity, nput has shape 4×4 with 1 channel (i.e., grayscale or single feature).\n",
        "    MaxPooling2D(pool_size=(2, 2)),                                 # Reduces the spatial dimensions of the feature maps (downsampling), (2, 2) takes the maximum value in each 2×2 window, reducing size and computation - helps retain the most important features and reduce overfitting.\n",
        "    Flatten(),                                                      # Flattens the 2D pooled feature maps into a 1D vector.\n",
        "    Dense(64, activation='relu'),                                   # Fully connected layer with 64 neurons - learns complex combinations of the features extracted by the convolutional layers. ReLU activation introduces non-linearity.\n",
        "    Dropout(0.3),                                                   # Randomly \"drops\" (sets to zero) 30% of the neurons during training - Prevents overfitting by forcing the model to not rely on specific neurons.\n",
        "    Dense(1, activation='sigmoid')                                  # Final output layer for binary classification, 1 neuron: outputs a single probability value (between 0 and 1). sigmoid activation: squashes the output to a probability — you’ll classify as class 1 if the output is > 0.5, otherwise 0.\n",
        "\n",
        "])\n",
        "\n",
        "# --- Compile ---\n",
        "#This step prepares the model for training\n",
        "# - optimizer='adam': Adam adapts the learning rate during training based on gradient history.\n",
        "# - loss='binary_crossentropy': the loss function the model tries to minimize. It measures how well the model's predicted probabilities match the actual labels (0 or 1).\n",
        "# - metrics=['accuracy']: tells the model to track accuracy during training and evaluation.\n",
        "model.compile(optimizer='adam', loss='binary_crossentropy', metrics=['accuracy'])\n"
      ],
      "metadata": {
        "colab": {
          "base_uri": "https://localhost:8080/"
        },
        "id": "gS1i7z5rDeAz",
        "outputId": "082432bd-b6e4-463d-f7da-26294e0c8b8f"
      },
      "execution_count": 3,
      "outputs": [
        {
          "output_type": "stream",
          "name": "stderr",
          "text": [
            "/usr/local/lib/python3.11/dist-packages/keras/src/layers/convolutional/base_conv.py:107: UserWarning: Do not pass an `input_shape`/`input_dim` argument to a layer. When using Sequential models, prefer using an `Input(shape)` object as the first layer in the model instead.\n",
            "  super().__init__(activity_regularizer=activity_regularizer, **kwargs)\n"
          ]
        }
      ]
    },
    {
      "cell_type": "markdown",
      "source": [
        "# Train, Evaluate (Test) & Visualize 2D CNN"
      ],
      "metadata": {
        "id": "1v9F4P8jDz-v"
      }
    },
    {
      "cell_type": "code",
      "source": [
        "import matplotlib.pyplot as plt\n",
        "\n",
        "# --- Train with validation data ---\n",
        "#This starts the training process, where the model learns patterns from X_train to predict y_train\n",
        "history = model.fit(                 # The training history (loss & accuracy per epoch) is saved in history.\n",
        "    X2_train,\n",
        "    y2_train,\n",
        "    epochs=10,                       # The model will go through the entire training data 10 times.\n",
        "    batch_size=64,                   # The model updates its weights after every 64 samples (a batch) - speeds up training.\n",
        "    validation_data=(X2_val, y2_val) ) # A separate dataset the model uses to evaluate its performance after each epoch — without updating weights. It helps monitor if the model is learning well or overfitting. [validation_data=(X_test, y_test))]\n",
        "\n",
        "\n",
        "# --- Evaluate on test set ---\n",
        "#This evaluates the final performance of your trained model on a completely unseen test set\n",
        "test_loss, test_acc = model.evaluate(X2_test, y2_test)\n",
        "print(f\"\\nTest accuracy: {test_acc:.4f}\")\n",
        "\n",
        "# --- Making sure the evaluation is trustworthy ---\n",
        "print(X2_test.shape, y2_test.shape) #Shapes should match expected input/output dimensions.\n",
        "\n",
        "y_pred_probs = model.predict(X2_test) #Compare with Manual Accuracy Calculation\n",
        "y_pred = (y_pred_probs > 0.5).astype(int)  # threshold for binary classification\n",
        "manual_acc = np.mean(y_pred.reshape(-1) == y2_test.reshape(-1))\n",
        "print(\"Manual accuracy:\", manual_acc)\n",
        "\n",
        "# --- Plot training history ---\n",
        "plt.plot(history.history['accuracy'], label='Train Acc')\n",
        "plt.plot(history.history['val_accuracy'], label='Val Acc')\n",
        "\n",
        "plt.title('Model Accuracy')\n",
        "plt.xlabel('Epoch')\n",
        "plt.ylabel('Accuracy')\n",
        "plt.legend()\n",
        "plt.grid()\n",
        "plt.show()\n"
      ],
      "metadata": {
        "colab": {
          "base_uri": "https://localhost:8080/",
          "height": 914
        },
        "id": "IY9gvcSODzRO",
        "outputId": "fc360ca6-dacd-43ea-8722-ba99f8d58612"
      },
      "execution_count": 4,
      "outputs": [
        {
          "output_type": "stream",
          "name": "stdout",
          "text": [
            "Epoch 1/10\n",
            "\u001b[1m2125/2125\u001b[0m \u001b[32m━━━━━━━━━━━━━━━━━━━━\u001b[0m\u001b[37m\u001b[0m \u001b[1m10s\u001b[0m 4ms/step - accuracy: 0.9699 - loss: 0.1555 - val_accuracy: 0.9855 - val_loss: 0.0670\n",
            "Epoch 2/10\n",
            "\u001b[1m2125/2125\u001b[0m \u001b[32m━━━━━━━━━━━━━━━━━━━━\u001b[0m\u001b[37m\u001b[0m \u001b[1m10s\u001b[0m 4ms/step - accuracy: 0.9862 - loss: 0.0677 - val_accuracy: 0.9869 - val_loss: 0.0616\n",
            "Epoch 3/10\n",
            "\u001b[1m2125/2125\u001b[0m \u001b[32m━━━━━━━━━━━━━━━━━━━━\u001b[0m\u001b[37m\u001b[0m \u001b[1m15s\u001b[0m 7ms/step - accuracy: 0.9874 - loss: 0.0605 - val_accuracy: 0.9870 - val_loss: 0.0585\n",
            "Epoch 4/10\n",
            "\u001b[1m2125/2125\u001b[0m \u001b[32m━━━━━━━━━━━━━━━━━━━━\u001b[0m\u001b[37m\u001b[0m \u001b[1m11s\u001b[0m 3ms/step - accuracy: 0.9882 - loss: 0.0567 - val_accuracy: 0.9876 - val_loss: 0.0520\n",
            "Epoch 5/10\n",
            "\u001b[1m2125/2125\u001b[0m \u001b[32m━━━━━━━━━━━━━━━━━━━━\u001b[0m\u001b[37m\u001b[0m \u001b[1m12s\u001b[0m 4ms/step - accuracy: 0.9882 - loss: 0.0518 - val_accuracy: 0.9885 - val_loss: 0.0465\n",
            "Epoch 6/10\n",
            "\u001b[1m2125/2125\u001b[0m \u001b[32m━━━━━━━━━━━━━━━━━━━━\u001b[0m\u001b[37m\u001b[0m \u001b[1m7s\u001b[0m 3ms/step - accuracy: 0.9897 - loss: 0.0463 - val_accuracy: 0.9916 - val_loss: 0.0400\n",
            "Epoch 7/10\n",
            "\u001b[1m2125/2125\u001b[0m \u001b[32m━━━━━━━━━━━━━━━━━━━━\u001b[0m\u001b[37m\u001b[0m \u001b[1m6s\u001b[0m 3ms/step - accuracy: 0.9922 - loss: 0.0400 - val_accuracy: 0.9919 - val_loss: 0.0389\n",
            "Epoch 8/10\n",
            "\u001b[1m2125/2125\u001b[0m \u001b[32m━━━━━━━━━━━━━━━━━━━━\u001b[0m\u001b[37m\u001b[0m \u001b[1m12s\u001b[0m 4ms/step - accuracy: 0.9929 - loss: 0.0379 - val_accuracy: 0.9923 - val_loss: 0.0378\n",
            "Epoch 9/10\n",
            "\u001b[1m2125/2125\u001b[0m \u001b[32m━━━━━━━━━━━━━━━━━━━━\u001b[0m\u001b[37m\u001b[0m \u001b[1m8s\u001b[0m 4ms/step - accuracy: 0.9933 - loss: 0.0352 - val_accuracy: 0.9924 - val_loss: 0.0377\n",
            "Epoch 10/10\n",
            "\u001b[1m2125/2125\u001b[0m \u001b[32m━━━━━━━━━━━━━━━━━━━━\u001b[0m\u001b[37m\u001b[0m \u001b[1m7s\u001b[0m 3ms/step - accuracy: 0.9936 - loss: 0.0356 - val_accuracy: 0.9933 - val_loss: 0.0337\n",
            "\u001b[1m1328/1328\u001b[0m \u001b[32m━━━━━━━━━━━━━━━━━━━━\u001b[0m\u001b[37m\u001b[0m \u001b[1m2s\u001b[0m 1ms/step - accuracy: 0.9937 - loss: 0.0331\n",
            "\n",
            "Test accuracy: 0.9939\n",
            "(42490, 4, 4, 1) (42490,)\n",
            "\u001b[1m1328/1328\u001b[0m \u001b[32m━━━━━━━━━━━━━━━━━━━━\u001b[0m\u001b[37m\u001b[0m \u001b[1m1s\u001b[0m 1ms/step\n",
            "Manual accuracy: 0.9939279830548364\n"
          ]
        },
        {
          "output_type": "display_data",
          "data": {
            "text/plain": [
              "<Figure size 640x480 with 1 Axes>"
            ],
            "image/png": "[encoded data removed]"
          },
          "metadata": {}
        }
      ]
    },
    {
      "cell_type": "markdown",
      "source": [
        "#Evaluate 2D CNN Malware Detection Results"
      ],
      "metadata": {
        "id": "ePdNuhL9FOER"
      }
    },
    {
      "cell_type": "code",
      "source": [
        "from sklearn.metrics import confusion_matrix, accuracy_score, classification_report\n",
        "\n",
        "# Get predictions\n",
        "y_pred_probs = model.predict(X2_test)\n",
        "y_pred = (y_pred_probs > 0.5).astype(int).flatten()  # Convert probabilities to 0 or 1\n",
        "\n",
        "# Confusion matrix\n",
        "cm = confusion_matrix(y2_test, y_pred)\n",
        "\n",
        "# Optional: print as table\n",
        "print(\"Confusion Matrix:\")\n",
        "print(cm)\n",
        "\n",
        "# Detailed breakdown\n",
        "tn, fp, fn, tp = cm.ravel()\n",
        "print(f\"\\nTrue Negatives (Benign correctly classified): {tn}\")\n",
        "print(f\"False Positives (Benign misclassified as malware): {fp}\")\n",
        "print(f\"False Negatives (Malware missed): {fn}\")\n",
        "print(f\"True Positives (Malware correctly identified): {tp}\")\n",
        "\n",
        "# Accuracy score\n",
        "print(\"sklearn accuracy:\", accuracy_score(y2_test, y_pred))\n",
        "\n",
        "# Classification report (accuracy, precision, recall, F1)\n",
        "print(\"\\nClassification Report:\")\n",
        "print(classification_report(y2_test, y_pred, target_names=[\"Benign\", \"Malicious\"]))\n"
      ],
      "metadata": {
        "colab": {
          "base_uri": "https://localhost:8080/"
        },
        "id": "ESOWooF4FOfC",
        "outputId": "8d184b44-35f9-4439-e7d6-13b7351ae9e1"
      },
      "execution_count": 5,
      "outputs": [
        {
          "output_type": "stream",
          "name": "stdout",
          "text": [
            "\u001b[1m1328/1328\u001b[0m \u001b[32m━━━━━━━━━━━━━━━━━━━━\u001b[0m\u001b[37m\u001b[0m \u001b[1m1s\u001b[0m 1ms/step\n",
            "Confusion Matrix:\n",
            "[[ 4373   258]\n",
            " [    0 37859]]\n",
            "\n",
            "True Negatives (Benign correctly classified): 4373\n",
            "False Positives (Benign misclassified as malware): 258\n",
            "False Negatives (Malware missed): 0\n",
            "True Positives (Malware correctly identified): 37859\n",
            "sklearn accuracy: 0.9939279830548364\n",
            "\n",
            "Classification Report:\n",
            "              precision    recall  f1-score   support\n",
            "\n",
            "      Benign       1.00      0.94      0.97      4631\n",
            "   Malicious       0.99      1.00      1.00     37859\n",
            "\n",
            "    accuracy                           0.99     42490\n",
            "   macro avg       1.00      0.97      0.98     42490\n",
            "weighted avg       0.99      0.99      0.99     42490\n",
            "\n"
          ]
        }
      ]
    },
    {
      "cell_type": "markdown",
      "source": [
        "#Quantize the 2D CNN Model (Float32 + Int8)\n",
        "Converting a model's weights and activations from 32-bit floating point (float32) to smaller, more efficient data type, int8 (8-bit integers)."
      ],
      "metadata": {
        "id": "6YtdumwoRYBu"
      }
    },
    {
      "cell_type": "code",
      "source": [
        "import tensorflow as tf\n",
        "import numpy as np\n",
        "import os\n",
        "\n",
        "from sklearn.utils import shuffle\n",
        "from sklearn.model_selection import train_test_split\n",
        "\n",
        "\n",
        "# --- STEP 1: Balance the sample set to 40% benign, 60% malware ---\n",
        "def balance_sample_data(X2_train, y2_train, benign_ratio=0.4):\n",
        "    benign_X2 = X2_train[y2_train == 0]\n",
        "    malware_X2 = X2_train[y2_train == 1]\n",
        "\n",
        "    total = min(len(benign_X2) + len(benign_X2), 100000)  # Optional cap\n",
        "    benign_n = int(benign_ratio * total)\n",
        "    malware_n = total - benign_n\n",
        "\n",
        "    benign_X2_sampled = benign_X2[np.random.choice(len(benign_X2), benign_n)]\n",
        "    malware_X2_sampled = malware_X2[np.random.choice(len(malware_X2), malware_n)]\n",
        "\n",
        "    X2_bal = np.vstack((benign_X2_sampled, malware_X2_sampled))\n",
        "    y2_bal = np.array([0]*benign_n + [1]*malware_n)\n",
        "\n",
        "    return shuffle(X2_bal, y2_bal, random_state=42)\n",
        "\n",
        "# Apply balancing function\n",
        "X2_sample, y2_sample = balance_sample_data(X2_train, y2_train, benign_ratio=0.4)\n",
        "\n",
        "# --- STEP 3: Define representative dataset for quantization (from balanced training set) ---\n",
        "def representative_dataset():\n",
        "    for i in range(min(1000, len(X2_sample))):\n",
        "        sample = X2_sample[i:i+1].astype(np.float32)\n",
        "        yield [sample]\n",
        "\n",
        "\n",
        "# # --- STEP 4: Quantize the model ---\n",
        "\n",
        "# def representative_dataset():\n",
        "#   for i in range(min(1000, len(X2_train))):\n",
        "#       # Make sure the sample shape matches input_shape (batch=1)\n",
        "#       sample = X2_train[i:i+1].astype(np.float32)\n",
        "#       #print(\"Dataset representation sample:\",sample)\n",
        "#       yield [sample]\n",
        "\n",
        "def converter_quantization_model(model, model_name):\n",
        "    os.makedirs('./models', exist_ok=True)\n",
        "\n",
        "    # Float32 Conversion: model remains in float32, but gets optimized (e.g., fused layers, stripped metadata) for embedded deployment\n",
        "    converter = tf.lite.TFLiteConverter.from_keras_model(model) #Initializes a TFLite converter from the trained Keras model.\n",
        "    converter.optimizations = [tf.lite.Optimize.DEFAULT] #Apply default optimizations\n",
        "    converter.target_spec.supported_types = [tf.float32] #Specify that float32 weights and activations are supported\n",
        "    converter.representative_dataset = representative_dataset #Provide calibration data\n",
        "    tflite_model_float32 = converter.convert() #Converts the Keras model into TFLite format (still in float32).\n",
        "    with open(model_name + '_quant_float32.tflite', 'wb') as f: #converted float32 model to file.\n",
        "        f.write(tflite_model_float32)\n",
        "\n",
        "    # Int8 Conversion: Converts all weights and activations to 8-bit integers.\n",
        "    converter = tf.lite.TFLiteConverter.from_keras_model(model) #Initializes a TFLite converter from the trained Keras model.\n",
        "    converter.optimizations = [tf.lite.Optimize.DEFAULT] #Enable post-training quantization by default\n",
        "    converter.target_spec.supported_types = [tf.int8]\n",
        "    converter.representative_dataset = representative_dataset\n",
        "    converter.inference_input_type = tf.int8\n",
        "    converter.inference_output_type = tf.int8\n",
        "    converter.experimental_new_converter = True\n",
        "    tflite_model_int8 = converter.convert()\n",
        "    with open(model_name + '_quant_int8.tflite', 'wb') as f:\n",
        "        f.write(tflite_model_int8)\n",
        "\n",
        "converter_quantization_model(model, './models/2Dcnn')\n",
        "\n",
        "\n",
        "\n"
      ],
      "metadata": {
        "colab": {
          "base_uri": "https://localhost:8080/"
        },
        "collapsed": true,
        "id": "26z7TPFKRaj7",
        "outputId": "f2672b07-6dab-4f91-f0cd-ed6460b65623"
      },
      "execution_count": 6,
      "outputs": [
        {
          "output_type": "stream",
          "name": "stdout",
          "text": [
            "Saved artifact at '/tmp/tmpzrky4orr'. The following endpoints are available:\n",
            "\n",
            "* Endpoint 'serve'\n",
            "  args_0 (POSITIONAL_ONLY): TensorSpec(shape=(None, 4, 4, 1), dtype=tf.float32, name='keras_tensor')\n",
            "Output Type:\n",
            "  TensorSpec(shape=(None, 1), dtype=tf.float32, name=None)\n",
            "Captures:\n",
            "  140424563683984: TensorSpec(shape=(), dtype=tf.resource, name=None)\n",
            "  140424563685904: TensorSpec(shape=(), dtype=tf.resource, name=None)\n",
            "  140424563687248: TensorSpec(shape=(), dtype=tf.resource, name=None)\n",
            "  140424563687056: TensorSpec(shape=(), dtype=tf.resource, name=None)\n",
            "  140424563686672: TensorSpec(shape=(), dtype=tf.resource, name=None)\n",
            "  140424563681872: TensorSpec(shape=(), dtype=tf.resource, name=None)\n",
            "Saved artifact at '/tmp/tmpg9qdnz35'. The following endpoints are available:\n",
            "\n",
            "* Endpoint 'serve'\n",
            "  args_0 (POSITIONAL_ONLY): TensorSpec(shape=(None, 4, 4, 1), dtype=tf.float32, name='keras_tensor')\n",
            "Output Type:\n",
            "  TensorSpec(shape=(None, 1), dtype=tf.float32, name=None)\n",
            "Captures:\n",
            "  140424563683984: TensorSpec(shape=(), dtype=tf.resource, name=None)\n",
            "  140424563685904: TensorSpec(shape=(), dtype=tf.resource, name=None)\n",
            "  140424563687248: TensorSpec(shape=(), dtype=tf.resource, name=None)\n",
            "  140424563687056: TensorSpec(shape=(), dtype=tf.resource, name=None)\n",
            "  140424563686672: TensorSpec(shape=(), dtype=tf.resource, name=None)\n",
            "  140424563681872: TensorSpec(shape=(), dtype=tf.resource, name=None)\n"
          ]
        },
        {
          "output_type": "stream",
          "name": "stderr",
          "text": [
            "/usr/local/lib/python3.11/dist-packages/tensorflow/lite/python/convert.py:997: UserWarning: Statistics for quantized inputs were expected, but not specified; continuing anyway.\n",
            "  warnings.warn(\n"
          ]
        }
      ]
    },
    {
      "cell_type": "markdown",
      "source": [
        "# Evaluate 2D CNN TinyML"
      ],
      "metadata": {
        "id": "Ik8PCdSwTPXB"
      }
    },
    {
      "cell_type": "code",
      "source": [
        "from tensorflow.lite.python.interpreter import Interpreter\n",
        "from sklearn.metrics import accuracy_score, confusion_matrix\n",
        "import numpy as np\n",
        "import time\n",
        "\n",
        "# def evaluate_tflite_model(tflite_path, X2_test, y2_test):\n",
        "#     interpreter = Interpreter(model_path=tflite_path)\n",
        "#     interpreter.allocate_tensors()\n",
        "\n",
        "#     input_details = interpreter.get_input_details()\n",
        "#     input_index = input_details[0]['index']\n",
        "#     input_dtype = input_details[0]['dtype']  # get expected dtype\n",
        "#     output_index = interpreter.get_output_details()[0]['index']\n",
        "\n",
        "#     predictions = []\n",
        "#     for i in range(len(X2_test)):\n",
        "#         input_data = np.expand_dims(X2_test[i], axis=0).astype(input_dtype)  # convert based on model input dtype\n",
        "#         interpreter.set_tensor(input_index, input_data)\n",
        "#         interpreter.invoke()\n",
        "#         output = interpreter.get_tensor(output_index)\n",
        "\n",
        "#         pred = (output > 0.5).astype(int)\n",
        "#         predictions.append(pred[0][0])\n",
        "\n",
        "#     acc = accuracy_score(y2_test, predictions)\n",
        "#     cm = confusion_matrix(y2_test, predictions)\n",
        "\n",
        "#     print(f\"{tflite_path} Accuracy: {acc:.4f}\")\n",
        "#     print(f\"Process time (s): {np.mean(processing_times)}\")\n",
        "#     print(\"Confusion Matrix:\")\n",
        "#     print(cm)\n",
        "\n",
        "#     # Detailed breakdown\n",
        "#     tn, fp, fn, tp = cm.ravel()\n",
        "#     print(f\"\\nTrue Negatives (Benign correctly classified): {tn}\")\n",
        "#     print(f\"False Positives (Benign misclassified as malware): {fp}\")\n",
        "#     print(f\"False Negatives (Malware missed): {fn}\")\n",
        "#     print(f\"True Positives (Malware correctly identified): {tp}\")\n",
        "\n",
        "# # Example usage:\n",
        "# evaluate_tflite_model(\"./models/2Dcnn_quant_float32.tflite\", X2_test, y2_test)\n",
        "# evaluate_tflite_model(\"./models/2Dcnn_quant_int8.tflite\", X2_test, y2_test)\n",
        "\n",
        "\n",
        "\n",
        "def evaluate_tflite_model(tflite_path, X2_test, y2_test):\n",
        "    #Load and Prepare TFLite Interpreter\n",
        "    interpreter = Interpreter(model_path=tflite_path)\n",
        "    interpreter.allocate_tensors()\n",
        "\n",
        "    #Fetch input & output Tensor Details from the TensorFlow Lite Interpreter after the model is loaded and memory for its tensors is allocated.\n",
        "    input_details = interpreter.get_input_details() #Input tensor: shape, dtype, index.\n",
        "    output_details = interpreter.get_output_details() #Output tensor: shape, dtype, index, quantisation.\n",
        "\n",
        "    #Store the tensor indices and data types for input/output\n",
        "    input_index = input_details[0]['index']\n",
        "    output_index = output_details[0]['index']\n",
        "    input_dtype = input_details[0]['dtype']\n",
        "    output_dtype = output_details[0]['dtype']\n",
        "\n",
        "    # Calculate Quantization Threshold\n",
        "    output_scale, output_zero_point = output_details[0]['quantization']#Get quantization parameters for the output\n",
        "    if output_dtype == np.int8:\n",
        "        quantized_threshold = int(round(0.5 / output_scale + output_zero_point)) #Computes the int8 value that corresponds to 0.5 — the usual binary classification threshold for float.\n",
        "\n",
        "    #Initializes empty lists to store predictions and timing\n",
        "    predictions = []\n",
        "    processing_times = []\n",
        "\n",
        "    for i in range(len(X2_test)):\n",
        "        input_data = np.expand_dims(X2_test[i], axis=0).astype(input_dtype)#Prepare Input Tensor and Run Inference\n",
        "\n",
        "        start_time = time.time()\n",
        "        interpreter.set_tensor(input_index, input_data) #Loads input into the interpreter.\n",
        "        interpreter.invoke() #Execute the model\n",
        "        output = interpreter.get_tensor(output_index) #Gets the output tensor.\n",
        "        processing_times.append(time.time() - start_time)\n",
        "\n",
        "        # Handle prediction thresholding for float and int8 models\n",
        "        if output_dtype == np.float32:\n",
        "            pred = (output[0][0] > 0.5).astype(int)\n",
        "        elif output_dtype == np.int8:\n",
        "            pred = (output[0][0] > quantized_threshold).astype(int) #If int8, compare against precomputed quantized threshold\n",
        "        else:\n",
        "            raise ValueError(f\"Unsupported output dtype: {output_dtype}\")\n",
        "\n",
        "        predictions.append(pred)\n",
        "\n",
        "    #Evaluate Accuracy and Confusion Matrix\n",
        "    acc = accuracy_score(y2_test, predictions)\n",
        "    cm = confusion_matrix(y2_test, predictions)\n",
        "\n",
        "    print(f\"{tflite_path} Accuracy: {acc:.4f}\")\n",
        "    print(f\"Avg inference time: {np.mean(processing_times)*1000:.2f} ms/sample\")\n",
        "    print(\"Confusion Matrix:\")\n",
        "    print(cm)\n",
        "\n",
        "    if cm.shape == (2, 2):\n",
        "        tn, fp, fn, tp = cm.ravel()\n",
        "        print(f\"\\nTrue Negatives (Benign correctly classified): {tn}\")\n",
        "        print(f\"False Positives (Benign misclassified as malware): {fp}\")\n",
        "        print(f\"False Negatives (Malware missed): {fn}\")\n",
        "        print(f\"True Positives (Malware correctly identified): {tp}\")\n",
        "    else:\n",
        "        print(\"\\nWarning: Confusion matrix is not 2x2 — check labels.\")\n",
        "\n",
        "# Execute evaluation function:\n",
        "evaluate_tflite_model(\"./models/2Dcnn_quant_float32.tflite\", X2_test, y2_test)\n",
        "evaluate_tflite_model(\"./models/2Dcnn_quant_int8.tflite\", X2_test, y2_test)\n"
      ],
      "metadata": {
        "colab": {
          "base_uri": "https://localhost:8080/"
        },
        "id": "L5jgzCjATTBY",
        "outputId": "1e379b54-00ee-4a58-88c7-9a87171d8622"
      },
      "execution_count": 7,
      "outputs": [
        {
          "output_type": "stream",
          "name": "stdout",
          "text": [
            "./models/2Dcnn_quant_float32.tflite Accuracy: 0.9939\n",
            "Avg inference time: 0.01 ms/sample\n",
            "Confusion Matrix:\n",
            "[[ 4373   258]\n",
            " [    0 37859]]\n",
            "\n",
            "True Negatives (Benign correctly classified): 4373\n",
            "False Positives (Benign misclassified as malware): 258\n",
            "False Negatives (Malware missed): 0\n",
            "True Positives (Malware correctly identified): 37859\n",
            "./models/2Dcnn_quant_int8.tflite Accuracy: 0.9231\n",
            "Avg inference time: 0.01 ms/sample\n",
            "Confusion Matrix:\n",
            "[[ 1366  3265]\n",
            " [    1 37858]]\n",
            "\n",
            "True Negatives (Benign correctly classified): 1366\n",
            "False Positives (Benign misclassified as malware): 3265\n",
            "False Negatives (Malware missed): 1\n",
            "True Positives (Malware correctly identified): 37858\n"
          ]
        }
      ]
    },
    {
      "cell_type": "markdown",
      "source": [
        "# Data reshaping for 1D CNN input"
      ],
      "metadata": {
        "id": "WBxWX3MftapB"
      }
    },
    {
      "cell_type": "code",
      "source": [
        "from sklearn.model_selection import train_test_split\n",
        "\n",
        "# Step 1: Reshape the data for 1D CNN input\n",
        "# --- 1D CNN expects input shape: (samples, timesteps, features) ---\n",
        "# Here: timesteps = number of features, features = 1 (per timestep)\n",
        "X_1dcnn = X_scaled.reshape((X_scaled.shape[0], X_scaled.shape[1], 1))\n",
        "\n",
        "#Step 2: Train/Validation/Test Split\n",
        "# --- Split into Train/Val/Test ---\n",
        "# Split test set (20%)\n",
        "X_temp, X_test, y_temp, y_test = train_test_split(X_1dcnn, y, test_size=0.2, random_state=42, stratify=y)\n",
        "# Split validation set (20% of remaining)\n",
        "X_train, X_val, y_train, y_val = train_test_split(X_temp, y_temp, test_size=0.2, random_state=42, stratify=y_temp)\n",
        "\n",
        "print(f\"Train shape: {X_train.shape}, Val shape: {X_val.shape}, Test shape: {X_test.shape}\")\n",
        "\n",
        "# --- Final Shape Confirmation ---\n",
        "print(\"1D CNN input shape:\", X_1dcnn.shape)\n",
        "print(f\"Train: {X_train.shape}, Val: {X_val.shape}, Test: {X_test.shape}\")\n",
        "print(f\"Labels - Train: {np.bincount(y_train)}, Val: {np.bincount(y_val)}, Test: {np.bincount(y_test)}\")"
      ],
      "metadata": {
        "colab": {
          "base_uri": "https://localhost:8080/"
        },
        "id": "V0JKdNVLteDk",
        "outputId": "5f655c38-af90-4ce1-f863-715eec18a450"
      },
      "execution_count": 8,
      "outputs": [
        {
          "output_type": "stream",
          "name": "stdout",
          "text": [
            "Train shape: (135966, 13, 1), Val shape: (33992, 13, 1), Test shape: (42490, 13, 1)\n",
            "1D CNN input shape: (212448, 13, 1)\n",
            "Train: (135966, 13, 1), Val: (33992, 13, 1), Test: (42490, 13, 1)\n",
            "Labels - Train: [ 14821 121145], Val: [ 3705 30287], Test: [ 4631 37859]\n"
          ]
        }
      ]
    },
    {
      "cell_type": "markdown",
      "source": [
        "#1D CNN model"
      ],
      "metadata": {
        "id": "AaK_AOGeuPxj"
      }
    },
    {
      "cell_type": "code",
      "source": [
        "import tensorflow as tf\n",
        "from tensorflow.keras.models import Sequential\n",
        "from tensorflow.keras.layers import Conv1D, MaxPooling1D, Flatten, Dense, Dropout, BatchNormalization\n",
        "\n",
        "#Step 3: Define the 1D CNN Model\n",
        "\n",
        "# Define input shape\n",
        "input_shape = (X_train.shape[1], 1)  # (timesteps, features)\n",
        "\n",
        "# Build model\n",
        "model = Sequential([\n",
        "    Conv1D(filters=32, kernel_size=3, activation='relu', input_shape=input_shape),\n",
        "    BatchNormalization(),\n",
        "    MaxPooling1D(pool_size=2),\n",
        "    Conv1D(filters=64, kernel_size=3, activation='relu'),\n",
        "    BatchNormalization(),\n",
        "    MaxPooling1D(pool_size=2),\n",
        "    Flatten(),\n",
        "    Dense(64, activation='relu'),\n",
        "    Dropout(0.3),\n",
        "    Dense(1, activation='sigmoid')  # Binary classification\n",
        "])\n",
        "\n",
        "# Compile\n",
        "model.compile(optimizer='adam', loss='binary_crossentropy', metrics=['accuracy'])\n",
        "\n",
        "# Summary\n",
        "# model.summary()\n"
      ],
      "metadata": {
        "colab": {
          "base_uri": "https://localhost:8080/"
        },
        "id": "5z09AdYcuSTj",
        "outputId": "fbb2c7cd-093d-42ea-9ce1-31afb60f5ec5"
      },
      "execution_count": 9,
      "outputs": [
        {
          "output_type": "stream",
          "name": "stderr",
          "text": [
            "/usr/local/lib/python3.11/dist-packages/keras/src/layers/convolutional/base_conv.py:107: UserWarning: Do not pass an `input_shape`/`input_dim` argument to a layer. When using Sequential models, prefer using an `Input(shape)` object as the first layer in the model instead.\n",
            "  super().__init__(activity_regularizer=activity_regularizer, **kwargs)\n"
          ]
        }
      ]
    },
    {
      "cell_type": "markdown",
      "source": [
        "#Train, Evaluate (Test) & Visualize 1D CNN"
      ],
      "metadata": {
        "id": "h5WWCRHmusAX"
      }
    },
    {
      "cell_type": "code",
      "source": [
        "import matplotlib.pyplot as plt\n",
        "\n",
        "#Step 4: Train the Model\n",
        "\n",
        "history = model.fit(\n",
        "    X_train, y_train,\n",
        "    epochs=10,\n",
        "    batch_size=64,\n",
        "    validation_data=(X_val, y_val),\n",
        "    verbose=1\n",
        ")\n",
        "\n",
        "# Step 5: Evaluate on Test Set\n",
        "test_loss, test_acc = model.evaluate(X_test, y_test, verbose=0)\n",
        "print(f\"\\nTest Accuracy: {test_acc:.4f}\")\n",
        "\n",
        "\n",
        "# Step 6: Plot Accuracy and Loss\n",
        "plt.figure(figsize=(12,5))\n",
        "\n",
        "# Accuracy plot\n",
        "plt.subplot(1, 2, 1)\n",
        "plt.plot(history.history['accuracy'], label='Train Acc')\n",
        "plt.plot(history.history['val_accuracy'], label='Val Acc')\n",
        "plt.title('Accuracy')\n",
        "plt.xlabel('Epoch')\n",
        "plt.ylabel('Accuracy')\n",
        "plt.legend()\n",
        "\n",
        "# Loss plot\n",
        "plt.subplot(1, 2, 2)\n",
        "plt.plot(history.history['loss'], label='Train Loss')\n",
        "plt.plot(history.history['val_loss'], label='Val Loss')\n",
        "plt.title('Loss')\n",
        "plt.xlabel('Epoch')\n",
        "plt.ylabel('Loss')\n",
        "plt.legend()\n",
        "\n",
        "plt.tight_layout()\n",
        "plt.show()\n",
        "\n"
      ],
      "metadata": {
        "colab": {
          "base_uri": "https://localhost:8080/",
          "height": 881
        },
        "id": "yGslPs6rurxy",
        "outputId": "dca24cd7-ab20-4fde-8ff1-ed21a02794f5"
      },
      "execution_count": 10,
      "outputs": [
        {
          "output_type": "stream",
          "name": "stdout",
          "text": [
            "Epoch 1/10\n",
            "\u001b[1m2125/2125\u001b[0m \u001b[32m━━━━━━━━━━━━━━━━━━━━\u001b[0m\u001b[37m\u001b[0m \u001b[1m19s\u001b[0m 7ms/step - accuracy: 0.9808 - loss: 0.0864 - val_accuracy: 0.9897 - val_loss: 0.0488\n",
            "Epoch 2/10\n",
            "\u001b[1m2125/2125\u001b[0m \u001b[32m━━━━━━━━━━━━━━━━━━━━\u001b[0m\u001b[37m\u001b[0m \u001b[1m18s\u001b[0m 5ms/step - accuracy: 0.9904 - loss: 0.0485 - val_accuracy: 0.9911 - val_loss: 0.0468\n",
            "Epoch 3/10\n",
            "\u001b[1m2125/2125\u001b[0m \u001b[32m━━━━━━━━━━━━━━━━━━━━\u001b[0m\u001b[37m\u001b[0m \u001b[1m10s\u001b[0m 5ms/step - accuracy: 0.9925 - loss: 0.0404 - val_accuracy: 0.9928 - val_loss: 0.0497\n",
            "Epoch 4/10\n",
            "\u001b[1m2125/2125\u001b[0m \u001b[32m━━━━━━━━━━━━━━━━━━━━\u001b[0m\u001b[37m\u001b[0m \u001b[1m11s\u001b[0m 5ms/step - accuracy: 0.9926 - loss: 0.0403 - val_accuracy: 0.9141 - val_loss: 0.2090\n",
            "Epoch 5/10\n",
            "\u001b[1m2125/2125\u001b[0m \u001b[32m━━━━━━━━━━━━━━━━━━━━\u001b[0m\u001b[37m\u001b[0m \u001b[1m19s\u001b[0m 5ms/step - accuracy: 0.9932 - loss: 0.0368 - val_accuracy: 0.9435 - val_loss: 0.1331\n",
            "Epoch 6/10\n",
            "\u001b[1m2125/2125\u001b[0m \u001b[32m━━━━━━━━━━━━━━━━━━━━\u001b[0m\u001b[37m\u001b[0m \u001b[1m11s\u001b[0m 5ms/step - accuracy: 0.9928 - loss: 0.0382 - val_accuracy: 0.9882 - val_loss: 0.0446\n",
            "Epoch 7/10\n",
            "\u001b[1m2125/2125\u001b[0m \u001b[32m━━━━━━━━━━━━━━━━━━━━\u001b[0m\u001b[37m\u001b[0m \u001b[1m11s\u001b[0m 5ms/step - accuracy: 0.9931 - loss: 0.0362 - val_accuracy: 0.9936 - val_loss: 0.0366\n",
            "Epoch 8/10\n",
            "\u001b[1m2125/2125\u001b[0m \u001b[32m━━━━━━━━━━━━━━━━━━━━\u001b[0m\u001b[37m\u001b[0m \u001b[1m8s\u001b[0m 4ms/step - accuracy: 0.9936 - loss: 0.0343 - val_accuracy: 0.9581 - val_loss: 0.0862\n",
            "Epoch 9/10\n",
            "\u001b[1m2125/2125\u001b[0m \u001b[32m━━━━━━━━━━━━━━━━━━━━\u001b[0m\u001b[37m\u001b[0m \u001b[1m10s\u001b[0m 5ms/step - accuracy: 0.9930 - loss: 0.0337 - val_accuracy: 0.9926 - val_loss: 0.0405\n",
            "Epoch 10/10\n",
            "\u001b[1m2125/2125\u001b[0m \u001b[32m━━━━━━━━━━━━━━━━━━━━\u001b[0m\u001b[37m\u001b[0m \u001b[1m16s\u001b[0m 7ms/step - accuracy: 0.9933 - loss: 0.0316 - val_accuracy: 0.9656 - val_loss: 0.0772\n",
            "\n",
            "Test Accuracy: 0.9657\n"
          ]
        },
        {
          "output_type": "display_data",
          "data": {
            "text/plain": [
              "<Figure size 1200x500 with 2 Axes>"
            ],
            "image/png": "[encoded data removed]"
          },
          "metadata": {}
        }
      ]
    },
    {
      "cell_type": "markdown",
      "source": [
        "# Evaluate 1D CNN Malware Detection Results"
      ],
      "metadata": {
        "id": "xR3T_G90vSvu"
      }
    },
    {
      "cell_type": "code",
      "source": [
        "from sklearn.metrics import confusion_matrix, accuracy_score, classification_report\n",
        "\n",
        "# Get predictions\n",
        "y_pred_probs = model.predict(X_test)\n",
        "y_pred = (y_pred_probs > 0.5).astype(int).flatten()  # Convert probabilities to 0 or 1\n",
        "\n",
        "# Confusion matrix\n",
        "cm = confusion_matrix(y_test, y_pred)\n",
        "\n",
        "# Optional: print as table\n",
        "print(\"Confusion Matrix:\")\n",
        "print(cm)\n",
        "\n",
        "# Detailed breakdown\n",
        "tn, fp, fn, tp = cm.ravel()\n",
        "print(f\"\\nTrue Negatives (Benign correctly classified): {tn}\")\n",
        "print(f\"False Positives (Benign misclassified as malware): {fp}\")\n",
        "print(f\"False Negatives (Malware missed): {fn}\")\n",
        "print(f\"True Positives (Malware correctly identified): {tp}\")\n",
        "\n",
        "# Accuracy score\n",
        "print(\"sklearn accuracy:\", accuracy_score(y_test, y_pred))\n",
        "\n",
        "# Classification report (accuracy, precision, recall, F1)\n",
        "print(\"\\nClassification Report:\")\n",
        "print(classification_report(y_test, y_pred, target_names=[\"Benign\", \"Malicious\"]))"
      ],
      "metadata": {
        "colab": {
          "base_uri": "https://localhost:8080/"
        },
        "id": "G1chgEQVvU-s",
        "outputId": "9b120061-35ac-4683-da9c-a948e6b94677"
      },
      "execution_count": 11,
      "outputs": [
        {
          "output_type": "stream",
          "name": "stdout",
          "text": [
            "\u001b[1m1328/1328\u001b[0m \u001b[32m━━━━━━━━━━━━━━━━━━━━\u001b[0m\u001b[37m\u001b[0m \u001b[1m2s\u001b[0m 2ms/step\n",
            "Confusion Matrix:\n",
            "[[ 4406   225]\n",
            " [ 1232 36627]]\n",
            "\n",
            "True Negatives (Benign correctly classified): 4406\n",
            "False Positives (Benign misclassified as malware): 225\n",
            "False Negatives (Malware missed): 1232\n",
            "True Positives (Malware correctly identified): 36627\n",
            "sklearn accuracy: 0.9657095787244058\n",
            "\n",
            "Classification Report:\n",
            "              precision    recall  f1-score   support\n",
            "\n",
            "      Benign       0.78      0.95      0.86      4631\n",
            "   Malicious       0.99      0.97      0.98     37859\n",
            "\n",
            "    accuracy                           0.97     42490\n",
            "   macro avg       0.89      0.96      0.92     42490\n",
            "weighted avg       0.97      0.97      0.97     42490\n",
            "\n"
          ]
        }
      ]
    }
  ]
}