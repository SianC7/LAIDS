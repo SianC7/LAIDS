{
  "nbformat": 4,
  "nbformat_minor": 0,
  "metadata": {
    "colab": {
      "provenance": [],
      "mount_file_id": "190qhhJgMRgU6Z6n27a3aau_hFdlnU71y",
      "authorship_tag": "ABX9TyMffYjuqPr4IVpJQHd0bU+R",
      "include_colab_link": true
    },
    "kernelspec": {
      "name": "python3",
      "display_name": "Python 3"
    },
    "language_info": {
      "name": "python"
    }
  },
  "cells": [
    {
      "cell_type": "markdown",
      "metadata": {
        "id": "view-in-github",
        "colab_type": "text"
      },
      "source": [
        "<a href=\"https://colab.research.google.com/github/SianC7/LAIDS/blob/main/Sian's_PCA_1DCNN.ipynb\" target=\"_parent\"><img src=\"https://colab.research.google.com/assets/colab-badge.svg\" alt=\"Open In Colab\"/></a>"
      ]
    },
    {
      "cell_type": "markdown",
      "source": [
        "#IoT-23 Data preprocessing\n",
        "- Collection\n",
        "- Cleaning\n",
        "- Encoding\n",
        "- Scaling\n",
        "- Normalisation"
      ],
      "metadata": {
        "id": "oOSaPtDFUdwR"
      }
    },
    {
      "cell_type": "code",
      "source": [
        "import pandas as pd\n",
        "import numpy as np\n",
        "from sklearn.preprocessing import LabelEncoder\n",
        "from sklearn.preprocessing import StandardScaler\n",
        "\n",
        "\n",
        "# Set pandas display options for wide output\n",
        "pd.set_option('display.max_columns', None)\n",
        "pd.set_option('display.width', None)\n",
        "pd.set_option('display.max_colwidth', None)\n",
        "\n",
        "# Step 1: Data Collection\n",
        "#data_file_path = '/content/drive/MyDrive/Colab Notebooks/Honours Project/Datasets/IoT-23 8GB Dataset/Malware-Project/BigDataset/IoTScenarios/CTU-IoT-Malware-Capture-1-1/bro/conn.log.labeled'\n",
        "# Read the file\n",
        "# df = pd.read_csv(\n",
        "#     data_file_path,\n",
        "#     sep=\"\\t\",\n",
        "#     comment=\"#\",\n",
        "#     header=None,\n",
        "#     names=[\n",
        "#         \"ts\", \"uid\", \"id.orig_h\", \"id.orig_p\", \"id.resp_h\", \"id.resp_p\", \"proto\",\n",
        "#         \"service\", \"duration\", \"orig_bytes\", \"resp_bytes\", \"conn_state\",\n",
        "#         \"local_orig\", \"local_resp\", \"missed_bytes\", \"history\", \"orig_pkts\",\n",
        "#         \"orig_ip_bytes\", \"resp_pkts\", \"resp_ip_bytes\", \"label\"\n",
        "#     ]\n",
        "# )\n",
        "\n",
        "#TEST:\n",
        "# List of file paths\n",
        "data_file_paths = [\n",
        "    '/content/drive/MyDrive/Colab Notebooks/Honours Project/Datasets/IoT-23 Preprocessed Dataset/Benign_Dataset13.csv',\n",
        "    '/content/drive/MyDrive/Colab Notebooks/Honours Project/Datasets/IoT-23 Preprocessed Dataset/DoS_Dataset21.csv',\n",
        "    '/content/drive/MyDrive/Colab Notebooks/Honours Project/Datasets/IoT-23 Preprocessed Dataset/GafgytBotnet_Dataset3.csv',\n",
        "    '/content/drive/MyDrive/Colab Notebooks/Honours Project/Datasets/IoT-23 Preprocessed Dataset/MiraiBotnet_Dataset1.csv',\n",
        "    '/content/drive/MyDrive/Colab Notebooks/Honours Project/Datasets/IoT-23 Preprocessed Dataset/MiraiVariant_Dataset5.csv',\n",
        "    '/content/drive/MyDrive/Colab Notebooks/Honours Project/Datasets/IoT-23 Preprocessed Dataset/OkiruBotnet_Dataset17.csv',\n",
        "    '/content/drive/MyDrive/Colab Notebooks/Honours Project/Datasets/IoT-23 Preprocessed Dataset/PartOfMioriBotnet_Dataset20.csv'\n",
        "\n",
        "]\n",
        "dfs = []#set the df list var\n",
        "\n",
        "for file_path in data_file_paths: # Loop through the file paths and add the data to a temp df var\n",
        "  try:\n",
        "      temp_df = pd.read_csv(\n",
        "          file_path,\n",
        "          sep=\",\",\n",
        "          comment=\"#\",\n",
        "          header=0,\n",
        "          names=[\n",
        "              \"ts\", \"uid\", \"id.orig_h\", \"id.orig_p\", \"id.resp_h\", \"id.resp_p\", \"proto\",\n",
        "              \"service\", \"duration\", \"orig_bytes\", \"resp_bytes\", \"conn_state\",\n",
        "              \"local_orig\", \"local_resp\", \"missed_bytes\", \"history\", \"orig_pkts\",\n",
        "              \"orig_ip_bytes\", \"resp_pkts\", \"resp_ip_bytes\", \"label\"\n",
        "          ]\n",
        "      )\n",
        "      dfs.append(temp_df) #add the info in the temp df to the dfs list\n",
        "      print(f\"Loaded file: {file_path} with {len(temp_df)} rows\")\n",
        "  except Exception as e:\n",
        "      print(f\"Error reading file {file_path}: {e}\")\n",
        "\n",
        "# Concatenate all dataframes into one\n",
        "df = pd.concat(dfs, ignore_index=True) #make the list of dataframes into one big dataframe\n",
        "\n",
        "\n",
        "print(\"\\nInitial sample:\")\n",
        "print(df.head().to_string())\n",
        "\n",
        "# Step 2: Data Cleaning\n",
        "# Convert timestamp to datetime\n",
        "df[\"ts\"] = pd.to_datetime(df[\"ts\"], unit=\"s\", errors='coerce')\n",
        "\n",
        "# Drop non-informative or redundant columns\n",
        "df.drop(columns=['uid', 'id.orig_h', 'id.resp_h', 'local_orig', 'local_resp', 'history'], inplace=True)\n",
        "\n",
        "# Replace '-' with NaN for consistent handling\n",
        "df.replace('-', np.nan, inplace=True)\n",
        "\n",
        "# Drop rows where critical numeric fields are missing\n",
        "df.dropna(subset=[\n",
        "    'duration', 'orig_bytes', 'resp_bytes', 'id.orig_p', 'id.resp_p',\n",
        "    'orig_pkts', 'orig_ip_bytes', 'resp_pkts', 'resp_ip_bytes'\n",
        "], inplace=True)\n",
        "\n",
        "# Convert appropriate columns to numeric types\n",
        "numeric_columns = [\n",
        "    'duration', 'orig_bytes', 'resp_bytes', 'id.orig_p', 'id.resp_p',\n",
        "    'orig_pkts', 'orig_ip_bytes', 'resp_pkts', 'resp_ip_bytes', 'missed_bytes'\n",
        "]\n",
        "for col in numeric_columns:\n",
        "    df[col] = pd.to_numeric(df[col], errors='coerce').fillna(0)\n",
        "\n",
        "# Encode categorical columns\n",
        "categorical_columns = ['proto', 'conn_state', 'service']\n",
        "for col in categorical_columns:\n",
        "    df[col] = df[col].astype(str)  # Ensure strings\n",
        "    df[col] = LabelEncoder().fit_transform(df[col])\n",
        "\n",
        "# Convert label to binary (malicious=1, benign=0)\n",
        "df['label'] = df['label'].apply(lambda x: 1 if 'Malicious' in str(x) else 0)\n",
        "\n",
        "# Drop any rows still containing NaN\n",
        "df.dropna(inplace=True)\n",
        "\n",
        "print(\"\\nCleaned sample:\")\n",
        "print(df.head().to_string())\n",
        "print(\"\\nData types and nulls:\")\n",
        "print(df.info())\n",
        "# print(\"\\nStatistics:\")\n",
        "# print(df.describe().to_string())\n",
        "\n",
        "\n",
        "# --- Split features and labels ---\n",
        "X = df.drop(columns=['label', 'ts']).values  # Drop label and timestamp\n",
        "y = df['label'].values\n",
        "\n",
        "# --- Normalize ---\n",
        "scaler = StandardScaler()\n",
        "X_scaled = scaler.fit_transform(X)\n",
        "\n",
        "\n",
        "# --- Add counts of malware and benign logs ---\n",
        "total_logs = len(df)\n",
        "malware_logs = df['label'].sum()  # since malware=1\n",
        "benign_logs = total_logs - malware_logs\n",
        "\n",
        "print(f\"\\nTotal logs: {total_logs}\")\n",
        "print(f\"Malware logs: {malware_logs}\")\n",
        "print(f\"Benign (non-malicious) logs: {benign_logs}\")\n"
      ],
      "metadata": {
        "colab": {
          "base_uri": "https://localhost:8080/"
        },
        "id": "9S8k3TYGvIBW",
        "outputId": "0d926cf8-38e1-4411-c997-76aabf0be485"
      },
      "execution_count": 1,
      "outputs": [
        {
          "output_type": "stream",
          "name": "stdout",
          "text": [
            "Loaded file: /content/drive/MyDrive/Colab Notebooks/Honours Project/Datasets/IoT-23 Preprocessed Dataset/Benign_Dataset13.csv with 4426 rows\n",
            "Loaded file: /content/drive/MyDrive/Colab Notebooks/Honours Project/Datasets/IoT-23 Preprocessed Dataset/DoS_Dataset21.csv with 3209 rows\n",
            "Loaded file: /content/drive/MyDrive/Colab Notebooks/Honours Project/Datasets/IoT-23 Preprocessed Dataset/GafgytBotnet_Dataset3.csv with 130 rows\n",
            "Loaded file: /content/drive/MyDrive/Colab Notebooks/Honours Project/Datasets/IoT-23 Preprocessed Dataset/MiraiBotnet_Dataset1.csv with 452 rows\n",
            "Loaded file: /content/drive/MyDrive/Colab Notebooks/Honours Project/Datasets/IoT-23 Preprocessed Dataset/MiraiVariant_Dataset5.csv with 10403 rows\n",
            "Loaded file: /content/drive/MyDrive/Colab Notebooks/Honours Project/Datasets/IoT-23 Preprocessed Dataset/OkiruBotnet_Dataset17.csv with 23145 rows\n",
            "Loaded file: /content/drive/MyDrive/Colab Notebooks/Honours Project/Datasets/IoT-23 Preprocessed Dataset/PartOfMioriBotnet_Dataset20.csv with 3286 rows\n",
            "\n",
            "Initial sample:\n",
            "             ts                 uid      id.orig_h  id.orig_p      id.resp_h  id.resp_p proto service  duration orig_bytes resp_bytes conn_state local_orig local_resp  missed_bytes     history  orig_pkts  orig_ip_bytes  resp_pkts  resp_ip_bytes                             label\n",
            "0  1.547127e+09  CXY5uG2sSmjJ0grfY2  192.168.1.197      58312  104.24.96.120         80   tcp    http  3.909013         83      67212         SF          -          -          4380  ShADadttFf         54           3371         50          69224      -   Malicious   FileDownload\n",
            "1  1.547127e+09   Ce3AJzwzXwM3Z1XBg  192.168.1.197      45082  104.24.97.120         80   tcp    http  4.767024        150      67212         SF          -          -             0  ShADadttFf         54           2938         50          69224  -   Malicious   C&C-FileDownload\n",
            "2  1.547127e+09  CJgnSb3XpbbOcMHKUd  192.168.1.197      58316  104.24.96.120         80   tcp       -  3.107228          0          0         S0          -          -             0           S          3            180          0              0                    -   Benign   -\n",
            "3  1.547127e+09   Cq43w4aHlsW8nXZ3l  192.168.1.197      59357    192.168.1.1         53   udp     dns  0.029483         58        146         SF          -          -             0          Dd          2            114          2            202                    -   Benign   -\n",
            "4  1.547127e+09  C5uLwl2hGy10y9PSr6  192.168.1.197      39686    192.168.1.1         53   udp     dns  0.001249         58        146         SF          -          -             0          Dd          2            114          2            202                    -   Benign   -\n",
            "\n",
            "Cleaned sample:\n",
            "                             ts  id.orig_p  id.resp_p  proto  service  duration  orig_bytes  resp_bytes  conn_state  missed_bytes  orig_pkts  orig_ip_bytes  resp_pkts  resp_ip_bytes  label\n",
            "0 2019-01-10 13:34:48.026073933      58312         80      1        2  3.909013          83       67212           8          4380         54           3371         50          69224      1\n",
            "1 2019-01-10 13:34:48.018827915      45082         80      1        2  4.767024         150       67212           8             0         54           2938         50          69224      1\n",
            "2 2019-01-10 13:34:52.857808113      58316         80      1        4  3.107228           0           0           4             0          3            180          0              0      0\n",
            "3 2019-01-10 13:34:47.987597942      59357         53      2        1  0.029483          58         146           8             0          2            114          2            202      0\n",
            "4 2019-01-10 13:34:48.023327112      39686         53      2        1  0.001249          58         146           8             0          2            114          2            202      0\n",
            "\n",
            "Data types and nulls:\n",
            "<class 'pandas.core.frame.DataFrame'>\n",
            "Index: 18003 entries, 0 to 45050\n",
            "Data columns (total 15 columns):\n",
            " #   Column         Non-Null Count  Dtype         \n",
            "---  ------         --------------  -----         \n",
            " 0   ts             18003 non-null  datetime64[ns]\n",
            " 1   id.orig_p      18003 non-null  int64         \n",
            " 2   id.resp_p      18003 non-null  int64         \n",
            " 3   proto          18003 non-null  int64         \n",
            " 4   service        18003 non-null  int64         \n",
            " 5   duration       18003 non-null  float64       \n",
            " 6   orig_bytes     18003 non-null  int64         \n",
            " 7   resp_bytes     18003 non-null  int64         \n",
            " 8   conn_state     18003 non-null  int64         \n",
            " 9   missed_bytes   18003 non-null  int64         \n",
            " 10  orig_pkts      18003 non-null  int64         \n",
            " 11  orig_ip_bytes  18003 non-null  int64         \n",
            " 12  resp_pkts      18003 non-null  int64         \n",
            " 13  resp_ip_bytes  18003 non-null  int64         \n",
            " 14  label          18003 non-null  int64         \n",
            "dtypes: datetime64[ns](1), float64(1), int64(13)\n",
            "memory usage: 2.2 MB\n",
            "None\n",
            "\n",
            "Total logs: 18003\n",
            "Malware logs: 6396\n",
            "Benign (non-malicious) logs: 11607\n"
          ]
        }
      ]
    },
    {
      "cell_type": "markdown",
      "source": [
        "#Apply PCA"
      ],
      "metadata": {
        "id": "p27J58TaT8nc"
      }
    },
    {
      "cell_type": "code",
      "source": [
        "# Apply PCA\n",
        "from sklearn.decomposition import PCA\n",
        "pca = PCA(n_components=10) #PCA will reduce the dimensionality of the data to exactly 10 features\n",
        "X_pca = pca.fit_transform(X_scaled)\n",
        "print(f\"Reduced {X_scaled.shape[1]} to {X_pca.shape[1]} components\")"
      ],
      "metadata": {
        "colab": {
          "base_uri": "https://localhost:8080/"
        },
        "id": "jBS-NuKeT-hu",
        "outputId": "2f39e3d4-8f10-4fd1-f2bb-eb05bf844fe4"
      },
      "execution_count": 2,
      "outputs": [
        {
          "output_type": "stream",
          "name": "stdout",
          "text": [
            "Reduced 13 to 10 components\n"
          ]
        }
      ]
    },
    {
      "cell_type": "markdown",
      "source": [
        "# Data reshaping for 1D CNN input"
      ],
      "metadata": {
        "id": "WBxWX3MftapB"
      }
    },
    {
      "cell_type": "code",
      "source": [
        "from sklearn.model_selection import train_test_split\n",
        "from sklearn.utils import shuffle\n",
        "\n",
        "# Step 1: Reshape the data for 1D CNN input\n",
        "# --- 1D CNN expects input shape: (samples, timesteps, features) ---\n",
        "# Here: timesteps = number of features, features = 1 (per timestep)\n",
        "X_1dcnn = X_pca.reshape((X_pca.shape[0], X_pca.shape[1], 1))\n",
        "\n",
        "#Step 2: Train/Validation/Test Split\n",
        "# --- Split into Train/Val/Test ---\n",
        "# Split test set (20%)\n",
        "X_temp, X_test, y_temp, y_test = train_test_split(X_1dcnn, y, test_size=0.2, random_state=42, stratify=y)\n",
        "# Split validation set (20% of remaining)\n",
        "X_train, X_val, y_train, y_val = train_test_split(X_temp, y_temp, test_size=0.2, random_state=42, stratify=y_temp)\n",
        "# Shuffle data:\n",
        "X_train, y_train = shuffle(X_train, y_train, random_state=42)\n",
        "X_val, y_val = shuffle(X_val, y_val, random_state=42)\n",
        "X_test, y_test = shuffle(X_test, y_test, random_state=42)\n",
        "\n",
        "# --- Final Shape Confirmation ---\n",
        "print(\"1D CNN input shape:\", X_1dcnn.shape)\n",
        "print(f\"Train: {X_train.shape}, Val: {X_val.shape}, Test: {X_test.shape}\")\n",
        "print(f\"Labels - Train: {np.bincount(y_train)}, Val: {np.bincount(y_val)}, Test: {np.bincount(y_test)}\")"
      ],
      "metadata": {
        "colab": {
          "base_uri": "https://localhost:8080/"
        },
        "id": "V0JKdNVLteDk",
        "outputId": "3f38e5f6-ea33-4847-d9b9-8f601184860d"
      },
      "execution_count": 3,
      "outputs": [
        {
          "output_type": "stream",
          "name": "stdout",
          "text": [
            "1D CNN input shape: (18003, 10, 1)\n",
            "Train: (11521, 10, 1), Val: (2881, 10, 1), Test: (3601, 10, 1)\n",
            "Labels - Train: [7428 4093], Val: [1857 1024], Test: [2322 1279]\n"
          ]
        }
      ]
    },
    {
      "cell_type": "markdown",
      "source": [
        "#1D CNN model"
      ],
      "metadata": {
        "id": "AaK_AOGeuPxj"
      }
    },
    {
      "cell_type": "code",
      "source": [
        "import tensorflow as tf\n",
        "from tensorflow.keras.models import Sequential\n",
        "from tensorflow.keras.layers import Conv1D, MaxPooling1D, Flatten, Dense, Dropout, BatchNormalization\n",
        "\n",
        "#Step 3: Define the 1D CNN Model\n",
        "\n",
        "# Define input shape\n",
        "input_shape = (X_train.shape[1], 1)  # (timesteps, features)\n",
        "\n",
        "# Build model\n",
        "model = Sequential([\n",
        "    Conv1D(filters=32, kernel_size=3, activation='relu', input_shape=input_shape),\n",
        "    BatchNormalization(), #A layer in neural networks that normalizes the output of the previous layer\n",
        "    MaxPooling1D(pool_size=2),\n",
        "    Dropout(0.25), #TEST\n",
        "\n",
        "    Conv1D(filters=64, kernel_size=3, activation='relu'),\n",
        "    BatchNormalization(),\n",
        "    MaxPooling1D(pool_size=2),\n",
        "    Flatten(),\n",
        "    Dense(64, activation='relu'),\n",
        "    Dropout(0.5), #TEST\n",
        "    Dense(1, activation='sigmoid')  # Binary classification\n",
        "])\n",
        "\n",
        "# Compile\n",
        "model.compile(optimizer='adam', loss='binary_crossentropy', metrics=['accuracy'])\n",
        "\n",
        "Summary\n",
        "model.summary()\n"
      ],
      "metadata": {
        "colab": {
          "base_uri": "https://localhost:8080/"
        },
        "id": "5z09AdYcuSTj",
        "outputId": "1e6d4856-9cc1-466e-9394-59ac55c795b7"
      },
      "execution_count": 4,
      "outputs": [
        {
          "output_type": "stream",
          "name": "stderr",
          "text": [
            "/usr/local/lib/python3.11/dist-packages/keras/src/layers/convolutional/base_conv.py:107: UserWarning: Do not pass an `input_shape`/`input_dim` argument to a layer. When using Sequential models, prefer using an `Input(shape)` object as the first layer in the model instead.\n",
            "  super().__init__(activity_regularizer=activity_regularizer, **kwargs)\n"
          ]
        }
      ]
    },
    {
      "cell_type": "markdown",
      "source": [
        "#Train, Evaluate (Test) & Visualize 1D CNN"
      ],
      "metadata": {
        "id": "h5WWCRHmusAX"
      }
    },
    {
      "cell_type": "code",
      "source": [
        "import matplotlib.pyplot as plt\n",
        "\n",
        "#Step 4: Train the Model\n",
        "\n",
        "history = model.fit(\n",
        "    X_train, y_train,\n",
        "    epochs=10,\n",
        "    batch_size=64,\n",
        "    validation_data=(X_val, y_val),\n",
        "    verbose=1\n",
        ")\n",
        "\n",
        "# Step 5: Evaluate on Test Set\n",
        "test_loss, test_acc = model.evaluate(X_test, y_test, verbose=0)\n",
        "print(f\"\\nTest Accuracy: {test_acc:.4f}\")\n",
        "\n",
        "\n",
        "# Step 6: Plot Accuracy and Loss\n",
        "plt.figure(figsize=(12,5)) # Create a new figure that is 12x5\n",
        "\n",
        "# Accuracy plot\n",
        "plt.subplot(1, 2, 1)\n",
        "plt.plot(history.history['accuracy'], label='Train Acc')\n",
        "plt.plot(history.history['val_accuracy'], label='Val Acc')\n",
        "plt.title('Accuracy')\n",
        "plt.xlabel('Epoch')\n",
        "plt.ylabel('Accuracy')\n",
        "plt.legend()\n",
        "\n",
        "# Loss plot\n",
        "plt.subplot(1, 2, 2)\n",
        "plt.plot(history.history['loss'], label='Train Loss')\n",
        "plt.plot(history.history['val_loss'], label='Val Loss')\n",
        "plt.title('Loss')\n",
        "plt.xlabel('Epoch')\n",
        "plt.ylabel('Loss')\n",
        "plt.legend()\n",
        "\n",
        "plt.tight_layout()\n",
        "plt.show()\n",
        "\n"
      ],
      "metadata": {
        "colab": {
          "base_uri": "https://localhost:8080/",
          "height": 881
        },
        "id": "yGslPs6rurxy",
        "outputId": "563470cb-4cb9-4780-9f14-cc9b6ace2658"
      },
      "execution_count": 5,
      "outputs": [
        {
          "output_type": "stream",
          "name": "stdout",
          "text": [
            "Epoch 1/10\n",
            "\u001b[1m181/181\u001b[0m \u001b[32m━━━━━━━━━━━━━━━━━━━━\u001b[0m\u001b[37m\u001b[0m \u001b[1m7s\u001b[0m 10ms/step - accuracy: 0.8836 - loss: 0.2842 - val_accuracy: 0.9035 - val_loss: 0.4052\n",
            "Epoch 2/10\n",
            "\u001b[1m181/181\u001b[0m \u001b[32m━━━━━━━━━━━━━━━━━━━━\u001b[0m\u001b[37m\u001b[0m \u001b[1m2s\u001b[0m 9ms/step - accuracy: 0.9905 - loss: 0.0518 - val_accuracy: 0.9597 - val_loss: 0.0946\n",
            "Epoch 3/10\n",
            "\u001b[1m181/181\u001b[0m \u001b[32m━━━━━━━━━━━━━━━━━━━━\u001b[0m\u001b[37m\u001b[0m \u001b[1m2s\u001b[0m 7ms/step - accuracy: 0.9938 - loss: 0.0277 - val_accuracy: 0.9962 - val_loss: 0.0447\n",
            "Epoch 4/10\n",
            "\u001b[1m181/181\u001b[0m \u001b[32m━━━━━━━━━━━━━━━━━━━━\u001b[0m\u001b[37m\u001b[0m \u001b[1m1s\u001b[0m 6ms/step - accuracy: 0.9963 - loss: 0.0244 - val_accuracy: 0.9965 - val_loss: 0.0271\n",
            "Epoch 5/10\n",
            "\u001b[1m181/181\u001b[0m \u001b[32m━━━━━━━━━━━━━━━━━━━━\u001b[0m\u001b[37m\u001b[0m \u001b[1m1s\u001b[0m 6ms/step - accuracy: 0.9945 - loss: 0.0196 - val_accuracy: 0.9969 - val_loss: 0.0200\n",
            "Epoch 6/10\n",
            "\u001b[1m181/181\u001b[0m \u001b[32m━━━━━━━━━━━━━━━━━━━━\u001b[0m\u001b[37m\u001b[0m \u001b[1m1s\u001b[0m 6ms/step - accuracy: 0.9949 - loss: 0.0188 - val_accuracy: 0.9965 - val_loss: 0.0189\n",
            "Epoch 7/10\n",
            "\u001b[1m181/181\u001b[0m \u001b[32m━━━━━━━━━━━━━━━━━━━━\u001b[0m\u001b[37m\u001b[0m \u001b[1m1s\u001b[0m 6ms/step - accuracy: 0.9952 - loss: 0.0238 - val_accuracy: 0.9969 - val_loss: 0.0153\n",
            "Epoch 8/10\n",
            "\u001b[1m181/181\u001b[0m \u001b[32m━━━━━━━━━━━━━━━━━━━━\u001b[0m\u001b[37m\u001b[0m \u001b[1m1s\u001b[0m 6ms/step - accuracy: 0.9964 - loss: 0.0173 - val_accuracy: 0.9972 - val_loss: 0.0163\n",
            "Epoch 9/10\n",
            "\u001b[1m181/181\u001b[0m \u001b[32m━━━━━━━━━━━━━━━━━━━━\u001b[0m\u001b[37m\u001b[0m \u001b[1m1s\u001b[0m 6ms/step - accuracy: 0.9964 - loss: 0.0164 - val_accuracy: 0.9969 - val_loss: 0.0179\n",
            "Epoch 10/10\n",
            "\u001b[1m181/181\u001b[0m \u001b[32m━━━━━━━━━━━━━━━━━━━━\u001b[0m\u001b[37m\u001b[0m \u001b[1m1s\u001b[0m 6ms/step - accuracy: 0.9978 - loss: 0.0110 - val_accuracy: 0.9969 - val_loss: 0.0138\n",
            "\n",
            "Test Accuracy: 0.9972\n"
          ]
        },
        {
          "output_type": "display_data",
          "data": {
            "text/plain": [
              "<Figure size 1200x500 with 2 Axes>"
            ],
            "image/png": "[encoded data removed]"
          },
          "metadata": {}
        }
      ]
    },
    {
      "cell_type": "markdown",
      "source": [
        "# Evaluate 1D CNN Malware Detection Results"
      ],
      "metadata": {
        "id": "xR3T_G90vSvu"
      }
    },
    {
      "cell_type": "code",
      "source": [
        "from sklearn.metrics import confusion_matrix, accuracy_score, classification_report\n",
        "\n",
        "# Get predictions\n",
        "y_pred_probs = model.predict(X_test)\n",
        "y_pred = (y_pred_probs > 0.5).astype(int).flatten()  # Convert probabilities to 0 or 1\n",
        "\n",
        "# Confusion matrix\n",
        "cm = confusion_matrix(y_test, y_pred)\n",
        "\n",
        "# Optional: print as table\n",
        "print(\"Confusion Matrix:\")\n",
        "print(cm)\n",
        "\n",
        "# Detailed breakdown\n",
        "tn, fp, fn, tp = cm.ravel()\n",
        "print(f\"\\nTrue Negatives (Benign correctly classified): {tn}\")\n",
        "print(f\"False Positives (Benign misclassified as malware): {fp}\")\n",
        "print(f\"False Negatives (Malware missed): {fn}\")\n",
        "print(f\"True Positives (Malware correctly identified): {tp}\")\n",
        "\n",
        "# Accuracy score\n",
        "print(\"sklearn accuracy:\", accuracy_score(y_test, y_pred))\n",
        "\n",
        "# Classification report (accuracy, precision, recall, F1)\n",
        "print(\"\\nClassification Report:\")\n",
        "print(classification_report(y_test, y_pred, target_names=[\"Benign\", \"Malicious\"]))"
      ],
      "metadata": {
        "colab": {
          "base_uri": "https://localhost:8080/"
        },
        "id": "G1chgEQVvU-s",
        "outputId": "5c585bca-b9a8-4075-bcdf-2d465894178b"
      },
      "execution_count": 6,
      "outputs": [
        {
          "output_type": "stream",
          "name": "stdout",
          "text": [
            "\u001b[1m113/113\u001b[0m \u001b[32m━━━━━━━━━━━━━━━━━━━━\u001b[0m\u001b[37m\u001b[0m \u001b[1m1s\u001b[0m 4ms/step\n",
            "Confusion Matrix:\n",
            "[[2315    7]\n",
            " [   3 1276]]\n",
            "\n",
            "True Negatives (Benign correctly classified): 2315\n",
            "False Positives (Benign misclassified as malware): 7\n",
            "False Negatives (Malware missed): 3\n",
            "True Positives (Malware correctly identified): 1276\n",
            "sklearn accuracy: 0.9972229936128854\n",
            "\n",
            "Classification Report:\n",
            "              precision    recall  f1-score   support\n",
            "\n",
            "      Benign       1.00      1.00      1.00      2322\n",
            "   Malicious       0.99      1.00      1.00      1279\n",
            "\n",
            "    accuracy                           1.00      3601\n",
            "   macro avg       1.00      1.00      1.00      3601\n",
            "weighted avg       1.00      1.00      1.00      3601\n",
            "\n"
          ]
        }
      ]
    },
    {
      "cell_type": "markdown",
      "source": [
        "# 1D CNN Quant model"
      ],
      "metadata": {
        "id": "L3gfDVIU2grG"
      }
    },
    {
      "cell_type": "code",
      "source": [],
      "metadata": {
        "id": "PjeYR1Sf2j9d"
      },
      "execution_count": 6,
      "outputs": []
    },
    {
      "cell_type": "markdown",
      "source": [
        "#Evaluate int8 1D CNN"
      ],
      "metadata": {
        "id": "9Em5y-Cl26vO"
      }
    },
    {
      "cell_type": "code",
      "source": [],
      "metadata": {
        "id": "heu0aEfQ2_hA"
      },
      "execution_count": 6,
      "outputs": []
    }
  ]
}