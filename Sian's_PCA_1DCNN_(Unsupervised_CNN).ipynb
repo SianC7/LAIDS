{
  "cells": [
    {
      "cell_type": "markdown",
      "metadata": {
        "id": "view-in-github",
        "colab_type": "text"
      },
      "source": [
        "<a href=\"https://colab.research.google.com/github/SianC7/LAIDS/blob/main/Sian's_PCA_1DCNN_(Unsupervised_CNN).ipynb\" target=\"_parent\"><img src=\"https://colab.research.google.com/assets/colab-badge.svg\" alt=\"Open In Colab\"/></a>"
      ]
    },
    {
      "cell_type": "markdown",
      "metadata": {
        "id": "oOSaPtDFUdwR"
      },
      "source": [
        "#IoT-23 Data preprocessing\n",
        "- Collection\n",
        "- Cleaning\n",
        "- Encoding\n",
        "- Scaling\n",
        "- Normalisation"
      ]
    },
    {
      "cell_type": "markdown",
      "metadata": {
        "id": "jaNdMPzuog8w"
      },
      "source": [
        "Collect the data"
      ]
    },
    {
      "cell_type": "code",
      "execution_count": 1,
      "metadata": {
        "id": "9equ6DjYoi2X",
        "colab": {
          "base_uri": "https://localhost:8080/"
        },
        "outputId": "b0fa26bf-7017-4e7c-a0e4-9901441fab11"
      },
      "outputs": [
        {
          "output_type": "stream",
          "name": "stdout",
          "text": [
            "\n",
            "Initial sample:\n",
            "             ts                 uid      id.orig_h  id.orig_p       id.resp_h  id.resp_p proto service  duration orig_bytes resp_bytes conn_state local_orig local_resp  missed_bytes history  orig_pkts  orig_ip_bytes  resp_pkts  resp_ip_bytes                label\n",
            "0  1.545403e+09  CdNmOg26ZIaBRzPvWj  192.168.1.196      59932  104.248.160.24         80   tcp       -  3.097754          0          0         S0          -          -             0       S          3            180          0              0  -   Malicious   C&C\n",
            "1  1.545403e+09  CgzGV333k9WCximeu8  192.168.1.196      59932  104.248.160.24         80   tcp       -         -          -          -         S0          -          -             0       S          1             60          0              0  -   Malicious   C&C\n",
            "2  1.545403e+09  CLm5Pd3ZnqmYVjrZ44  192.168.1.196      59932  104.248.160.24         80   tcp       -         -          -          -         S0          -          -             0       S          1             60          0              0  -   Malicious   C&C\n",
            "3  1.545403e+09  CDn2pd1rDD1lCMXAia  192.168.1.196      35883     192.168.1.1         53   udp     dns  5.005148         78          0         S0          -          -             0       D          2            134          0              0       -   Benign   -\n",
            "4  1.545403e+09  C1NKkV3tB4rImzbpDj  192.168.1.196      43531     192.168.1.1         53   udp     dns  5.005145         78          0         S0          -          -             0       D          2            134          0              0       -   Benign   -\n"
          ]
        }
      ],
      "source": [
        "import pandas as pd\n",
        "import numpy as np\n",
        "from sklearn.preprocessing import LabelEncoder\n",
        "from sklearn.preprocessing import StandardScaler\n",
        "\n",
        "\n",
        "# Set pandas display options for wide output\n",
        "pd.set_option('display.max_columns', None)\n",
        "pd.set_option('display.width', None)\n",
        "pd.set_option('display.max_colwidth', None)\n",
        "\n",
        "# Data Collection\n",
        "data_file_path = '/content/drive/MyDrive/Colab Notebooks/Honours Project/Datasets/IoT-23 8GB Dataset/CTU-IoT-Malware-Capture-35-1-log.txt'\n",
        "#data_file_path = '/content/drive/MyDrive/Colab Notebooks/Honours Project/Datasets/IoT-23 8GB Dataset/CTU-IoT-Malware-Capture-1-1-log.txt'\n",
        "\n",
        "#Read the file\n",
        "df = pd.read_csv(\n",
        "    data_file_path,\n",
        "    sep=\"\\t\",\n",
        "    comment=\"#\",\n",
        "    header=None,\n",
        "    names=[\n",
        "        \"ts\", \"uid\", \"id.orig_h\", \"id.orig_p\", \"id.resp_h\", \"id.resp_p\", \"proto\",\n",
        "        \"service\", \"duration\", \"orig_bytes\", \"resp_bytes\", \"conn_state\",\n",
        "        \"local_orig\", \"local_resp\", \"missed_bytes\", \"history\", \"orig_pkts\",\n",
        "        \"orig_ip_bytes\", \"resp_pkts\", \"resp_ip_bytes\", \"label\"\n",
        "    ]\n",
        ")\n",
        "\n",
        "# #TEST:\n",
        "# # List of file paths\n",
        "# data_file_paths = [\n",
        "#     '/content/drive/MyDrive/Colab Notebooks/Honours Project/Datasets/IoT-23 Preprocessed Dataset/Benign_Dataset13.csv',\n",
        "#     '/content/drive/MyDrive/Colab Notebooks/Honours Project/Datasets/IoT-23 Preprocessed Dataset/DoS_Dataset21.csv',\n",
        "#     '/content/drive/MyDrive/Colab Notebooks/Honours Project/Datasets/IoT-23 Preprocessed Dataset/GafgytBotnet_Dataset3.csv',\n",
        "#     '/content/drive/MyDrive/Colab Notebooks/Honours Project/Datasets/IoT-23 Preprocessed Dataset/MiraiBotnet_Dataset1.csv',\n",
        "#     '/content/drive/MyDrive/Colab Notebooks/Honours Project/Datasets/IoT-23 Preprocessed Dataset/MiraiVariant_Dataset5.csv',\n",
        "#     '/content/drive/MyDrive/Colab Notebooks/Honours Project/Datasets/IoT-23 Preprocessed Dataset/OkiruBotnet_Dataset17.csv',\n",
        "#     '/content/drive/MyDrive/Colab Notebooks/Honours Project/Datasets/IoT-23 Preprocessed Dataset/PartOfMioriBotnet_Dataset20.csv'\n",
        "\n",
        "# ]\n",
        "# dfs = []#set the df list var\n",
        "\n",
        "# for file_path in data_file_paths: # Loop through the file paths and add the data to a temp df var\n",
        "#   try:\n",
        "#       temp_df = pd.read_csv(\n",
        "#           file_path,\n",
        "#           sep=\",\", # Changed separator to tab sep=\"\\t\",\n",
        "#           comment=\"#\",\n",
        "#           header= 0, # Changed header to None header= None,\n",
        "#           names=[\n",
        "#               \"ts\", \"uid\", \"id.orig_h\", \"id.orig_p\", \"id.resp_h\", \"id.resp_p\", \"proto\",\n",
        "#               \"service\", \"duration\", \"orig_bytes\", \"resp_bytes\", \"conn_state\",\n",
        "#               \"local_orig\", \"local_resp\", \"missed_bytes\", \"history\", \"orig_pkts\",\n",
        "#               \"orig_ip_bytes\", \"resp_pkts\", \"resp_ip_bytes\", \"label\"\n",
        "#           ]\n",
        "#       )\n",
        "#       dfs.append(temp_df) #add the info in the temp df to the dfs list\n",
        "#       print(f\"Loaded file: {file_path} with {len(temp_df)} rows\")\n",
        "#   except Exception as e:\n",
        "#       print(f\"Error reading file {file_path}: {e}\")\n",
        "\n",
        "# # Concatenate all dataframes into one\n",
        "# df = pd.concat(dfs, ignore_index=True) #make the list of dataframes into one big dataframe\n",
        "\n",
        "\n",
        "print(\"\\nInitial sample:\")\n",
        "print(df.head().to_string())"
      ]
    },
    {
      "cell_type": "markdown",
      "metadata": {
        "id": "2SEZWIGWon1o"
      },
      "source": [
        "Process the data"
      ]
    },
    {
      "cell_type": "code",
      "execution_count": 2,
      "metadata": {
        "id": "9S8k3TYGvIBW",
        "colab": {
          "base_uri": "https://localhost:8080/"
        },
        "outputId": "b7b67368-734b-4c0c-8fd2-5a7b092cdd1f"
      },
      "outputs": [
        {
          "output_type": "stream",
          "name": "stdout",
          "text": [
            "\n",
            "Cleaned sample:\n",
            "                             ts  id.orig_p  id.resp_p  proto  service  duration  orig_bytes  resp_bytes  conn_state  missed_bytes  orig_pkts  orig_ip_bytes  resp_pkts  resp_ip_bytes  label\n",
            "0 2018-12-21 14:34:02.863611937      59932         80      1        3  3.097754           0           0           6             0          3            180          0              0      1\n",
            "3 2018-12-21 14:34:13.913069010      35883         53      2        1  5.005148          78           0           6             0          2            134          0              0      0\n",
            "4 2018-12-21 14:34:03.902539968      43531         53      2        1  5.005145          78           0           6             0          2            134          0              0      0\n",
            "6 2018-12-21 14:34:47.880949974      39189         53      2        1  5.005149          78           0           6             0          2            134          0              0      0\n",
            "7 2018-12-21 14:34:11.880244970        123        123      2        3  0.143648          48          48          10             0          1             76          1             76      0\n",
            "\n",
            "Data info:\n",
            "<class 'pandas.core.frame.DataFrame'>\n",
            "Index: 6015172 entries, 0 to 10447784\n",
            "Data columns (total 15 columns):\n",
            " #   Column         Dtype         \n",
            "---  ------         -----         \n",
            " 0   ts             datetime64[ns]\n",
            " 1   id.orig_p      int64         \n",
            " 2   id.resp_p      int64         \n",
            " 3   proto          int64         \n",
            " 4   service        int64         \n",
            " 5   duration       float64       \n",
            " 6   orig_bytes     int64         \n",
            " 7   resp_bytes     int64         \n",
            " 8   conn_state     int64         \n",
            " 9   missed_bytes   int64         \n",
            " 10  orig_pkts      int64         \n",
            " 11  orig_ip_bytes  int64         \n",
            " 12  resp_pkts      int64         \n",
            " 13  resp_ip_bytes  int64         \n",
            " 14  label          int64         \n",
            "dtypes: datetime64[ns](1), float64(1), int64(13)\n",
            "memory usage: 734.3 MB\n",
            "None\n",
            "\n",
            "Total logs: 6015172\n",
            "Malware logs: 1906832\n",
            "Benign (non-malicious) logs: 4108340\n"
          ]
        }
      ],
      "source": [
        "import pandas as pd\n",
        "import numpy as np\n",
        "from sklearn.preprocessing import LabelEncoder\n",
        "from sklearn.preprocessing import StandardScaler\n",
        "\n",
        "# Data Cleaning\n",
        "# Convert timestamp to datetime\n",
        "df[\"ts\"] = pd.to_datetime(df[\"ts\"], unit=\"s\", errors='coerce')\n",
        "\n",
        "# Drop non-informative and redundant columns\n",
        "df.drop(columns=['uid', 'id.orig_h', 'id.resp_h', 'local_orig', 'local_resp', 'history'], inplace=True)\n",
        "\n",
        "# Replace '-' with NaN\n",
        "df.replace('-', np.nan, inplace=True)\n",
        "\n",
        "# Drop rows with missing data fields\n",
        "df.dropna(subset=[\n",
        "    'duration', 'orig_bytes', 'resp_bytes', 'id.orig_p', 'id.resp_p',\n",
        "    'orig_pkts', 'orig_ip_bytes', 'resp_pkts', 'resp_ip_bytes'\n",
        "], inplace=True)\n",
        "\n",
        "# Convert columns to numeric types\n",
        "numeric_columns = [\n",
        "    'duration', 'orig_bytes', 'resp_bytes', 'id.orig_p', 'id.resp_p',\n",
        "    'orig_pkts', 'orig_ip_bytes', 'resp_pkts', 'resp_ip_bytes', 'missed_bytes'\n",
        "]\n",
        "for col in numeric_columns:\n",
        "    df[col] = pd.to_numeric(df[col], errors='coerce').fillna(0)\n",
        "\n",
        "# Encode categorical columns\n",
        "categorical_columns = ['proto', 'conn_state', 'service']\n",
        "for col in categorical_columns:\n",
        "    df[col] = df[col].astype(str)  # Ensure the data is a string\n",
        "    df[col] = LabelEncoder().fit_transform(df[col])\n",
        "\n",
        "# Convert the label to binary (malicious=1, benign=0)\n",
        "df['label'] = df['label'].apply(lambda x: 1 if 'Malicious' in str(x) else 0)\n",
        "\n",
        "# Drop any rows still containing NaN\n",
        "df.dropna(inplace=True)\n",
        "\n",
        "# Display cleaned data\n",
        "print(\"\\nCleaned sample:\")\n",
        "print(df.head().to_string())\n",
        "print(\"\\nData info:\")\n",
        "print(df.info())\n",
        "\n",
        "\n",
        "# Split features and labels\n",
        "X = df.drop(columns=['label', 'ts']).values  # Drop label and timestamp\n",
        "y = df['label'].values\n",
        "\n",
        "# Normalize the data\n",
        "scaler = StandardScaler()\n",
        "X_scaled = scaler.fit_transform(X)\n",
        "\n",
        "\n",
        "# Counts the number of malware and benign logs\n",
        "total_logs = len(df)\n",
        "malware_logs = df['label'].sum()  # since malware = 1\n",
        "benign_logs = total_logs - malware_logs\n",
        "\n",
        "print(f\"\\nTotal logs: {total_logs}\")\n",
        "print(f\"Malware logs: {malware_logs}\")\n",
        "print(f\"Benign (non-malicious) logs: {benign_logs}\")"
      ]
    },
    {
      "cell_type": "markdown",
      "metadata": {
        "id": "p27J58TaT8nc"
      },
      "source": [
        "#Apply PCA"
      ]
    },
    {
      "cell_type": "code",
      "execution_count": 3,
      "metadata": {
        "id": "jBS-NuKeT-hu",
        "colab": {
          "base_uri": "https://localhost:8080/"
        },
        "outputId": "b9dc5842-34a1-46cd-de4a-c4f12a0d8745"
      },
      "outputs": [
        {
          "output_type": "stream",
          "name": "stdout",
          "text": [
            "Reduced 13 to 10 components\n",
            "(6015172, 10)\n"
          ]
        }
      ],
      "source": [
        "# Apply PCA\n",
        "from sklearn.decomposition import PCA\n",
        "pca = PCA(n_components=13) #Make the number of components the number of features in a data sample - so 13 #if PCA = 10 then it will reduce the dimensionality of the data to exactly 10 features\n",
        "X_pca = pca.fit_transform(X_scaled)\n",
        "\n",
        "# Display the number of data features dropped\n",
        "print(f\"Reduced {X_scaled.shape[1]} to {X_pca.shape[1]} components\")\n",
        "\n",
        "#Shape of the data (rows, data features)\n",
        "print(X_pca.shape)"
      ]
    },
    {
      "cell_type": "markdown",
      "metadata": {
        "id": "WBxWX3MftapB"
      },
      "source": [
        "# Data reshaping for 1D CNN input\n",
        "creating x_training data that is only benign and x_test that is both malicious and benign"
      ]
    },
    {
      "cell_type": "code",
      "execution_count": 4,
      "metadata": {
        "id": "V0JKdNVLteDk",
        "colab": {
          "base_uri": "https://localhost:8080/"
        },
        "outputId": "5ef99b3d-f780-4430-b54c-4c55be4e0fee"
      },
      "outputs": [
        {
          "output_type": "stream",
          "name": "stdout",
          "text": [
            "1D CNN input shape: (6015172, 10, 1)\n",
            "Shapes in Train: (2793671, 10, 1), Val: (493001, 10, 1), Test: (1643336, 10, 1)\n"
          ]
        }
      ],
      "source": [
        "from sklearn.model_selection import train_test_split\n",
        "from sklearn.utils import shuffle\n",
        "import numpy as np\n",
        "\n",
        "# Reshape the data for 1D CNN input\n",
        "X_1dcnn = X_pca.reshape((X_pca.shape[0], X_pca.shape[1], 1)) # expected input shape: (number of samples, timesteps: number of PCA components, each timestep holds one PCA scalar value)\n",
        "\n",
        "# Train/Validation/Test Split\n",
        "# Separate benign and malicious data\n",
        "X_benign = X_1dcnn[y == 0]\n",
        "y_benign = y[y == 0]\n",
        "\n",
        "X_malicious = X_1dcnn[y == 1]\n",
        "y_malicious = y[y == 1]\n",
        "\n",
        "# Split into Train/Val/Test sets\n",
        "# Benign split into 80% train and valadation (X_temp) and 20% test\n",
        "X_temp, X_test, y_temp, y_test = train_test_split(X_benign, y_benign, test_size=0.2, random_state=42, stratify=y_benign) # stratify=y_benign to balance the representation of malicious and normal classes in each set when the data is split.\n",
        "\n",
        "# Split X_temp into train and val (85% train, 15% val)\n",
        "X_train, X_val, y_train, y_val = train_test_split(X_temp, y_temp, test_size=0.15, random_state=42, stratify=y_temp)\n",
        "\n",
        "\n",
        "# # Combine benign and malicious test sets:\n",
        "# print(\"Number of benign (normal) test samples:\", len(X_test))\n",
        "# print(\"Number of malicious test samples:\", len(X_malicious))\n",
        "\n",
        "# X_test = np.concatenate([X_test, X_malicious], axis=0)\n",
        "# y_test = np.concatenate([y_test, y_malicious], axis=0)\n",
        "# Determine how many samples we can take from each\n",
        "\n",
        "#TEST\n",
        "num_benign = len(X_test)\n",
        "num_malicious = len(X_malicious)\n",
        "min_len = min(num_benign, num_malicious)\n",
        "\n",
        "# Trim both to the same size\n",
        "X_test_balanced = np.concatenate([X_test[:min_len], X_malicious[:min_len]], axis=0)\n",
        "y_test_balanced = np.concatenate([y_test[:min_len], y_malicious[:min_len]], axis=0)\n",
        "#---------------------------------\n",
        "\n",
        "# # Shuffle data in the sets\n",
        "# X_train, y_train = shuffle(X_train, y_train, random_state=42)\n",
        "# X_val, y_val = shuffle(X_val, y_val, random_state=42)\n",
        "# X_test, y_test = shuffle(X_test, y_test, random_state=42)\n",
        "#TEST\n",
        "X_train, y_train = shuffle(X_train, y_train, random_state=42)\n",
        "X_val, y_val = shuffle(X_val, y_val, random_state=42)\n",
        "X_test, y_test = shuffle(X_test_balanced, y_test_balanced, random_state=42)\n",
        "\n",
        "# Final Shape Confirmation\n",
        "print(\"1D CNN input shape:\", X_1dcnn.shape)\n",
        "print(f\"Shapes in Train: {X_train.shape}, Val: {X_val.shape}, Test: {X_test.shape}\")"
      ]
    },
    {
      "cell_type": "markdown",
      "metadata": {
        "id": "AaK_AOGeuPxj"
      },
      "source": [
        "#1D CNN model\n",
        "Since there's no ground truth, the CNN won't learn to map inputs to labels. Instead, the model will try to measure how far data features are from a \"normal\" center (e.g., Deep SVDD).\n",
        "\n",
        "To convert the supervised CNN pipeline into an unsupervised CNN for anomaly detection, dependency on labels during training need to be removed.\n",
        "\n",
        "Deep SVDD-style unsupervised CNN:\n",
        "*   The CNN learns to map all “normal” data (benign traffic) to a compact region in feature space.\n",
        "*   Anomalies (malicious traffic) are later detected based on distance from the learned center."
      ]
    },
    {
      "cell_type": "code",
      "execution_count": 5,
      "metadata": {
        "id": "5z09AdYcuSTj",
        "colab": {
          "base_uri": "https://localhost:8080/"
        },
        "outputId": "33aa4318-0b19-48df-d123-046b2a10ccc3"
      },
      "outputs": [
        {
          "output_type": "stream",
          "name": "stdout",
          "text": [
            "Input shape: (10, 1)\n"
          ]
        },
        {
          "output_type": "stream",
          "name": "stderr",
          "text": [
            "/usr/local/lib/python3.11/dist-packages/keras/src/layers/convolutional/base_conv.py:107: UserWarning: Do not pass an `input_shape`/`input_dim` argument to a layer. When using Sequential models, prefer using an `Input(shape)` object as the first layer in the model instead.\n",
            "  super().__init__(activity_regularizer=activity_regularizer, **kwargs)\n"
          ]
        }
      ],
      "source": [
        "import tensorflow as tf\n",
        "from tensorflow.keras.models import Sequential\n",
        "from tensorflow.keras.layers import Conv1D, MaxPooling1D, Flatten, Dense, Dropout, BatchNormalization\n",
        "\n",
        "#Step 3: Define the 1D CNN Model\n",
        "\n",
        "# Define input shape\n",
        "input_shape = (X_train.shape[1], 1)  # (timesteps, features)\n",
        "print(\"Input shape:\", input_shape)#TEST\n",
        "\n",
        "# CNN feature extractor model\n",
        "# The model extracts meaningful features from the input data using its convolutional layers.\n",
        "# The final output is a learned feature vector for each input sample.\n",
        "# No classification of the samples are made.\n",
        "model = Sequential([\n",
        "    Conv1D(filters=32, kernel_size=3, activation='relu', input_shape=input_shape), # Detect patterns in the network traffic data\n",
        "    BatchNormalization(), # Normalizes the outputs of a the Conv1D layer before passing them to the MaxPool layer\n",
        "    MaxPooling1D(pool_size=2), # Reduce the dimensions of the data without affecting key features\n",
        "    Dropout(0.25), # Prevent overfitting by forcing the model to generalize - it does this by randomly deactivating a fraction of neurons during training\n",
        "\n",
        "    Conv1D(filters=64, kernel_size=3, activation='relu'), #64\n",
        "    BatchNormalization(),\n",
        "    MaxPooling1D(pool_size=2),\n",
        "\n",
        "    Flatten(), # Converts the output of the last Conv1D layer into a 1D vector for the fully connected layers\n",
        "    Dense(64, activation='relu'), # Fully connected layer, which learns the complex combinations of the features extracted in the previous layer\n",
        "    Dropout(0.5),\n",
        "\n",
        "    Dense(32, activation='linear')  # Feature vector output (not classification)\n",
        "])\n",
        "\n"
      ]
    },
    {
      "cell_type": "markdown",
      "metadata": {
        "id": "h8EGUQQPLs-y"
      },
      "source": [
        "#Create the Custom SVDD-style Loss\n",
        "Compute the distance of output features from a learned center in the feature space. Flagging anomalies as samples with high feature-space distance from center.\n",
        "\n",
        "The model outputs a feature vector for each input network traffic sample.\n",
        "The center vector represents the average feature vector of normal (benign) traffic. Normal samples produce features close to this center and anomalies should produce features far away from this center."
      ]
    },
    {
      "cell_type": "code",
      "execution_count": 6,
      "metadata": {
        "id": "WYfG0yqNLvoB",
        "colab": {
          "base_uri": "https://localhost:8080/"
        },
        "outputId": "e4170f39-aede-402b-bd93-107be7a0350b"
      },
      "outputs": [
        {
          "output_type": "stream",
          "name": "stdout",
          "text": [
            "Initial center shape: (32,)\n"
          ]
        }
      ],
      "source": [
        "import tensorflow.keras.backend as K\n",
        "# Create custom  loss function\n",
        "\n",
        "# Define the center vector, which will be initlaised to zero and then to the actual mean feature vector after feature extraction\n",
        "center = K.variable(np.zeros((32,), dtype=np.float32), name='center')\n",
        "print(f\"Initial center shape: {center.shape}\")\n",
        "\n",
        "# Custom SVDD loss function: Euclidean distance from center\n",
        "def svdd_loss(y_true, y_pred):\n",
        "    return K.mean(K.sum(K.square(y_pred - center), axis=1))"
      ]
    },
    {
      "cell_type": "markdown",
      "metadata": {
        "id": "5sQhNq_TNrI4"
      },
      "source": [
        "#Compile model"
      ]
    },
    {
      "cell_type": "code",
      "execution_count": 7,
      "metadata": {
        "id": "fiuXaSDVNudk",
        "colab": {
          "base_uri": "https://localhost:8080/",
          "height": 513
        },
        "outputId": "43b9153e-f243-4f66-ac3e-107612b2d5e3"
      },
      "outputs": [
        {
          "output_type": "display_data",
          "data": {
            "text/plain": [
              "\u001b[1mModel: \"sequential\"\u001b[0m\n"
            ],
            "text/html": [
              "<pre style=\"white-space:pre;overflow-x:auto;line-height:normal;font-family:Menlo,'DejaVu Sans Mono',consolas,'Courier New',monospace\"><span style=\"font-weight: bold\">Model: \"sequential\"</span>\n",
              "</pre>\n"
            ]
          },
          "metadata": {}
        },
        {
          "output_type": "display_data",
          "data": {
            "text/plain": [
              "┏━━━━━━━━━━━━━━━━━━━━━━━━━━━━━━━━━┳━━━━━━━━━━━━━━━━━━━━━━━━┳━━━━━━━━━━━━━━━┓\n",
              "┃\u001b[1m \u001b[0m\u001b[1mLayer (type)                   \u001b[0m\u001b[1m \u001b[0m┃\u001b[1m \u001b[0m\u001b[1mOutput Shape          \u001b[0m\u001b[1m \u001b[0m┃\u001b[1m \u001b[0m\u001b[1m      Param #\u001b[0m\u001b[1m \u001b[0m┃\n",
              "┡━━━━━━━━━━━━━━━━━━━━━━━━━━━━━━━━━╇━━━━━━━━━━━━━━━━━━━━━━━━╇━━━━━━━━━━━━━━━┩\n",
              "│ conv1d (\u001b[38;5;33mConv1D\u001b[0m)                 │ (\u001b[38;5;45mNone\u001b[0m, \u001b[38;5;34m8\u001b[0m, \u001b[38;5;34m32\u001b[0m)          │           \u001b[38;5;34m128\u001b[0m │\n",
              "├─────────────────────────────────┼────────────────────────┼───────────────┤\n",
              "│ batch_normalization             │ (\u001b[38;5;45mNone\u001b[0m, \u001b[38;5;34m8\u001b[0m, \u001b[38;5;34m32\u001b[0m)          │           \u001b[38;5;34m128\u001b[0m │\n",
              "│ (\u001b[38;5;33mBatchNormalization\u001b[0m)            │                        │               │\n",
              "├─────────────────────────────────┼────────────────────────┼───────────────┤\n",
              "│ max_pooling1d (\u001b[38;5;33mMaxPooling1D\u001b[0m)    │ (\u001b[38;5;45mNone\u001b[0m, \u001b[38;5;34m4\u001b[0m, \u001b[38;5;34m32\u001b[0m)          │             \u001b[38;5;34m0\u001b[0m │\n",
              "├─────────────────────────────────┼────────────────────────┼───────────────┤\n",
              "│ dropout (\u001b[38;5;33mDropout\u001b[0m)               │ (\u001b[38;5;45mNone\u001b[0m, \u001b[38;5;34m4\u001b[0m, \u001b[38;5;34m32\u001b[0m)          │             \u001b[38;5;34m0\u001b[0m │\n",
              "├─────────────────────────────────┼────────────────────────┼───────────────┤\n",
              "│ conv1d_1 (\u001b[38;5;33mConv1D\u001b[0m)               │ (\u001b[38;5;45mNone\u001b[0m, \u001b[38;5;34m2\u001b[0m, \u001b[38;5;34m64\u001b[0m)          │         \u001b[38;5;34m6,208\u001b[0m │\n",
              "├─────────────────────────────────┼────────────────────────┼───────────────┤\n",
              "│ batch_normalization_1           │ (\u001b[38;5;45mNone\u001b[0m, \u001b[38;5;34m2\u001b[0m, \u001b[38;5;34m64\u001b[0m)          │           \u001b[38;5;34m256\u001b[0m │\n",
              "│ (\u001b[38;5;33mBatchNormalization\u001b[0m)            │                        │               │\n",
              "├─────────────────────────────────┼────────────────────────┼───────────────┤\n",
              "│ max_pooling1d_1 (\u001b[38;5;33mMaxPooling1D\u001b[0m)  │ (\u001b[38;5;45mNone\u001b[0m, \u001b[38;5;34m1\u001b[0m, \u001b[38;5;34m64\u001b[0m)          │             \u001b[38;5;34m0\u001b[0m │\n",
              "├─────────────────────────────────┼────────────────────────┼───────────────┤\n",
              "│ flatten (\u001b[38;5;33mFlatten\u001b[0m)               │ (\u001b[38;5;45mNone\u001b[0m, \u001b[38;5;34m64\u001b[0m)             │             \u001b[38;5;34m0\u001b[0m │\n",
              "├─────────────────────────────────┼────────────────────────┼───────────────┤\n",
              "│ dense (\u001b[38;5;33mDense\u001b[0m)                   │ (\u001b[38;5;45mNone\u001b[0m, \u001b[38;5;34m64\u001b[0m)             │         \u001b[38;5;34m4,160\u001b[0m │\n",
              "├─────────────────────────────────┼────────────────────────┼───────────────┤\n",
              "│ dropout_1 (\u001b[38;5;33mDropout\u001b[0m)             │ (\u001b[38;5;45mNone\u001b[0m, \u001b[38;5;34m64\u001b[0m)             │             \u001b[38;5;34m0\u001b[0m │\n",
              "├─────────────────────────────────┼────────────────────────┼───────────────┤\n",
              "│ dense_1 (\u001b[38;5;33mDense\u001b[0m)                 │ (\u001b[38;5;45mNone\u001b[0m, \u001b[38;5;34m32\u001b[0m)             │         \u001b[38;5;34m2,080\u001b[0m │\n",
              "└─────────────────────────────────┴────────────────────────┴───────────────┘\n"
            ],
            "text/html": [
              "<pre style=\"white-space:pre;overflow-x:auto;line-height:normal;font-family:Menlo,'DejaVu Sans Mono',consolas,'Courier New',monospace\">┏━━━━━━━━━━━━━━━━━━━━━━━━━━━━━━━━━┳━━━━━━━━━━━━━━━━━━━━━━━━┳━━━━━━━━━━━━━━━┓\n",
              "┃<span style=\"font-weight: bold\"> Layer (type)                    </span>┃<span style=\"font-weight: bold\"> Output Shape           </span>┃<span style=\"font-weight: bold\">       Param # </span>┃\n",
              "┡━━━━━━━━━━━━━━━━━━━━━━━━━━━━━━━━━╇━━━━━━━━━━━━━━━━━━━━━━━━╇━━━━━━━━━━━━━━━┩\n",
              "│ conv1d (<span style=\"color: #0087ff; text-decoration-color: #0087ff\">Conv1D</span>)                 │ (<span style=\"color: #00d7ff; text-decoration-color: #00d7ff\">None</span>, <span style=\"color: #00af00; text-decoration-color: #00af00\">8</span>, <span style=\"color: #00af00; text-decoration-color: #00af00\">32</span>)          │           <span style=\"color: #00af00; text-decoration-color: #00af00\">128</span> │\n",
              "├─────────────────────────────────┼────────────────────────┼───────────────┤\n",
              "│ batch_normalization             │ (<span style=\"color: #00d7ff; text-decoration-color: #00d7ff\">None</span>, <span style=\"color: #00af00; text-decoration-color: #00af00\">8</span>, <span style=\"color: #00af00; text-decoration-color: #00af00\">32</span>)          │           <span style=\"color: #00af00; text-decoration-color: #00af00\">128</span> │\n",
              "│ (<span style=\"color: #0087ff; text-decoration-color: #0087ff\">BatchNormalization</span>)            │                        │               │\n",
              "├─────────────────────────────────┼────────────────────────┼───────────────┤\n",
              "│ max_pooling1d (<span style=\"color: #0087ff; text-decoration-color: #0087ff\">MaxPooling1D</span>)    │ (<span style=\"color: #00d7ff; text-decoration-color: #00d7ff\">None</span>, <span style=\"color: #00af00; text-decoration-color: #00af00\">4</span>, <span style=\"color: #00af00; text-decoration-color: #00af00\">32</span>)          │             <span style=\"color: #00af00; text-decoration-color: #00af00\">0</span> │\n",
              "├─────────────────────────────────┼────────────────────────┼───────────────┤\n",
              "│ dropout (<span style=\"color: #0087ff; text-decoration-color: #0087ff\">Dropout</span>)               │ (<span style=\"color: #00d7ff; text-decoration-color: #00d7ff\">None</span>, <span style=\"color: #00af00; text-decoration-color: #00af00\">4</span>, <span style=\"color: #00af00; text-decoration-color: #00af00\">32</span>)          │             <span style=\"color: #00af00; text-decoration-color: #00af00\">0</span> │\n",
              "├─────────────────────────────────┼────────────────────────┼───────────────┤\n",
              "│ conv1d_1 (<span style=\"color: #0087ff; text-decoration-color: #0087ff\">Conv1D</span>)               │ (<span style=\"color: #00d7ff; text-decoration-color: #00d7ff\">None</span>, <span style=\"color: #00af00; text-decoration-color: #00af00\">2</span>, <span style=\"color: #00af00; text-decoration-color: #00af00\">64</span>)          │         <span style=\"color: #00af00; text-decoration-color: #00af00\">6,208</span> │\n",
              "├─────────────────────────────────┼────────────────────────┼───────────────┤\n",
              "│ batch_normalization_1           │ (<span style=\"color: #00d7ff; text-decoration-color: #00d7ff\">None</span>, <span style=\"color: #00af00; text-decoration-color: #00af00\">2</span>, <span style=\"color: #00af00; text-decoration-color: #00af00\">64</span>)          │           <span style=\"color: #00af00; text-decoration-color: #00af00\">256</span> │\n",
              "│ (<span style=\"color: #0087ff; text-decoration-color: #0087ff\">BatchNormalization</span>)            │                        │               │\n",
              "├─────────────────────────────────┼────────────────────────┼───────────────┤\n",
              "│ max_pooling1d_1 (<span style=\"color: #0087ff; text-decoration-color: #0087ff\">MaxPooling1D</span>)  │ (<span style=\"color: #00d7ff; text-decoration-color: #00d7ff\">None</span>, <span style=\"color: #00af00; text-decoration-color: #00af00\">1</span>, <span style=\"color: #00af00; text-decoration-color: #00af00\">64</span>)          │             <span style=\"color: #00af00; text-decoration-color: #00af00\">0</span> │\n",
              "├─────────────────────────────────┼────────────────────────┼───────────────┤\n",
              "│ flatten (<span style=\"color: #0087ff; text-decoration-color: #0087ff\">Flatten</span>)               │ (<span style=\"color: #00d7ff; text-decoration-color: #00d7ff\">None</span>, <span style=\"color: #00af00; text-decoration-color: #00af00\">64</span>)             │             <span style=\"color: #00af00; text-decoration-color: #00af00\">0</span> │\n",
              "├─────────────────────────────────┼────────────────────────┼───────────────┤\n",
              "│ dense (<span style=\"color: #0087ff; text-decoration-color: #0087ff\">Dense</span>)                   │ (<span style=\"color: #00d7ff; text-decoration-color: #00d7ff\">None</span>, <span style=\"color: #00af00; text-decoration-color: #00af00\">64</span>)             │         <span style=\"color: #00af00; text-decoration-color: #00af00\">4,160</span> │\n",
              "├─────────────────────────────────┼────────────────────────┼───────────────┤\n",
              "│ dropout_1 (<span style=\"color: #0087ff; text-decoration-color: #0087ff\">Dropout</span>)             │ (<span style=\"color: #00d7ff; text-decoration-color: #00d7ff\">None</span>, <span style=\"color: #00af00; text-decoration-color: #00af00\">64</span>)             │             <span style=\"color: #00af00; text-decoration-color: #00af00\">0</span> │\n",
              "├─────────────────────────────────┼────────────────────────┼───────────────┤\n",
              "│ dense_1 (<span style=\"color: #0087ff; text-decoration-color: #0087ff\">Dense</span>)                 │ (<span style=\"color: #00d7ff; text-decoration-color: #00d7ff\">None</span>, <span style=\"color: #00af00; text-decoration-color: #00af00\">32</span>)             │         <span style=\"color: #00af00; text-decoration-color: #00af00\">2,080</span> │\n",
              "└─────────────────────────────────┴────────────────────────┴───────────────┘\n",
              "</pre>\n"
            ]
          },
          "metadata": {}
        },
        {
          "output_type": "display_data",
          "data": {
            "text/plain": [
              "\u001b[1m Total params: \u001b[0m\u001b[38;5;34m12,960\u001b[0m (50.62 KB)\n"
            ],
            "text/html": [
              "<pre style=\"white-space:pre;overflow-x:auto;line-height:normal;font-family:Menlo,'DejaVu Sans Mono',consolas,'Courier New',monospace\"><span style=\"font-weight: bold\"> Total params: </span><span style=\"color: #00af00; text-decoration-color: #00af00\">12,960</span> (50.62 KB)\n",
              "</pre>\n"
            ]
          },
          "metadata": {}
        },
        {
          "output_type": "display_data",
          "data": {
            "text/plain": [
              "\u001b[1m Trainable params: \u001b[0m\u001b[38;5;34m12,768\u001b[0m (49.88 KB)\n"
            ],
            "text/html": [
              "<pre style=\"white-space:pre;overflow-x:auto;line-height:normal;font-family:Menlo,'DejaVu Sans Mono',consolas,'Courier New',monospace\"><span style=\"font-weight: bold\"> Trainable params: </span><span style=\"color: #00af00; text-decoration-color: #00af00\">12,768</span> (49.88 KB)\n",
              "</pre>\n"
            ]
          },
          "metadata": {}
        },
        {
          "output_type": "display_data",
          "data": {
            "text/plain": [
              "\u001b[1m Non-trainable params: \u001b[0m\u001b[38;5;34m192\u001b[0m (768.00 B)\n"
            ],
            "text/html": [
              "<pre style=\"white-space:pre;overflow-x:auto;line-height:normal;font-family:Menlo,'DejaVu Sans Mono',consolas,'Courier New',monospace\"><span style=\"font-weight: bold\"> Non-trainable params: </span><span style=\"color: #00af00; text-decoration-color: #00af00\">192</span> (768.00 B)\n",
              "</pre>\n"
            ]
          },
          "metadata": {}
        }
      ],
      "source": [
        "# Step 5: Compile the Model\n",
        "model.compile(optimizer='adam', loss = svdd_loss) #model is trained using a custom loss function that encourages it to map benign data sample near a specific center point in a feature space.\n",
        "model.summary()"
      ]
    },
    {
      "cell_type": "markdown",
      "metadata": {
        "id": "KALn95TQubsB"
      },
      "source": [
        "#Train Model"
      ]
    },
    {
      "cell_type": "code",
      "execution_count": 8,
      "metadata": {
        "id": "mZ9J11GTudtL",
        "colab": {
          "base_uri": "https://localhost:8080/",
          "height": 691
        },
        "outputId": "7bb5a43a-d805-4f0d-aac1-5b19938ad95a"
      },
      "outputs": [
        {
          "output_type": "stream",
          "name": "stdout",
          "text": [
            "X_train dtype: float64\n",
            "dummy_y_train dtype: float32\n",
            "Epoch 1/5\n",
            "\u001b[1m43652/43652\u001b[0m \u001b[32m━━━━━━━━━━━━━━━━━━━━\u001b[0m\u001b[37m\u001b[0m \u001b[1m237s\u001b[0m 5ms/step - loss: 0.1334 - val_loss: 0.2496\n",
            "Epoch 2/5\n",
            "\u001b[1m43652/43652\u001b[0m \u001b[32m━━━━━━━━━━━━━━━━━━━━\u001b[0m\u001b[37m\u001b[0m \u001b[1m287s\u001b[0m 6ms/step - loss: 4.1119e-07 - val_loss: 1.6463e-04\n",
            "Epoch 3/5\n",
            "\u001b[1m43652/43652\u001b[0m \u001b[32m━━━━━━━━━━━━━━━━━━━━\u001b[0m\u001b[37m\u001b[0m \u001b[1m240s\u001b[0m 5ms/step - loss: 1.0060e-06 - val_loss: 5.2188e-08\n",
            "Epoch 4/5\n",
            "\u001b[1m43652/43652\u001b[0m \u001b[32m━━━━━━━━━━━━━━━━━━━━\u001b[0m\u001b[37m\u001b[0m \u001b[1m260s\u001b[0m 5ms/step - loss: 3.6577e-08 - val_loss: 3.4991\n",
            "Epoch 5/5\n",
            "\u001b[1m43652/43652\u001b[0m \u001b[32m━━━━━━━━━━━━━━━━━━━━\u001b[0m\u001b[37m\u001b[0m \u001b[1m242s\u001b[0m 6ms/step - loss: 3.2896e-07 - val_loss: 2.2114e-05\n"
          ]
        },
        {
          "output_type": "display_data",
          "data": {
            "text/plain": [
              "<Figure size 640x480 with 1 Axes>"
            ],
            "image/png": "[encoded data removed]"
          },
          "metadata": {}
        }
      ],
      "source": [
        "#Step 6: Train the Model\n",
        "# Generate dummy labels (all zeros), same length as the input and float32 data type\n",
        "dummy_y_train = np.zeros((X_train.shape[0],), dtype=np.float32)\n",
        "dummy_y_val = np.zeros((X_val.shape[0],), dtype=np.float32)\n",
        "\n",
        "print(\"X_train dtype:\", X_train.dtype)\n",
        "print(\"dummy_y_train dtype:\", dummy_y_train.dtype)\n",
        "\n",
        "# Train the model using dummy labels\n",
        "history = model.fit(\n",
        "    X_train, dummy_y_train,\n",
        "    epochs= 5, #10\n",
        "    batch_size=64,\n",
        "    validation_data=(X_val, y_val), #change to actual y_val values #dummy_y_val\n",
        "    verbose=1\n",
        ")\n",
        "\n",
        "# Plot Loss\n",
        "import matplotlib.pyplot as plt # Import matplotlib\n",
        "plt.plot(history.history['loss'], label='Train Loss')\n",
        "plt.plot(history.history.get('val_loss', []), label='Val Loss')  # Safe in case val_loss wasn't tracked\n",
        "plt.title('Training and Validation Loss')\n",
        "plt.xlabel('Epoch')\n",
        "plt.ylabel('Loss')\n",
        "plt.legend()\n",
        "plt.tight_layout()\n",
        "plt.show()\n",
        "\n",
        "# Model seems to be overfitting at the momment\n",
        "# The ideal shape should be downward sloping curves that are close together"
      ]
    },
    {
      "cell_type": "markdown",
      "metadata": {
        "id": "AQpa-lMlnWif"
      },
      "source": [
        "#Anomaly Detection Phase\n",
        "Get feature vectors from the trained model and compute distance to center where large distances indicates anomalies."
      ]
    },
    {
      "cell_type": "code",
      "execution_count": 9,
      "metadata": {
        "id": "ekJWs6genXC9",
        "colab": {
          "base_uri": "https://localhost:8080/"
        },
        "outputId": "35423787-9eba-4960-f930-653cc4052a84"
      },
      "outputs": [
        {
          "output_type": "stream",
          "name": "stdout",
          "text": [
            "\u001b[1m87303/87303\u001b[0m \u001b[32m━━━━━━━━━━━━━━━━━━━━\u001b[0m\u001b[37m\u001b[0m \u001b[1m139s\u001b[0m 2ms/step\n",
            "Mean feature vector of benign training samples: [ 1.4120285e-04 -8.6992623e-05  4.6957857e-06 -1.2753789e-04\n",
            " -2.0339563e-04  2.1904339e-04  5.3880531e-06 -1.8112711e-05\n",
            "  6.9349408e-06  3.9751896e-05 -4.0753086e-05  2.1300388e-04\n",
            "  1.9936200e-04 -7.6975179e-05 -2.1398546e-04  1.9052913e-04\n",
            "  1.7655399e-04  1.1205563e-04  2.8619759e-05  2.4492407e-04\n",
            "  8.7903165e-05 -5.3768596e-05 -2.7056001e-05 -1.9412265e-04\n",
            "  2.1803974e-04 -1.8503721e-05  1.2515558e-04 -7.9022961e-05\n",
            " -1.9401830e-04  1.6640885e-04  1.6642219e-04 -5.5533699e-05]\n",
            "Center vector updated. New center shape: (32,)\n",
            "\u001b[1m51355/51355\u001b[0m \u001b[32m━━━━━━━━━━━━━━━━━━━━\u001b[0m\u001b[37m\u001b[0m \u001b[1m83s\u001b[0m 2ms/step\n"
          ]
        }
      ],
      "source": [
        "# Compute center of benign training data in feature space\n",
        "X_train_features = model.predict(X_train)\n",
        "\n",
        "# Compute the center (mean vector)\n",
        "print(f\"Mean feature vector of benign training samples: {np.mean(X_train_features, axis=0)}\")# Print the mean vector\n",
        "new_center = np.mean(X_train_features, axis=0).astype(np.float32)  # Shape: (32,)\n",
        "\n",
        "# Update the Keras variable `center`\n",
        "K.set_value(center, new_center)\n",
        "\n",
        "print(\"Center vector updated. New center shape:\", new_center.shape)\n",
        "\n",
        "# Predict features for X_test\n",
        "X_test_features = model.predict(X_test) # Trained CNN model without the final classification layer; Shape of X_test_features: (num_samples, feature_dim)\n",
        "\n",
        "# Calculate the Euclidean distance from the updated center for each sample to detect maclicious samples\n",
        "distances = np.linalg.norm(X_test_features - new_center, axis=1) # Center is the mean vector of all benign embeddings from the training set #K.eval(new_center)\n",
        "\n",
        "threshold = np.percentile(distances, 0.5) # Calculates the 50th percentile (the median) of all distances of samples from the center for the threshold\n",
        "\n",
        "unsupervised_predictions = (distances > threshold).astype(int) # Samples with distances greater than the threshold are labeled 1 (malicious) and others are labeled 0 (normal/benign).\n",
        "\n"
      ]
    },
    {
      "cell_type": "markdown",
      "metadata": {
        "id": "WEhBPa9lJzq4"
      },
      "source": [
        "#Detection Phase Visulisation"
      ]
    },
    {
      "cell_type": "code",
      "execution_count": 10,
      "metadata": {
        "id": "jBP9ffdYJ2ke",
        "colab": {
          "base_uri": "https://localhost:8080/",
          "height": 707
        },
        "outputId": "7511c71a-6bdc-4b72-a484-3ff550f55181"
      },
      "outputs": [
        {
          "output_type": "display_data",
          "data": {
            "text/plain": [
              "<Figure size 1000x700 with 1 Axes>"
            ],
            "image/png": "[encoded data removed]"
          },
          "metadata": {}
        }
      ],
      "source": [
        "from sklearn.decomposition import PCA\n",
        "import matplotlib.pyplot as plt\n",
        "import numpy as np\n",
        "from matplotlib.patches import Circle\n",
        "import matplotlib.cm as cm\n",
        "\n",
        "# Step 1: Reduce 32D feature vectors to 2D using PCA\n",
        "pca = PCA(n_components=2)\n",
        "X_test_2D = pca.fit_transform(X_test_features)\n",
        "\n",
        "# Step 2: Also reduce the center to 2D\n",
        "center_2D = pca.transform(K.eval(center).reshape(1, -1))[0]  # Shape: (2,)\n",
        "\n",
        "# Step 3: Plotting\n",
        "plt.figure(figsize=(10, 7))\n",
        "\n",
        "# Step 4: Separate benign and malicious samples based on prediction\n",
        "benign_mask = (unsupervised_predictions == 0)\n",
        "malicious_mask = (unsupervised_predictions == 1)\n",
        "\n",
        "# Plot benign points\n",
        "plt.scatter(\n",
        "    X_test_2D[benign_mask, 0], X_test_2D[benign_mask, 1],\n",
        "    color='blue', alpha=0.5, label='Predicted Benign'\n",
        ")\n",
        "\n",
        "# Plot malicious points\n",
        "plt.scatter(\n",
        "    X_test_2D[malicious_mask, 0], X_test_2D[malicious_mask, 1],\n",
        "    color='red', alpha=0.5, label='Predicted Malicious'\n",
        ")\n",
        "\n",
        "# Step 5: Plot center point\n",
        "plt.scatter(\n",
        "    center_2D[0], center_2D[1],\n",
        "    color='green', marker='x', s=200, linewidths=2, label='Benign Center'\n",
        ")\n",
        "\n",
        "# Step 6: Optional threshold radius around the center (in 2D PCA space)\n",
        "# Note: The threshold is in original feature space – projecting it to 2D is approximate\n",
        "approx_threshold_radius = np.percentile(\n",
        "    np.linalg.norm(X_test_2D - center_2D, axis=1), 50  # or match your percentile\n",
        ")\n",
        "circle = Circle(center_2D, radius=approx_threshold_radius, color='green',\n",
        "                fill=False, linestyle='--', label='Approx. Threshold Radius')\n",
        "plt.gca().add_patch(circle)\n",
        "\n",
        "# Step 7: Final plot aesthetics\n",
        "plt.title('PCA-Reduced Features with Deep SVDD Predictions')\n",
        "plt.xlabel('PCA Component 1')\n",
        "plt.ylabel('PCA Component 2')\n",
        "plt.legend(loc='upper right')\n",
        "plt.grid(True)\n",
        "plt.tight_layout()\n",
        "plt.show()\n"
      ]
    },
    {
      "cell_type": "code",
      "source": [
        "import matplotlib.pyplot as plt\n",
        "\n",
        "# Step 1: Flatten X_test_balanced back to 2D for plotting (remove the CNN channel dimension)\n",
        "X_test_flat = X_test.reshape(X_test.shape[0], X_test.shape[1])\n",
        "\n",
        "# Step 2: Plot using first 2 PCA components\n",
        "plt.figure(figsize=(8, 6))\n",
        "plt.scatter(\n",
        "    X_test_flat[y_test == 0][:, 0], X_test_flat[y_test == 0][:, 1],\n",
        "    c='green', label='Benign', alpha=0.6\n",
        ")\n",
        "plt.scatter(\n",
        "    X_test_flat[y_test == 1][:, 0], X_test_flat[y_test== 1][:, 1],\n",
        "    c='red', label='Malicious', alpha=0.6\n",
        ")\n",
        "plt.xlabel('PCA Component 1')\n",
        "plt.ylabel('PCA Component 2')\n",
        "plt.title('Ground Truth Labels in Test Set (Balanced)')\n",
        "plt.legend()\n",
        "plt.grid(True)\n",
        "plt.tight_layout()\n",
        "plt.show()\n"
      ],
      "metadata": {
        "colab": {
          "base_uri": "https://localhost:8080/",
          "height": 675
        },
        "id": "o4EsWiAq9wO7",
        "outputId": "12c23a82-32c9-4d2b-a8ad-2a5cf66c2682"
      },
      "execution_count": 11,
      "outputs": [
        {
          "output_type": "stream",
          "name": "stderr",
          "text": [
            "/tmp/ipython-input-11-946806231.py:21: UserWarning: Creating legend with loc=\"best\" can be slow with large amounts of data.\n",
            "  plt.tight_layout()\n",
            "/usr/local/lib/python3.11/dist-packages/IPython/core/pylabtools.py:151: UserWarning: Creating legend with loc=\"best\" can be slow with large amounts of data.\n",
            "  fig.canvas.print_figure(bytes_io, **kw)\n"
          ]
        },
        {
          "output_type": "display_data",
          "data": {
            "text/plain": [
              "<Figure size 800x600 with 1 Axes>"
            ],
            "image/png": "[encoded data removed]"
          },
          "metadata": {}
        }
      ]
    },
    {
      "cell_type": "markdown",
      "metadata": {
        "id": "h5WWCRHmusAX"
      },
      "source": [
        "#Evaluate Detection Results"
      ]
    },
    {
      "cell_type": "code",
      "execution_count": 15,
      "metadata": {
        "id": "yGslPs6rurxy",
        "colab": {
          "base_uri": "https://localhost:8080/",
          "height": 408
        },
        "outputId": "b0a303bd-c32f-4a07-a8e4-786243045db6"
      },
      "outputs": [
        {
          "output_type": "stream",
          "name": "stdout",
          "text": [
            "\n",
            "Classification Report on Test Set:\n",
            "              precision    recall  f1-score   support\n",
            "\n",
            "           0       0.50      1.00      0.67    821668\n",
            "           1       0.42      0.00      0.00    821668\n",
            "\n",
            "    accuracy                           0.50   1643336\n",
            "   macro avg       0.46      0.50      0.33   1643336\n",
            "weighted avg       0.46      0.50      0.33   1643336\n",
            "\n",
            "Confusion Matrix:\n",
            "[[821661      7]\n",
            " [821663      5]]\n",
            "\n",
            "True Negatives (Benign correctly classified): 821661\n",
            "False Positives (Benign misclassified as malware): 7\n",
            "False Negatives (Malware missed): 821663\n",
            "True Positives (Malware correctly identified): 5\n",
            "Accuracy: 0.49999878296343536\n",
            "Precision: 0.4166666666666667\n",
            "Recall: 6.085182823232742e-06\n"
          ]
        },
        {
          "output_type": "display_data",
          "data": {
            "text/plain": [
              "<Figure size 1000x400 with 0 Axes>"
            ]
          },
          "metadata": {}
        }
      ],
      "source": [
        "import matplotlib.pyplot as plt\n",
        "from sklearn.metrics import classification_report, confusion_matrix\n",
        "\n",
        "# Plot Training Loss (no accuracy in unsupervised setting)\n",
        "plt.figure(figsize=(10, 4))\n",
        "\n",
        "# Evaluate predictions against ground truth\n",
        "print(\"\\nClassification Report on Test Set:\")\n",
        "print(classification_report(y_test, unsupervised_predictions))\n",
        "\n",
        "# Confusion matrix\n",
        "cm = confusion_matrix(y_test, unsupervised_predictions)\n",
        "print(\"Confusion Matrix:\")\n",
        "print(cm)\n",
        "\n",
        "# Detailed breakdown\n",
        "tn, fp, fn, tp = cm.ravel()\n",
        "print(f\"\\nTrue Negatives (Benign correctly classified): {tn}\")\n",
        "print(f\"False Positives (Benign misclassified as malware): {fp}\")\n",
        "print(f\"False Negatives (Malware missed): {fn}\")\n",
        "print(f\"True Positives (Malware correctly identified): {tp}\")\n",
        "print(f\"Accuracy: {(tp + tn) / (tp + tn + fp + fn)}\")\n",
        "print(f\"Precision: {tp / (tp + fp)}\")\n",
        "print(f\"Recall: {tp / (tp + fn)}\")\n"
      ]
    }
  ],
  "metadata": {
    "colab": {
      "provenance": [],
      "mount_file_id": "190qhhJgMRgU6Z6n27a3aau_hFdlnU71y",
      "authorship_tag": "ABX9TyMBeu1SsvjTl4u++y/rKYMA",
      "include_colab_link": true
    },
    "kernelspec": {
      "display_name": "Python 3",
      "name": "python3"
    },
    "language_info": {
      "name": "python"
    }
  },
  "nbformat": 4,
  "nbformat_minor": 0
}