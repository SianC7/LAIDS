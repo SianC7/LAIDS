{
  "nbformat": 4,
  "nbformat_minor": 0,
  "metadata": {
    "colab": {
      "provenance": [],
      "mount_file_id": "190qhhJgMRgU6Z6n27a3aau_hFdlnU71y",
      "authorship_tag": "ABX9TyMwheWy0sLajW7aDL7K6qOq",
      "include_colab_link": true
    },
    "kernelspec": {
      "name": "python3",
      "display_name": "Python 3"
    },
    "language_info": {
      "name": "python"
    }
  },
  "cells": [
    {
      "cell_type": "markdown",
      "metadata": {
        "id": "view-in-github",
        "colab_type": "text"
      },
      "source": [
        "<a href=\"https://colab.research.google.com/github/SianC7/LAIDS/blob/main/Sian's_PCA_1DCNN_(Unsupervised_CNN).ipynb\" target=\"_parent\"><img src=\"https://colab.research.google.com/assets/colab-badge.svg\" alt=\"Open In Colab\"/></a>"
      ]
    },
    {
      "cell_type": "markdown",
      "source": [
        "#IoT-23 Data preprocessing\n",
        "- Collection\n",
        "- Cleaning\n",
        "- Encoding\n",
        "- Scaling\n",
        "- Normalisation"
      ],
      "metadata": {
        "id": "oOSaPtDFUdwR"
      }
    },
    {
      "cell_type": "code",
      "source": [
        "import pandas as pd\n",
        "import numpy as np\n",
        "from sklearn.preprocessing import LabelEncoder\n",
        "from sklearn.preprocessing import StandardScaler\n",
        "\n",
        "\n",
        "# Set pandas display options for wide output\n",
        "pd.set_option('display.max_columns', None)\n",
        "pd.set_option('display.width', None)\n",
        "pd.set_option('display.max_colwidth', None)\n",
        "\n",
        "# Data Collection\n",
        "data_file_path = '/content/drive/MyDrive/Colab Notebooks/Honours Project/Datasets/IoT-23 8GB Dataset/Malware-Project/BigDataset/IoTScenarios/CTU-IoT-Malware-Capture-1-1/bro/conn.log.labeled'\n",
        "#Read the file\n",
        "df = pd.read_csv(\n",
        "    data_file_path,\n",
        "    sep=\"\\t\",\n",
        "    comment=\"#\",\n",
        "    header=None,\n",
        "    names=[\n",
        "        \"ts\", \"uid\", \"id.orig_h\", \"id.orig_p\", \"id.resp_h\", \"id.resp_p\", \"proto\",\n",
        "        \"service\", \"duration\", \"orig_bytes\", \"resp_bytes\", \"conn_state\",\n",
        "        \"local_orig\", \"local_resp\", \"missed_bytes\", \"history\", \"orig_pkts\",\n",
        "        \"orig_ip_bytes\", \"resp_pkts\", \"resp_ip_bytes\", \"label\"\n",
        "    ]\n",
        ")\n",
        "\n",
        "# #TEST:\n",
        "# # List of file paths\n",
        "# data_file_paths = [\n",
        "#     '/content/drive/MyDrive/Colab Notebooks/Honours Project/Datasets/IoT-23 Preprocessed Dataset/Benign_Dataset13.csv',\n",
        "#     '/content/drive/MyDrive/Colab Notebooks/Honours Project/Datasets/IoT-23 Preprocessed Dataset/DoS_Dataset21.csv',\n",
        "#     '/content/drive/MyDrive/Colab Notebooks/Honours Project/Datasets/IoT-23 Preprocessed Dataset/GafgytBotnet_Dataset3.csv',\n",
        "#     '/content/drive/MyDrive/Colab Notebooks/Honours Project/Datasets/IoT-23 Preprocessed Dataset/MiraiBotnet_Dataset1.csv',\n",
        "#     '/content/drive/MyDrive/Colab Notebooks/Honours Project/Datasets/IoT-23 Preprocessed Dataset/MiraiVariant_Dataset5.csv',\n",
        "#     '/content/drive/MyDrive/Colab Notebooks/Honours Project/Datasets/IoT-23 Preprocessed Dataset/OkiruBotnet_Dataset17.csv',\n",
        "#     '/content/drive/MyDrive/Colab Notebooks/Honours Project/Datasets/IoT-23 Preprocessed Dataset/PartOfMioriBotnet_Dataset20.csv'\n",
        "\n",
        "# ]\n",
        "# dfs = []#set the df list var\n",
        "\n",
        "# for file_path in data_file_paths: # Loop through the file paths and add the data to a temp df var\n",
        "#   try:\n",
        "#       temp_df = pd.read_csv(\n",
        "#           file_path,\n",
        "#           sep=\",\",\n",
        "#           comment=\"#\",\n",
        "#           header=0,\n",
        "#           names=[\n",
        "#               \"ts\", \"uid\", \"id.orig_h\", \"id.orig_p\", \"id.resp_h\", \"id.resp_p\", \"proto\",\n",
        "#               \"service\", \"duration\", \"orig_bytes\", \"resp_bytes\", \"conn_state\",\n",
        "#               \"local_orig\", \"local_resp\", \"missed_bytes\", \"history\", \"orig_pkts\",\n",
        "#               \"orig_ip_bytes\", \"resp_pkts\", \"resp_ip_bytes\", \"label\"\n",
        "#           ]\n",
        "#       )\n",
        "#       dfs.append(temp_df) #add the info in the temp df to the dfs list\n",
        "#       print(f\"Loaded file: {file_path} with {len(temp_df)} rows\")\n",
        "#   except Exception as e:\n",
        "#       print(f\"Error reading file {file_path}: {e}\")\n",
        "\n",
        "# # Concatenate all dataframes into one\n",
        "# df = pd.concat(dfs, ignore_index=True) #make the list of dataframes into one big dataframe\n",
        "\n",
        "\n",
        "print(\"\\nInitial sample:\")\n",
        "print(df.head().to_string())\n",
        "\n",
        "# Step 2: Data Cleaning\n",
        "# Convert timestamp to datetime\n",
        "df[\"ts\"] = pd.to_datetime(df[\"ts\"], unit=\"s\", errors='coerce')\n",
        "\n",
        "# Drop non-informative or redundant columns\n",
        "df.drop(columns=['uid', 'id.orig_h', 'id.resp_h', 'local_orig', 'local_resp', 'history'], inplace=True)\n",
        "\n",
        "# Replace '-' with NaN for consistent handling\n",
        "df.replace('-', np.nan, inplace=True)\n",
        "\n",
        "# Drop rows where critical numeric fields are missing\n",
        "df.dropna(subset=[\n",
        "    'duration', 'orig_bytes', 'resp_bytes', 'id.orig_p', 'id.resp_p',\n",
        "    'orig_pkts', 'orig_ip_bytes', 'resp_pkts', 'resp_ip_bytes'\n",
        "], inplace=True)\n",
        "\n",
        "# Convert appropriate columns to numeric types\n",
        "numeric_columns = [\n",
        "    'duration', 'orig_bytes', 'resp_bytes', 'id.orig_p', 'id.resp_p',\n",
        "    'orig_pkts', 'orig_ip_bytes', 'resp_pkts', 'resp_ip_bytes', 'missed_bytes'\n",
        "]\n",
        "for col in numeric_columns:\n",
        "    df[col] = pd.to_numeric(df[col], errors='coerce').fillna(0)\n",
        "\n",
        "# Encode categorical columns\n",
        "categorical_columns = ['proto', 'conn_state', 'service']\n",
        "for col in categorical_columns:\n",
        "    df[col] = df[col].astype(str)  # Ensure strings\n",
        "    df[col] = LabelEncoder().fit_transform(df[col])\n",
        "\n",
        "# Convert label to binary (malicious=1, benign=0)\n",
        "df['label'] = df['label'].apply(lambda x: 1 if 'Malicious' in str(x) else 0)\n",
        "\n",
        "# Drop any rows still containing NaN\n",
        "df.dropna(inplace=True)\n",
        "\n",
        "print(\"\\nCleaned sample:\")\n",
        "print(df.head().to_string())\n",
        "print(\"\\nData types and nulls:\")\n",
        "print(df.info())\n",
        "# print(\"\\nStatistics:\")\n",
        "# print(df.describe().to_string())\n",
        "\n",
        "\n",
        "# --- Split features and labels ---\n",
        "X = df.drop(columns=['label', 'ts']).values  # Drop label and timestamp\n",
        "y = df['label'].values\n",
        "\n",
        "# --- Normalize ---\n",
        "scaler = StandardScaler()\n",
        "X_scaled = scaler.fit_transform(X)\n",
        "\n",
        "\n",
        "# --- Add counts of malware and benign logs ---\n",
        "total_logs = len(df)\n",
        "malware_logs = df['label'].sum()  # since malware=1\n",
        "benign_logs = total_logs - malware_logs\n",
        "\n",
        "print(f\"\\nTotal logs: {total_logs}\")\n",
        "print(f\"Malware logs: {malware_logs}\")\n",
        "print(f\"Benign (non-malicious) logs: {benign_logs}\")\n"
      ],
      "metadata": {
        "colab": {
          "base_uri": "https://localhost:8080/"
        },
        "id": "9S8k3TYGvIBW",
        "outputId": "9aefccd9-7011-49b2-ea60-edbc17e327e5"
      },
      "execution_count": 110,
      "outputs": [
        {
          "output_type": "stream",
          "name": "stdout",
          "text": [
            "\n",
            "Initial sample:\n",
            "             ts                 uid        id.orig_h  id.orig_p        id.resp_h  id.resp_p proto service  duration orig_bytes resp_bytes conn_state local_orig local_resp  missed_bytes history  orig_pkts  orig_ip_bytes  resp_pkts  resp_ip_bytes                                            label\n",
            "0  1.525880e+09  CUmrqr4svHuSXJy5z7  192.168.100.103      51524   65.127.233.163         23   tcp       -  2.999051          0          0         S0          -          -             0       S          3            180          0              0  (empty)   Malicious   PartOfAHorizontalPortScan\n",
            "1  1.525880e+09  CH98aB3s1kJeq6SFOc  192.168.100.103      56305    63.150.16.171         23   tcp       -         -          -          -         S0          -          -             0       S          1             60          0              0  (empty)   Malicious   PartOfAHorizontalPortScan\n",
            "2  1.525880e+09   C3GBTkINvXNjVGtN5  192.168.100.103      41101     111.40.23.49         23   tcp       -         -          -          -         S0          -          -             0       S          1             60          0              0  (empty)   Malicious   PartOfAHorizontalPortScan\n",
            "3  1.525880e+09   CDe43c1PtgynajGI6  192.168.100.103      60905  131.174.215.147         23   tcp       -  2.998796          0          0         S0          -          -             0       S          3            180          0              0  (empty)   Malicious   PartOfAHorizontalPortScan\n",
            "4  1.525880e+09  CJaDcG3MZzvf1YVYI4  192.168.100.103      44301      91.42.47.63         23   tcp       -         -          -          -         S0          -          -             0       S          1             60          0              0  (empty)   Malicious   PartOfAHorizontalPortScan\n",
            "\n",
            "Cleaned sample:\n",
            "                              ts  id.orig_p  id.resp_p  proto  service  duration  orig_bytes  resp_bytes  conn_state  missed_bytes  orig_pkts  orig_ip_bytes  resp_pkts  resp_ip_bytes  label\n",
            "0  2018-05-09 15:30:31.015810966      51524         23      1        3  2.999051           0           0           6             0          3            180          0              0      1\n",
            "3  2018-05-09 15:30:32.016239882      60905         23      1        3  2.998796           0           0           6             0          3            180          0              0      1\n",
            "6  2018-05-09 15:30:33.016170978      34243      49560      1        3  2.998804           0           0           6             0          3            180          0              0      0\n",
            "11 2018-05-09 15:30:37.005651951      52259         23      1        3  2.999300           0           0           6             0          3            180          0              0      1\n",
            "12 2018-05-09 15:30:38.006081104      42207       8080      1        3  2.993548           0           0           6             0          3            180          0              0      1\n",
            "\n",
            "Data types and nulls:\n",
            "<class 'pandas.core.frame.DataFrame'>\n",
            "Index: 212448 entries, 0 to 1008685\n",
            "Data columns (total 15 columns):\n",
            " #   Column         Non-Null Count   Dtype         \n",
            "---  ------         --------------   -----         \n",
            " 0   ts             212448 non-null  datetime64[ns]\n",
            " 1   id.orig_p      212448 non-null  int64         \n",
            " 2   id.resp_p      212448 non-null  int64         \n",
            " 3   proto          212448 non-null  int64         \n",
            " 4   service        212448 non-null  int64         \n",
            " 5   duration       212448 non-null  float64       \n",
            " 6   orig_bytes     212448 non-null  int64         \n",
            " 7   resp_bytes     212448 non-null  int64         \n",
            " 8   conn_state     212448 non-null  int64         \n",
            " 9   missed_bytes   212448 non-null  int64         \n",
            " 10  orig_pkts      212448 non-null  int64         \n",
            " 11  orig_ip_bytes  212448 non-null  int64         \n",
            " 12  resp_pkts      212448 non-null  int64         \n",
            " 13  resp_ip_bytes  212448 non-null  int64         \n",
            " 14  label          212448 non-null  int64         \n",
            "dtypes: datetime64[ns](1), float64(1), int64(13)\n",
            "memory usage: 25.9 MB\n",
            "None\n",
            "\n",
            "Total logs: 212448\n",
            "Malware logs: 189291\n",
            "Benign (non-malicious) logs: 23157\n"
          ]
        }
      ]
    },
    {
      "cell_type": "markdown",
      "source": [
        "#Apply PCA"
      ],
      "metadata": {
        "id": "p27J58TaT8nc"
      }
    },
    {
      "cell_type": "code",
      "source": [
        "# Apply PCA\n",
        "from sklearn.decomposition import PCA\n",
        "pca = PCA(n_components=10) #PCA will reduce the dimensionality of the data to exactly 10 features\n",
        "X_pca = pca.fit_transform(X_scaled)\n",
        "print(f\"Reduced {X_scaled.shape[1]} to {X_pca.shape[1]} components\")\n",
        "print(\"\\nData types and shape:\")\n",
        "print(type(X_pca))\n",
        "print(X_pca.shape)"
      ],
      "metadata": {
        "colab": {
          "base_uri": "https://localhost:8080/"
        },
        "id": "jBS-NuKeT-hu",
        "outputId": "ae5adf6e-2ce4-48d6-e566-73b337294379"
      },
      "execution_count": 111,
      "outputs": [
        {
          "output_type": "stream",
          "name": "stdout",
          "text": [
            "Reduced 13 to 10 components\n",
            "\n",
            "Data types and shape:\n",
            "<class 'numpy.ndarray'>\n",
            "(212448, 10)\n"
          ]
        }
      ]
    },
    {
      "cell_type": "markdown",
      "source": [
        "# Data reshaping for 1D CNN input\n",
        "creating x_training data that is only benign and x_test that is both malicious and benign"
      ],
      "metadata": {
        "id": "WBxWX3MftapB"
      }
    },
    {
      "cell_type": "code",
      "source": [
        "from sklearn.model_selection import train_test_split\n",
        "from sklearn.utils import shuffle\n",
        "import numpy as np\n",
        "\n",
        "# Step 1: Reshape the data for 1D CNN input\n",
        "# --- 1D CNN expects input shape: (samples, timesteps, features) ---\n",
        "# Here: timesteps = number of features, features = 1 (per timestep)\n",
        "X_1dcnn = X_pca.reshape((X_pca.shape[0], X_pca.shape[1], 1))\n",
        "\n",
        "#Step 2: Train/Validation/Test Split\n",
        "# Separate benign and malicious\n",
        "X_benign = X_1dcnn[y == 0]\n",
        "y_benign = y[y == 0]\n",
        "\n",
        "X_malicious = X_1dcnn[y == 1]\n",
        "y_malicious = y[y == 1]\n",
        "\n",
        "# --- Split into Train/Val/Test ---\n",
        "# Split benign into 80% train and valadation and 20% test\n",
        "X_temp, X_test, y_temp, y_test = train_test_split(X_benign, y_benign, test_size=0.2, random_state=42, stratify=y_benign)\n",
        "\n",
        "# Now split train_val further into train and val (e.g., 85% train, 15% val of the 80%)\n",
        "X_train, X_val, y_train, y_val = train_test_split(X_temp, y_temp, test_size=0.15, random_state=42, stratify=y_temp)\n",
        "\n",
        "# Prepare test set: combine 20% benign test + all the malicious data sample\n",
        "# Convert to lists first\n",
        "X_test_list = X_test.tolist()\n",
        "X_malicious_list = X_malicious.tolist()\n",
        "\n",
        "y_test_list = y_test.tolist()\n",
        "y_malicious_list = y_malicious.tolist()\n",
        "\n",
        "# Combine using list addition\n",
        "X_test_list = X_test_list + X_malicious_list\n",
        "y_test_list = y_test_list + y_malicious_list\n",
        "\n",
        "# Convert back to float32 NumPy arrays\n",
        "X_test = np.array(X_test_list, dtype=np.float32)\n",
        "y_test = np.array(y_test_list, dtype=np.float32)\n",
        "\n",
        "\n",
        "# Shuffle data:\n",
        "X_train, y_train = shuffle(X_train, y_train, random_state=42)\n",
        "X_val, y_val = shuffle(X_val, y_val, random_state=42)\n",
        "X_test, y_test = shuffle(X_test, y_test, random_state=42)\n",
        "\n",
        "# --- Final Shape Confirmation ---\n",
        "print(\"1D CNN input shape:\", X_1dcnn.shape)\n",
        "print(f\"Train: {X_train.shape}, Val: {X_val.shape}, Test: {X_test.shape}\")\n",
        "#print(f\"Labels - Train: {np.bincount(y_train)}, Val: {np.bincount(y_val)}, Test: {np.bincount(y_test)}\")"
      ],
      "metadata": {
        "colab": {
          "base_uri": "https://localhost:8080/"
        },
        "id": "V0JKdNVLteDk",
        "outputId": "1ac91eaa-bea7-4bab-8575-6e175a0467e3"
      },
      "execution_count": 112,
      "outputs": [
        {
          "output_type": "stream",
          "name": "stdout",
          "text": [
            "1D CNN input shape: (212448, 10, 1)\n",
            "Train: (15746, 10, 1), Val: (2779, 10, 1), Test: (193923, 10, 1)\n"
          ]
        }
      ]
    },
    {
      "cell_type": "markdown",
      "source": [
        "#1D CNN model\n",
        "Since there's no ground truth, the CNN won't learn to map inputs to labels. Instead, a proxy objective must be designed. This proxy objective will be measuring how far features are from a \"normal\" center (e.g., Deep SVDD).\n",
        "\n",
        "To convert the supervised CNN pipeline into an unsupervised CNN for anomaly detection, dependency on labels during training need to be removed.\n",
        "\n",
        "Deep SVDD-style unsupervised CNN:\n",
        "*   The CNN learns to map all “normal” data (benign traffic) to a compact region in feature space.\n",
        "*   Anomalies (malicious traffic) are later detected based on distance from the learned center."
      ],
      "metadata": {
        "id": "AaK_AOGeuPxj"
      }
    },
    {
      "cell_type": "code",
      "source": [
        "import tensorflow as tf\n",
        "from tensorflow.keras.models import Sequential\n",
        "from tensorflow.keras.layers import Conv1D, MaxPooling1D, Flatten, Dense, Dropout, BatchNormalization\n",
        "\n",
        "#Step 3: Define the 1D CNN Model\n",
        "\n",
        "# Define input shape\n",
        "input_shape = (X_train.shape[1], 1)  # (timesteps, features)\n",
        "\n",
        "# Build CNN feature extractor model\n",
        "cnn_feature_extractor_model = Sequential([\n",
        "    Conv1D(filters=32, kernel_size=3, activation='relu', input_shape=input_shape),\n",
        "    BatchNormalization(),\n",
        "    MaxPooling1D(pool_size=2),\n",
        "    Dropout(0.25),\n",
        "\n",
        "    Conv1D(filters=64, kernel_size=3, activation='relu'),\n",
        "    BatchNormalization(),\n",
        "    MaxPooling1D(pool_size=2),\n",
        "\n",
        "    Flatten(),\n",
        "    Dense(64, activation='relu'),\n",
        "    Dropout(0.5),\n",
        "\n",
        "    Dense(32, activation='linear')  # Feature vector output (not classification)\n",
        "])\n",
        "\n"
      ],
      "metadata": {
        "colab": {
          "base_uri": "https://localhost:8080/"
        },
        "id": "5z09AdYcuSTj",
        "outputId": "1ddac5ca-a3bf-4367-e496-148ff9ac1e3f"
      },
      "execution_count": 113,
      "outputs": [
        {
          "output_type": "stream",
          "name": "stderr",
          "text": [
            "/usr/local/lib/python3.11/dist-packages/keras/src/layers/convolutional/base_conv.py:107: UserWarning: Do not pass an `input_shape`/`input_dim` argument to a layer. When using Sequential models, prefer using an `Input(shape)` object as the first layer in the model instead.\n",
            "  super().__init__(activity_regularizer=activity_regularizer, **kwargs)\n"
          ]
        }
      ]
    },
    {
      "cell_type": "markdown",
      "source": [
        "#Create the Custom SVDD-style Loss\n",
        "Compute the distance of output features from a learned center in the feature space. Flagging anomalies as samples with high feature-space distance from center."
      ],
      "metadata": {
        "id": "h8EGUQQPLs-y"
      }
    },
    {
      "cell_type": "code",
      "source": [
        "import tensorflow.keras.backend as K\n",
        "#Step 4: Create Custom SVDD-style Loss\n",
        "\n",
        "# Define a center vector (initialized randomly or as mean of features after pretraining)\n",
        "center = K.variable(np.zeros((32,), dtype=np.float32), name='center')\n",
        "\n",
        "# Custom SVDD loss\n",
        "def svdd_loss(y_true, y_pred):\n",
        "    return K.mean(K.sum(K.square(y_pred - center), axis=1))"
      ],
      "metadata": {
        "id": "WYfG0yqNLvoB"
      },
      "execution_count": 114,
      "outputs": []
    },
    {
      "cell_type": "markdown",
      "source": [
        "#Compile model"
      ],
      "metadata": {
        "id": "5sQhNq_TNrI4"
      }
    },
    {
      "cell_type": "code",
      "source": [
        "# Step 5: Compile the Model\n",
        "cnn_feature_extractor_model.compile(optimizer='adam', loss=svdd_loss)\n",
        "cnn_feature_extractor_model.summary()"
      ],
      "metadata": {
        "colab": {
          "base_uri": "https://localhost:8080/",
          "height": 513
        },
        "id": "fiuXaSDVNudk",
        "outputId": "0e8b476b-c111-4548-a819-3d9151852bf4"
      },
      "execution_count": 115,
      "outputs": [
        {
          "output_type": "display_data",
          "data": {
            "text/plain": [
              "\u001b[1mModel: \"sequential_12\"\u001b[0m\n"
            ],
            "text/html": [
              "<pre style=\"white-space:pre;overflow-x:auto;line-height:normal;font-family:Menlo,'DejaVu Sans Mono',consolas,'Courier New',monospace\"><span style=\"font-weight: bold\">Model: \"sequential_12\"</span>\n",
              "</pre>\n"
            ]
          },
          "metadata": {}
        },
        {
          "output_type": "display_data",
          "data": {
            "text/plain": [
              "┏━━━━━━━━━━━━━━━━━━━━━━━━━━━━━━━━━┳━━━━━━━━━━━━━━━━━━━━━━━━┳━━━━━━━━━━━━━━━┓\n",
              "┃\u001b[1m \u001b[0m\u001b[1mLayer (type)                   \u001b[0m\u001b[1m \u001b[0m┃\u001b[1m \u001b[0m\u001b[1mOutput Shape          \u001b[0m\u001b[1m \u001b[0m┃\u001b[1m \u001b[0m\u001b[1m      Param #\u001b[0m\u001b[1m \u001b[0m┃\n",
              "┡━━━━━━━━━━━━━━━━━━━━━━━━━━━━━━━━━╇━━━━━━━━━━━━━━━━━━━━━━━━╇━━━━━━━━━━━━━━━┩\n",
              "│ conv1d_24 (\u001b[38;5;33mConv1D\u001b[0m)              │ (\u001b[38;5;45mNone\u001b[0m, \u001b[38;5;34m8\u001b[0m, \u001b[38;5;34m32\u001b[0m)          │           \u001b[38;5;34m128\u001b[0m │\n",
              "├─────────────────────────────────┼────────────────────────┼───────────────┤\n",
              "│ batch_normalization_24          │ (\u001b[38;5;45mNone\u001b[0m, \u001b[38;5;34m8\u001b[0m, \u001b[38;5;34m32\u001b[0m)          │           \u001b[38;5;34m128\u001b[0m │\n",
              "│ (\u001b[38;5;33mBatchNormalization\u001b[0m)            │                        │               │\n",
              "├─────────────────────────────────┼────────────────────────┼───────────────┤\n",
              "│ max_pooling1d_24 (\u001b[38;5;33mMaxPooling1D\u001b[0m) │ (\u001b[38;5;45mNone\u001b[0m, \u001b[38;5;34m4\u001b[0m, \u001b[38;5;34m32\u001b[0m)          │             \u001b[38;5;34m0\u001b[0m │\n",
              "├─────────────────────────────────┼────────────────────────┼───────────────┤\n",
              "│ dropout_24 (\u001b[38;5;33mDropout\u001b[0m)            │ (\u001b[38;5;45mNone\u001b[0m, \u001b[38;5;34m4\u001b[0m, \u001b[38;5;34m32\u001b[0m)          │             \u001b[38;5;34m0\u001b[0m │\n",
              "├─────────────────────────────────┼────────────────────────┼───────────────┤\n",
              "│ conv1d_25 (\u001b[38;5;33mConv1D\u001b[0m)              │ (\u001b[38;5;45mNone\u001b[0m, \u001b[38;5;34m2\u001b[0m, \u001b[38;5;34m64\u001b[0m)          │         \u001b[38;5;34m6,208\u001b[0m │\n",
              "├─────────────────────────────────┼────────────────────────┼───────────────┤\n",
              "│ batch_normalization_25          │ (\u001b[38;5;45mNone\u001b[0m, \u001b[38;5;34m2\u001b[0m, \u001b[38;5;34m64\u001b[0m)          │           \u001b[38;5;34m256\u001b[0m │\n",
              "│ (\u001b[38;5;33mBatchNormalization\u001b[0m)            │                        │               │\n",
              "├─────────────────────────────────┼────────────────────────┼───────────────┤\n",
              "│ max_pooling1d_25 (\u001b[38;5;33mMaxPooling1D\u001b[0m) │ (\u001b[38;5;45mNone\u001b[0m, \u001b[38;5;34m1\u001b[0m, \u001b[38;5;34m64\u001b[0m)          │             \u001b[38;5;34m0\u001b[0m │\n",
              "├─────────────────────────────────┼────────────────────────┼───────────────┤\n",
              "│ flatten_12 (\u001b[38;5;33mFlatten\u001b[0m)            │ (\u001b[38;5;45mNone\u001b[0m, \u001b[38;5;34m64\u001b[0m)             │             \u001b[38;5;34m0\u001b[0m │\n",
              "├─────────────────────────────────┼────────────────────────┼───────────────┤\n",
              "│ dense_24 (\u001b[38;5;33mDense\u001b[0m)                │ (\u001b[38;5;45mNone\u001b[0m, \u001b[38;5;34m64\u001b[0m)             │         \u001b[38;5;34m4,160\u001b[0m │\n",
              "├─────────────────────────────────┼────────────────────────┼───────────────┤\n",
              "│ dropout_25 (\u001b[38;5;33mDropout\u001b[0m)            │ (\u001b[38;5;45mNone\u001b[0m, \u001b[38;5;34m64\u001b[0m)             │             \u001b[38;5;34m0\u001b[0m │\n",
              "├─────────────────────────────────┼────────────────────────┼───────────────┤\n",
              "│ dense_25 (\u001b[38;5;33mDense\u001b[0m)                │ (\u001b[38;5;45mNone\u001b[0m, \u001b[38;5;34m32\u001b[0m)             │         \u001b[38;5;34m2,080\u001b[0m │\n",
              "└─────────────────────────────────┴────────────────────────┴───────────────┘\n"
            ],
            "text/html": [
              "<pre style=\"white-space:pre;overflow-x:auto;line-height:normal;font-family:Menlo,'DejaVu Sans Mono',consolas,'Courier New',monospace\">┏━━━━━━━━━━━━━━━━━━━━━━━━━━━━━━━━━┳━━━━━━━━━━━━━━━━━━━━━━━━┳━━━━━━━━━━━━━━━┓\n",
              "┃<span style=\"font-weight: bold\"> Layer (type)                    </span>┃<span style=\"font-weight: bold\"> Output Shape           </span>┃<span style=\"font-weight: bold\">       Param # </span>┃\n",
              "┡━━━━━━━━━━━━━━━━━━━━━━━━━━━━━━━━━╇━━━━━━━━━━━━━━━━━━━━━━━━╇━━━━━━━━━━━━━━━┩\n",
              "│ conv1d_24 (<span style=\"color: #0087ff; text-decoration-color: #0087ff\">Conv1D</span>)              │ (<span style=\"color: #00d7ff; text-decoration-color: #00d7ff\">None</span>, <span style=\"color: #00af00; text-decoration-color: #00af00\">8</span>, <span style=\"color: #00af00; text-decoration-color: #00af00\">32</span>)          │           <span style=\"color: #00af00; text-decoration-color: #00af00\">128</span> │\n",
              "├─────────────────────────────────┼────────────────────────┼───────────────┤\n",
              "│ batch_normalization_24          │ (<span style=\"color: #00d7ff; text-decoration-color: #00d7ff\">None</span>, <span style=\"color: #00af00; text-decoration-color: #00af00\">8</span>, <span style=\"color: #00af00; text-decoration-color: #00af00\">32</span>)          │           <span style=\"color: #00af00; text-decoration-color: #00af00\">128</span> │\n",
              "│ (<span style=\"color: #0087ff; text-decoration-color: #0087ff\">BatchNormalization</span>)            │                        │               │\n",
              "├─────────────────────────────────┼────────────────────────┼───────────────┤\n",
              "│ max_pooling1d_24 (<span style=\"color: #0087ff; text-decoration-color: #0087ff\">MaxPooling1D</span>) │ (<span style=\"color: #00d7ff; text-decoration-color: #00d7ff\">None</span>, <span style=\"color: #00af00; text-decoration-color: #00af00\">4</span>, <span style=\"color: #00af00; text-decoration-color: #00af00\">32</span>)          │             <span style=\"color: #00af00; text-decoration-color: #00af00\">0</span> │\n",
              "├─────────────────────────────────┼────────────────────────┼───────────────┤\n",
              "│ dropout_24 (<span style=\"color: #0087ff; text-decoration-color: #0087ff\">Dropout</span>)            │ (<span style=\"color: #00d7ff; text-decoration-color: #00d7ff\">None</span>, <span style=\"color: #00af00; text-decoration-color: #00af00\">4</span>, <span style=\"color: #00af00; text-decoration-color: #00af00\">32</span>)          │             <span style=\"color: #00af00; text-decoration-color: #00af00\">0</span> │\n",
              "├─────────────────────────────────┼────────────────────────┼───────────────┤\n",
              "│ conv1d_25 (<span style=\"color: #0087ff; text-decoration-color: #0087ff\">Conv1D</span>)              │ (<span style=\"color: #00d7ff; text-decoration-color: #00d7ff\">None</span>, <span style=\"color: #00af00; text-decoration-color: #00af00\">2</span>, <span style=\"color: #00af00; text-decoration-color: #00af00\">64</span>)          │         <span style=\"color: #00af00; text-decoration-color: #00af00\">6,208</span> │\n",
              "├─────────────────────────────────┼────────────────────────┼───────────────┤\n",
              "│ batch_normalization_25          │ (<span style=\"color: #00d7ff; text-decoration-color: #00d7ff\">None</span>, <span style=\"color: #00af00; text-decoration-color: #00af00\">2</span>, <span style=\"color: #00af00; text-decoration-color: #00af00\">64</span>)          │           <span style=\"color: #00af00; text-decoration-color: #00af00\">256</span> │\n",
              "│ (<span style=\"color: #0087ff; text-decoration-color: #0087ff\">BatchNormalization</span>)            │                        │               │\n",
              "├─────────────────────────────────┼────────────────────────┼───────────────┤\n",
              "│ max_pooling1d_25 (<span style=\"color: #0087ff; text-decoration-color: #0087ff\">MaxPooling1D</span>) │ (<span style=\"color: #00d7ff; text-decoration-color: #00d7ff\">None</span>, <span style=\"color: #00af00; text-decoration-color: #00af00\">1</span>, <span style=\"color: #00af00; text-decoration-color: #00af00\">64</span>)          │             <span style=\"color: #00af00; text-decoration-color: #00af00\">0</span> │\n",
              "├─────────────────────────────────┼────────────────────────┼───────────────┤\n",
              "│ flatten_12 (<span style=\"color: #0087ff; text-decoration-color: #0087ff\">Flatten</span>)            │ (<span style=\"color: #00d7ff; text-decoration-color: #00d7ff\">None</span>, <span style=\"color: #00af00; text-decoration-color: #00af00\">64</span>)             │             <span style=\"color: #00af00; text-decoration-color: #00af00\">0</span> │\n",
              "├─────────────────────────────────┼────────────────────────┼───────────────┤\n",
              "│ dense_24 (<span style=\"color: #0087ff; text-decoration-color: #0087ff\">Dense</span>)                │ (<span style=\"color: #00d7ff; text-decoration-color: #00d7ff\">None</span>, <span style=\"color: #00af00; text-decoration-color: #00af00\">64</span>)             │         <span style=\"color: #00af00; text-decoration-color: #00af00\">4,160</span> │\n",
              "├─────────────────────────────────┼────────────────────────┼───────────────┤\n",
              "│ dropout_25 (<span style=\"color: #0087ff; text-decoration-color: #0087ff\">Dropout</span>)            │ (<span style=\"color: #00d7ff; text-decoration-color: #00d7ff\">None</span>, <span style=\"color: #00af00; text-decoration-color: #00af00\">64</span>)             │             <span style=\"color: #00af00; text-decoration-color: #00af00\">0</span> │\n",
              "├─────────────────────────────────┼────────────────────────┼───────────────┤\n",
              "│ dense_25 (<span style=\"color: #0087ff; text-decoration-color: #0087ff\">Dense</span>)                │ (<span style=\"color: #00d7ff; text-decoration-color: #00d7ff\">None</span>, <span style=\"color: #00af00; text-decoration-color: #00af00\">32</span>)             │         <span style=\"color: #00af00; text-decoration-color: #00af00\">2,080</span> │\n",
              "└─────────────────────────────────┴────────────────────────┴───────────────┘\n",
              "</pre>\n"
            ]
          },
          "metadata": {}
        },
        {
          "output_type": "display_data",
          "data": {
            "text/plain": [
              "\u001b[1m Total params: \u001b[0m\u001b[38;5;34m12,960\u001b[0m (50.62 KB)\n"
            ],
            "text/html": [
              "<pre style=\"white-space:pre;overflow-x:auto;line-height:normal;font-family:Menlo,'DejaVu Sans Mono',consolas,'Courier New',monospace\"><span style=\"font-weight: bold\"> Total params: </span><span style=\"color: #00af00; text-decoration-color: #00af00\">12,960</span> (50.62 KB)\n",
              "</pre>\n"
            ]
          },
          "metadata": {}
        },
        {
          "output_type": "display_data",
          "data": {
            "text/plain": [
              "\u001b[1m Trainable params: \u001b[0m\u001b[38;5;34m12,768\u001b[0m (49.88 KB)\n"
            ],
            "text/html": [
              "<pre style=\"white-space:pre;overflow-x:auto;line-height:normal;font-family:Menlo,'DejaVu Sans Mono',consolas,'Courier New',monospace\"><span style=\"font-weight: bold\"> Trainable params: </span><span style=\"color: #00af00; text-decoration-color: #00af00\">12,768</span> (49.88 KB)\n",
              "</pre>\n"
            ]
          },
          "metadata": {}
        },
        {
          "output_type": "display_data",
          "data": {
            "text/plain": [
              "\u001b[1m Non-trainable params: \u001b[0m\u001b[38;5;34m192\u001b[0m (768.00 B)\n"
            ],
            "text/html": [
              "<pre style=\"white-space:pre;overflow-x:auto;line-height:normal;font-family:Menlo,'DejaVu Sans Mono',consolas,'Courier New',monospace\"><span style=\"font-weight: bold\"> Non-trainable params: </span><span style=\"color: #00af00; text-decoration-color: #00af00\">192</span> (768.00 B)\n",
              "</pre>\n"
            ]
          },
          "metadata": {}
        }
      ]
    },
    {
      "cell_type": "markdown",
      "source": [
        "#Train Model"
      ],
      "metadata": {
        "id": "KALn95TQubsB"
      }
    },
    {
      "cell_type": "code",
      "source": [
        "#Step 6: Train the Model\n",
        "# Generate dummy labels (all zeros), same length as the input and float32 data type\n",
        "dummy_y_train = np.zeros((X_train.shape[0],), dtype=np.float32)\n",
        "dummy_y_val = np.zeros((X_val.shape[0],), dtype=np.float32)\n",
        "\n",
        "print(\"X_train dtype:\", X_train.dtype)\n",
        "print(\"dummy_y_train dtype:\", dummy_y_train.dtype)\n",
        "\n",
        "# Train the model using dummy labels\n",
        "history = cnn_feature_extractor_model.fit(\n",
        "    X_train, dummy_y_train,\n",
        "    epochs=10,\n",
        "    batch_size=64,\n",
        "    validation_data=(X_val, dummy_y_val),\n",
        "    verbose=1\n",
        ")"
      ],
      "metadata": {
        "colab": {
          "base_uri": "https://localhost:8080/"
        },
        "id": "mZ9J11GTudtL",
        "outputId": "aad8a824-f49d-4ff5-ef96-1347312f4720"
      },
      "execution_count": 116,
      "outputs": [
        {
          "output_type": "stream",
          "name": "stdout",
          "text": [
            "X_train dtype: float64\n",
            "dummy_y_train dtype: float32\n",
            "Epoch 1/10\n",
            "\u001b[1m247/247\u001b[0m \u001b[32m━━━━━━━━━━━━━━━━━━━━\u001b[0m\u001b[37m\u001b[0m \u001b[1m4s\u001b[0m 8ms/step - loss: 15.2593 - val_loss: 0.0350\n",
            "Epoch 2/10\n",
            "\u001b[1m247/247\u001b[0m \u001b[32m━━━━━━━━━━━━━━━━━━━━\u001b[0m\u001b[37m\u001b[0m \u001b[1m3s\u001b[0m 8ms/step - loss: 0.1180 - val_loss: 9.8690e-04\n",
            "Epoch 3/10\n",
            "\u001b[1m247/247\u001b[0m \u001b[32m━━━━━━━━━━━━━━━━━━━━\u001b[0m\u001b[37m\u001b[0m \u001b[1m2s\u001b[0m 5ms/step - loss: 0.0293 - val_loss: 6.7002e-05\n",
            "Epoch 4/10\n",
            "\u001b[1m247/247\u001b[0m \u001b[32m━━━━━━━━━━━━━━━━━━━━\u001b[0m\u001b[37m\u001b[0m \u001b[1m3s\u001b[0m 5ms/step - loss: 0.0159 - val_loss: 1.5604e-05\n",
            "Epoch 5/10\n",
            "\u001b[1m247/247\u001b[0m \u001b[32m━━━━━━━━━━━━━━━━━━━━\u001b[0m\u001b[37m\u001b[0m \u001b[1m1s\u001b[0m 5ms/step - loss: 0.0085 - val_loss: 5.1973e-06\n",
            "Epoch 6/10\n",
            "\u001b[1m247/247\u001b[0m \u001b[32m━━━━━━━━━━━━━━━━━━━━\u001b[0m\u001b[37m\u001b[0m \u001b[1m3s\u001b[0m 5ms/step - loss: 0.0047 - val_loss: 4.6569e-06\n",
            "Epoch 7/10\n",
            "\u001b[1m247/247\u001b[0m \u001b[32m━━━━━━━━━━━━━━━━━━━━\u001b[0m\u001b[37m\u001b[0m \u001b[1m1s\u001b[0m 5ms/step - loss: 0.0039 - val_loss: 1.6156e-06\n",
            "Epoch 8/10\n",
            "\u001b[1m247/247\u001b[0m \u001b[32m━━━━━━━━━━━━━━━━━━━━\u001b[0m\u001b[37m\u001b[0m \u001b[1m2s\u001b[0m 7ms/step - loss: 0.0023 - val_loss: 4.2042e-06\n",
            "Epoch 9/10\n",
            "\u001b[1m247/247\u001b[0m \u001b[32m━━━━━━━━━━━━━━━━━━━━\u001b[0m\u001b[37m\u001b[0m \u001b[1m2s\u001b[0m 8ms/step - loss: 0.0018 - val_loss: 1.1663e-06\n",
            "Epoch 10/10\n",
            "\u001b[1m247/247\u001b[0m \u001b[32m━━━━━━━━━━━━━━━━━━━━\u001b[0m\u001b[37m\u001b[0m \u001b[1m2s\u001b[0m 7ms/step - loss: 0.0014 - val_loss: 5.4362e-07\n"
          ]
        }
      ]
    },
    {
      "cell_type": "markdown",
      "source": [
        "#Anomaly Detection Phase\n",
        "Get feature vectors from the trained model and compute distance to center where large distances indicates anomalies."
      ],
      "metadata": {
        "id": "AQpa-lMlnWif"
      }
    },
    {
      "cell_type": "code",
      "source": [
        "# Predict features for X_test\n",
        "X_test_features = cnn_feature_extractor_model.predict(X_test) # Trained CNN model without the final classification layer; Shape of X_test_features: (num_samples, feature_dim)\n",
        "\n",
        "# Calcualte the Euclidean distance from center\n",
        "distances = np.linalg.norm(X_test_features - K.eval(center), axis=1) # Center is the mean vector of all benign embeddings from the training set\n",
        "\n",
        "threshold = np.percentile(distances[y_test == 0], 50)# Threshold is the 95th percentile of distances from benign (label = 0) samples.\n",
        "\n",
        "malicious_predictions = (distances > threshold).astype(int) #Samples with distances greater than the threshold are labeled 1 (malicious) and others are labeled 0 (normal/benign).\n",
        "\n"
      ],
      "metadata": {
        "colab": {
          "base_uri": "https://localhost:8080/"
        },
        "id": "ekJWs6genXC9",
        "outputId": "1058b431-6487-4b02-e971-d19f06c55078"
      },
      "execution_count": 117,
      "outputs": [
        {
          "output_type": "stream",
          "name": "stdout",
          "text": [
            "\u001b[1m6061/6061\u001b[0m \u001b[32m━━━━━━━━━━━━━━━━━━━━\u001b[0m\u001b[37m\u001b[0m \u001b[1m9s\u001b[0m 1ms/step\n"
          ]
        }
      ]
    },
    {
      "cell_type": "markdown",
      "source": [
        "#Evaluate Detection Results"
      ],
      "metadata": {
        "id": "h5WWCRHmusAX"
      }
    },
    {
      "cell_type": "code",
      "source": [
        "import matplotlib.pyplot as plt\n",
        "from sklearn.metrics import classification_report, confusion_matrix\n",
        "\n",
        "# Evaluate predictions against ground truth\n",
        "print(\"\\nClassification Report on Test Set:\")\n",
        "print(classification_report(y_test, malicious_predictions))\n",
        "\n",
        "\n",
        "# Plot Training Loss (no accuracy in unsupervised setting)\n",
        "plt.figure(figsize=(10, 4))\n",
        "\n",
        "# Plot Loss\n",
        "plt.plot(history.history['loss'], label='Train Loss')\n",
        "plt.plot(history.history.get('val_loss', []), label='Val Loss')  # Safe in case val_loss wasn't tracked\n",
        "plt.title('Training and Validation Loss')\n",
        "plt.xlabel('Epoch')\n",
        "plt.ylabel('Loss')\n",
        "plt.legend()\n",
        "plt.tight_layout()\n",
        "plt.show()\n",
        "\n",
        "# Confusion matrix\n",
        "cm = confusion_matrix(y_test, malicious_predictions)\n",
        "\n",
        "# Optional: print as table\n",
        "print(\"Confusion Matrix:\")\n",
        "print(cm)\n",
        "\n",
        "# Detailed breakdown\n",
        "tn, fp, fn, tp = cm.ravel()\n",
        "print(f\"\\nTrue Negatives (Benign correctly classified): {tn}\")\n",
        "print(f\"False Positives (Benign misclassified as malware): {fp}\")\n",
        "print(f\"False Negatives (Malware missed): {fn}\")\n",
        "print(f\"True Positives (Malware correctly identified): {tp}\")\n",
        "\n"
      ],
      "metadata": {
        "colab": {
          "base_uri": "https://localhost:8080/",
          "height": 730
        },
        "id": "yGslPs6rurxy",
        "outputId": "58aefdc0-c8fd-4a51-b792-46f45fba1cc6"
      },
      "execution_count": 118,
      "outputs": [
        {
          "output_type": "stream",
          "name": "stdout",
          "text": [
            "\n",
            "Classification Report on Test Set:\n",
            "              precision    recall  f1-score   support\n",
            "\n",
            "         0.0       0.02      1.00      0.05      4632\n",
            "         1.0       1.00      0.03      0.06    189291\n",
            "\n",
            "    accuracy                           0.06    193923\n",
            "   macro avg       0.51      0.52      0.05    193923\n",
            "weighted avg       0.98      0.06      0.06    193923\n",
            "\n"
          ]
        },
        {
          "output_type": "display_data",
          "data": {
            "text/plain": [
              "<Figure size 1000x400 with 1 Axes>"
            ],
            "image/png": "[encoded data removed]"
          },
          "metadata": {}
        },
        {
          "output_type": "stream",
          "name": "stdout",
          "text": [
            "Confusion Matrix:\n",
            "[[  4632      0]\n",
            " [183256   6035]]\n",
            "\n",
            "True Negatives (Benign correctly classified): 4632\n",
            "False Positives (Benign misclassified as malware): 0\n",
            "False Negatives (Malware missed): 183256\n",
            "True Positives (Malware correctly identified): 6035\n"
          ]
        }
      ]
    }
  ]
}