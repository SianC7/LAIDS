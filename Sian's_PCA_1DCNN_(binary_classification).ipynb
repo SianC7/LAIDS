{
  "nbformat": 4,
  "nbformat_minor": 0,
  "metadata": {
    "colab": {
      "provenance": [],
      "mount_file_id": "1Q5tvrHcbYw08rfFsT176D5S8tvKKnNbc",
      "authorship_tag": "ABX9TyPOik+wwH/TrOpVWi1rM01L",
      "include_colab_link": true
    },
    "kernelspec": {
      "name": "python3",
      "display_name": "Python 3"
    },
    "language_info": {
      "name": "python"
    }
  },
  "cells": [
    {
      "cell_type": "markdown",
      "metadata": {
        "id": "view-in-github",
        "colab_type": "text"
      },
      "source": [
        "<a href=\"https://colab.research.google.com/github/SianC7/LAIDS/blob/main/Sian's_PCA_1DCNN_(binary_classification).ipynb\" target=\"_parent\"><img src=\"https://colab.research.google.com/assets/colab-badge.svg\" alt=\"Open In Colab\"/></a>"
      ]
    },
    {
      "cell_type": "markdown",
      "source": [
        "#Extract features from pcap files"
      ],
      "metadata": {
        "id": "c1hL6nmN67V1"
      }
    },
    {
      "cell_type": "code",
      "source": [],
      "metadata": {
        "id": "oXAAO45a6_QV"
      },
      "execution_count": null,
      "outputs": []
    },
    {
      "cell_type": "markdown",
      "source": [
        "#IoT-23 Data preprocessing\n",
        "- Collection\n",
        "- Cleaning\n",
        "- Encoding\n",
        "- Scaling\n",
        "- Normalisation"
      ],
      "metadata": {
        "id": "oOSaPtDFUdwR"
      }
    },
    {
      "cell_type": "code",
      "source": [
        "import pandas as pd\n",
        "import numpy as np\n",
        "from sklearn.preprocessing import LabelEncoder\n",
        "from sklearn.preprocessing import StandardScaler\n",
        "\n",
        "\n",
        "# Set pandas display options for wide output\n",
        "pd.set_option('display.max_columns', None)\n",
        "pd.set_option('display.width', None)\n",
        "pd.set_option('display.max_colwidth', None)\n",
        "\n",
        "# Data Collection\n",
        "data_file_path = '/content/drive/MyDrive/Colab Notebooks/Honours Project/Datasets/IoT-23 8GB Dataset/CTU-IoT-Malware-Capture-35-1-log.txt'\n",
        "#Read the file\n",
        "df = pd.read_csv(\n",
        "    data_file_path,\n",
        "    sep=\"\\t\",\n",
        "    comment=\"#\",\n",
        "    header=None,\n",
        "    names=[\n",
        "        \"ts\", \"uid\", \"id.orig_h\", \"id.orig_p\", \"id.resp_h\", \"id.resp_p\", \"proto\",\n",
        "        \"service\", \"duration\", \"orig_bytes\", \"resp_bytes\", \"conn_state\",\n",
        "        \"local_orig\", \"local_resp\", \"missed_bytes\", \"history\", \"orig_pkts\",\n",
        "        \"orig_ip_bytes\", \"resp_pkts\", \"resp_ip_bytes\", \"label\"\n",
        "    ]\n",
        ")\n",
        "\n",
        "# #TEST:\n",
        "# # List of file paths\n",
        "# data_file_paths = [\n",
        "#     '/content/drive/MyDrive/Colab Notebooks/Honours Project/Datasets/IoT-23 Preprocessed Dataset/Benign_Dataset13.csv',\n",
        "#     '/content/drive/MyDrive/Colab Notebooks/Honours Project/Datasets/IoT-23 Preprocessed Dataset/DoS_Dataset21.csv',\n",
        "#     '/content/drive/MyDrive/Colab Notebooks/Honours Project/Datasets/IoT-23 Preprocessed Dataset/GafgytBotnet_Dataset3.csv',\n",
        "#     '/content/drive/MyDrive/Colab Notebooks/Honours Project/Datasets/IoT-23 Preprocessed Dataset/MiraiBotnet_Dataset1.csv',\n",
        "#     '/content/drive/MyDrive/Colab Notebooks/Honours Project/Datasets/IoT-23 Preprocessed Dataset/MiraiVariant_Dataset5.csv',\n",
        "#     '/content/drive/MyDrive/Colab Notebooks/Honours Project/Datasets/IoT-23 Preprocessed Dataset/OkiruBotnet_Dataset17.csv',\n",
        "#     '/content/drive/MyDrive/Colab Notebooks/Honours Project/Datasets/IoT-23 Preprocessed Dataset/PartOfMioriBotnet_Dataset20.csv'\n",
        "\n",
        "# ]\n",
        "# dfs = []#set the df list var\n",
        "\n",
        "# for file_path in data_file_paths: # Loop through the file paths and add the data to a temp df var\n",
        "#   try:\n",
        "#       temp_df = pd.read_csv(\n",
        "#           file_path,\n",
        "#           sep=\",\",\n",
        "#           comment=\"#\",\n",
        "#           header=0,# Use the first non-comment line as the header\n",
        "#           names=[\n",
        "#               \"ts\", \"uid\", \"id.orig_h\", \"id.orig_p\", \"id.resp_h\", \"id.resp_p\", \"proto\",\n",
        "#               \"service\", \"duration\", \"orig_bytes\", \"resp_bytes\", \"conn_state\",\n",
        "#               \"local_orig\", \"local_resp\", \"missed_bytes\", \"history\", \"orig_pkts\",\n",
        "#               \"orig_ip_bytes\", \"resp_pkts\", \"resp_ip_bytes\", \"label\"\n",
        "#           ]\n",
        "#       )\n",
        "#       dfs.append(temp_df) #add the info in the temp df to the dfs list\n",
        "#       print(f\"Loaded file: {file_path} with {len(temp_df)} rows\")\n",
        "#   except Exception as e:\n",
        "#       print(f\"Error reading file {file_path}: {e}\")\n",
        "\n",
        "# # Concatenate all dataframes into one\n",
        "# df = pd.concat(dfs, ignore_index=True) #make the list of dataframes into one big dataframe\n",
        "\n",
        "\n",
        "print(\"\\nInitial sample:\")\n",
        "print(df.head().to_string())\n",
        "\n",
        "# Data Cleaning\n",
        "# Convert timestamp to datetime\n",
        "df[\"ts\"] = pd.to_datetime(df[\"ts\"], unit=\"s\", errors='coerce')\n",
        "\n",
        "# Drop non-informative or redundant columns\n",
        "df.drop(columns=['uid', 'id.orig_h', 'id.resp_h', 'local_orig', 'local_resp', 'history'], inplace=True)\n",
        "\n",
        "# Replace '-' with NaN for consistent handling\n",
        "df.replace('-', np.nan, inplace=True)\n",
        "\n",
        "# Drop rows where critical numeric fields are missing\n",
        "df.dropna(subset=[\n",
        "    'duration', 'orig_bytes', 'resp_bytes', 'id.orig_p', 'id.resp_p',\n",
        "    'orig_pkts', 'orig_ip_bytes', 'resp_pkts', 'resp_ip_bytes'\n",
        "], inplace=True)\n",
        "\n",
        "# Convert appropriate columns to numeric types\n",
        "numeric_columns = [\n",
        "    'duration', 'orig_bytes', 'resp_bytes', 'id.orig_p', 'id.resp_p',\n",
        "    'orig_pkts', 'orig_ip_bytes', 'resp_pkts', 'resp_ip_bytes', 'missed_bytes'\n",
        "]\n",
        "for col in numeric_columns:\n",
        "    df[col] = pd.to_numeric(df[col], errors='coerce').fillna(0)\n",
        "\n",
        "# Encode categorical columns\n",
        "categorical_columns = ['proto', 'conn_state', 'service']\n",
        "for col in categorical_columns:\n",
        "    df[col] = df[col].astype(str)  # Ensure strings\n",
        "    df[col] = LabelEncoder().fit_transform(df[col])\n",
        "\n",
        "# Convert label to binary (malicious=1, benign=0)\n",
        "df['label'] = df['label'].apply(lambda x: 1 if 'Malicious' in str(x) else 0)\n",
        "\n",
        "# Drop any rows still containing NaN\n",
        "df.dropna(inplace=True)\n",
        "\n",
        "print(\"\\nCleaned sample:\")\n",
        "print(df.head().to_string())\n",
        "print(\"\\nData types and nulls:\")\n",
        "print(df.info())\n",
        "\n",
        "# --- Add counts of malware and benign logs ---\n",
        "total_logs = len(df)\n",
        "malware_logs = df['label'].sum()  # since malware=1\n",
        "benign_logs = total_logs - malware_logs\n",
        "\n",
        "print(f\"\\nTotal logs: {total_logs}\")\n",
        "print(f\"Malware logs: {malware_logs}\")\n",
        "print(f\"Benign (non-malicious) logs: {benign_logs}\")\n",
        "\n",
        "\n",
        "# --- Split features and labels ---\n",
        "X = df.drop(columns=['label', 'ts']).values  # Drop label and timestamp\n",
        "y = df['label'].values\n",
        "\n",
        "# --- Train/Validation/Test Split --- #TEST\n",
        "from sklearn.model_selection import train_test_split\n",
        "from sklearn.utils import shuffle\n",
        "# Split test set (20%)\n",
        "X_temp, X_test, y_temp, y_test = train_test_split(X, y, test_size=0.2, random_state=42, stratify=y)\n",
        "# Split validation set (20% of remaining)\n",
        "X_train, X_val, y_train, y_val = train_test_split(X_temp, y_temp, test_size=0.2, random_state=42, stratify=y_temp)\n",
        "\n",
        "# ------------TEST: Add another datafile to the test set ----------------\n",
        "\n",
        "data_file_path = '/content/drive/MyDrive/Colab Notebooks/Honours Project/Datasets/IoT-23 8GB Dataset/CTU-IoT-Malware-Capture-1-1-log.txt'\n",
        "#Read the file\n",
        "df = pd.read_csv(\n",
        "    data_file_path,\n",
        "    sep=\"\\t\",\n",
        "    comment=\"#\",\n",
        "    header=None,\n",
        "    names=[\n",
        "        \"ts\", \"uid\", \"id.orig_h\", \"id.orig_p\", \"id.resp_h\", \"id.resp_p\", \"proto\",\n",
        "        \"service\", \"duration\", \"orig_bytes\", \"resp_bytes\", \"conn_state\",\n",
        "        \"local_orig\", \"local_resp\", \"missed_bytes\", \"history\", \"orig_pkts\",\n",
        "        \"orig_ip_bytes\", \"resp_pkts\", \"resp_ip_bytes\", \"label\"\n",
        "    ]\n",
        ")\n",
        "\n",
        "print(\"\\nInitial CTU-IoT-Malware-Capture-1-1-log sample:\")\n",
        "print(df.head().to_string())\n",
        "\n",
        "# Data Cleaning\n",
        "# Convert timestamp to datetime\n",
        "df[\"ts\"] = pd.to_datetime(df[\"ts\"], unit=\"s\", errors='coerce')\n",
        "\n",
        "# Drop non-informative or redundant columns\n",
        "df.drop(columns=['uid', 'id.orig_h', 'id.resp_h', 'local_orig', 'local_resp', 'history'], inplace=True)\n",
        "\n",
        "# Replace '-' with NaN for consistent handling\n",
        "df.replace('-', np.nan, inplace=True)\n",
        "\n",
        "# Drop rows where critical numeric fields are missing\n",
        "df.dropna(subset=[\n",
        "    'duration', 'orig_bytes', 'resp_bytes', 'id.orig_p', 'id.resp_p',\n",
        "    'orig_pkts', 'orig_ip_bytes', 'resp_pkts', 'resp_ip_bytes'\n",
        "], inplace=True)\n",
        "\n",
        "# Convert appropriate columns to numeric types\n",
        "numeric_columns = [\n",
        "    'duration', 'orig_bytes', 'resp_bytes', 'id.orig_p', 'id.resp_p',\n",
        "    'orig_pkts', 'orig_ip_bytes', 'resp_pkts', 'resp_ip_bytes', 'missed_bytes'\n",
        "]\n",
        "for col in numeric_columns:\n",
        "    df[col] = pd.to_numeric(df[col], errors='coerce').fillna(0)\n",
        "\n",
        "# Encode categorical columns\n",
        "categorical_columns = ['proto', 'conn_state', 'service']\n",
        "for col in categorical_columns:\n",
        "    df[col] = df[col].astype(str)  # Ensure strings\n",
        "    df[col] = LabelEncoder().fit_transform(df[col])\n",
        "\n",
        "# Convert label to binary (malicious=1, benign=0)\n",
        "df['label'] = df['label'].apply(lambda x: 1 if 'Malicious' in str(x) else 0)\n",
        "\n",
        "# Drop any rows still containing NaN\n",
        "df.dropna(inplace=True)\n",
        "\n",
        "print(\"\\nCleaned CTU-IoT-Malware-Capture-1-1-log sample:\")\n",
        "print(df.head().to_string())\n",
        "print(\"\\nData types and nulls:\")\n",
        "print(df.info())\n",
        "\n",
        "X = df.drop(columns=['label', 'ts']).values  # Drop label and timestamp\n",
        "y = df['label'].values\n",
        "\n",
        "# Append the new samples to the test set\n",
        "X_test = np.concatenate([X_test, X], axis=0)\n",
        "y_test = np.concatenate([y_test, y], axis=0)\n",
        "\n",
        "print(f\"\\nUpdated test set size: {X_test.shape}, Labels: {y_test.shape}\")\n",
        "\n",
        "# -----------------------------------------------------------------------\n",
        "\n",
        "# Shuffle data\n",
        "X_train, y_train = shuffle(X_train, y_train, random_state=42)\n",
        "X_val, y_val = shuffle(X_val, y_val, random_state=42)\n",
        "X_test, y_test = shuffle(X_test, y_test, random_state=42)\n",
        "\n",
        "# --- Normalize ---\n",
        "# X_scaled = StandardScaler().fit_transform(X) #standardise data features\n",
        "#TEST\n",
        "scaler = StandardScaler()\n",
        "X_train_scaled = scaler.fit_transform(X_train)  # Calculate the mean and standard deviation of each feature in the training set\n",
        "X_val_scaled = scaler.transform(X_val)\n",
        "X_test_scaled = scaler.transform(X_test)\n",
        "\n",
        "\n",
        "# --- Add counts of malware and benign logs ---\n",
        "total_logs = len(df)\n",
        "malware_logs = df['label'].sum()  # since malware=1\n",
        "benign_logs = total_logs - malware_logs\n",
        "\n",
        "print(f\"\\nTotal logs: {total_logs}\")\n",
        "print(f\"Malware logs: {malware_logs}\")\n",
        "print(f\"Benign (non-malicious) logs: {benign_logs}\")"
      ],
      "metadata": {
        "colab": {
          "base_uri": "https://localhost:8080/"
        },
        "id": "9S8k3TYGvIBW",
        "outputId": "604258ba-8453-48b1-91e1-f2d68fd56791"
      },
      "execution_count": 1,
      "outputs": [
        {
          "output_type": "stream",
          "name": "stdout",
          "text": [
            "\n",
            "Initial sample:\n",
            "             ts                 uid      id.orig_h  id.orig_p       id.resp_h  id.resp_p proto service  duration orig_bytes resp_bytes conn_state local_orig local_resp  missed_bytes history  orig_pkts  orig_ip_bytes  resp_pkts  resp_ip_bytes                label\n",
            "0  1.545403e+09  CdNmOg26ZIaBRzPvWj  192.168.1.196      59932  104.248.160.24         80   tcp       -  3.097754          0          0         S0          -          -             0       S          3            180          0              0  -   Malicious   C&C\n",
            "1  1.545403e+09  CgzGV333k9WCximeu8  192.168.1.196      59932  104.248.160.24         80   tcp       -         -          -          -         S0          -          -             0       S          1             60          0              0  -   Malicious   C&C\n",
            "2  1.545403e+09  CLm5Pd3ZnqmYVjrZ44  192.168.1.196      59932  104.248.160.24         80   tcp       -         -          -          -         S0          -          -             0       S          1             60          0              0  -   Malicious   C&C\n",
            "3  1.545403e+09  CDn2pd1rDD1lCMXAia  192.168.1.196      35883     192.168.1.1         53   udp     dns  5.005148         78          0         S0          -          -             0       D          2            134          0              0       -   Benign   -\n",
            "4  1.545403e+09  C1NKkV3tB4rImzbpDj  192.168.1.196      43531     192.168.1.1         53   udp     dns  5.005145         78          0         S0          -          -             0       D          2            134          0              0       -   Benign   -\n",
            "\n",
            "Cleaned sample:\n",
            "                             ts  id.orig_p  id.resp_p  proto  service  duration  orig_bytes  resp_bytes  conn_state  missed_bytes  orig_pkts  orig_ip_bytes  resp_pkts  resp_ip_bytes  label\n",
            "0 2018-12-21 14:34:02.863611937      59932         80      1        3  3.097754           0           0           6             0          3            180          0              0      1\n",
            "3 2018-12-21 14:34:13.913069010      35883         53      2        1  5.005148          78           0           6             0          2            134          0              0      0\n",
            "4 2018-12-21 14:34:03.902539968      43531         53      2        1  5.005145          78           0           6             0          2            134          0              0      0\n",
            "6 2018-12-21 14:34:47.880949974      39189         53      2        1  5.005149          78           0           6             0          2            134          0              0      0\n",
            "7 2018-12-21 14:34:11.880244970        123        123      2        3  0.143648          48          48          10             0          1             76          1             76      0\n",
            "\n",
            "Data types and nulls:\n",
            "<class 'pandas.core.frame.DataFrame'>\n",
            "Index: 6015172 entries, 0 to 10447784\n",
            "Data columns (total 15 columns):\n",
            " #   Column         Dtype         \n",
            "---  ------         -----         \n",
            " 0   ts             datetime64[ns]\n",
            " 1   id.orig_p      int64         \n",
            " 2   id.resp_p      int64         \n",
            " 3   proto          int64         \n",
            " 4   service        int64         \n",
            " 5   duration       float64       \n",
            " 6   orig_bytes     int64         \n",
            " 7   resp_bytes     int64         \n",
            " 8   conn_state     int64         \n",
            " 9   missed_bytes   int64         \n",
            " 10  orig_pkts      int64         \n",
            " 11  orig_ip_bytes  int64         \n",
            " 12  resp_pkts      int64         \n",
            " 13  resp_ip_bytes  int64         \n",
            " 14  label          int64         \n",
            "dtypes: datetime64[ns](1), float64(1), int64(13)\n",
            "memory usage: 734.3 MB\n",
            "None\n",
            "\n",
            "Initial CTU-IoT-Malware-Capture-1-1-log sample:\n",
            "             ts                 uid        id.orig_h  id.orig_p        id.resp_h  id.resp_p proto service  duration orig_bytes resp_bytes conn_state local_orig local_resp  missed_bytes history  orig_pkts  orig_ip_bytes  resp_pkts  resp_ip_bytes                                            label\n",
            "0  1.525880e+09  CUmrqr4svHuSXJy5z7  192.168.100.103      51524   65.127.233.163         23   tcp       -  2.999051          0          0         S0          -          -             0       S          3            180          0              0  (empty)   Malicious   PartOfAHorizontalPortScan\n",
            "1  1.525880e+09  CH98aB3s1kJeq6SFOc  192.168.100.103      56305    63.150.16.171         23   tcp       -         -          -          -         S0          -          -             0       S          1             60          0              0  (empty)   Malicious   PartOfAHorizontalPortScan\n",
            "2  1.525880e+09   C3GBTkINvXNjVGtN5  192.168.100.103      41101     111.40.23.49         23   tcp       -         -          -          -         S0          -          -             0       S          1             60          0              0  (empty)   Malicious   PartOfAHorizontalPortScan\n",
            "3  1.525880e+09   CDe43c1PtgynajGI6  192.168.100.103      60905  131.174.215.147         23   tcp       -  2.998796          0          0         S0          -          -             0       S          3            180          0              0  (empty)   Malicious   PartOfAHorizontalPortScan\n",
            "4  1.525880e+09  CJaDcG3MZzvf1YVYI4  192.168.100.103      44301      91.42.47.63         23   tcp       -         -          -          -         S0          -          -             0       S          1             60          0              0  (empty)   Malicious   PartOfAHorizontalPortScan\n",
            "\n",
            "Cleaned CTU-IoT-Malware-Capture-1-1-log sample:\n",
            "                              ts  id.orig_p  id.resp_p  proto  service  duration  orig_bytes  resp_bytes  conn_state  missed_bytes  orig_pkts  orig_ip_bytes  resp_pkts  resp_ip_bytes  label\n",
            "0  2018-05-09 15:30:31.015810966      51524         23      1        3  2.999051           0           0           6             0          3            180          0              0      1\n",
            "3  2018-05-09 15:30:32.016239882      60905         23      1        3  2.998796           0           0           6             0          3            180          0              0      1\n",
            "6  2018-05-09 15:30:33.016170978      34243      49560      1        3  2.998804           0           0           6             0          3            180          0              0      0\n",
            "11 2018-05-09 15:30:37.005651951      52259         23      1        3  2.999300           0           0           6             0          3            180          0              0      1\n",
            "12 2018-05-09 15:30:38.006081104      42207       8080      1        3  2.993548           0           0           6             0          3            180          0              0      1\n",
            "\n",
            "Data types and nulls:\n",
            "<class 'pandas.core.frame.DataFrame'>\n",
            "Index: 212448 entries, 0 to 1008685\n",
            "Data columns (total 15 columns):\n",
            " #   Column         Non-Null Count   Dtype         \n",
            "---  ------         --------------   -----         \n",
            " 0   ts             212448 non-null  datetime64[ns]\n",
            " 1   id.orig_p      212448 non-null  int64         \n",
            " 2   id.resp_p      212448 non-null  int64         \n",
            " 3   proto          212448 non-null  int64         \n",
            " 4   service        212448 non-null  int64         \n",
            " 5   duration       212448 non-null  float64       \n",
            " 6   orig_bytes     212448 non-null  int64         \n",
            " 7   resp_bytes     212448 non-null  int64         \n",
            " 8   conn_state     212448 non-null  int64         \n",
            " 9   missed_bytes   212448 non-null  int64         \n",
            " 10  orig_pkts      212448 non-null  int64         \n",
            " 11  orig_ip_bytes  212448 non-null  int64         \n",
            " 12  resp_pkts      212448 non-null  int64         \n",
            " 13  resp_ip_bytes  212448 non-null  int64         \n",
            " 14  label          212448 non-null  int64         \n",
            "dtypes: datetime64[ns](1), float64(1), int64(13)\n",
            "memory usage: 25.9 MB\n",
            "None\n",
            "\n",
            "Updated test set size: (1415483, 13), Labels: (1415483,)\n",
            "\n",
            "Total logs: 212448\n",
            "Malware logs: 189291\n",
            "Benign (non-malicious) logs: 23157\n"
          ]
        }
      ]
    },
    {
      "cell_type": "markdown",
      "source": [
        "#Apply PCA"
      ],
      "metadata": {
        "id": "p27J58TaT8nc"
      }
    },
    {
      "cell_type": "code",
      "source": [
        "# # Apply PCA\n",
        "# from sklearn.decomposition import PCA\n",
        "# pca = PCA(n_components=13) #PCA will reduce the dimensionality of the data to exactly 10 features\n",
        "# X_pca = pca.fit_transform(X_scaled)\n",
        "# print(f\"Reduced {X_scaled.shape[1]} to {X_pca.shape[1]} components\")"
      ],
      "metadata": {
        "id": "jBS-NuKeT-hu"
      },
      "execution_count": 2,
      "outputs": []
    },
    {
      "cell_type": "markdown",
      "source": [
        "#Apply PCA Correctly?\n",
        "Principal component analysis (PCA) is a dimensionality reduction and unsuprevised machine learning method used to simplify a large data set into a smaller set while still maintaining\n",
        "significant patterns and trends.\n",
        "Principal components are new variables that are constructed as linear combinations or mixtures of the initial variables. These combinations are done in such a way that the new variables (i.e., principal components) are uncorrelated and most of the information within the initial variables is squeezed or compressed into the first"
      ],
      "metadata": {
        "id": "QZCG-d2QNxzG"
      }
    },
    {
      "cell_type": "code",
      "source": [
        "from sklearn.decomposition import PCA\n",
        "\n",
        "# Make an instance of the pca Model\n",
        "pca = PCA(.95) # sklearn chooses the minimum number of principal components such that 95 percent of the variance in the data is retained\n",
        "\n",
        "# Only fit the PCA to the training data\n",
        "pcaX_train = pca.fit_transform(X_train_scaled)#To avoid data leakage (information from the test set influences the model during training)\n",
        "print(f\"principle components: {pca.n_components_}\")\n",
        "\n",
        "pcaX_val = pca.transform(X_val_scaled)\n",
        "pcaX_test = pca.transform(X_test_scaled)# Apply the PCA to the test data\n",
        "\n",
        "# reshape the data so it canbe used as input for the 1D CNN\n",
        "\n",
        "X_train = pcaX_train.reshape((pcaX_train.shape[0], pcaX_train.shape[1], 1))\n",
        "X_val = pcaX_val.reshape((pcaX_val.shape[0], pcaX_val.shape[1], 1))\n",
        "X_test = pcaX_test.reshape((pcaX_test.shape[0], pcaX_test.shape[1], 1))"
      ],
      "metadata": {
        "colab": {
          "base_uri": "https://localhost:8080/"
        },
        "id": "x16g46X7N0tz",
        "outputId": "35eedb36-ecf8-44fa-826d-9cc0bfca4806"
      },
      "execution_count": 3,
      "outputs": [
        {
          "output_type": "stream",
          "name": "stdout",
          "text": [
            "principle components: 9\n"
          ]
        }
      ]
    },
    {
      "cell_type": "markdown",
      "source": [
        "# Data reshaping for 1D CNN input"
      ],
      "metadata": {
        "id": "WBxWX3MftapB"
      }
    },
    {
      "cell_type": "code",
      "source": [
        "from sklearn.model_selection import train_test_split\n",
        "from sklearn.utils import shuffle\n",
        "\n",
        "# Step 1: Reshape the data for 1D CNN input\n",
        "# --- 1D CNN expects input shape: (samples, timesteps, features) ---\n",
        "# Here: timesteps = number of features, features = 1 (per timestep)\n",
        "#X_1dcnn = X_pca.reshape((X_pca.shape[0], X_pca.shape[1], 1))\n",
        "\n",
        "# #Step 2: Train/Validation/Test Split\n",
        "# # --- Split into Train/Val/Test ---\n",
        "# # Split test set (20%)\n",
        "# X_temp, X_test, y_temp, y_test = train_test_split(X_1dcnn, y, test_size=0.2, random_state=42, stratify=y)\n",
        "# # Split validation set (20% of remaining)\n",
        "# X_train, X_val, y_train, y_val = train_test_split(X_temp, y_temp, test_size=0.2, random_state=42, stratify=y_temp)\n",
        "# # Shuffle data:\n",
        "# X_train, y_train = shuffle(X_train, y_train, random_state=42)\n",
        "# X_val, y_val = shuffle(X_val, y_val, random_state=42)\n",
        "# X_test, y_test = shuffle(X_test, y_test, random_state=42)\n",
        "\n",
        "# --- Final Shape Confirmation ---\n",
        "# print(\"1D CNN input shape:\", X_1dcnn.shape)\n",
        "# print(f\"Input Shapes -> Train: {X_train.shape}, Val: {X_val.shape}, Test: {X_test.shape}\")\n",
        "# print(f\"Labels[Benign, Mal] -> Train: {np.bincount(y_train)}, Val: {np.bincount(y_val)}, Test: {np.bincount(y_test)}\")"
      ],
      "metadata": {
        "id": "V0JKdNVLteDk"
      },
      "execution_count": 4,
      "outputs": []
    },
    {
      "cell_type": "markdown",
      "source": [
        "#Visulisation of data split"
      ],
      "metadata": {
        "id": "P41qC7snwZcA"
      }
    },
    {
      "cell_type": "code",
      "source": [
        "import numpy as np\n",
        "import matplotlib.pyplot as plt\n",
        "\n",
        "print(f\"Input Shapes -> Train: {X_train.shape}, Val: {X_val.shape}, Test: {X_test.shape}\")\n",
        "print(f\"Labels[Benign, Mal] -> Train: {np.bincount(y_train)}, Val: {np.bincount(y_val)}, Test: {np.bincount(y_test)}\")\n",
        "\n",
        "# Example bincounts from your print statement (replace these with your actual values)\n",
        "train_counts = np.bincount(y_train)\n",
        "val_counts = np.bincount(y_val)\n",
        "test_counts = np.bincount(y_test)\n",
        "\n",
        "# Data for plotting\n",
        "labels = ['Benign', 'Malicious']\n",
        "datasets = ['Train', 'Validation', 'Test']\n",
        "counts = [train_counts, val_counts, test_counts]\n",
        "\n",
        "# Transpose counts to group by label\n",
        "benign_counts = [c[0] for c in counts]\n",
        "mal_counts = [c[1] for c in counts]\n",
        "\n",
        "x = np.arange(len(datasets))  # the label locations\n",
        "width = 0.35  # width of the bars\n",
        "\n",
        "# Plot\n",
        "fig, ax = plt.subplots()\n",
        "rects1 = ax.bar(x - width/2, benign_counts, width, label='Benign')\n",
        "rects2 = ax.bar(x + width/2, mal_counts, width, label='Malicious')\n",
        "\n",
        "# Add labels\n",
        "ax.set_ylabel('Number of Samples')\n",
        "ax.set_title('Label Distribution Across Datasets')\n",
        "ax.set_xticks(x)\n",
        "ax.set_xticklabels(datasets)\n",
        "ax.legend()\n",
        "\n",
        "# Add value labels\n",
        "def autolabel(rects):\n",
        "    for rect in rects:\n",
        "        height = rect.get_height()\n",
        "        ax.annotate(f'{height}',\n",
        "                    xy=(rect.get_x() + rect.get_width()/2, height),\n",
        "                    xytext=(0, 3),  # vertical offset\n",
        "                    textcoords=\"offset points\",\n",
        "                    ha='center', va='bottom')\n",
        "\n",
        "autolabel(rects1)\n",
        "autolabel(rects2)\n",
        "\n",
        "plt.tight_layout()\n",
        "plt.show()"
      ],
      "metadata": {
        "colab": {
          "base_uri": "https://localhost:8080/",
          "height": 521
        },
        "id": "cMLMgNYMwc0Y",
        "outputId": "c206205f-77a0-4d1e-d3e2-082e6dc34b3b"
      },
      "execution_count": 5,
      "outputs": [
        {
          "output_type": "stream",
          "name": "stdout",
          "text": [
            "Input Shapes -> Train: (3849709, 9, 1), Val: (962428, 9, 1), Test: (1415483, 9, 1)\n",
            "Labels[Benign, Mal] -> Train: [2629337 1220372], Val: [657335 305093], Test: [844825 570658]\n"
          ]
        },
        {
          "output_type": "display_data",
          "data": {
            "text/plain": [
              "<Figure size 640x480 with 1 Axes>"
            ],
            "image/png": "[encoded data removed]"
          },
          "metadata": {}
        }
      ]
    },
    {
      "cell_type": "markdown",
      "source": [
        "#1D CNN model"
      ],
      "metadata": {
        "id": "AaK_AOGeuPxj"
      }
    },
    {
      "cell_type": "code",
      "source": [
        "import tensorflow as tf\n",
        "from tensorflow.keras.models import Sequential\n",
        "from tensorflow.keras.layers import Conv1D, MaxPooling1D, Flatten, Dense, Dropout, BatchNormalization\n",
        "\n",
        "#Step 3: Define the 1D CNN Model\n",
        "\n",
        "# Define input shape\n",
        "input_shape = (X_train.shape[1], 1)  # (timesteps, features)\n",
        "\n",
        "# Build model\n",
        "model = Sequential([\n",
        "    Conv1D(filters=32, kernel_size=3, activation='relu', input_shape=input_shape), # Detect patterns in the network traffic data\n",
        "    BatchNormalization(), # Normalizes the outputs of a the Conv1D layer before passing them to the MaxPool layer\n",
        "    MaxPooling1D(pool_size=2), # Reduce the dimensions of the data without affecting key features\n",
        "    Dropout(0.25), # Prevent overfitting by forcing the model to generalize - it does this by randomly deactivating a fraction of neurons during training\n",
        "\n",
        "    Conv1D(filters=64, kernel_size=2, activation='relu'),#kernel_size=3\n",
        "    BatchNormalization(),\n",
        "    MaxPooling1D(pool_size=2),\n",
        "\n",
        "    Flatten(), # Converts the output of the last Conv1D layer into a 1D vector for the fully connected layers\n",
        "    Dense(64, activation='relu', kernel_regularizer=tf.keras.regularizers.l2(0.01)), # Apply L2 regularisation to prevent overfitting (common in the dense layer)\n",
        "    Dropout(0.5), # Randomly drop 50% of the network;s neurons to further prevent overfitting\n",
        "    Dense(1, activation='sigmoid')  # Final output layer( 1 = 1 neuron for binary classification, sigmoid = decides if input is malicious (1) or benign (0))\n",
        "])\n",
        "\n",
        "# Compile\n",
        "model.compile(optimizer='adam', loss='binary_crossentropy', metrics=['accuracy']) # Loss function measures how well the model’s predictions match true labels\n",
        "\n",
        "#Summary\n",
        "model.summary()"
      ],
      "metadata": {
        "colab": {
          "base_uri": "https://localhost:8080/",
          "height": 567
        },
        "id": "5z09AdYcuSTj",
        "outputId": "de3e954e-a3d8-44ca-ac26-2a3cc240556f"
      },
      "execution_count": 6,
      "outputs": [
        {
          "output_type": "stream",
          "name": "stderr",
          "text": [
            "/usr/local/lib/python3.11/dist-packages/keras/src/layers/convolutional/base_conv.py:107: UserWarning: Do not pass an `input_shape`/`input_dim` argument to a layer. When using Sequential models, prefer using an `Input(shape)` object as the first layer in the model instead.\n",
            "  super().__init__(activity_regularizer=activity_regularizer, **kwargs)\n"
          ]
        },
        {
          "output_type": "display_data",
          "data": {
            "text/plain": [
              "\u001b[1mModel: \"sequential\"\u001b[0m\n"
            ],
            "text/html": [
              "<pre style=\"white-space:pre;overflow-x:auto;line-height:normal;font-family:Menlo,'DejaVu Sans Mono',consolas,'Courier New',monospace\"><span style=\"font-weight: bold\">Model: \"sequential\"</span>\n",
              "</pre>\n"
            ]
          },
          "metadata": {}
        },
        {
          "output_type": "display_data",
          "data": {
            "text/plain": [
              "┏━━━━━━━━━━━━━━━━━━━━━━━━━━━━━━━━━┳━━━━━━━━━━━━━━━━━━━━━━━━┳━━━━━━━━━━━━━━━┓\n",
              "┃\u001b[1m \u001b[0m\u001b[1mLayer (type)                   \u001b[0m\u001b[1m \u001b[0m┃\u001b[1m \u001b[0m\u001b[1mOutput Shape          \u001b[0m\u001b[1m \u001b[0m┃\u001b[1m \u001b[0m\u001b[1m      Param #\u001b[0m\u001b[1m \u001b[0m┃\n",
              "┡━━━━━━━━━━━━━━━━━━━━━━━━━━━━━━━━━╇━━━━━━━━━━━━━━━━━━━━━━━━╇━━━━━━━━━━━━━━━┩\n",
              "│ conv1d (\u001b[38;5;33mConv1D\u001b[0m)                 │ (\u001b[38;5;45mNone\u001b[0m, \u001b[38;5;34m7\u001b[0m, \u001b[38;5;34m32\u001b[0m)          │           \u001b[38;5;34m128\u001b[0m │\n",
              "├─────────────────────────────────┼────────────────────────┼───────────────┤\n",
              "│ batch_normalization             │ (\u001b[38;5;45mNone\u001b[0m, \u001b[38;5;34m7\u001b[0m, \u001b[38;5;34m32\u001b[0m)          │           \u001b[38;5;34m128\u001b[0m │\n",
              "│ (\u001b[38;5;33mBatchNormalization\u001b[0m)            │                        │               │\n",
              "├─────────────────────────────────┼────────────────────────┼───────────────┤\n",
              "│ max_pooling1d (\u001b[38;5;33mMaxPooling1D\u001b[0m)    │ (\u001b[38;5;45mNone\u001b[0m, \u001b[38;5;34m3\u001b[0m, \u001b[38;5;34m32\u001b[0m)          │             \u001b[38;5;34m0\u001b[0m │\n",
              "├─────────────────────────────────┼────────────────────────┼───────────────┤\n",
              "│ dropout (\u001b[38;5;33mDropout\u001b[0m)               │ (\u001b[38;5;45mNone\u001b[0m, \u001b[38;5;34m3\u001b[0m, \u001b[38;5;34m32\u001b[0m)          │             \u001b[38;5;34m0\u001b[0m │\n",
              "├─────────────────────────────────┼────────────────────────┼───────────────┤\n",
              "│ conv1d_1 (\u001b[38;5;33mConv1D\u001b[0m)               │ (\u001b[38;5;45mNone\u001b[0m, \u001b[38;5;34m2\u001b[0m, \u001b[38;5;34m64\u001b[0m)          │         \u001b[38;5;34m4,160\u001b[0m │\n",
              "├─────────────────────────────────┼────────────────────────┼───────────────┤\n",
              "│ batch_normalization_1           │ (\u001b[38;5;45mNone\u001b[0m, \u001b[38;5;34m2\u001b[0m, \u001b[38;5;34m64\u001b[0m)          │           \u001b[38;5;34m256\u001b[0m │\n",
              "│ (\u001b[38;5;33mBatchNormalization\u001b[0m)            │                        │               │\n",
              "├─────────────────────────────────┼────────────────────────┼───────────────┤\n",
              "│ max_pooling1d_1 (\u001b[38;5;33mMaxPooling1D\u001b[0m)  │ (\u001b[38;5;45mNone\u001b[0m, \u001b[38;5;34m1\u001b[0m, \u001b[38;5;34m64\u001b[0m)          │             \u001b[38;5;34m0\u001b[0m │\n",
              "├─────────────────────────────────┼────────────────────────┼───────────────┤\n",
              "│ flatten (\u001b[38;5;33mFlatten\u001b[0m)               │ (\u001b[38;5;45mNone\u001b[0m, \u001b[38;5;34m64\u001b[0m)             │             \u001b[38;5;34m0\u001b[0m │\n",
              "├─────────────────────────────────┼────────────────────────┼───────────────┤\n",
              "│ dense (\u001b[38;5;33mDense\u001b[0m)                   │ (\u001b[38;5;45mNone\u001b[0m, \u001b[38;5;34m64\u001b[0m)             │         \u001b[38;5;34m4,160\u001b[0m │\n",
              "├─────────────────────────────────┼────────────────────────┼───────────────┤\n",
              "│ dropout_1 (\u001b[38;5;33mDropout\u001b[0m)             │ (\u001b[38;5;45mNone\u001b[0m, \u001b[38;5;34m64\u001b[0m)             │             \u001b[38;5;34m0\u001b[0m │\n",
              "├─────────────────────────────────┼────────────────────────┼───────────────┤\n",
              "│ dense_1 (\u001b[38;5;33mDense\u001b[0m)                 │ (\u001b[38;5;45mNone\u001b[0m, \u001b[38;5;34m1\u001b[0m)              │            \u001b[38;5;34m65\u001b[0m │\n",
              "└─────────────────────────────────┴────────────────────────┴───────────────┘\n"
            ],
            "text/html": [
              "<pre style=\"white-space:pre;overflow-x:auto;line-height:normal;font-family:Menlo,'DejaVu Sans Mono',consolas,'Courier New',monospace\">┏━━━━━━━━━━━━━━━━━━━━━━━━━━━━━━━━━┳━━━━━━━━━━━━━━━━━━━━━━━━┳━━━━━━━━━━━━━━━┓\n",
              "┃<span style=\"font-weight: bold\"> Layer (type)                    </span>┃<span style=\"font-weight: bold\"> Output Shape           </span>┃<span style=\"font-weight: bold\">       Param # </span>┃\n",
              "┡━━━━━━━━━━━━━━━━━━━━━━━━━━━━━━━━━╇━━━━━━━━━━━━━━━━━━━━━━━━╇━━━━━━━━━━━━━━━┩\n",
              "│ conv1d (<span style=\"color: #0087ff; text-decoration-color: #0087ff\">Conv1D</span>)                 │ (<span style=\"color: #00d7ff; text-decoration-color: #00d7ff\">None</span>, <span style=\"color: #00af00; text-decoration-color: #00af00\">7</span>, <span style=\"color: #00af00; text-decoration-color: #00af00\">32</span>)          │           <span style=\"color: #00af00; text-decoration-color: #00af00\">128</span> │\n",
              "├─────────────────────────────────┼────────────────────────┼───────────────┤\n",
              "│ batch_normalization             │ (<span style=\"color: #00d7ff; text-decoration-color: #00d7ff\">None</span>, <span style=\"color: #00af00; text-decoration-color: #00af00\">7</span>, <span style=\"color: #00af00; text-decoration-color: #00af00\">32</span>)          │           <span style=\"color: #00af00; text-decoration-color: #00af00\">128</span> │\n",
              "│ (<span style=\"color: #0087ff; text-decoration-color: #0087ff\">BatchNormalization</span>)            │                        │               │\n",
              "├─────────────────────────────────┼────────────────────────┼───────────────┤\n",
              "│ max_pooling1d (<span style=\"color: #0087ff; text-decoration-color: #0087ff\">MaxPooling1D</span>)    │ (<span style=\"color: #00d7ff; text-decoration-color: #00d7ff\">None</span>, <span style=\"color: #00af00; text-decoration-color: #00af00\">3</span>, <span style=\"color: #00af00; text-decoration-color: #00af00\">32</span>)          │             <span style=\"color: #00af00; text-decoration-color: #00af00\">0</span> │\n",
              "├─────────────────────────────────┼────────────────────────┼───────────────┤\n",
              "│ dropout (<span style=\"color: #0087ff; text-decoration-color: #0087ff\">Dropout</span>)               │ (<span style=\"color: #00d7ff; text-decoration-color: #00d7ff\">None</span>, <span style=\"color: #00af00; text-decoration-color: #00af00\">3</span>, <span style=\"color: #00af00; text-decoration-color: #00af00\">32</span>)          │             <span style=\"color: #00af00; text-decoration-color: #00af00\">0</span> │\n",
              "├─────────────────────────────────┼────────────────────────┼───────────────┤\n",
              "│ conv1d_1 (<span style=\"color: #0087ff; text-decoration-color: #0087ff\">Conv1D</span>)               │ (<span style=\"color: #00d7ff; text-decoration-color: #00d7ff\">None</span>, <span style=\"color: #00af00; text-decoration-color: #00af00\">2</span>, <span style=\"color: #00af00; text-decoration-color: #00af00\">64</span>)          │         <span style=\"color: #00af00; text-decoration-color: #00af00\">4,160</span> │\n",
              "├─────────────────────────────────┼────────────────────────┼───────────────┤\n",
              "│ batch_normalization_1           │ (<span style=\"color: #00d7ff; text-decoration-color: #00d7ff\">None</span>, <span style=\"color: #00af00; text-decoration-color: #00af00\">2</span>, <span style=\"color: #00af00; text-decoration-color: #00af00\">64</span>)          │           <span style=\"color: #00af00; text-decoration-color: #00af00\">256</span> │\n",
              "│ (<span style=\"color: #0087ff; text-decoration-color: #0087ff\">BatchNormalization</span>)            │                        │               │\n",
              "├─────────────────────────────────┼────────────────────────┼───────────────┤\n",
              "│ max_pooling1d_1 (<span style=\"color: #0087ff; text-decoration-color: #0087ff\">MaxPooling1D</span>)  │ (<span style=\"color: #00d7ff; text-decoration-color: #00d7ff\">None</span>, <span style=\"color: #00af00; text-decoration-color: #00af00\">1</span>, <span style=\"color: #00af00; text-decoration-color: #00af00\">64</span>)          │             <span style=\"color: #00af00; text-decoration-color: #00af00\">0</span> │\n",
              "├─────────────────────────────────┼────────────────────────┼───────────────┤\n",
              "│ flatten (<span style=\"color: #0087ff; text-decoration-color: #0087ff\">Flatten</span>)               │ (<span style=\"color: #00d7ff; text-decoration-color: #00d7ff\">None</span>, <span style=\"color: #00af00; text-decoration-color: #00af00\">64</span>)             │             <span style=\"color: #00af00; text-decoration-color: #00af00\">0</span> │\n",
              "├─────────────────────────────────┼────────────────────────┼───────────────┤\n",
              "│ dense (<span style=\"color: #0087ff; text-decoration-color: #0087ff\">Dense</span>)                   │ (<span style=\"color: #00d7ff; text-decoration-color: #00d7ff\">None</span>, <span style=\"color: #00af00; text-decoration-color: #00af00\">64</span>)             │         <span style=\"color: #00af00; text-decoration-color: #00af00\">4,160</span> │\n",
              "├─────────────────────────────────┼────────────────────────┼───────────────┤\n",
              "│ dropout_1 (<span style=\"color: #0087ff; text-decoration-color: #0087ff\">Dropout</span>)             │ (<span style=\"color: #00d7ff; text-decoration-color: #00d7ff\">None</span>, <span style=\"color: #00af00; text-decoration-color: #00af00\">64</span>)             │             <span style=\"color: #00af00; text-decoration-color: #00af00\">0</span> │\n",
              "├─────────────────────────────────┼────────────────────────┼───────────────┤\n",
              "│ dense_1 (<span style=\"color: #0087ff; text-decoration-color: #0087ff\">Dense</span>)                 │ (<span style=\"color: #00d7ff; text-decoration-color: #00d7ff\">None</span>, <span style=\"color: #00af00; text-decoration-color: #00af00\">1</span>)              │            <span style=\"color: #00af00; text-decoration-color: #00af00\">65</span> │\n",
              "└─────────────────────────────────┴────────────────────────┴───────────────┘\n",
              "</pre>\n"
            ]
          },
          "metadata": {}
        },
        {
          "output_type": "display_data",
          "data": {
            "text/plain": [
              "\u001b[1m Total params: \u001b[0m\u001b[38;5;34m8,897\u001b[0m (34.75 KB)\n"
            ],
            "text/html": [
              "<pre style=\"white-space:pre;overflow-x:auto;line-height:normal;font-family:Menlo,'DejaVu Sans Mono',consolas,'Courier New',monospace\"><span style=\"font-weight: bold\"> Total params: </span><span style=\"color: #00af00; text-decoration-color: #00af00\">8,897</span> (34.75 KB)\n",
              "</pre>\n"
            ]
          },
          "metadata": {}
        },
        {
          "output_type": "display_data",
          "data": {
            "text/plain": [
              "\u001b[1m Trainable params: \u001b[0m\u001b[38;5;34m8,705\u001b[0m (34.00 KB)\n"
            ],
            "text/html": [
              "<pre style=\"white-space:pre;overflow-x:auto;line-height:normal;font-family:Menlo,'DejaVu Sans Mono',consolas,'Courier New',monospace\"><span style=\"font-weight: bold\"> Trainable params: </span><span style=\"color: #00af00; text-decoration-color: #00af00\">8,705</span> (34.00 KB)\n",
              "</pre>\n"
            ]
          },
          "metadata": {}
        },
        {
          "output_type": "display_data",
          "data": {
            "text/plain": [
              "\u001b[1m Non-trainable params: \u001b[0m\u001b[38;5;34m192\u001b[0m (768.00 B)\n"
            ],
            "text/html": [
              "<pre style=\"white-space:pre;overflow-x:auto;line-height:normal;font-family:Menlo,'DejaVu Sans Mono',consolas,'Courier New',monospace\"><span style=\"font-weight: bold\"> Non-trainable params: </span><span style=\"color: #00af00; text-decoration-color: #00af00\">192</span> (768.00 B)\n",
              "</pre>\n"
            ]
          },
          "metadata": {}
        }
      ]
    },
    {
      "cell_type": "markdown",
      "source": [
        "#Train, Evaluate (Test) & Visualize 1D CNN"
      ],
      "metadata": {
        "id": "h5WWCRHmusAX"
      }
    },
    {
      "cell_type": "code",
      "source": [
        "import matplotlib.pyplot as plt\n",
        "\n",
        "#Step 4: Train the Model\n",
        "\n",
        "history = model.fit(\n",
        "    X_train, y_train,\n",
        "    epochs=10,\n",
        "    batch_size=64,\n",
        "    validation_data=(X_val, y_val),\n",
        "    verbose=1\n",
        ")\n",
        "\n",
        "# Step 5: Evaluate on Test Set\n",
        "test_loss, test_acc = model.evaluate(X_test, y_test, verbose=0)\n",
        "print(f\"\\nTest Accuracy: {test_acc:.4f}\")\n",
        "\n",
        "\n",
        "# Step 6: Plot Accuracy and Loss\n",
        "plt.figure(figsize=(12,5)) # Create a new figure that is 12x5\n",
        "\n",
        "# Accuracy plot\n",
        "plt.subplot(1, 2, 1)\n",
        "plt.plot(history.history['accuracy'], label='Train Acc')\n",
        "plt.plot(history.history['val_accuracy'], label='Val Acc')\n",
        "plt.title('Accuracy')\n",
        "plt.xlabel('Epoch')\n",
        "plt.ylabel('Accuracy')\n",
        "plt.legend()\n",
        "\n",
        "# Loss plot\n",
        "plt.subplot(1, 2, 2)\n",
        "plt.plot(history.history['loss'], label='Train Loss')\n",
        "plt.plot(history.history['val_loss'], label='Val Loss')\n",
        "plt.title('Loss')\n",
        "plt.xlabel('Epoch')\n",
        "plt.ylabel('Loss')\n",
        "plt.legend()\n",
        "\n",
        "plt.tight_layout()\n",
        "plt.show()\n",
        "\n"
      ],
      "metadata": {
        "colab": {
          "base_uri": "https://localhost:8080/",
          "height": 881
        },
        "id": "yGslPs6rurxy",
        "outputId": "1459951d-f0a9-42a7-cd92-8f78659ba2b2"
      },
      "execution_count": 7,
      "outputs": [
        {
          "output_type": "stream",
          "name": "stdout",
          "text": [
            "Epoch 1/10\n",
            "\u001b[1m60152/60152\u001b[0m \u001b[32m━━━━━━━━━━━━━━━━━━━━\u001b[0m\u001b[37m\u001b[0m \u001b[1m383s\u001b[0m 6ms/step - accuracy: 0.9991 - loss: 0.0192 - val_accuracy: 1.0000 - val_loss: 8.2784e-04\n",
            "Epoch 2/10\n",
            "\u001b[1m60152/60152\u001b[0m \u001b[32m━━━━━━━━━━━━━━━━━━━━\u001b[0m\u001b[37m\u001b[0m \u001b[1m379s\u001b[0m 6ms/step - accuracy: 0.9999 - loss: 0.0029 - val_accuracy: 1.0000 - val_loss: 3.8680e-04\n",
            "Epoch 3/10\n",
            "\u001b[1m60152/60152\u001b[0m \u001b[32m━━━━━━━━━━━━━━━━━━━━\u001b[0m\u001b[37m\u001b[0m \u001b[1m381s\u001b[0m 6ms/step - accuracy: 0.9999 - loss: 0.0031 - val_accuracy: 0.9997 - val_loss: 0.0303\n",
            "Epoch 4/10\n",
            "\u001b[1m60152/60152\u001b[0m \u001b[32m━━━━━━━━━━━━━━━━━━━━\u001b[0m\u001b[37m\u001b[0m \u001b[1m367s\u001b[0m 6ms/step - accuracy: 0.9999 - loss: 0.0028 - val_accuracy: 1.0000 - val_loss: 0.0014\n",
            "Epoch 5/10\n",
            "\u001b[1m60152/60152\u001b[0m \u001b[32m━━━━━━━━━━━━━━━━━━━━\u001b[0m\u001b[37m\u001b[0m \u001b[1m392s\u001b[0m 6ms/step - accuracy: 0.9999 - loss: 0.0024 - val_accuracy: 1.0000 - val_loss: 0.0014\n",
            "Epoch 6/10\n",
            "\u001b[1m60152/60152\u001b[0m \u001b[32m━━━━━━━━━━━━━━━━━━━━\u001b[0m\u001b[37m\u001b[0m \u001b[1m360s\u001b[0m 6ms/step - accuracy: 0.9999 - loss: 0.0027 - val_accuracy: 1.0000 - val_loss: 3.5278e-04\n",
            "Epoch 7/10\n",
            "\u001b[1m60152/60152\u001b[0m \u001b[32m━━━━━━━━━━━━━━━━━━━━\u001b[0m\u001b[37m\u001b[0m \u001b[1m379s\u001b[0m 6ms/step - accuracy: 0.9999 - loss: 0.0021 - val_accuracy: 1.0000 - val_loss: 6.1126e-04\n",
            "Epoch 8/10\n",
            "\u001b[1m60152/60152\u001b[0m \u001b[32m━━━━━━━━━━━━━━━━━━━━\u001b[0m\u001b[37m\u001b[0m \u001b[1m360s\u001b[0m 6ms/step - accuracy: 0.9999 - loss: 0.0021 - val_accuracy: 0.9997 - val_loss: 0.0036\n",
            "Epoch 9/10\n",
            "\u001b[1m60152/60152\u001b[0m \u001b[32m━━━━━━━━━━━━━━━━━━━━\u001b[0m\u001b[37m\u001b[0m \u001b[1m378s\u001b[0m 6ms/step - accuracy: 0.9999 - loss: 0.0020 - val_accuracy: 1.0000 - val_loss: 8.8806e-04\n",
            "Epoch 10/10\n",
            "\u001b[1m60152/60152\u001b[0m \u001b[32m━━━━━━━━━━━━━━━━━━━━\u001b[0m\u001b[37m\u001b[0m \u001b[1m366s\u001b[0m 6ms/step - accuracy: 0.9999 - loss: 0.0018 - val_accuracy: 1.0000 - val_loss: 0.0017\n",
            "\n",
            "Test Accuracy: 0.9195\n"
          ]
        },
        {
          "output_type": "display_data",
          "data": {
            "text/plain": [
              "<Figure size 1200x500 with 2 Axes>"
            ],
            "image/png": "[encoded data removed]"
          },
          "metadata": {}
        }
      ]
    },
    {
      "cell_type": "markdown",
      "source": [
        "# Evaluate 1D CNN Malware Detection Results"
      ],
      "metadata": {
        "id": "xR3T_G90vSvu"
      }
    },
    {
      "cell_type": "code",
      "source": [
        "from sklearn.metrics import confusion_matrix, accuracy_score, classification_report\n",
        "\n",
        "# Get predictions\n",
        "y_pred_probs = model.predict(X_test)\n",
        "y_pred = (y_pred_probs > 0.5).astype(int).flatten()  # Convert probabilities to 0 or 1\n",
        "\n",
        "# Confusion matrix\n",
        "cm = confusion_matrix(y_test, y_pred)\n",
        "\n",
        "# Optional: print as table\n",
        "print(\"Confusion Matrix:\")\n",
        "print(cm)\n",
        "\n",
        "# Detailed breakdown\n",
        "tn, fp, fn, tp = cm.ravel()\n",
        "print(f\"\\nTrue Negatives (Benign correctly classified): {tn}\")\n",
        "print(f\"False Positives (Benign misclassified as malware): {fp}\")\n",
        "print(f\"False Negatives (Malware missed): {fn}\")\n",
        "print(f\"True Positives (Malware correctly identified): {tp}\")\n",
        "\n",
        "# Accuracy score\n",
        "print(\"sklearn accuracy:\", accuracy_score(y_test, y_pred))\n",
        "\n",
        "# Classification report (accuracy, precision, recall, F1)\n",
        "print(\"\\nClassification Report:\")\n",
        "print(classification_report(y_test, y_pred, target_names=[\"Benign\", \"Malicious\"]))"
      ],
      "metadata": {
        "colab": {
          "base_uri": "https://localhost:8080/"
        },
        "id": "G1chgEQVvU-s",
        "outputId": "5a081a2a-b306-47df-9178-e886a018e325"
      },
      "execution_count": 8,
      "outputs": [
        {
          "output_type": "stream",
          "name": "stdout",
          "text": [
            "\u001b[1m44234/44234\u001b[0m \u001b[32m━━━━━━━━━━━━━━━━━━━━\u001b[0m\u001b[37m\u001b[0m \u001b[1m82s\u001b[0m 2ms/step\n",
            "Confusion Matrix:\n",
            "[[829962  14863]\n",
            " [ 99070 471588]]\n",
            "\n",
            "True Negatives (Benign correctly classified): 829962\n",
            "False Positives (Benign misclassified as malware): 14863\n",
            "False Negatives (Malware missed): 99070\n",
            "True Positives (Malware correctly identified): 471588\n",
            "sklearn accuracy: 0.9195094536635198\n",
            "\n",
            "Classification Report:\n",
            "              precision    recall  f1-score   support\n",
            "\n",
            "      Benign       0.89      0.98      0.94    844825\n",
            "   Malicious       0.97      0.83      0.89    570658\n",
            "\n",
            "    accuracy                           0.92   1415483\n",
            "   macro avg       0.93      0.90      0.91   1415483\n",
            "weighted avg       0.92      0.92      0.92   1415483\n",
            "\n"
          ]
        }
      ]
    }
  ]
}