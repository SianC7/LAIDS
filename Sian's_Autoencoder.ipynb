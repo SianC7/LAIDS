{
  "nbformat": 4,
  "nbformat_minor": 0,
  "metadata": {
    "colab": {
      "provenance": [],
      "gpuType": "T4",
      "mount_file_id": "1jJ4QDrSAEifUiGNpyiUDtNn0D4dmqt1I",
      "authorship_tag": "ABX9TyNdCCuGiTm8NzlUABdp46Gt",
      "include_colab_link": true
    },
    "kernelspec": {
      "name": "python3",
      "display_name": "Python 3"
    },
    "language_info": {
      "name": "python"
    },
    "accelerator": "GPU"
  },
  "cells": [
    {
      "cell_type": "markdown",
      "metadata": {
        "id": "view-in-github",
        "colab_type": "text"
      },
      "source": [
        "<a href=\"https://colab.research.google.com/github/SianC7/LAIDS/blob/main/Sian's_Autoencoder.ipynb\" target=\"_parent\"><img src=\"https://colab.research.google.com/assets/colab-badge.svg\" alt=\"Open In Colab\"/></a>"
      ]
    },
    {
      "cell_type": "markdown",
      "source": [
        "#Data Preprocessing"
      ],
      "metadata": {
        "id": "MKlmLT7z2-o8"
      }
    },
    {
      "cell_type": "markdown",
      "source": [
        "Collection:"
      ],
      "metadata": {
        "id": "wuiu17so3BdZ"
      }
    },
    {
      "cell_type": "code",
      "execution_count": 6,
      "metadata": {
        "id": "03NYQCHm2684",
        "colab": {
          "base_uri": "https://localhost:8080/"
        },
        "outputId": "0e740719-766f-4702-b2c0-eb3290ad382f"
      },
      "outputs": [
        {
          "output_type": "stream",
          "name": "stdout",
          "text": [
            "Loaded file: /content/drive/MyDrive/Colab Notebooks/Honours Project/Datasets/CICIDS2017 Machine Learning CVE csv files/Monday-WorkingHours.pcap_ISCX.csv with 529918 rows\n",
            "Loaded file: /content/drive/MyDrive/Colab Notebooks/Honours Project/Datasets/CICIDS2017 Machine Learning CVE csv files/Tuesday-WorkingHours.pcap_ISCX.csv with 445909 rows\n",
            "Loaded file: /content/drive/MyDrive/Colab Notebooks/Honours Project/Datasets/CICIDS2017 Machine Learning CVE csv files/Wednesday-workingHours.pcap_ISCX.csv with 692703 rows\n",
            "Loaded file: /content/drive/MyDrive/Colab Notebooks/Honours Project/Datasets/CICIDS2017 Machine Learning CVE csv files/Thursday-WorkingHours-Morning-WebAttacks.pcap_ISCX.csv with 170366 rows\n",
            "Loaded file: /content/drive/MyDrive/Colab Notebooks/Honours Project/Datasets/CICIDS2017 Machine Learning CVE csv files/Thursday-WorkingHours-Afternoon-Infilteration.pcap_ISCX.csv with 288602 rows\n",
            "Loaded file: /content/drive/MyDrive/Colab Notebooks/Honours Project/Datasets/CICIDS2017 Machine Learning CVE csv files/Friday-WorkingHours-Morning.pcap_ISCX.csv with 191033 rows\n",
            "Loaded file: /content/drive/MyDrive/Colab Notebooks/Honours Project/Datasets/CICIDS2017 Machine Learning CVE csv files/Friday-WorkingHours-Afternoon-DDos.pcap_ISCX.csv with 225745 rows\n",
            "Loaded file: /content/drive/MyDrive/Colab Notebooks/Honours Project/Datasets/CICIDS2017 Machine Learning CVE csv files/Friday-WorkingHours-Afternoon-PortScan.pcap_ISCX.csv with 286467 rows\n"
          ]
        }
      ],
      "source": [
        "import pandas as pd\n",
        "import numpy as np\n",
        "from sklearn.preprocessing import LabelEncoder\n",
        "from sklearn.preprocessing import StandardScaler\n",
        "\n",
        "# Set pandas display options for wide output\n",
        "pd.set_option('display.max_columns', None)\n",
        "pd.set_option('display.width', None)\n",
        "pd.set_option('display.max_colwidth', None)\n",
        "\n",
        "\n",
        "# List of file paths\n",
        "data_file_paths = [\n",
        "    '/content/drive/MyDrive/Colab Notebooks/Honours Project/Datasets/CICIDS2017 Machine Learning CVE csv files/Monday-WorkingHours.pcap_ISCX.csv',\n",
        "    '/content/drive/MyDrive/Colab Notebooks/Honours Project/Datasets/CICIDS2017 Machine Learning CVE csv files/Tuesday-WorkingHours.pcap_ISCX.csv',\n",
        "    '/content/drive/MyDrive/Colab Notebooks/Honours Project/Datasets/CICIDS2017 Machine Learning CVE csv files/Wednesday-workingHours.pcap_ISCX.csv',\n",
        "    '/content/drive/MyDrive/Colab Notebooks/Honours Project/Datasets/CICIDS2017 Machine Learning CVE csv files/Thursday-WorkingHours-Morning-WebAttacks.pcap_ISCX.csv',\n",
        "    '/content/drive/MyDrive/Colab Notebooks/Honours Project/Datasets/CICIDS2017 Machine Learning CVE csv files/Thursday-WorkingHours-Afternoon-Infilteration.pcap_ISCX.csv',\n",
        "    '/content/drive/MyDrive/Colab Notebooks/Honours Project/Datasets/CICIDS2017 Machine Learning CVE csv files/Friday-WorkingHours-Morning.pcap_ISCX.csv',\n",
        "    '/content/drive/MyDrive/Colab Notebooks/Honours Project/Datasets/CICIDS2017 Machine Learning CVE csv files/Friday-WorkingHours-Afternoon-DDos.pcap_ISCX.csv',\n",
        "    '/content/drive/MyDrive/Colab Notebooks/Honours Project/Datasets/CICIDS2017 Machine Learning CVE csv files/Friday-WorkingHours-Afternoon-PortScan.pcap_ISCX.csv',\n",
        "\n",
        "]\n",
        "#Set database variables\n",
        "Mon_df = None\n",
        "Tue_df = None\n",
        "Wed_df = None\n",
        "Thur_df_list = []\n",
        "Fri_df_list = []\n",
        "\n",
        "for file_path in data_file_paths: # Loop through the file paths and add the data to a temp df var\n",
        "  try:\n",
        "      temp_df = pd.read_csv(file_path, sep=\",\", comment=\"#\", header=0)\n",
        "      temp_df.columns = temp_df.columns.str.strip()  # Strip whitespace from column names\n",
        "\n",
        "      if \"Monday\" in file_path:\n",
        "        Mon_df = temp_df\n",
        "        print(f\"Loaded file: {file_path} with {len(temp_df)} rows\")\n",
        "      elif \"Tuesday\" in file_path:\n",
        "        Tue_df = temp_df\n",
        "        print(f\"Loaded file: {file_path} with {len(temp_df)} rows\")\n",
        "      elif \"Wednesday\" in file_path:\n",
        "        Wed_df = temp_df\n",
        "        print(f\"Loaded file: {file_path} with {len(temp_df)} rows\")\n",
        "      elif \"Thursday\" in file_path:\n",
        "        Thur_df_list.append(temp_df)\n",
        "        print(f\"Loaded file: {file_path} with {len(temp_df)} rows\")\n",
        "      elif \"Friday\" in file_path:\n",
        "        Fri_df_list.append(temp_df)\n",
        "        print(f\"Loaded file: {file_path} with {len(temp_df)} rows\")\n",
        "  except Exception as e:\n",
        "      print(f\"Error reading file {file_path}: {e}\")\n",
        "\n",
        "\n",
        "#Concat df lists:\n",
        "Thur_df = pd.concat(Thur_df_list, ignore_index=True) #TEST\n",
        "Fri_df = pd.concat(Fri_df_list, ignore_index=True)\n",
        "\n",
        "# #TEST\n",
        "# print(type(Mon_df))   # should be <class 'pandas.core.frame.DataFrame'>\n",
        "# print(type(Tue_df))   # same\n",
        "# print(type(Wed_df))   # same\n",
        "# print(type(Thur_df))   # same\n",
        "# print(type(Fri_df))   # same\n",
        "\n",
        "# --------------------------------------------------------------------------------------------------------------------------------------\n",
        "\n",
        "day_dfs = [(\"Monday\", Mon_df), (\"Tuesday\", Tue_df), (\"Wednesday\", Wed_df), (\"Thursday\", Thur_df), (\"Friday\", Fri_df)]\n",
        "\n",
        "# print(\"\\nInitial samples:\")\n",
        "# for day, df in day_dfs:\n",
        "#     print(f\"\\n{day}:\")\n",
        "#     print(f\"Number of columns: {df.shape[1]}\")\n",
        "#     print(df.head().to_string())"
      ]
    },
    {
      "cell_type": "markdown",
      "source": [
        "Label Distribution:"
      ],
      "metadata": {
        "id": "pOpCHXVnCuF0"
      }
    },
    {
      "cell_type": "code",
      "source": [
        "# print(\"\\nLabel distribution in each dataframe:\")\n",
        "\n",
        "# total_benign = 0\n",
        "# total_malicious = 0\n",
        "\n",
        "# for day, df in day_dfs:\n",
        "#     print(f\"\\n--- {day} ---\")\n",
        "#     if df.empty:\n",
        "#         print(\"No data for this day.\")\n",
        "#         continue\n",
        "\n",
        "#     if 'Label' in df.columns:\n",
        "#         label_counts = df['Label'].value_counts(dropna=False)\n",
        "#         print(label_counts.to_string())\n",
        "\n",
        "#         for label, count in label_counts.items():\n",
        "#             if str(label).strip().upper() == 'BENIGN':\n",
        "#                 total_benign += count\n",
        "#             else:\n",
        "#                 total_malicious += count\n",
        "#     else:\n",
        "#         print(\"⚠️ 'Label' column not found.\")\n",
        "\n",
        "# print(\"\\n--- Total Sample Summary ---\")\n",
        "# print(f\"Total BENIGN samples: {total_benign}\")\n",
        "# print(f\"Total MALICIOUS samples: {total_malicious}\")"
      ],
      "metadata": {
        "id": "CkCkRPOACvyO"
      },
      "execution_count": 7,
      "outputs": []
    },
    {
      "cell_type": "markdown",
      "source": [
        "Cleaning:"
      ],
      "metadata": {
        "id": "ZQCFkYOr3C9R"
      }
    },
    {
      "cell_type": "code",
      "source": [
        "import pandas as pd\n",
        "import numpy as np\n",
        "from sklearn.preprocessing import LabelEncoder\n",
        "from sklearn.preprocessing import StandardScaler\n",
        "\n",
        "# Set pandas display options for wide output\n",
        "pd.set_option('display.max_columns', None)\n",
        "pd.set_option('display.width', None)\n",
        "pd.set_option('display.max_colwidth', None)\n",
        "\n",
        "\n",
        "for df_name, df in day_dfs:\n",
        "\n",
        "    # Round all float columns to 4 decimal places\n",
        "    df = df.round(4)\n",
        "\n",
        "\n",
        "    # Replace any '-' with NaN for consistent handling\n",
        "    df.replace('-', np.nan, inplace=True)\n",
        "\n",
        "    # --- TEMP FIX -------------------------------------------------------------------------------------\n",
        "    # *** DROP these two problematic columns ***\n",
        "    df.drop(columns=['Flow Bytes/s', 'Flow Packets/s'], errors='ignore', inplace=True)\n",
        "\n",
        "    # Replace infinite values with NaN\n",
        "    df.replace([np.inf, -np.inf], np.nan, inplace=True)\n",
        "    # --- TEMP FIX -------------------------------------------------------------------------------------\n",
        "\n",
        "    # Drop columns with a single unique value (constant columns), e.g. all zeros\n",
        "    #df.drop(columns=[col for col in df.columns if df[col].nunique(dropna=False) == 1 or df[col].eq(0).all()], inplace=True) #FIXX\n",
        "\n",
        "    # Convert labels into binary: benign=0, malicious=1\n",
        "    df['Label'] = df['Label'].apply(lambda x: 0 if 'BENIGN' in str(x).upper() else 1)\n",
        "\n",
        "    # Drop any rows containing NaN\n",
        "    df.dropna(inplace=True)\n",
        "\n",
        "\n",
        "    print(f\"\\nCleaned {df_name} sample:\")\n",
        "    print(df.head().to_string())"
      ],
      "metadata": {
        "id": "ZZ5jTKwr3FMN",
        "colab": {
          "base_uri": "https://localhost:8080/"
        },
        "outputId": "acc8b9b3-7af1-4c71-fe5d-d8fd435d4c8f"
      },
      "execution_count": 8,
      "outputs": [
        {
          "output_type": "stream",
          "name": "stdout",
          "text": [
            "\n",
            "Cleaned Monday sample:\n",
            "   Destination Port  Flow Duration  Total Fwd Packets  Total Backward Packets  Total Length of Fwd Packets  Total Length of Bwd Packets  Fwd Packet Length Max  Fwd Packet Length Min  Fwd Packet Length Mean  Fwd Packet Length Std  Bwd Packet Length Max  Bwd Packet Length Min  Bwd Packet Length Mean  Bwd Packet Length Std  Flow IAT Mean  Flow IAT Std  Flow IAT Max  Flow IAT Min  Fwd IAT Total  Fwd IAT Mean  Fwd IAT Std  Fwd IAT Max  Fwd IAT Min  Bwd IAT Total  Bwd IAT Mean  Bwd IAT Std  Bwd IAT Max  Bwd IAT Min  Fwd PSH Flags  Bwd PSH Flags  Fwd URG Flags  Bwd URG Flags  Fwd Header Length  Bwd Header Length  Fwd Packets/s  Bwd Packets/s  Min Packet Length  Max Packet Length  Packet Length Mean  Packet Length Std  Packet Length Variance  FIN Flag Count  SYN Flag Count  RST Flag Count  PSH Flag Count  ACK Flag Count  URG Flag Count  CWE Flag Count  ECE Flag Count  Down/Up Ratio  Average Packet Size  Avg Fwd Segment Size  Avg Bwd Segment Size  Fwd Header Length.1  Fwd Avg Bytes/Bulk  Fwd Avg Packets/Bulk  Fwd Avg Bulk Rate  Bwd Avg Bytes/Bulk  Bwd Avg Packets/Bulk  Bwd Avg Bulk Rate  Subflow Fwd Packets  Subflow Fwd Bytes  Subflow Bwd Packets  Subflow Bwd Bytes  Init_Win_bytes_forward  Init_Win_bytes_backward  act_data_pkt_fwd  min_seg_size_forward  Active Mean  Active Std  Active Max  Active Min  Idle Mean  Idle Std  Idle Max  Idle Min  Label\n",
            "0             49188              4                  2                       0                           12                            0                      6                      6                     6.0                    0.0                      0                      0                     0.0                    0.0            4.0           0.0             4             4              4           4.0          0.0            4            4              0           0.0          0.0            0            0              0              0              0              0                 40                  0   5.000000e+05            0.0                  6                  6                 6.0                0.0                     0.0               0               0               0               0               1               1               0               0              0                  9.0                   6.0                   0.0                   40                   0                     0                  0                   0                     0                  0                    2                 12                    0                  0                     329                       -1                 1                    20          0.0         0.0           0           0        0.0       0.0         0         0      0\n",
            "1             49188              1                  2                       0                           12                            0                      6                      6                     6.0                    0.0                      0                      0                     0.0                    0.0            1.0           0.0             1             1              1           1.0          0.0            1            1              0           0.0          0.0            0            0              0              0              0              0                 40                  0   2.000000e+06            0.0                  6                  6                 6.0                0.0                     0.0               0               0               0               0               1               1               0               0              0                  9.0                   6.0                   0.0                   40                   0                     0                  0                   0                     0                  0                    2                 12                    0                  0                     329                       -1                 1                    20          0.0         0.0           0           0        0.0       0.0         0         0      0\n",
            "2             49188              1                  2                       0                           12                            0                      6                      6                     6.0                    0.0                      0                      0                     0.0                    0.0            1.0           0.0             1             1              1           1.0          0.0            1            1              0           0.0          0.0            0            0              0              0              0              0                 40                  0   2.000000e+06            0.0                  6                  6                 6.0                0.0                     0.0               0               0               0               0               1               1               0               0              0                  9.0                   6.0                   0.0                   40                   0                     0                  0                   0                     0                  0                    2                 12                    0                  0                     329                       -1                 1                    20          0.0         0.0           0           0        0.0       0.0         0         0      0\n",
            "3             49188              1                  2                       0                           12                            0                      6                      6                     6.0                    0.0                      0                      0                     0.0                    0.0            1.0           0.0             1             1              1           1.0          0.0            1            1              0           0.0          0.0            0            0              0              0              0              0                 40                  0   2.000000e+06            0.0                  6                  6                 6.0                0.0                     0.0               0               0               0               0               1               1               0               0              0                  9.0                   6.0                   0.0                   40                   0                     0                  0                   0                     0                  0                    2                 12                    0                  0                     329                       -1                 1                    20          0.0         0.0           0           0        0.0       0.0         0         0      0\n",
            "4             49486              3                  2                       0                           12                            0                      6                      6                     6.0                    0.0                      0                      0                     0.0                    0.0            3.0           0.0             3             3              3           3.0          0.0            3            3              0           0.0          0.0            0            0              0              0              0              0                 40                  0   6.666667e+05            0.0                  6                  6                 6.0                0.0                     0.0               0               0               0               0               1               1               0               0              0                  9.0                   6.0                   0.0                   40                   0                     0                  0                   0                     0                  0                    2                 12                    0                  0                     245                       -1                 1                    20          0.0         0.0           0           0        0.0       0.0         0         0      0\n",
            "\n",
            "Cleaned Tuesday sample:\n",
            "   Destination Port  Flow Duration  Total Fwd Packets  Total Backward Packets  Total Length of Fwd Packets  Total Length of Bwd Packets  Fwd Packet Length Max  Fwd Packet Length Min  Fwd Packet Length Mean  Fwd Packet Length Std  Bwd Packet Length Max  Bwd Packet Length Min  Bwd Packet Length Mean  Bwd Packet Length Std  Flow IAT Mean  Flow IAT Std  Flow IAT Max  Flow IAT Min  Fwd IAT Total  Fwd IAT Mean  Fwd IAT Std  Fwd IAT Max  Fwd IAT Min  Bwd IAT Total  Bwd IAT Mean  Bwd IAT Std  Bwd IAT Max  Bwd IAT Min  Fwd PSH Flags  Bwd PSH Flags  Fwd URG Flags  Bwd URG Flags  Fwd Header Length  Bwd Header Length  Fwd Packets/s  Bwd Packets/s  Min Packet Length  Max Packet Length  Packet Length Mean  Packet Length Std  Packet Length Variance  FIN Flag Count  SYN Flag Count  RST Flag Count  PSH Flag Count  ACK Flag Count  URG Flag Count  CWE Flag Count  ECE Flag Count  Down/Up Ratio  Average Packet Size  Avg Fwd Segment Size  Avg Bwd Segment Size  Fwd Header Length.1  Fwd Avg Bytes/Bulk  Fwd Avg Packets/Bulk  Fwd Avg Bulk Rate  Bwd Avg Bytes/Bulk  Bwd Avg Packets/Bulk  Bwd Avg Bulk Rate  Subflow Fwd Packets  Subflow Fwd Bytes  Subflow Bwd Packets  Subflow Bwd Bytes  Init_Win_bytes_forward  Init_Win_bytes_backward  act_data_pkt_fwd  min_seg_size_forward  Active Mean  Active Std  Active Max  Active Min  Idle Mean  Idle Std  Idle Max  Idle Min  Label\n",
            "0                88            640                  7                       4                          440                          358                    220                      0                 62.8571               107.3490                    179                      0                    89.5               103.3457        64.0000      135.5573           445             1            640      106.6667     194.3252          497            1            538      179.3333     303.6862          530            4              0              0              0              0                164                104     10937.5000      6250.0000                  0                220             66.5000            99.0018               9801.3636               0               0               0               1               0               0               0               0              0              72.5455               62.8571                  89.5                  164                   0                     0                  0                   0                     0                  0                    7                440                    4                358                    8192                     2053                 2                    20          0.0         0.0           0           0        0.0       0.0         0         0      0\n",
            "1                88            900                  9                       4                          600                         2944                    300                      0                 66.6667               132.2876                   1472                      0                   736.0               849.8596        75.0000      192.7952           684             1            900      112.5000     252.4112          734            1            766      255.3333     435.3233          758            3              0              0              0              0                204                104     10000.0000      4444.4444                  0               1472            253.1429           527.4343             278186.9011               0               0               0               1               0               0               0               0              0             272.6154               66.6667                 736.0                  204                   0                     0                  0                   0                     0                  0                    9                600                    4               2944                    8192                     2053                 2                    20          0.0         0.0           0           0        0.0       0.0         0         0      0\n",
            "2                88           1205                  7                       4                         2776                         2830                   1388                      0                396.5714               677.2747                   1415                      0                   707.5               816.9506       120.5000      236.4333           777             1           1205      200.8333     397.0584         1008            1            927      309.0000     491.6472          876            1              0              0              0              0                164                104      5809.1286      3319.5021                  0               1415            467.1667           690.0989             476236.5152               0               0               0               1               0               0               0               0              0             509.6364              396.5714                 707.5                  164                   0                     0                  0                   0                     0                  0                    7               2776                    4               2830                    8192                     2053                 2                    20          0.0         0.0           0           0        0.0       0.0         0         0      0\n",
            "3                88            511                  7                       4                          452                          370                    226                      0                 64.5714               110.2767                    185                      0                    92.5               106.8098        51.1000       90.7677           299             1            511       85.1667     131.9006          349            1            462      154.0000     224.7198          412            1              0              0              0              0                164                104     13698.6301      7827.7886                  0                226             68.5000           101.9336              10390.4546               0               0               0               1               0               0               0               0              0              74.7273               64.5714                  92.5                  164                   0                     0                  0                   0                     0                  0                    7                452                    4                370                    8192                     2053                 2                    20          0.0         0.0           0           0        0.0       0.0         0         0      0\n",
            "4                88            773                  9                       4                          612                         2944                    306                      0                 68.0000               134.9333                   1472                      0                   736.0               849.8596        64.4167      148.6983           531             1            773       96.6250     196.6657          580            1            675      225.0000     348.9011          627            1              0              0              0              0                204                104     11642.9496      5174.6442                  0               1472            254.0000           527.5208             278278.1538               0               0               0               1               0               0               0               0              0             273.5385               68.0000                 736.0                  204                   0                     0                  0                   0                     0                  0                    9                612                    4               2944                    8192                     2053                 2                    20          0.0         0.0           0           0        0.0       0.0         0         0      0\n",
            "\n",
            "Cleaned Wednesday sample:\n",
            "   Destination Port  Flow Duration  Total Fwd Packets  Total Backward Packets  Total Length of Fwd Packets  Total Length of Bwd Packets  Fwd Packet Length Max  Fwd Packet Length Min  Fwd Packet Length Mean  Fwd Packet Length Std  Bwd Packet Length Max  Bwd Packet Length Min  Bwd Packet Length Mean  Bwd Packet Length Std  Flow IAT Mean  Flow IAT Std  Flow IAT Max  Flow IAT Min  Fwd IAT Total  Fwd IAT Mean  Fwd IAT Std  Fwd IAT Max  Fwd IAT Min  Bwd IAT Total  Bwd IAT Mean  Bwd IAT Std  Bwd IAT Max  Bwd IAT Min  Fwd PSH Flags  Bwd PSH Flags  Fwd URG Flags  Bwd URG Flags  Fwd Header Length  Bwd Header Length  Fwd Packets/s  Bwd Packets/s  Min Packet Length  Max Packet Length  Packet Length Mean  Packet Length Std  Packet Length Variance  FIN Flag Count  SYN Flag Count  RST Flag Count  PSH Flag Count  ACK Flag Count  URG Flag Count  CWE Flag Count  ECE Flag Count  Down/Up Ratio  Average Packet Size  Avg Fwd Segment Size  Avg Bwd Segment Size  Fwd Header Length.1  Fwd Avg Bytes/Bulk  Fwd Avg Packets/Bulk  Fwd Avg Bulk Rate  Bwd Avg Bytes/Bulk  Bwd Avg Packets/Bulk  Bwd Avg Bulk Rate  Subflow Fwd Packets  Subflow Fwd Bytes  Subflow Bwd Packets  Subflow Bwd Bytes  Init_Win_bytes_forward  Init_Win_bytes_backward  act_data_pkt_fwd  min_seg_size_forward  Active Mean  Active Std  Active Max  Active Min  Idle Mean  Idle Std  Idle Max  Idle Min  Label\n",
            "0                80          38308                  1                       1                            6                            6                      6                      6                  6.0000                 0.0000                      6                      6                  6.0000                 0.0000     38308.0000        0.0000         38308         38308              0        0.0000       0.0000            0            0              0        0.0000       0.0000            0            0              0              0              0              0                 20                 20        26.1042        26.1042                  6                  6              6.0000             0.0000                  0.0000               0               0               0               0               1               1               0               0              1               9.0000                6.0000                6.0000                   20                   0                     0                  0                   0                     0                  0                    1                  6                    1                  6                     255                      946                 0                    20          0.0         0.0           0           0        0.0       0.0         0         0      0\n",
            "1               389            479                 11                       5                          172                          326                     79                      0                 15.6364                31.4492                    163                      0                 65.2000                89.2788        31.9333       25.5104            73             0            479       47.9000      38.9428          109            1            401      100.2500     101.7362          237            3              0              0              0              0                368                176     22964.5094     10438.4134                  0                163             29.2941            56.5296               3195.5956               0               0               0               1               0               0               0               0              0              31.1250               15.6364               65.2000                  368                   0                     0                  0                   0                     0                  0                   11                172                    5                326                   29200                      260                 4                    32          0.0         0.0           0           0        0.0       0.0         0         0      0\n",
            "2                88           1095                 10                       6                         3150                         3150                   1575                      0                315.0000               632.5616                   1575                      0                525.0000               813.3265        73.0000      204.9610           810             1           1095      121.6667     298.7461          915            1            995      199.0000     345.5351          810            3              0              0              0              0                336                208      9132.4201      5479.4521                  0               1575            370.5882           671.7515             451250.1324               0               0               0               1               0               0               0               0              0             393.7500              315.0000              525.0000                  336                   0                     0                  0                   0                     0                  0                   10               3150                    6               3150                   29200                     2081                 3                    32          0.0         0.0           0           0        0.0       0.0         0         0      0\n",
            "3               389          15206                 17                      12                         3452                         6660                   1313                      0                203.0588               425.7785                   3069                      0                555.0000               977.4803       543.0714     2519.9314         13391             0          15206      950.3750    3322.4178        13391            2          15112     1373.8182    4176.4496        13961            3              0              0              0              0                560                388      1117.9797       789.1622                  0               3069            337.0667           704.6541             496537.3747               0               0               0               1               0               0               0               0              0             348.6897              203.0588              555.0000                  560                   0                     0                  0                   0                     0                  0                   17               3452                   12               6660                   29200                        0                10                    32          0.0         0.0           0           0        0.0       0.0         0         0      0\n",
            "4                88           1092                  9                       6                         3150                         3152                   1575                      0                350.0000               694.5097                   1576                      0                525.3333               813.8429        78.0000      207.0009           794             1           1092      136.5000     313.8507          910            1           1015      203.0000     333.2402          794            3              0              0              0              0                304                208      8241.7582      5494.5055                  0               1576            393.8750           704.5851             496440.1167               0               0               0               1               0               0               0               0              0             420.1333              350.0000              525.3333                  304                   0                     0                  0                   0                     0                  0                    9               3150                    6               3152                   29200                     2081                 2                    32          0.0         0.0           0           0        0.0       0.0         0         0      0\n",
            "\n",
            "Cleaned Thursday sample:\n",
            "   Destination Port  Flow Duration  Total Fwd Packets  Total Backward Packets  Total Length of Fwd Packets  Total Length of Bwd Packets  Fwd Packet Length Max  Fwd Packet Length Min  Fwd Packet Length Mean  Fwd Packet Length Std  Bwd Packet Length Max  Bwd Packet Length Min  Bwd Packet Length Mean  Bwd Packet Length Std  Flow IAT Mean  Flow IAT Std  Flow IAT Max  Flow IAT Min  Fwd IAT Total  Fwd IAT Mean   Fwd IAT Std  Fwd IAT Max  Fwd IAT Min  Bwd IAT Total  Bwd IAT Mean  Bwd IAT Std  Bwd IAT Max  Bwd IAT Min  Fwd PSH Flags  Bwd PSH Flags  Fwd URG Flags  Bwd URG Flags  Fwd Header Length  Bwd Header Length  Fwd Packets/s  Bwd Packets/s  Min Packet Length  Max Packet Length  Packet Length Mean  Packet Length Std  Packet Length Variance  FIN Flag Count  SYN Flag Count  RST Flag Count  PSH Flag Count  ACK Flag Count  URG Flag Count  CWE Flag Count  ECE Flag Count  Down/Up Ratio  Average Packet Size  Avg Fwd Segment Size  Avg Bwd Segment Size  Fwd Header Length.1  Fwd Avg Bytes/Bulk  Fwd Avg Packets/Bulk  Fwd Avg Bulk Rate  Bwd Avg Bytes/Bulk  Bwd Avg Packets/Bulk  Bwd Avg Bulk Rate  Subflow Fwd Packets  Subflow Fwd Bytes  Subflow Bwd Packets  Subflow Bwd Bytes  Init_Win_bytes_forward  Init_Win_bytes_backward  act_data_pkt_fwd  min_seg_size_forward  Active Mean    Active Std  Active Max  Active Min   Idle Mean      Idle Std  Idle Max  Idle Min  Label\n",
            "0               389      113095465                 48                      24                         9668                        10012                    403                      0                201.4167               203.5483                    923                    316                417.1667               231.0810   1.592894e+06  4.597265e+06      16500000             3      113000000  2.406286e+06  5.491986e+06     16500000            3      113000000   4917177.522  7084368.263     16500000            3              1              0              0              0               1536                768         0.4244         0.2122                  0                923            275.1096           233.8332              54677.9878               0               1               0               0               1               0               0               0              0             278.9306              201.4167              417.1667                 1536                   0                     0                  0                   0                     0                  0                   48               9668                   24              10012                     571                     2079                23                    32   203985.500  5.758373e+05     1629110         379  13800000.0  4.277541e+06  16500000   6737603      0\n",
            "1               389      113473706                 68                      40                        11364                        12718                    403                      0                167.1176               171.9194                   1139                    126                317.9500               208.2613   1.060502e+06  3.813685e+06      16500000             2      113000000  1.693637e+06  4.719143e+06     16500000            2      113000000   2908399.744  5922355.273     16500000            3              1              0              0              0               2176               1280         0.5993         0.3525                  0               1139            224.6330           198.9996              39600.8456               0               1               0               0               1               0               0               0              0             226.7130              167.1176              317.9500                 2176                   0                     0                  0                   0                     0                  0                   68              11364                   40              12718                     390                     2081                39                    32   178326.875  5.034269e+05     1424245         325  13800000.0  4.229413e+06  16500000   6945512      0\n",
            "2                 0      119945515                150                       0                            0                            0                      0                      0                  0.0000                 0.0000                      0                      0                  0.0000                 0.0000   8.050035e+05  5.277837e+06      60100000             0      120000000  8.050035e+05  5.277837e+06     60100000            0              0         0.000        0.000            0            0              0              0              0              0                  0                  0         1.2506         0.0000                  0                  0              0.0000             0.0000                  0.0000               0               0               0               0               0               0               0               0              0               0.0000                0.0000                0.0000                    0                   0                     0                  0                   0                     0                  0                  150                  0                    0                  0                      -1                       -1                 0                     0  6909777.333  1.170000e+07    20400000           6  24400000.0  2.430000e+07  60100000   5702188      0\n",
            "3               443       60261928                  9                       7                         2330                         4221                   1093                      0                258.8889               409.7022                   1460                      0                603.0000               653.5942   4.017462e+06  1.550000e+07      60000000             1       60300000  7.532741e+06  2.120000e+07     60000000          311         211947     35324.500    27504.334        57109           48              0              0              0              0                192                152         0.1493         0.1162                  0               1460            385.3529           532.0941             283124.1176               0               0               0               1               0               0               0               0              0             409.4375              258.8889              603.0000                  192                   0                     0                  0                   0                     0                  0                    9               2330                    7               4221                    8192                      513                 8                    20        0.000  0.000000e+00           0           0         0.0  0.000000e+00         0         0      0\n",
            "4                53            269                  2                       2                          102                          322                     51                     51                 51.0000                 0.0000                    161                    161                161.0000                 0.0000   8.966670e+01  1.483790e+02           261             4              4  4.000000e+00  0.000000e+00            4            4              4         4.000        0.000            4            4              0              0              0              0                 64                 64      7434.9442      7434.9442                 51                161             95.0000            60.2495               3630.0000               0               0               0               0               0               0               0               0              1             118.7500               51.0000              161.0000                   64                   0                     0                  0                   0                     0                  0                    2                102                    2                322                      -1                       -1                 1                    32        0.000  0.000000e+00           0           0         0.0  0.000000e+00         0         0      0\n",
            "\n",
            "Cleaned Friday sample:\n",
            "   Destination Port  Flow Duration  Total Fwd Packets  Total Backward Packets  Total Length of Fwd Packets  Total Length of Bwd Packets  Fwd Packet Length Max  Fwd Packet Length Min  Fwd Packet Length Mean  Fwd Packet Length Std  Bwd Packet Length Max  Bwd Packet Length Min  Bwd Packet Length Mean  Bwd Packet Length Std  Flow IAT Mean  Flow IAT Std  Flow IAT Max  Flow IAT Min  Fwd IAT Total  Fwd IAT Mean   Fwd IAT Std  Fwd IAT Max  Fwd IAT Min  Bwd IAT Total  Bwd IAT Mean  Bwd IAT Std  Bwd IAT Max  Bwd IAT Min  Fwd PSH Flags  Bwd PSH Flags  Fwd URG Flags  Bwd URG Flags  Fwd Header Length  Bwd Header Length  Fwd Packets/s  Bwd Packets/s  Min Packet Length  Max Packet Length  Packet Length Mean  Packet Length Std  Packet Length Variance  FIN Flag Count  SYN Flag Count  RST Flag Count  PSH Flag Count  ACK Flag Count  URG Flag Count  CWE Flag Count  ECE Flag Count  Down/Up Ratio  Average Packet Size  Avg Fwd Segment Size  Avg Bwd Segment Size  Fwd Header Length.1  Fwd Avg Bytes/Bulk  Fwd Avg Packets/Bulk  Fwd Avg Bulk Rate  Bwd Avg Bytes/Bulk  Bwd Avg Packets/Bulk  Bwd Avg Bulk Rate  Subflow Fwd Packets  Subflow Fwd Bytes  Subflow Bwd Packets  Subflow Bwd Bytes  Init_Win_bytes_forward  Init_Win_bytes_backward  act_data_pkt_fwd  min_seg_size_forward   Active Mean   Active Std  Active Max  Active Min   Idle Mean      Idle Std  Idle Max  Idle Min  Label\n",
            "0              3268      112740690                 32                      16                         6448                         1152                    403                      0                   201.5               204.7242                     72                     72                    72.0                    0.0   2.398738e+06  5.798698e+06      16400000             3      113000000  3.636796e+06  6.848761e+06     16400000            3      113000000   7516023.200  8323384.915     16400000            3              1              0              0              0               1024                512         0.2838         0.1419                  0                403            163.3265           178.9317              32016.5578               0               1               0               0               1               0               0               0              0             166.7292                 201.5                  72.0                 1024                   0                     0                  0                   0                     0                  0                   32               6448                   16               1152                     377                     2079                15                    32  3.594286e+02       11.998         380         343  16100000.0  4.988048e+05  16400000  15400000      0\n",
            "1               389      112740560                 32                      16                         6448                         5056                    403                      0                   201.5               204.7242                    316                    316                   316.0                    0.0   2.398735e+06  5.798710e+06      16400000             2      113000000  3.636792e+06  6.848777e+06     16400000            2      113000000   7516016.133  8323376.147     16400000            4              1              0              0              0               1024                512         0.2838         0.1419                  0                403            243.0000           174.7169              30526.0000               0               1               0               0               1               0               0               0              0             248.0625                 201.5                 316.0                 1024                   0                     0                  0                   0                     0                  0                   32               6448                   16               5056                     955                     2079                15                    32  3.202857e+02       15.745         330         285  16100000.0  4.987937e+05  16400000  15400000      0\n",
            "2                 0      113757377                545                       0                            0                            0                      0                      0                     0.0                 0.0000                      0                      0                     0.0                    0.0   2.091128e+05  1.395543e+06      20800000             0      114000000  2.091128e+05  1.395543e+06     20800000            0              0         0.000        0.000            0            0              0              0              0              0                  0                  0         4.7909         0.0000                  0                  0              0.0000             0.0000                  0.0000               0               0               0               0               0               0               0               0              0               0.0000                   0.0                   0.0                    0                   0                     0                  0                   0                     0                  0                  545                  0                    0                  0                      -1                       -1                 0                     0  9.361829e+06  7324645.883    18900000          19  12200000.0  6.935824e+06  20800000   5504997      0\n",
            "3              5355         100126                 22                       0                          616                            0                     28                     28                    28.0                 0.0000                      0                      0                     0.0                    0.0   4.767905e+03  2.183302e+04        100055             1         100126  4.767905e+03  2.183302e+04       100055            1              0         0.000        0.000            0            0              0              0              0              0                704                  0       219.7231         0.0000                 28                 28             28.0000             0.0000                  0.0000               0               0               0               0               0               0               0               0              0              29.2727                  28.0                   0.0                  704                   0                     0                  0                   0                     0                  0                   22                616                    0                  0                      -1                       -1                21                    32  0.000000e+00        0.000           0           0         0.0  0.000000e+00         0         0      0\n",
            "4                 0          54760                  4                       0                            0                            0                      0                      0                     0.0                 0.0000                      0                      0                     0.0                    0.0   1.825333e+04  3.046984e+04         53431           108          54760  1.825333e+04  3.046984e+04        53431          108              0         0.000        0.000            0            0              0              0              0              0                  0                  0        73.0460         0.0000                  0                  0              0.0000             0.0000                  0.0000               0               0               0               0               0               0               0               0              0               0.0000                   0.0                   0.0                    0                   0                     0                  0                   0                     0                  0                    4                  0                    0                  0                      -1                       -1                 0                     0  0.000000e+00        0.000           0           0         0.0  0.000000e+00         0         0      0\n"
          ]
        }
      ]
    },
    {
      "cell_type": "markdown",
      "source": [
        "Train/Test Split"
      ],
      "metadata": {
        "id": "yNULnbGY5kbN"
      }
    },
    {
      "cell_type": "code",
      "source": [
        "from sklearn.model_selection import train_test_split\n",
        "from sklearn.utils import shuffle\n",
        "\n",
        "# print(type(Mon_df))   # should be <class 'pandas.core.frame.DataFrame'>\n",
        "# print(type(Tue_df))   # same\n",
        "# print(type(Wed_df))   # same\n",
        "# print(type(Thur_df))   # same\n",
        "# print(type(Fri_df))   # same\n",
        "\n",
        "# --- Train/Test Split ---\n",
        "\n",
        "# Training data (Monday - benign only)\n",
        "X_train = Mon_df.drop(columns=['Label']).values\n",
        "y_train = Mon_df['Label'].values\n",
        "\n",
        "# Test set contains Malicious and Benign data\n",
        "test_df = pd.concat([Tue_df, Wed_df, Thur_df, Fri_df], ignore_index=True)\n",
        "y_test = test_df['Label'].values\n",
        "X_test = test_df.drop(columns=['Label']).values\n",
        "\n",
        "# Print dataset sizes\n",
        "print(f\"Training set size: {len(X_train)} samples\")\n",
        "print(f\"Test set size: {len(X_test)} samples\")\n",
        "\n",
        "# # Count benign (0) in training\n",
        "# benign_train = np.sum(y_train == 0)\n",
        "\n",
        "# # Count benign (0) and malicious (1) in test\n",
        "# benign_test = np.sum(y_test == 0)\n",
        "# malicious_test = np.sum(y_test == 1)\n",
        "\n",
        "# # Print label distribution\n",
        "# print(\"\\n--- Training Label Distribution ---\")\n",
        "# print(f\"Benign:    {benign_train}\")\n",
        "\n",
        "# print(\"\\n--- Test Label Distribution ---\")\n",
        "# print(f\"Benign:    {benign_test}\")\n",
        "# print(f\"Malicious: {malicious_test}\")\n",
        "\n"
      ],
      "metadata": {
        "id": "hMQ-3vY55qOE",
        "colab": {
          "base_uri": "https://localhost:8080/"
        },
        "outputId": "2153613b-500c-4f56-8914-d7a0c5b533b0"
      },
      "execution_count": 9,
      "outputs": [
        {
          "output_type": "stream",
          "name": "stdout",
          "text": [
            "Training set size: 529918 samples\n",
            "Test set size: 2300825 samples\n"
          ]
        }
      ]
    },
    {
      "cell_type": "markdown",
      "source": [
        "Normalise the data:"
      ],
      "metadata": {
        "id": "3Qg4Tb925afz"
      }
    },
    {
      "cell_type": "code",
      "source": [
        "from sklearn.preprocessing import MinMaxScaler, RobustScaler\n",
        "import pandas as pd\n",
        "\n",
        "# --- Normalize --- #standardise data features\n",
        "# Initialize the scaler\n",
        "scaler = RobustScaler()\n",
        "\n",
        "# Apply the scaler\n",
        "X_train_scaled = scaler.fit_transform(X_train)\n",
        "X_test_scaled = scaler.transform(X_test)\n"
      ],
      "metadata": {
        "id": "AhVdUYUI5tPR",
        "colab": {
          "base_uri": "https://localhost:8080/",
          "height": 350
        },
        "outputId": "2a5c6c87-b801-4fbf-d8f0-52240e6e55ee"
      },
      "execution_count": 10,
      "outputs": [
        {
          "output_type": "error",
          "ename": "ValueError",
          "evalue": "Input X contains infinity or a value too large for dtype('float64').",
          "traceback": [
            "\u001b[0;31m---------------------------------------------------------------------------\u001b[0m",
            "\u001b[0;31mValueError\u001b[0m                                Traceback (most recent call last)",
            "\u001b[0;32m/tmp/ipython-input-10-412017320.py\u001b[0m in \u001b[0;36m<cell line: 0>\u001b[0;34m()\u001b[0m\n\u001b[1;32m      7\u001b[0m \u001b[0;34m\u001b[0m\u001b[0m\n\u001b[1;32m      8\u001b[0m \u001b[0;31m# Apply the scaler\u001b[0m\u001b[0;34m\u001b[0m\u001b[0;34m\u001b[0m\u001b[0m\n\u001b[0;32m----> 9\u001b[0;31m \u001b[0mX_train_scaled\u001b[0m \u001b[0;34m=\u001b[0m \u001b[0mscaler\u001b[0m\u001b[0;34m.\u001b[0m\u001b[0mfit_transform\u001b[0m\u001b[0;34m(\u001b[0m\u001b[0mX_train\u001b[0m\u001b[0;34m)\u001b[0m\u001b[0;34m\u001b[0m\u001b[0;34m\u001b[0m\u001b[0m\n\u001b[0m\u001b[1;32m     10\u001b[0m \u001b[0mX_test_scaled\u001b[0m \u001b[0;34m=\u001b[0m \u001b[0mscaler\u001b[0m\u001b[0;34m.\u001b[0m\u001b[0mtransform\u001b[0m\u001b[0;34m(\u001b[0m\u001b[0mX_test\u001b[0m\u001b[0;34m)\u001b[0m\u001b[0;34m\u001b[0m\u001b[0;34m\u001b[0m\u001b[0m\n",
            "\u001b[0;32m/usr/local/lib/python3.11/dist-packages/sklearn/utils/_set_output.py\u001b[0m in \u001b[0;36mwrapped\u001b[0;34m(self, X, *args, **kwargs)\u001b[0m\n\u001b[1;32m    317\u001b[0m     \u001b[0;34m@\u001b[0m\u001b[0mwraps\u001b[0m\u001b[0;34m(\u001b[0m\u001b[0mf\u001b[0m\u001b[0;34m)\u001b[0m\u001b[0;34m\u001b[0m\u001b[0;34m\u001b[0m\u001b[0m\n\u001b[1;32m    318\u001b[0m     \u001b[0;32mdef\u001b[0m \u001b[0mwrapped\u001b[0m\u001b[0;34m(\u001b[0m\u001b[0mself\u001b[0m\u001b[0;34m,\u001b[0m \u001b[0mX\u001b[0m\u001b[0;34m,\u001b[0m \u001b[0;34m*\u001b[0m\u001b[0margs\u001b[0m\u001b[0;34m,\u001b[0m \u001b[0;34m**\u001b[0m\u001b[0mkwargs\u001b[0m\u001b[0;34m)\u001b[0m\u001b[0;34m:\u001b[0m\u001b[0;34m\u001b[0m\u001b[0;34m\u001b[0m\u001b[0m\n\u001b[0;32m--> 319\u001b[0;31m         \u001b[0mdata_to_wrap\u001b[0m \u001b[0;34m=\u001b[0m \u001b[0mf\u001b[0m\u001b[0;34m(\u001b[0m\u001b[0mself\u001b[0m\u001b[0;34m,\u001b[0m \u001b[0mX\u001b[0m\u001b[0;34m,\u001b[0m \u001b[0;34m*\u001b[0m\u001b[0margs\u001b[0m\u001b[0;34m,\u001b[0m \u001b[0;34m**\u001b[0m\u001b[0mkwargs\u001b[0m\u001b[0;34m)\u001b[0m\u001b[0;34m\u001b[0m\u001b[0;34m\u001b[0m\u001b[0m\n\u001b[0m\u001b[1;32m    320\u001b[0m         \u001b[0;32mif\u001b[0m \u001b[0misinstance\u001b[0m\u001b[0;34m(\u001b[0m\u001b[0mdata_to_wrap\u001b[0m\u001b[0;34m,\u001b[0m \u001b[0mtuple\u001b[0m\u001b[0;34m)\u001b[0m\u001b[0;34m:\u001b[0m\u001b[0;34m\u001b[0m\u001b[0;34m\u001b[0m\u001b[0m\n\u001b[1;32m    321\u001b[0m             \u001b[0;31m# only wrap the first output for cross decomposition\u001b[0m\u001b[0;34m\u001b[0m\u001b[0;34m\u001b[0m\u001b[0m\n",
            "\u001b[0;32m/usr/local/lib/python3.11/dist-packages/sklearn/base.py\u001b[0m in \u001b[0;36mfit_transform\u001b[0;34m(self, X, y, **fit_params)\u001b[0m\n\u001b[1;32m    916\u001b[0m         \u001b[0;32mif\u001b[0m \u001b[0my\u001b[0m \u001b[0;32mis\u001b[0m \u001b[0;32mNone\u001b[0m\u001b[0;34m:\u001b[0m\u001b[0;34m\u001b[0m\u001b[0;34m\u001b[0m\u001b[0m\n\u001b[1;32m    917\u001b[0m             \u001b[0;31m# fit method of arity 1 (unsupervised transformation)\u001b[0m\u001b[0;34m\u001b[0m\u001b[0;34m\u001b[0m\u001b[0m\n\u001b[0;32m--> 918\u001b[0;31m             \u001b[0;32mreturn\u001b[0m \u001b[0mself\u001b[0m\u001b[0;34m.\u001b[0m\u001b[0mfit\u001b[0m\u001b[0;34m(\u001b[0m\u001b[0mX\u001b[0m\u001b[0;34m,\u001b[0m \u001b[0;34m**\u001b[0m\u001b[0mfit_params\u001b[0m\u001b[0;34m)\u001b[0m\u001b[0;34m.\u001b[0m\u001b[0mtransform\u001b[0m\u001b[0;34m(\u001b[0m\u001b[0mX\u001b[0m\u001b[0;34m)\u001b[0m\u001b[0;34m\u001b[0m\u001b[0;34m\u001b[0m\u001b[0m\n\u001b[0m\u001b[1;32m    919\u001b[0m         \u001b[0;32melse\u001b[0m\u001b[0;34m:\u001b[0m\u001b[0;34m\u001b[0m\u001b[0;34m\u001b[0m\u001b[0m\n\u001b[1;32m    920\u001b[0m             \u001b[0;31m# fit method of arity 2 (supervised transformation)\u001b[0m\u001b[0;34m\u001b[0m\u001b[0;34m\u001b[0m\u001b[0m\n",
            "\u001b[0;32m/usr/local/lib/python3.11/dist-packages/sklearn/base.py\u001b[0m in \u001b[0;36mwrapper\u001b[0;34m(estimator, *args, **kwargs)\u001b[0m\n\u001b[1;32m   1387\u001b[0m                 )\n\u001b[1;32m   1388\u001b[0m             ):\n\u001b[0;32m-> 1389\u001b[0;31m                 \u001b[0;32mreturn\u001b[0m \u001b[0mfit_method\u001b[0m\u001b[0;34m(\u001b[0m\u001b[0mestimator\u001b[0m\u001b[0;34m,\u001b[0m \u001b[0;34m*\u001b[0m\u001b[0margs\u001b[0m\u001b[0;34m,\u001b[0m \u001b[0;34m**\u001b[0m\u001b[0mkwargs\u001b[0m\u001b[0;34m)\u001b[0m\u001b[0;34m\u001b[0m\u001b[0;34m\u001b[0m\u001b[0m\n\u001b[0m\u001b[1;32m   1390\u001b[0m \u001b[0;34m\u001b[0m\u001b[0m\n\u001b[1;32m   1391\u001b[0m         \u001b[0;32mreturn\u001b[0m \u001b[0mwrapper\u001b[0m\u001b[0;34m\u001b[0m\u001b[0;34m\u001b[0m\u001b[0m\n",
            "\u001b[0;32m/usr/local/lib/python3.11/dist-packages/sklearn/preprocessing/_data.py\u001b[0m in \u001b[0;36mfit\u001b[0;34m(self, X, y)\u001b[0m\n\u001b[1;32m   1622\u001b[0m         \u001b[0;31m# at fit, convert sparse matrices to csc for optimized computation of\u001b[0m\u001b[0;34m\u001b[0m\u001b[0;34m\u001b[0m\u001b[0m\n\u001b[1;32m   1623\u001b[0m         \u001b[0;31m# the quantiles\u001b[0m\u001b[0;34m\u001b[0m\u001b[0;34m\u001b[0m\u001b[0m\n\u001b[0;32m-> 1624\u001b[0;31m         X = validate_data(\n\u001b[0m\u001b[1;32m   1625\u001b[0m             \u001b[0mself\u001b[0m\u001b[0;34m,\u001b[0m\u001b[0;34m\u001b[0m\u001b[0;34m\u001b[0m\u001b[0m\n\u001b[1;32m   1626\u001b[0m             \u001b[0mX\u001b[0m\u001b[0;34m,\u001b[0m\u001b[0;34m\u001b[0m\u001b[0;34m\u001b[0m\u001b[0m\n",
            "\u001b[0;32m/usr/local/lib/python3.11/dist-packages/sklearn/utils/validation.py\u001b[0m in \u001b[0;36mvalidate_data\u001b[0;34m(_estimator, X, y, reset, validate_separately, skip_check_array, **check_params)\u001b[0m\n\u001b[1;32m   2942\u001b[0m             \u001b[0mout\u001b[0m \u001b[0;34m=\u001b[0m \u001b[0mX\u001b[0m\u001b[0;34m,\u001b[0m \u001b[0my\u001b[0m\u001b[0;34m\u001b[0m\u001b[0;34m\u001b[0m\u001b[0m\n\u001b[1;32m   2943\u001b[0m     \u001b[0;32melif\u001b[0m \u001b[0;32mnot\u001b[0m \u001b[0mno_val_X\u001b[0m \u001b[0;32mand\u001b[0m \u001b[0mno_val_y\u001b[0m\u001b[0;34m:\u001b[0m\u001b[0;34m\u001b[0m\u001b[0;34m\u001b[0m\u001b[0m\n\u001b[0;32m-> 2944\u001b[0;31m         \u001b[0mout\u001b[0m \u001b[0;34m=\u001b[0m \u001b[0mcheck_array\u001b[0m\u001b[0;34m(\u001b[0m\u001b[0mX\u001b[0m\u001b[0;34m,\u001b[0m \u001b[0minput_name\u001b[0m\u001b[0;34m=\u001b[0m\u001b[0;34m\"X\"\u001b[0m\u001b[0;34m,\u001b[0m \u001b[0;34m**\u001b[0m\u001b[0mcheck_params\u001b[0m\u001b[0;34m)\u001b[0m\u001b[0;34m\u001b[0m\u001b[0;34m\u001b[0m\u001b[0m\n\u001b[0m\u001b[1;32m   2945\u001b[0m     \u001b[0;32melif\u001b[0m \u001b[0mno_val_X\u001b[0m \u001b[0;32mand\u001b[0m \u001b[0;32mnot\u001b[0m \u001b[0mno_val_y\u001b[0m\u001b[0;34m:\u001b[0m\u001b[0;34m\u001b[0m\u001b[0;34m\u001b[0m\u001b[0m\n\u001b[1;32m   2946\u001b[0m         \u001b[0mout\u001b[0m \u001b[0;34m=\u001b[0m \u001b[0m_check_y\u001b[0m\u001b[0;34m(\u001b[0m\u001b[0my\u001b[0m\u001b[0;34m,\u001b[0m \u001b[0;34m**\u001b[0m\u001b[0mcheck_params\u001b[0m\u001b[0;34m)\u001b[0m\u001b[0;34m\u001b[0m\u001b[0;34m\u001b[0m\u001b[0m\n",
            "\u001b[0;32m/usr/local/lib/python3.11/dist-packages/sklearn/utils/validation.py\u001b[0m in \u001b[0;36mcheck_array\u001b[0;34m(array, accept_sparse, accept_large_sparse, dtype, order, copy, force_writeable, force_all_finite, ensure_all_finite, ensure_non_negative, ensure_2d, allow_nd, ensure_min_samples, ensure_min_features, estimator, input_name)\u001b[0m\n\u001b[1;32m   1105\u001b[0m \u001b[0;34m\u001b[0m\u001b[0m\n\u001b[1;32m   1106\u001b[0m         \u001b[0;32mif\u001b[0m \u001b[0mensure_all_finite\u001b[0m\u001b[0;34m:\u001b[0m\u001b[0;34m\u001b[0m\u001b[0;34m\u001b[0m\u001b[0m\n\u001b[0;32m-> 1107\u001b[0;31m             _assert_all_finite(\n\u001b[0m\u001b[1;32m   1108\u001b[0m                 \u001b[0marray\u001b[0m\u001b[0;34m,\u001b[0m\u001b[0;34m\u001b[0m\u001b[0;34m\u001b[0m\u001b[0m\n\u001b[1;32m   1109\u001b[0m                 \u001b[0minput_name\u001b[0m\u001b[0;34m=\u001b[0m\u001b[0minput_name\u001b[0m\u001b[0;34m,\u001b[0m\u001b[0;34m\u001b[0m\u001b[0;34m\u001b[0m\u001b[0m\n",
            "\u001b[0;32m/usr/local/lib/python3.11/dist-packages/sklearn/utils/validation.py\u001b[0m in \u001b[0;36m_assert_all_finite\u001b[0;34m(X, allow_nan, msg_dtype, estimator_name, input_name)\u001b[0m\n\u001b[1;32m    118\u001b[0m         \u001b[0;32mreturn\u001b[0m\u001b[0;34m\u001b[0m\u001b[0;34m\u001b[0m\u001b[0m\n\u001b[1;32m    119\u001b[0m \u001b[0;34m\u001b[0m\u001b[0m\n\u001b[0;32m--> 120\u001b[0;31m     _assert_all_finite_element_wise(\n\u001b[0m\u001b[1;32m    121\u001b[0m         \u001b[0mX\u001b[0m\u001b[0;34m,\u001b[0m\u001b[0;34m\u001b[0m\u001b[0;34m\u001b[0m\u001b[0m\n\u001b[1;32m    122\u001b[0m         \u001b[0mxp\u001b[0m\u001b[0;34m=\u001b[0m\u001b[0mxp\u001b[0m\u001b[0;34m,\u001b[0m\u001b[0;34m\u001b[0m\u001b[0;34m\u001b[0m\u001b[0m\n",
            "\u001b[0;32m/usr/local/lib/python3.11/dist-packages/sklearn/utils/validation.py\u001b[0m in \u001b[0;36m_assert_all_finite_element_wise\u001b[0;34m(X, xp, allow_nan, msg_dtype, estimator_name, input_name)\u001b[0m\n\u001b[1;32m    167\u001b[0m                 \u001b[0;34m\"#estimators-that-handle-nan-values\"\u001b[0m\u001b[0;34m\u001b[0m\u001b[0;34m\u001b[0m\u001b[0m\n\u001b[1;32m    168\u001b[0m             )\n\u001b[0;32m--> 169\u001b[0;31m         \u001b[0;32mraise\u001b[0m \u001b[0mValueError\u001b[0m\u001b[0;34m(\u001b[0m\u001b[0mmsg_err\u001b[0m\u001b[0;34m)\u001b[0m\u001b[0;34m\u001b[0m\u001b[0;34m\u001b[0m\u001b[0m\n\u001b[0m\u001b[1;32m    170\u001b[0m \u001b[0;34m\u001b[0m\u001b[0m\n\u001b[1;32m    171\u001b[0m \u001b[0;34m\u001b[0m\u001b[0m\n",
            "\u001b[0;31mValueError\u001b[0m: Input X contains infinity or a value too large for dtype('float64')."
          ]
        }
      ]
    },
    {
      "cell_type": "markdown",
      "source": [
        "#Autoencoder model\n",
        "An autoencoder model consists of two parts:\n",
        "- **Encoder**: Responsible for compressing the input data into a lower-dimensional representation of the input data that captures the most important information.\n",
        "- **Decoder**: Responsible for reconstructing the input data from the latent space representation. The decoder takes the latent space representation as input and produces a reconstructed version of the input data as output. The reconstructed data should be as similar as possible to the original input data.\n",
        "\n",
        "- Advantages of autoencoders: Can be used to detect anomalies, unsupervised learning models (they do not require labeled data in training), easy to train and implement.\n",
        "- Disadvantages of autoencoders: computationally expensive to train (especially for large datasets.), they are sensitive to the choice of hyperparameters, difficult to interpret.\n",
        "\n",
        "Below is a simple autoencoder model with three layers in the encoder and three layers in the decoder. https://levelup.gitconnected.com/build-deep-autoencoders-model-for-anomaly-detection-in-python-a-complete-guide-a7d0ec0e688\n",
        "https://medium.com/@ndhilani.simbine/how-i-built-a-real-time-anomaly-detection-system-for-enterprise-networks-using-python-and-machine-0078d8a26e84"
      ],
      "metadata": {
        "id": "kB51A9_Q_g_F"
      }
    },
    {
      "cell_type": "code",
      "source": [
        "from tensorflow.keras.models import Model, Sequential\n",
        "from tensorflow.keras.layers import Input, Dense\n",
        "\n",
        "input_dim = X_train_scaled.shape[1]\n",
        "\n",
        "# # Encoder\n",
        "# input_layer = Input(shape=(input_dim,))\n",
        "# encoded = Dense(128, activation='relu')(input_layer)\n",
        "# encoded = Dense(64, activation='relu')(encoded)\n",
        "# encoded = Dense(32, activation='relu')(encoded)\n",
        "# # Decoder\n",
        "# decoded = Dense(64, activation='relu')(encoded)\n",
        "# decoded = Dense(128, activation='relu')(decoded)\n",
        "# decoded = Dense(input_dim, activation='sigmoid')(decoded)\n",
        "# # Autoencoder model\n",
        "# autoencoder = Model(inputs=input_layer, outputs=decoded)\n",
        "\n",
        "autoencoder = Sequential([\n",
        "    Input(shape=(input_dim,)),\n",
        "    Dense(32, activation='relu'),                             # Encoder layer\n",
        "    Dense(16, activation='relu'),                             # Encoder bottleneck\n",
        "    Dense(32, activation='relu'),                             # Decoder layer\n",
        "    Dense(input_dim, activation='sigmoid')                    # Output layer (same size as input)\n",
        "])\n",
        "\n",
        "autoencoder.compile(optimizer='adam', loss='mse')"
      ],
      "metadata": {
        "id": "rN4vtElJ_jaX"
      },
      "execution_count": null,
      "outputs": []
    },
    {
      "cell_type": "markdown",
      "source": [
        "# Train and test the model"
      ],
      "metadata": {
        "id": "ANpOFlaNGodh"
      }
    },
    {
      "cell_type": "code",
      "source": [
        "import matplotlib.pyplot as plt\n",
        "import timeit\n",
        "\n",
        "# Start timing\n",
        "start_time = timeit.default_timer()\n",
        "\n",
        "# Train the autoencoder\n",
        "history = autoencoder.fit(\n",
        "    X_train_scaled, X_train_scaled,  # Autoencoders use X_train as both input and target\n",
        "    epochs=20,\n",
        "    batch_size=64,\n",
        "    validation_split=0.2,\n",
        "    verbose=1\n",
        ")\n",
        "\n",
        "# End timing\n",
        "end_time = timeit.default_timer()\n",
        "print(f\"Training time: {end_time - start_time:.2f} seconds\")\n",
        "\n",
        "# Plot training and validation loss\n",
        "plt.figure(figsize=(10, 5))\n",
        "\n",
        "plt.plot(history.history['loss'], label='Train Loss')\n",
        "plt.plot(history.history['val_loss'], label='Validation Loss')\n",
        "plt.title('Autoencoder Training Loss')\n",
        "plt.xlabel('Epoch')\n",
        "plt.ylabel('Mean Squared Error')\n",
        "plt.legend()\n",
        "plt.grid(True)\n",
        "plt.tight_layout()\n",
        "plt.show()\n",
        "\n"
      ],
      "metadata": {
        "id": "be8XMHLWGrDY"
      },
      "execution_count": null,
      "outputs": []
    },
    {
      "cell_type": "markdown",
      "source": [
        "#Test the model"
      ],
      "metadata": {
        "id": "ICz3kCpnfhVk"
      }
    },
    {
      "cell_type": "code",
      "source": [
        "# Evaluate the model on the test data\n",
        "loss = autoencoder.evaluate(X_test_scaled, X_test_scaled)\n",
        "mse = autoencoder.evaluate(X_test_scaled, X_test_scaled)\n",
        "\n",
        "print('Test loss:', loss)\n",
        "print('Test mean squared error:', mse)\n",
        "\n",
        "# Calculate the anomaly score (by calculating the reconstruction errors for the test data)\n",
        "# Calculate the reconstruction errors for the test data\n",
        "reconstruction_errors = autoencoder.predict(X_test_scaled) - X_test_scaled\n",
        "\n",
        "# Threshold the reconstruction errors to identify anomalies\n",
        "anomaly_threshold = 0.1\n",
        "\n",
        "anomalies = np.where(reconstruction_errors > anomaly_threshold)[0]\n",
        "\n",
        "# Print the number of anomalies detected\n",
        "print('Number of anomalies detected:', len(anomalies))"
      ],
      "metadata": {
        "id": "tmcSjua3fkdD"
      },
      "execution_count": null,
      "outputs": []
    },
    {
      "cell_type": "markdown",
      "source": [
        "#Reconstruction Error Plot?"
      ],
      "metadata": {
        "id": "4BKWp0Uwfacb"
      }
    },
    {
      "cell_type": "code",
      "source": [
        "import matplotlib.pyplot as plt\n",
        "import numpy as np\n",
        "\n",
        "# # --- Train the model ---\n",
        "# autoencoder.fit(X_train, X_train, epochs=20, validation_split=0.2)\n",
        "\n",
        "# # --- Evaluate the model ---\n",
        "# loss = autoencoder.evaluate(X_test, X_test)\n",
        "# print('Test loss (MSE):', loss)\n",
        "\n",
        "# # --- Predict reconstructed outputs ---\n",
        "# reconstructed = autoencoder.predict(X_test)\n",
        "\n",
        "# # --- Calculate per-sample reconstruction error (mean squared error) ---\n",
        "# reconstruction_errors = np.mean((X_test - reconstructed) ** 2, axis=1)\n",
        "\n",
        "# --- Visualize reconstruction error ---\n",
        "plt.figure(figsize=(10, 5))\n",
        "plt.hist(reconstruction_errors, bins=50, color='skyblue', edgecolor='black')\n",
        "plt.axvline(np.mean(reconstruction_errors) + 2 * np.std(reconstruction_errors), color='red', linestyle='--', label='Anomaly Threshold')\n",
        "plt.title(\"Reconstruction Error Distribution\")\n",
        "plt.xlabel(\"Mean Squared Error per Sample\")\n",
        "plt.ylabel(\"Frequency\")\n",
        "plt.legend()\n",
        "plt.grid(True)\n",
        "plt.tight_layout()\n",
        "plt.show()\n",
        "\n",
        "# --- Detect anomalies based on threshold ---\n",
        "threshold = np.mean(reconstruction_errors) + 2 * np.std(reconstruction_errors)\n",
        "anomalies = np.where(reconstruction_errors > threshold)[0]\n",
        "\n",
        "print(f\"Number of anomalies detected: {len(anomalies)}\")\n"
      ],
      "metadata": {
        "id": "udRl9xe6fc88"
      },
      "execution_count": null,
      "outputs": []
    },
    {
      "cell_type": "code",
      "source": [
        "import matplotlib.pyplot as plt\n",
        "import numpy as np\n",
        "\n",
        "# Pick a sample index to visualize\n",
        "sample_idx = 0\n",
        "\n",
        "# Get input and reconstruction\n",
        "input_sample = X_test[sample_idx]\n",
        "reconstructed_sample = autoencoder.predict(X_test[sample_idx][np.newaxis, ...])[0]\n",
        "\n",
        "# Plot input and reconstruction\n",
        "plt.figure(figsize=(10, 5))\n",
        "plt.plot(input_sample, label='Input', color='blue')\n",
        "plt.plot(reconstructed_sample, label='Reconstruction', color='red')\n",
        "\n",
        "# Plot error band\n",
        "plt.fill_between(np.arange(len(input_sample)),\n",
        "                 np.minimum(input_sample, reconstructed_sample),\n",
        "                 np.maximum(input_sample, reconstructed_sample),\n",
        "                 color='red', alpha=0.3, label='Error')\n",
        "\n",
        "plt.legend()\n",
        "plt.title(\"Autoencoder Input vs Reconstruction\")\n",
        "plt.xlabel(\"Feature Index\")\n",
        "plt.ylabel(\"Value\")\n",
        "plt.grid(True)\n",
        "plt.tight_layout()\n",
        "plt.show()\n"
      ],
      "metadata": {
        "id": "Gs6735XUe_Ci"
      },
      "execution_count": null,
      "outputs": []
    }
  ]
}