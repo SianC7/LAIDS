{
  "nbformat": 4,
  "nbformat_minor": 0,
  "metadata": {
    "colab": {
      "provenance": [],
      "gpuType": "T4",
      "mount_file_id": "1jJ4QDrSAEifUiGNpyiUDtNn0D4dmqt1I",
      "authorship_tag": "ABX9TyMZWZor5ulCnT6VQblGLYkQ",
      "include_colab_link": true
    },
    "kernelspec": {
      "name": "python3",
      "display_name": "Python 3"
    },
    "language_info": {
      "name": "python"
    },
    "accelerator": "GPU"
  },
  "cells": [
    {
      "cell_type": "markdown",
      "metadata": {
        "id": "view-in-github",
        "colab_type": "text"
      },
      "source": [
        "<a href=\"https://colab.research.google.com/github/SianC7/LAIDS/blob/main/Sian's_Autoencoder.ipynb\" target=\"_parent\"><img src=\"https://colab.research.google.com/assets/colab-badge.svg\" alt=\"Open In Colab\"/></a>"
      ]
    },
    {
      "cell_type": "markdown",
      "source": [
        "#Data Preprocessing"
      ],
      "metadata": {
        "id": "MKlmLT7z2-o8"
      }
    },
    {
      "cell_type": "markdown",
      "source": [
        "Collection:"
      ],
      "metadata": {
        "id": "wuiu17so3BdZ"
      }
    },
    {
      "cell_type": "code",
      "execution_count": 1,
      "metadata": {
        "id": "03NYQCHm2684",
        "colab": {
          "base_uri": "https://localhost:8080/"
        },
        "outputId": "4a37610d-7f5e-424c-ce8f-ba39eba01d0b"
      },
      "outputs": [
        {
          "output_type": "stream",
          "name": "stdout",
          "text": [
            "Loaded file: /content/drive/MyDrive/Colab Notebooks/Honours Project/Datasets/CICIDS2017 Machine Learning CVE csv files/Monday-WorkingHours.pcap_ISCX.csv with 529918 rows\n",
            "Loaded file: /content/drive/MyDrive/Colab Notebooks/Honours Project/Datasets/CICIDS2017 Machine Learning CVE csv files/Tuesday-WorkingHours.pcap_ISCX.csv with 445909 rows\n",
            "Loaded file: /content/drive/MyDrive/Colab Notebooks/Honours Project/Datasets/CICIDS2017 Machine Learning CVE csv files/Wednesday-workingHours.pcap_ISCX.csv with 692703 rows\n",
            "Loaded file: /content/drive/MyDrive/Colab Notebooks/Honours Project/Datasets/CICIDS2017 Machine Learning CVE csv files/Thursday-WorkingHours-Morning-WebAttacks.pcap_ISCX.csv with 170366 rows\n",
            "Loaded file: /content/drive/MyDrive/Colab Notebooks/Honours Project/Datasets/CICIDS2017 Machine Learning CVE csv files/Thursday-WorkingHours-Afternoon-Infilteration.pcap_ISCX.csv with 288602 rows\n",
            "Loaded file: /content/drive/MyDrive/Colab Notebooks/Honours Project/Datasets/CICIDS2017 Machine Learning CVE csv files/Friday-WorkingHours-Morning.pcap_ISCX.csv with 191033 rows\n",
            "Loaded file: /content/drive/MyDrive/Colab Notebooks/Honours Project/Datasets/CICIDS2017 Machine Learning CVE csv files/Friday-WorkingHours-Afternoon-DDos.pcap_ISCX.csv with 225745 rows\n",
            "Loaded file: /content/drive/MyDrive/Colab Notebooks/Honours Project/Datasets/CICIDS2017 Machine Learning CVE csv files/Friday-WorkingHours-Afternoon-PortScan.pcap_ISCX.csv with 286467 rows\n"
          ]
        }
      ],
      "source": [
        "import pandas as pd\n",
        "import numpy as np\n",
        "from sklearn.preprocessing import LabelEncoder\n",
        "from sklearn.preprocessing import StandardScaler\n",
        "\n",
        "# Set pandas display options for wide output\n",
        "pd.set_option('display.max_columns', None)\n",
        "pd.set_option('display.width', None)\n",
        "pd.set_option('display.max_colwidth', None)\n",
        "\n",
        "\n",
        "# List of file paths\n",
        "data_file_paths = [\n",
        "    '/content/drive/MyDrive/Colab Notebooks/Honours Project/Datasets/CICIDS2017 Machine Learning CVE csv files/Monday-WorkingHours.pcap_ISCX.csv',\n",
        "    '/content/drive/MyDrive/Colab Notebooks/Honours Project/Datasets/CICIDS2017 Machine Learning CVE csv files/Tuesday-WorkingHours.pcap_ISCX.csv',\n",
        "    '/content/drive/MyDrive/Colab Notebooks/Honours Project/Datasets/CICIDS2017 Machine Learning CVE csv files/Wednesday-workingHours.pcap_ISCX.csv',\n",
        "    '/content/drive/MyDrive/Colab Notebooks/Honours Project/Datasets/CICIDS2017 Machine Learning CVE csv files/Thursday-WorkingHours-Morning-WebAttacks.pcap_ISCX.csv',\n",
        "    '/content/drive/MyDrive/Colab Notebooks/Honours Project/Datasets/CICIDS2017 Machine Learning CVE csv files/Thursday-WorkingHours-Afternoon-Infilteration.pcap_ISCX.csv',\n",
        "    '/content/drive/MyDrive/Colab Notebooks/Honours Project/Datasets/CICIDS2017 Machine Learning CVE csv files/Friday-WorkingHours-Morning.pcap_ISCX.csv',\n",
        "    '/content/drive/MyDrive/Colab Notebooks/Honours Project/Datasets/CICIDS2017 Machine Learning CVE csv files/Friday-WorkingHours-Afternoon-DDos.pcap_ISCX.csv',\n",
        "    '/content/drive/MyDrive/Colab Notebooks/Honours Project/Datasets/CICIDS2017 Machine Learning CVE csv files/Friday-WorkingHours-Afternoon-PortScan.pcap_ISCX.csv',\n",
        "    # '/content/drive/MyDrive/Colab Notebooks/Honours Project/Datasets/CICIDS2017 Pre-Processed Dataset/Monday-WorkingHours.pcap_ISCX.csv',\n",
        "    # '/content/drive/MyDrive/Colab Notebooks/Honours Project/Datasets/CICIDS2017 Pre-Processed Dataset/Tuesday-WorkingHours.pcap_ISCX.csv',\n",
        "    # '/content/drive/MyDrive/Colab Notebooks/Honours Project/Datasets/CICIDS2017 Pre-Processed Dataset/Wednesday-workingHours.pcap_ISCX.csv',\n",
        "    # '/content/drive/MyDrive/Colab Notebooks/Honours Project/Datasets/CICIDS2017 Pre-Processed Dataset/Thursday-WorkingHours-Morning-WebAttacks.pcap_ISCX.csv',\n",
        "    # '/content/drive/MyDrive/Colab Notebooks/Honours Project/Datasets/CICIDS2017 Pre-Processed Dataset/Thursday-WorkingHours-Afternoon-Infilteration.pcap_ISCX.csv',\n",
        "    # '/content/drive/MyDrive/Colab Notebooks/Honours Project/Datasets/CICIDS2017 Pre-Processed Dataset/Friday-WorkingHours-Morning.pcap_ISCX.csv',\n",
        "    # '/content/drive/MyDrive/Colab Notebooks/Honours Project/Datasets/CICIDS2017 Pre-Processed Dataset/Friday-WorkingHours-Afternoon-DDos.pcap_ISCX.csv',\n",
        "    # '/content/drive/MyDrive/Colab Notebooks/Honours Project/Datasets/CICIDS2017 Pre-Processed Dataset/Friday-WorkingHours-Afternoon-PortScan.pcap_ISCX.csv',\n",
        "\n",
        "]\n",
        "#Set database variables\n",
        "Mon_df = None\n",
        "Tue_df = None\n",
        "Wed_df = None\n",
        "Thur_df_list = []\n",
        "Fri_df_list = []\n",
        "\n",
        "for file_path in data_file_paths: # Loop through the file paths and add the data to a temp df var\n",
        "  try:\n",
        "      temp_df = pd.read_csv(file_path, sep=\",\", comment=\"#\", header=0)\n",
        "      temp_df.columns = temp_df.columns.str.strip()  # Strip whitespace from column names\n",
        "\n",
        "      if \"Monday\" in file_path:\n",
        "        Mon_df = temp_df\n",
        "        print(f\"Loaded file: {file_path} with {len(temp_df)} rows\")\n",
        "      elif \"Tuesday\" in file_path:\n",
        "        Tue_df = temp_df\n",
        "        print(f\"Loaded file: {file_path} with {len(temp_df)} rows\")\n",
        "      elif \"Wednesday\" in file_path:\n",
        "        Wed_df = temp_df\n",
        "        print(f\"Loaded file: {file_path} with {len(temp_df)} rows\")\n",
        "      elif \"Thursday\" in file_path:\n",
        "        Thur_df_list.append(temp_df)\n",
        "        print(f\"Loaded file: {file_path} with {len(temp_df)} rows\")\n",
        "      elif \"Friday\" in file_path:\n",
        "        Fri_df_list.append(temp_df)\n",
        "        print(f\"Loaded file: {file_path} with {len(temp_df)} rows\")\n",
        "  except Exception as e:\n",
        "      print(f\"Error reading file {file_path}: {e}\")\n",
        "\n",
        "\n",
        "#Concat df lists:\n",
        "Thur_df = pd.concat(Thur_df_list, ignore_index=True) #TEST\n",
        "Fri_df = pd.concat(Fri_df_list, ignore_index=True)\n",
        "\n",
        "# #TEST\n",
        "# print(type(Mon_df))   # should be <class 'pandas.core.frame.DataFrame'>\n",
        "# print(type(Tue_df))   # same\n",
        "# print(type(Wed_df))   # same\n",
        "# print(type(Thur_df))   # same\n",
        "# print(type(Fri_df))   # same\n",
        "\n",
        "# --------------------------------------------------------------------------------------------------------------------------------------\n",
        "\n",
        "day_dfs = [(\"Monday\", Mon_df), (\"Tuesday\", Tue_df), (\"Wednesday\", Wed_df), (\"Thursday\", Thur_df), (\"Friday\", Fri_df)]\n",
        "\n",
        "# print(\"\\nInitial samples:\")\n",
        "# for day, df in day_dfs:\n",
        "#     print(f\"\\n{day}:\")\n",
        "#     print(f\"Number of columns: {df.shape[1]}\")\n",
        "#     print(df.head().to_string())"
      ]
    },
    {
      "cell_type": "markdown",
      "source": [
        "Label Distribution:"
      ],
      "metadata": {
        "id": "pOpCHXVnCuF0"
      }
    },
    {
      "cell_type": "code",
      "source": [
        "# print(\"\\nLabel distribution in each dataframe:\")\n",
        "\n",
        "# total_benign = 0\n",
        "# total_malicious = 0\n",
        "\n",
        "# for day, df in day_dfs:\n",
        "#     print(f\"\\n--- {day} ---\")\n",
        "#     if df.empty:\n",
        "#         print(\"No data for this day.\")\n",
        "#         continue\n",
        "\n",
        "#     if 'Label' in df.columns:\n",
        "#         label_counts = df['Label'].value_counts(dropna=False)\n",
        "#         print(label_counts.to_string())\n",
        "\n",
        "#         for label, count in label_counts.items():\n",
        "#             if str(label).strip().upper() == 'BENIGN':\n",
        "#                 total_benign += count\n",
        "#             else:\n",
        "#                 total_malicious += count\n",
        "#     else:\n",
        "#         print(\"⚠️ 'Label' column not found.\")\n",
        "\n",
        "# print(\"\\n--- Total Sample Summary ---\")\n",
        "# print(f\"Total BENIGN samples: {total_benign}\")\n",
        "# print(f\"Total MALICIOUS samples: {total_malicious}\")"
      ],
      "metadata": {
        "id": "CkCkRPOACvyO"
      },
      "execution_count": 2,
      "outputs": []
    },
    {
      "cell_type": "markdown",
      "source": [
        "Cleaning:"
      ],
      "metadata": {
        "id": "ZQCFkYOr3C9R"
      }
    },
    {
      "cell_type": "code",
      "source": [
        "import pandas as pd\n",
        "import numpy as np\n",
        "from sklearn.preprocessing import LabelEncoder\n",
        "from sklearn.preprocessing import StandardScaler\n",
        "\n",
        "# Set pandas display options for wide output\n",
        "pd.set_option('display.max_columns', None)\n",
        "pd.set_option('display.width', None)\n",
        "pd.set_option('display.max_colwidth', None)\n",
        "\n",
        "\n",
        "for df_name, df in day_dfs:\n",
        "    # Replace any '-' with NaN for consistent handling\n",
        "    df.replace('-', np.nan, inplace=True)\n",
        "\n",
        "    # Replace inf/-inf with NaN (handles both float and int infinities)\n",
        "    df.replace([np.inf, -np.inf], np.nan, inplace=True)\n",
        "\n",
        "    # Round all float columns to 4 decimal places\n",
        "    df = df.round(4)\n",
        "\n",
        "    # Drop columns with a single unique value (constant columns), e.g. all zeros\n",
        "    #df.drop(columns=[col for col in df.columns if df[col].nunique(dropna=False) == 1 or df[col].eq(0).all()], inplace=True) #FIXX\n",
        "\n",
        "    # --- Drop 'Flow Bytes/s' and 'Flow Packets/s' columns ---\n",
        "    df.drop(columns=['Flow Bytes/s', 'Flow Packets/s'], errors='ignore', inplace=True)\n",
        "\n",
        "    # Convert labels into binary: benign=0, malicious=1\n",
        "    df['Label'] = df['Label'].apply(lambda x: 0 if 'BENIGN' in str(x).upper() else 1)\n",
        "\n",
        "    # Drop any rows containing NaN\n",
        "    df.dropna(inplace=True)\n",
        "\n"
      ],
      "metadata": {
        "id": "ZZ5jTKwr3FMN"
      },
      "execution_count": 3,
      "outputs": []
    },
    {
      "cell_type": "markdown",
      "source": [
        "Train/Test Split"
      ],
      "metadata": {
        "id": "yNULnbGY5kbN"
      }
    },
    {
      "cell_type": "code",
      "source": [
        "from sklearn.model_selection import train_test_split\n",
        "\n",
        "# print(type(Mon_df))   # should be <class 'pandas.core.frame.DataFrame'>\n",
        "# print(type(Tue_df))   # same\n",
        "# print(type(Wed_df))   # same\n",
        "# print(type(Thur_df))   # same\n",
        "# print(type(Fri_df))   # same\n",
        "\n",
        "# --- Train/Test Split ---\n",
        "\n",
        "# Training data (Monday - benign only)\n",
        "X_train = Mon_df.drop(columns=['Label']).values\n",
        "y_train = Mon_df['Label'].values\n",
        "\n",
        "# Test set contains Malicious and Benign data\n",
        "test_df = pd.concat([Tue_df, Wed_df, Thur_df, Fri_df], ignore_index=True)\n",
        "y_test = test_df['Label'].values\n",
        "X_test = test_df.drop(columns=['Label']).values\n",
        "\n",
        "# Print dataset sizes\n",
        "print(f\"Training set size: {len(X_train)} samples\")\n",
        "print(f\"Training set shape: {X_train.shape}\")\n",
        "\n",
        "print(f\"Test set size: {len(X_test)} samples\")\n",
        "print(f\"Test set shape: {X_test.shape}\")"
      ],
      "metadata": {
        "id": "hMQ-3vY55qOE",
        "colab": {
          "base_uri": "https://localhost:8080/"
        },
        "outputId": "9e9e17ee-7259-48f1-fefe-cb1c8e2b7a75"
      },
      "execution_count": 4,
      "outputs": [
        {
          "output_type": "stream",
          "name": "stdout",
          "text": [
            "Training set size: 529918 samples\n",
            "Training set shape: (529918, 78)\n",
            "Test set size: 2300825 samples\n",
            "Test set shape: (2300825, 78)\n"
          ]
        }
      ]
    },
    {
      "cell_type": "code",
      "metadata": {
        "colab": {
          "base_uri": "https://localhost:8080/"
        },
        "id": "b802ed4a",
        "outputId": "9e40335a-69aa-459a-c487-67125c5a6003"
      },
      "source": [
        "import numpy as np\n",
        "\n",
        "print(\"Any NaNs in X_train?\", np.isnan(X_train).any())\n",
        "\n",
        "# Check for infinite values in X_train and X_test\n",
        "print(\"Checking for infinite values before scaling:\")\n",
        "\n",
        "if np.isinf(X_train).any():\n",
        "    print(\"Infinite values found in X_train.\")\n",
        "else:\n",
        "    print(\"No infinite values found in X_train.\")\n",
        "\n",
        "if np.isinf(X_test).any():\n",
        "    print(\"Infinite values found in X_test.\")\n",
        "else:\n",
        "    print(\"No infinite values found in X_test.\")\n",
        "\n"
      ],
      "execution_count": 5,
      "outputs": [
        {
          "output_type": "stream",
          "name": "stdout",
          "text": [
            "Any NaNs in X_train? True\n",
            "Checking for infinite values before scaling:\n",
            "No infinite values found in X_train.\n",
            "No infinite values found in X_test.\n"
          ]
        }
      ]
    },
    {
      "cell_type": "markdown",
      "source": [
        "Normalise the data:"
      ],
      "metadata": {
        "id": "3Qg4Tb925afz"
      }
    },
    {
      "cell_type": "code",
      "source": [
        "from sklearn.model_selection import train_test_split\n",
        "from sklearn.utils import shuffle\n",
        "from sklearn.preprocessing import MinMaxScaler, RobustScaler # Keep both imports in case user wants to switch\n",
        "\n",
        "# --- Train/Test Split ---\n",
        "\n",
        "# Training data (Monday - benign only)\n",
        "Mon_df.dropna(inplace=True)\n",
        "X_train = Mon_df.drop(columns=['Label']).values\n",
        "y_train = Mon_df['Label'].values\n",
        "\n",
        "# Test set contains Malicious and Benign data\n",
        "test_df = pd.concat([Tue_df, Wed_df, Thur_df, Fri_df], ignore_index=True)\n",
        "test_df.dropna(inplace=True)\n",
        "y_test = test_df['Label'].values\n",
        "X_test = test_df.drop(columns=['Label']).values\n",
        "\n",
        "# Print dataset sizes\n",
        "print(f\"Training set size: {len(X_train)} samples\")\n",
        "print(f\"Test set size: {len(X_test)} samples\")\n",
        "\n",
        "# --- Normalize --- #standardise data features\n",
        "# Initialize the scaler\n",
        "# Changed to RobustScaler to handle outliers better\n",
        "#scaler = RobustScaler()\n",
        "scaler = MinMaxScaler()\n",
        "\n",
        "# Apply the scaler\n",
        "X_train_scaled = scaler.fit_transform(X_train)\n",
        "X_test_scaled = scaler.transform(X_test)\n",
        "\n",
        "# Print the shape of the scaled data to verify\n",
        "print(f\"Shape of X_train_scaled after scaling: {X_train_scaled.shape}\")\n",
        "print(f\"Shape of X_test_scaled after scaling: {X_test_scaled.shape}\")\n",
        "\n",
        "print(\"Any NaNs in X_train_scaled?\", np.isnan(X_train_scaled).any())\n",
        "print(\"Any infs in X_train_scaled?\", np.isinf(X_train_scaled).any())"
      ],
      "metadata": {
        "id": "AhVdUYUI5tPR",
        "colab": {
          "base_uri": "https://localhost:8080/"
        },
        "outputId": "a4bd3f0f-b381-46f8-bd58-0bb13cb71a4e"
      },
      "execution_count": 6,
      "outputs": [
        {
          "output_type": "stream",
          "name": "stdout",
          "text": [
            "Training set size: 529481 samples\n",
            "Test set size: 2298395 samples\n",
            "Shape of X_train_scaled after scaling: (529481, 78)\n",
            "Shape of X_test_scaled after scaling: (2298395, 78)\n",
            "Any NaNs in X_train_scaled? False\n",
            "Any infs in X_train_scaled? False\n"
          ]
        }
      ]
    },
    {
      "cell_type": "markdown",
      "source": [
        "#Autoencoder model\n",
        "An autoencoder model consists of two parts:\n",
        "- **Encoder**: Responsible for compressing the input data into a lower-dimensional representation of the input data that captures the most important information.\n",
        "- **Decoder**: Responsible for reconstructing the input data from the latent space representation. The decoder takes the latent space representation as input and produces a reconstructed version of the input data as output. The reconstructed data should be as similar as possible to the original input data.\n",
        "\n",
        "- Advantages of autoencoders: Can be used to detect anomalies, unsupervised learning models (they do not require labeled data in training), easy to train and implement.\n",
        "- Disadvantages of autoencoders: computationally expensive to train (especially for large datasets.), they are sensitive to the choice of hyperparameters, difficult to interpret.\n",
        "\n",
        "Below is a simple autoencoder model with three layers in the encoder and three layers in the decoder. https://levelup.gitconnected.com/build-deep-autoencoders-model-for-anomaly-detection-in-python-a-complete-guide-a7d0ec0e688\n",
        "https://medium.com/@ndhilani.simbine/how-i-built-a-real-time-anomaly-detection-system-for-enterprise-networks-using-python-and-machine-0078d8a26e84"
      ],
      "metadata": {
        "id": "kB51A9_Q_g_F"
      }
    },
    {
      "cell_type": "code",
      "source": [
        "from tensorflow.keras.models import Model, Sequential\n",
        "from tensorflow.keras.layers import Input, Dense\n",
        "import numpy as np # Import numpy\n",
        "\n",
        "# Determine the input dimension from the scaled training data\n",
        "input_dim = X_train_scaled.shape[1]\n",
        "print(f\"Autoencoder input dimension: {input_dim}\")\n",
        "\n",
        "autoencoder = Sequential([\n",
        "    Input(shape=(input_dim,)),\n",
        "    Dense(32, activation='relu'),                             # Encoder layer\n",
        "    Dense(16, activation='relu'),                             # Encoder bottleneck\n",
        "    Dense(32, activation='relu'),                             # Decoder layer\n",
        "    Dense(input_dim, activation='sigmoid')                    # Output layer (same size as input)\n",
        "])\n",
        "\n",
        "autoencoder.compile(optimizer='adam', loss='mse')"
      ],
      "metadata": {
        "id": "rN4vtElJ_jaX",
        "colab": {
          "base_uri": "https://localhost:8080/"
        },
        "outputId": "9b317fda-d3f2-40bd-b6dc-84289a17fc57"
      },
      "execution_count": 7,
      "outputs": [
        {
          "output_type": "stream",
          "name": "stdout",
          "text": [
            "Autoencoder input dimension: 78\n"
          ]
        }
      ]
    },
    {
      "cell_type": "markdown",
      "source": [
        "# Train and test the model"
      ],
      "metadata": {
        "id": "ANpOFlaNGodh"
      }
    },
    {
      "cell_type": "code",
      "source": [
        "import matplotlib.pyplot as plt\n",
        "import timeit\n",
        "\n",
        "# Start timing\n",
        "start_time = timeit.default_timer()\n",
        "\n",
        "# Train the autoencoder\n",
        "history = autoencoder.fit(\n",
        "    X_train_scaled, X_train_scaled,  # Autoencoders use X_train as both input and target #\n",
        "    epochs=10,\n",
        "    batch_size=64,\n",
        "    validation_split=0.2,\n",
        "    verbose=1\n",
        ")\n",
        "\n",
        "# End timing\n",
        "end_time = timeit.default_timer()\n",
        "print(f\"Training time: {end_time - start_time:.2f} seconds\")\n",
        "\n",
        "# Plot training and validation loss\n",
        "plt.figure(figsize=(10, 5))\n",
        "\n",
        "plt.plot(history.history['loss'], label='Train Loss')\n",
        "plt.plot(history.history['val_loss'], label='Validation Loss')\n",
        "plt.title('Autoencoder Training Loss')\n",
        "plt.xlabel('Epoch')\n",
        "plt.ylabel('Mean Squared Error')\n",
        "plt.legend()\n",
        "plt.grid(True)\n",
        "plt.tight_layout()\n",
        "plt.show()\n",
        "\n"
      ],
      "metadata": {
        "id": "be8XMHLWGrDY",
        "colab": {
          "base_uri": "https://localhost:8080/",
          "height": 864
        },
        "outputId": "27c39f09-6995-4be7-8ee8-ec2fa42848c2"
      },
      "execution_count": 8,
      "outputs": [
        {
          "output_type": "stream",
          "name": "stdout",
          "text": [
            "Epoch 1/10\n",
            "\u001b[1m6619/6619\u001b[0m \u001b[32m━━━━━━━━━━━━━━━━━━━━\u001b[0m\u001b[37m\u001b[0m \u001b[1m23s\u001b[0m 3ms/step - loss: 0.0129 - val_loss: 1.5096e-04\n",
            "Epoch 2/10\n",
            "\u001b[1m6619/6619\u001b[0m \u001b[32m━━━━━━━━━━━━━━━━━━━━\u001b[0m\u001b[37m\u001b[0m \u001b[1m39s\u001b[0m 3ms/step - loss: 1.6033e-04 - val_loss: 4.3229e-05\n",
            "Epoch 3/10\n",
            "\u001b[1m6619/6619\u001b[0m \u001b[32m━━━━━━━━━━━━━━━━━━━━\u001b[0m\u001b[37m\u001b[0m \u001b[1m18s\u001b[0m 3ms/step - loss: 9.8339e-05 - val_loss: 3.8371e-05\n",
            "Epoch 4/10\n",
            "\u001b[1m6619/6619\u001b[0m \u001b[32m━━━━━━━━━━━━━━━━━━━━\u001b[0m\u001b[37m\u001b[0m \u001b[1m19s\u001b[0m 3ms/step - loss: 8.0583e-05 - val_loss: 3.1958e-05\n",
            "Epoch 5/10\n",
            "\u001b[1m6619/6619\u001b[0m \u001b[32m━━━━━━━━━━━━━━━━━━━━\u001b[0m\u001b[37m\u001b[0m \u001b[1m18s\u001b[0m 3ms/step - loss: 6.5456e-05 - val_loss: 2.6405e-05\n",
            "Epoch 6/10\n",
            "\u001b[1m6619/6619\u001b[0m \u001b[32m━━━━━━━━━━━━━━━━━━━━\u001b[0m\u001b[37m\u001b[0m \u001b[1m20s\u001b[0m 3ms/step - loss: 5.4914e-05 - val_loss: 2.3148e-05\n",
            "Epoch 7/10\n",
            "\u001b[1m6619/6619\u001b[0m \u001b[32m━━━━━━━━━━━━━━━━━━━━\u001b[0m\u001b[37m\u001b[0m \u001b[1m20s\u001b[0m 3ms/step - loss: 5.0381e-05 - val_loss: 2.7761e-05\n",
            "Epoch 8/10\n",
            "\u001b[1m6619/6619\u001b[0m \u001b[32m━━━━━━━━━━━━━━━━━━━━\u001b[0m\u001b[37m\u001b[0m \u001b[1m20s\u001b[0m 3ms/step - loss: 4.5620e-05 - val_loss: 2.2648e-05\n",
            "Epoch 9/10\n",
            "\u001b[1m6619/6619\u001b[0m \u001b[32m━━━━━━━━━━━━━━━━━━━━\u001b[0m\u001b[37m\u001b[0m \u001b[1m21s\u001b[0m 3ms/step - loss: 4.3443e-05 - val_loss: 2.0739e-05\n",
            "Epoch 10/10\n",
            "\u001b[1m6619/6619\u001b[0m \u001b[32m━━━━━━━━━━━━━━━━━━━━\u001b[0m\u001b[37m\u001b[0m \u001b[1m20s\u001b[0m 3ms/step - loss: 3.9898e-05 - val_loss: 1.8483e-05\n",
            "Training time: 219.51 seconds\n"
          ]
        },
        {
          "output_type": "display_data",
          "data": {
            "text/plain": [
              "<Figure size 1000x500 with 1 Axes>"
            ],
            "image/png": "[encoded data removed]"
          },
          "metadata": {}
        }
      ]
    },
    {
      "cell_type": "markdown",
      "source": [
        "#Test the model"
      ],
      "metadata": {
        "id": "ICz3kCpnfhVk"
      }
    },
    {
      "cell_type": "code",
      "source": [
        "# Evaluate the model on the test data\n",
        "loss = autoencoder.evaluate(X_test_scaled, X_test_scaled) #X_test_scaled, X_test_scaled\n",
        "mse = autoencoder.evaluate(X_test_scaled, X_test_scaled)\n",
        "\n",
        "print('Test loss:', loss)\n",
        "print('Test mean squared error:', mse)\n",
        "\n",
        "# Calculate the anomaly score (by calculating the reconstruction errors for the test data)\n",
        "# Calculate the reconstruction errors for the test data\n",
        "reconstruction_errors = autoencoder.predict(X_test_scaled) - X_test_scaled\n",
        "\n",
        "# Threshold the reconstruction errors to identify anomalies\n",
        "anomaly_threshold = 0.1\n",
        "\n",
        "anomalies = np.where(reconstruction_errors > anomaly_threshold)[0]\n",
        "\n",
        "# Print the number of anomalies detected\n",
        "print('Number of anomalies detected:', len(anomalies))"
      ],
      "metadata": {
        "id": "tmcSjua3fkdD",
        "colab": {
          "base_uri": "https://localhost:8080/",
          "height": 207
        },
        "outputId": "32e9beca-e0be-413f-ecd6-8e87f00abd44"
      },
      "execution_count": 1,
      "outputs": [
        {
          "output_type": "error",
          "ename": "NameError",
          "evalue": "name 'autoencoder' is not defined",
          "traceback": [
            "\u001b[0;31m---------------------------------------------------------------------------\u001b[0m",
            "\u001b[0;31mNameError\u001b[0m                                 Traceback (most recent call last)",
            "\u001b[0;32m/tmp/ipython-input-1-1798061068.py\u001b[0m in \u001b[0;36m<cell line: 0>\u001b[0;34m()\u001b[0m\n\u001b[1;32m      1\u001b[0m \u001b[0;31m# Evaluate the model on the test data\u001b[0m\u001b[0;34m\u001b[0m\u001b[0;34m\u001b[0m\u001b[0m\n\u001b[0;32m----> 2\u001b[0;31m \u001b[0mloss\u001b[0m \u001b[0;34m=\u001b[0m \u001b[0mautoencoder\u001b[0m\u001b[0;34m.\u001b[0m\u001b[0mevaluate\u001b[0m\u001b[0;34m(\u001b[0m\u001b[0mX_test_scaled\u001b[0m\u001b[0;34m,\u001b[0m \u001b[0mX_test_scaled\u001b[0m\u001b[0;34m)\u001b[0m \u001b[0;31m#X_test_scaled, X_test_scaled\u001b[0m\u001b[0;34m\u001b[0m\u001b[0;34m\u001b[0m\u001b[0m\n\u001b[0m\u001b[1;32m      3\u001b[0m \u001b[0mmse\u001b[0m \u001b[0;34m=\u001b[0m \u001b[0mautoencoder\u001b[0m\u001b[0;34m.\u001b[0m\u001b[0mevaluate\u001b[0m\u001b[0;34m(\u001b[0m\u001b[0mX_test_scaled\u001b[0m\u001b[0;34m,\u001b[0m \u001b[0mX_test_scaled\u001b[0m\u001b[0;34m)\u001b[0m\u001b[0;34m\u001b[0m\u001b[0;34m\u001b[0m\u001b[0m\n\u001b[1;32m      4\u001b[0m \u001b[0;34m\u001b[0m\u001b[0m\n\u001b[1;32m      5\u001b[0m \u001b[0mprint\u001b[0m\u001b[0;34m(\u001b[0m\u001b[0;34m'Test loss:'\u001b[0m\u001b[0;34m,\u001b[0m \u001b[0mloss\u001b[0m\u001b[0;34m)\u001b[0m\u001b[0;34m\u001b[0m\u001b[0;34m\u001b[0m\u001b[0m\n",
            "\u001b[0;31mNameError\u001b[0m: name 'autoencoder' is not defined"
          ]
        }
      ]
    },
    {
      "cell_type": "markdown",
      "source": [
        "#Reconstruction Error Plot?"
      ],
      "metadata": {
        "id": "4BKWp0Uwfacb"
      }
    },
    {
      "cell_type": "code",
      "source": [
        "import matplotlib.pyplot as plt\n",
        "import numpy as np\n",
        "\n",
        "# # --- Train the model ---\n",
        "# autoencoder.fit(X_train, X_train, epochs=20, validation_split=0.2)\n",
        "\n",
        "# # --- Evaluate the model ---\n",
        "# loss = autoencoder.evaluate(X_test, X_test)\n",
        "# print('Test loss (MSE):', loss)\n",
        "\n",
        "# # --- Predict reconstructed outputs ---\n",
        "# reconstructed = autoencoder.predict(X_test)\n",
        "\n",
        "# # --- Calculate per-sample reconstruction error (mean squared error) ---\n",
        "# reconstruction_errors = np.mean((X_test - reconstructed) ** 2, axis=1)\n",
        "\n",
        "# --- Visualize reconstruction error ---\n",
        "plt.figure(figsize=(10, 5))\n",
        "plt.hist(reconstruction_errors, bins=50, color='skyblue', edgecolor='black')\n",
        "plt.axvline(np.mean(reconstruction_errors) + 2 * np.std(reconstruction_errors), color='red', linestyle='--', label='Anomaly Threshold')\n",
        "plt.title(\"Reconstruction Error Distribution\")\n",
        "plt.xlabel(\"Mean Squared Error per Sample\")\n",
        "plt.ylabel(\"Frequency\")\n",
        "plt.legend()\n",
        "plt.grid(True)\n",
        "plt.tight_layout()\n",
        "plt.show()\n",
        "\n",
        "# --- Detect anomalies based on threshold ---\n",
        "threshold = np.mean(reconstruction_errors) + 2 * np.std(reconstruction_errors)\n",
        "anomalies = np.where(reconstruction_errors > threshold)[0]\n",
        "\n",
        "print(f\"Number of anomalies detected: {len(anomalies)}\")\n"
      ],
      "metadata": {
        "id": "udRl9xe6fc88"
      },
      "execution_count": null,
      "outputs": []
    },
    {
      "cell_type": "code",
      "source": [
        "import matplotlib.pyplot as plt\n",
        "import numpy as np\n",
        "\n",
        "# Pick a sample index to visualize\n",
        "sample_idx = 0\n",
        "\n",
        "# Get input and reconstruction\n",
        "input_sample = X_test[sample_idx]\n",
        "reconstructed_sample = autoencoder.predict(X_test[sample_idx][np.newaxis, ...])[0]\n",
        "\n",
        "# Plot input and reconstruction\n",
        "plt.figure(figsize=(10, 5))\n",
        "plt.plot(input_sample, label='Input', color='blue')\n",
        "plt.plot(reconstructed_sample, label='Reconstruction', color='red')\n",
        "\n",
        "# Plot error band\n",
        "plt.fill_between(np.arange(len(input_sample)),\n",
        "                 np.minimum(input_sample, reconstructed_sample),\n",
        "                 np.maximum(input_sample, reconstructed_sample),\n",
        "                 color='red', alpha=0.3, label='Error')\n",
        "\n",
        "plt.legend()\n",
        "plt.title(\"Autoencoder Input vs Reconstruction\")\n",
        "plt.xlabel(\"Feature Index\")\n",
        "plt.ylabel(\"Value\")\n",
        "plt.grid(True)\n",
        "plt.tight_layout()\n",
        "plt.show()\n"
      ],
      "metadata": {
        "id": "Gs6735XUe_Ci"
      },
      "execution_count": null,
      "outputs": []
    }
  ]
}