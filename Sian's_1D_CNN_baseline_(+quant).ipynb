{
  "nbformat": 4,
  "nbformat_minor": 0,
  "metadata": {
    "colab": {
      "provenance": [],
      "gpuType": "T4",
      "mount_file_id": "1_nEBkWalBNtm9uQccbc8maZKDVBx78fP",
      "authorship_tag": "ABX9TyM8p42LYkbLXZqwotXKNnM6",
      "include_colab_link": true
    },
    "kernelspec": {
      "name": "python3",
      "display_name": "Python 3"
    },
    "language_info": {
      "name": "python"
    },
    "accelerator": "GPU"
  },
  "cells": [
    {
      "cell_type": "markdown",
      "metadata": {
        "id": "view-in-github",
        "colab_type": "text"
      },
      "source": [
        "<a href=\"https://colab.research.google.com/github/SianC7/LAIDS/blob/main/Sian's_1D_CNN_baseline_(%2Bquant).ipynb\" target=\"_parent\"><img src=\"https://colab.research.google.com/assets/colab-badge.svg\" alt=\"Open In Colab\"/></a>"
      ]
    },
    {
      "cell_type": "markdown",
      "source": [
        "#CICIDS2017 Dataset"
      ],
      "metadata": {
        "id": "DXZ5uI8bDP3t"
      }
    },
    {
      "cell_type": "code",
      "source": [
        "import pandas as pd\n",
        "\n",
        "# --- Data Collection ---\n",
        "\n",
        "# Set pandas display options for wide output\n",
        "pd.set_option('display.max_columns', None)\n",
        "pd.set_option('display.width', None)\n",
        "pd.set_option('display.max_colwidth', None)\n",
        "\n",
        "\n",
        "# Get Data file path\n",
        "file_path = '/content/drive/MyDrive/Colab Notebooks/Honours Project/Datasets/cicids2017_cleaned.csv'\n",
        "cicids2017_df = pd.read_csv(file_path, sep=\",\", comment=\"#\", header=0)\n",
        "cicids2017_df.columns = cicids2017_df.columns.str.strip()  # Strip whitespace from column names\n",
        "\n",
        "\n",
        "print(\"\\nInitial samples:\")\n",
        "print(f\"cicids2017_df shape: {cicids2017_df.shape}\")\n",
        "print(cicids2017_df.head().to_string())\n",
        "print(cicids2017_df.info())\n",
        "\n",
        "# Print unique values and their counts for 'Attack Type'\n",
        "print(\"\\nAttack Type Distribution:\")\n",
        "print(cicids2017_df['Attack Type'].value_counts())\n",
        "\n",
        "# --- Label Encoding ---\n",
        "\n",
        "cicids2017_df['Attack Type'] = cicids2017_df['Attack Type'].apply(lambda x: 0 if x == 'Normal Traffic' else 1)"
      ],
      "metadata": {
        "colab": {
          "base_uri": "https://localhost:8080/"
        },
        "id": "F3zsgHCrDVBI",
        "outputId": "820e5fb5-4bb3-46c0-fefe-2325abd16085"
      },
      "execution_count": 1,
      "outputs": [
        {
          "output_type": "stream",
          "name": "stdout",
          "text": [
            "\n",
            "Initial samples:\n",
            "cicids2017_df shape: (2520751, 53)\n",
            "   Destination Port  Flow Duration  Total Fwd Packets  Total Length of Fwd Packets  Fwd Packet Length Max  Fwd Packet Length Min  Fwd Packet Length Mean  Fwd Packet Length Std  Bwd Packet Length Max  Bwd Packet Length Min  Bwd Packet Length Mean  Bwd Packet Length Std  Flow Bytes/s  Flow Packets/s  Flow IAT Mean   Flow IAT Std  Flow IAT Max  Flow IAT Min  Fwd IAT Total  Fwd IAT Mean  Fwd IAT Std  Fwd IAT Max  Fwd IAT Min  Bwd IAT Total  Bwd IAT Mean  Bwd IAT Std  Bwd IAT Max  Bwd IAT Min  Fwd Header Length  Bwd Header Length  Fwd Packets/s  Bwd Packets/s  Min Packet Length  Max Packet Length  Packet Length Mean  Packet Length Std  Packet Length Variance  FIN Flag Count  PSH Flag Count  ACK Flag Count  Average Packet Size  Subflow Fwd Bytes  Init_Win_bytes_forward  Init_Win_bytes_backward  act_data_pkt_fwd  min_seg_size_forward  Active Mean  Active Max  Active Min  Idle Mean  Idle Max  Idle Min     Attack Type\n",
            "0                22        1266342                 41                         2664                    456                      0               64.975610             109.864573                    976                      0              158.045455             312.675250   7595.104640       67.122468    15075.50000  104051.399700        948537             0        1266342     31658.550  159355.2595       996324            2         317671   7387.697674  19636.44809       104616            1               1328               1424      32.376720      34.745748                  0                976          111.837209         239.686848             57449.78495               0               1               0           113.152941               2664                   29200                      243                24                    32          0.0           0           0        0.0         0         0  Normal Traffic\n",
            "1                22        1319353                 41                         2664                    456                      0               64.975610             109.864573                    976                      0              158.045455             312.675250   7289.936810       64.425518    15706.58333  104861.870100        955790             1        1319353     32983.825  159247.9008       996423            1         363429   8451.837209  21337.26261       104815            1               1328               1424      31.075838      33.349680                  0                976          111.837209         239.686848             57449.78495               0               1               0           113.152941               2664                   29200                      243                24                    32          0.0           0           0        0.0         0         0  Normal Traffic\n",
            "2                22            160                  1                            0                      0                      0                0.000000               0.000000                      0                      0                0.000000               0.000000      0.000000    12500.000000      160.00000       0.000000           160           160              0         0.000       0.0000            0            0              0      0.000000      0.00000            0            0                 32                 32    6250.000000    6250.000000                  0                  0            0.000000           0.000000                 0.00000               0               0               1             0.000000                  0                     290                      243                 0                    32          0.0           0           0        0.0         0         0  Normal Traffic\n",
            "3                22        1303488                 41                         2728                    456                      0               66.536585             110.129945                    976                      0              157.952381             319.121427   7182.267884       63.675308    15896.19512  106554.899000        956551             0        1303488     32587.200  160397.0499       997357            1         346851   8459.780488  23962.23892       138295            0               1328               1360      31.454068      32.221240                  0                976          111.452381         241.642791             58391.23867               0               1               0           112.795181               2728                   29200                      243                24                    32          0.0           0           0        0.0         0         0  Normal Traffic\n",
            "4             35396             77                  1                            0                      0                      0                0.000000               0.000000                      0                      0                0.000000               0.000000      0.000000    38961.038960       38.50000      14.849242            49            28              0         0.000       0.0000            0            0             49     49.000000      0.00000           49           49                 32                 64   12987.012990   25974.025970                  0                  0            0.000000           0.000000                 0.00000               0               0               1             0.000000                  0                     243                      290                 0                    32          0.0           0           0        0.0         0         0  Normal Traffic\n",
            "<class 'pandas.core.frame.DataFrame'>\n",
            "RangeIndex: 2520751 entries, 0 to 2520750\n",
            "Data columns (total 53 columns):\n",
            " #   Column                       Dtype  \n",
            "---  ------                       -----  \n",
            " 0   Destination Port             int64  \n",
            " 1   Flow Duration                int64  \n",
            " 2   Total Fwd Packets            int64  \n",
            " 3   Total Length of Fwd Packets  int64  \n",
            " 4   Fwd Packet Length Max        int64  \n",
            " 5   Fwd Packet Length Min        int64  \n",
            " 6   Fwd Packet Length Mean       float64\n",
            " 7   Fwd Packet Length Std        float64\n",
            " 8   Bwd Packet Length Max        int64  \n",
            " 9   Bwd Packet Length Min        int64  \n",
            " 10  Bwd Packet Length Mean       float64\n",
            " 11  Bwd Packet Length Std        float64\n",
            " 12  Flow Bytes/s                 float64\n",
            " 13  Flow Packets/s               float64\n",
            " 14  Flow IAT Mean                float64\n",
            " 15  Flow IAT Std                 float64\n",
            " 16  Flow IAT Max                 int64  \n",
            " 17  Flow IAT Min                 int64  \n",
            " 18  Fwd IAT Total                int64  \n",
            " 19  Fwd IAT Mean                 float64\n",
            " 20  Fwd IAT Std                  float64\n",
            " 21  Fwd IAT Max                  int64  \n",
            " 22  Fwd IAT Min                  int64  \n",
            " 23  Bwd IAT Total                int64  \n",
            " 24  Bwd IAT Mean                 float64\n",
            " 25  Bwd IAT Std                  float64\n",
            " 26  Bwd IAT Max                  int64  \n",
            " 27  Bwd IAT Min                  int64  \n",
            " 28  Fwd Header Length            int64  \n",
            " 29  Bwd Header Length            int64  \n",
            " 30  Fwd Packets/s                float64\n",
            " 31  Bwd Packets/s                float64\n",
            " 32  Min Packet Length            int64  \n",
            " 33  Max Packet Length            int64  \n",
            " 34  Packet Length Mean           float64\n",
            " 35  Packet Length Std            float64\n",
            " 36  Packet Length Variance       float64\n",
            " 37  FIN Flag Count               int64  \n",
            " 38  PSH Flag Count               int64  \n",
            " 39  ACK Flag Count               int64  \n",
            " 40  Average Packet Size          float64\n",
            " 41  Subflow Fwd Bytes            int64  \n",
            " 42  Init_Win_bytes_forward       int64  \n",
            " 43  Init_Win_bytes_backward      int64  \n",
            " 44  act_data_pkt_fwd             int64  \n",
            " 45  min_seg_size_forward         int64  \n",
            " 46  Active Mean                  float64\n",
            " 47  Active Max                   int64  \n",
            " 48  Active Min                   int64  \n",
            " 49  Idle Mean                    float64\n",
            " 50  Idle Max                     int64  \n",
            " 51  Idle Min                     int64  \n",
            " 52  Attack Type                  object \n",
            "dtypes: float64(20), int64(32), object(1)\n",
            "memory usage: 1019.3+ MB\n",
            "None\n",
            "\n",
            "Attack Type Distribution:\n",
            "Attack Type\n",
            "Normal Traffic    2095057\n",
            "DoS                193745\n",
            "DDoS               128014\n",
            "Port Scanning       90694\n",
            "Brute Force          9150\n",
            "Web Attacks          2143\n",
            "Bots                 1948\n",
            "Name: count, dtype: int64\n"
          ]
        }
      ]
    },
    {
      "cell_type": "markdown",
      "source": [
        "# Train/val/test split"
      ],
      "metadata": {
        "id": "L_-3p8agD5ps"
      }
    },
    {
      "cell_type": "code",
      "source": [
        "from sklearn.model_selection import train_test_split\n",
        "from sklearn.utils import shuffle\n",
        "\n",
        "# --- Train/val/test split ---\n",
        "# Split label from datafram\n",
        "X = cicids2017_df.drop('Attack Type', axis=1)\n",
        "y = cicids2017_df['Attack Type']\n",
        "\n",
        "# Split Data\n",
        "X_temp, X_test, y_temp, y_test= train_test_split(X, y, test_size=0.3, random_state=42, stratify = y)\n",
        "X_train, X_val, y_train, y_val = train_test_split(X_temp, y_temp, test_size=0.2, random_state=42, stratify = y_temp)\n",
        "\n",
        "# Shuffle the data\n",
        "X_train, y_train = shuffle(X_train, y_train, random_state=42)\n",
        "X_val, y_val = shuffle(X_val, y_val, random_state=42)\n",
        "X_test, y_test = shuffle(X_test, y_test, random_state=42)\n"
      ],
      "metadata": {
        "id": "n0CyZlVTD-QL"
      },
      "execution_count": 2,
      "outputs": []
    },
    {
      "cell_type": "markdown",
      "source": [
        "Visualisation of data split"
      ],
      "metadata": {
        "id": "pBlQLyboK9hQ"
      }
    },
    {
      "cell_type": "code",
      "source": [
        "import numpy as np\n",
        "import matplotlib.pyplot as plt\n",
        "\n",
        "print(f\"Input Shapes -> Train: {X_train.shape}, Val: {X_val.shape}, Test: {X_test.shape}\")\n",
        "print(f\"Labels[Benign, Mal] -> Train: {np.bincount(y_train)}, Val: {np.bincount(y_val)}, Test: {np.bincount(y_test)}\")\n",
        "\n",
        "train_counts = np.bincount(y_train)\n",
        "val_counts = np.bincount(y_val)\n",
        "test_counts = np.bincount(y_test)\n",
        "\n",
        "# Data for plotting\n",
        "labels = ['Benign', 'Malicious']\n",
        "datasets = ['Train', 'Validation', 'Test']\n",
        "counts = [train_counts, val_counts, test_counts]\n",
        "\n",
        "# Transpose counts to group by label\n",
        "benign_counts = [c[0] for c in counts]\n",
        "mal_counts = [c[1] for c in counts]\n",
        "\n",
        "x = np.arange(len(datasets))  # the label locations\n",
        "width = 0.35  # width of the bars\n",
        "\n",
        "# Plot\n",
        "fig, ax = plt.subplots()\n",
        "rects1 = ax.bar(x - width/2, benign_counts, width, label='Benign')\n",
        "rects2 = ax.bar(x + width/2, mal_counts, width, label='Malicious')\n",
        "\n",
        "# Add labels\n",
        "ax.set_ylabel('Number of Samples')\n",
        "ax.set_title('Label Distribution Across Datasets')\n",
        "ax.set_xticks(x)\n",
        "ax.set_xticklabels(datasets)\n",
        "ax.legend()\n",
        "\n",
        "# Add value labels\n",
        "def autolabel(rects):\n",
        "    for rect in rects:\n",
        "        height = rect.get_height()\n",
        "        ax.annotate(f'{height}',\n",
        "                    xy=(rect.get_x() + rect.get_width()/2, height),\n",
        "                    xytext=(0, 3),  # vertical offset\n",
        "                    textcoords=\"offset points\",\n",
        "                    ha='center', va='bottom')\n",
        "\n",
        "autolabel(rects1)\n",
        "autolabel(rects2)\n",
        "\n",
        "plt.tight_layout()\n",
        "plt.show()"
      ],
      "metadata": {
        "id": "wRbboPCjK-zB",
        "colab": {
          "base_uri": "https://localhost:8080/",
          "height": 521
        },
        "outputId": "336769e8-f09f-4d30-f1ff-6474cf4af89c"
      },
      "execution_count": 3,
      "outputs": [
        {
          "output_type": "stream",
          "name": "stdout",
          "text": [
            "Input Shapes -> Train: (1411620, 52), Val: (352905, 52), Test: (756226, 52)\n",
            "Labels[Benign, Mal] -> Train: [1173231  238389], Val: [293308  59597], Test: [628518 127708]\n"
          ]
        },
        {
          "output_type": "display_data",
          "data": {
            "text/plain": [
              "<Figure size 640x480 with 1 Axes>"
            ],
            "image/png": "[encoded data removed]"
          },
          "metadata": {}
        }
      ]
    },
    {
      "cell_type": "markdown",
      "source": [
        "#Normalise the datasets"
      ],
      "metadata": {
        "id": "uOj4HtZcH710"
      }
    },
    {
      "cell_type": "code",
      "source": [
        "from sklearn.preprocessing import MinMaxScaler, RobustScaler, StandardScaler\n",
        "import numpy as np\n",
        "\n",
        "# --- Normalize ---\n",
        "#scaler = RobustScaler() # Initialize the scaler\n",
        "scaler = StandardScaler() # Initialize the scaler\n",
        "\n",
        "# Apply the scaler\n",
        "X_train = scaler.fit_transform(X_train) # Standardise data features\n",
        "X_val = scaler.transform(X_val)\n",
        "X_test = scaler.transform(X_test)\n",
        "\n",
        "# Print the shape of the scaled data to verify\n",
        "print(f\"Shape of X_train after scaling: {X_train.shape}\")\n",
        "print(f\"Shape of X_val after scaling: {X_val.shape}\")\n",
        "print(f\"Shape of X_test after scaling: {X_test.shape}\")"
      ],
      "metadata": {
        "colab": {
          "base_uri": "https://localhost:8080/"
        },
        "id": "j73x9iD6H-ij",
        "outputId": "c434bf93-f3cf-402d-da38-597db13d3bf1"
      },
      "execution_count": 4,
      "outputs": [
        {
          "output_type": "stream",
          "name": "stdout",
          "text": [
            "Shape of X_train after scaling: (1411620, 52)\n",
            "Shape of X_val after scaling: (352905, 52)\n",
            "Shape of X_test after scaling: (756226, 52)\n"
          ]
        }
      ]
    },
    {
      "cell_type": "markdown",
      "source": [
        "# Data reshaping for 1D CNN input"
      ],
      "metadata": {
        "id": "WBxWX3MftapB"
      }
    },
    {
      "cell_type": "code",
      "source": [
        "import numpy as np\n",
        "\n",
        "# Reshape the data for 1D CNN input\n",
        "# 1D CNN expects input shape: (samples, timesteps, features). timesteps = number of features, features = 1 (per timestep)\n",
        "X_train = X_train.reshape((X_train.shape[0], X_train.shape[1], 1))\n",
        "X_val = X_val.reshape((X_val.shape[0], X_val.shape[1], 1))\n",
        "X_test = X_test.reshape((X_test.shape[0], X_test.shape[1], 1))\n",
        "\n",
        "\n",
        "# --- Final Shape Confirmation ---\n",
        "print(\"Training input shape:\", X_train.shape)\n",
        "print(\"Validation input shape:\", X_val.shape)\n",
        "print(\"Test input shape:\", X_test.shape)"
      ],
      "metadata": {
        "colab": {
          "base_uri": "https://localhost:8080/"
        },
        "id": "V0JKdNVLteDk",
        "outputId": "7899b9b8-3954-4e1b-8be9-ac520c783553"
      },
      "execution_count": 5,
      "outputs": [
        {
          "output_type": "stream",
          "name": "stdout",
          "text": [
            "Training input shape: (1411620, 52, 1)\n",
            "Validation input shape: (352905, 52, 1)\n",
            "Test input shape: (756226, 52, 1)\n"
          ]
        }
      ]
    },
    {
      "cell_type": "markdown",
      "source": [
        "#1D CNN model"
      ],
      "metadata": {
        "id": "AaK_AOGeuPxj"
      }
    },
    {
      "cell_type": "code",
      "source": [
        "# import tensorflow as tf\n",
        "# from tensorflow.keras.models import Sequential\n",
        "# from tensorflow.keras.layers import Conv1D, MaxPooling1D, Flatten, Dense, Dropout, BatchNormalization, Input\n",
        "\n",
        "# #Step 3: Define the 1D CNN Model\n",
        "\n",
        "# # Input shape\n",
        "# input_shape = (X_train.shape[1], 1)  # input_shape = (time_steps, features) of the training data\n",
        "\n",
        "# # Build model\n",
        "# CNN_model = Sequential([\n",
        "#     Input(shape=input_shape),\n",
        "#     Conv1D(filters=32, kernel_size=3, activation='relu'),   # Learn 32 distinct patterns from the data -> try detect low-level, local patterns from raw features\n",
        "#     BatchNormalization(),                                   # Normalizes the outputs of a the Conv1D layer before passing them to the MaxPool layer\n",
        "#     MaxPooling1D(pool_size=2),                              # Reduce the dimensions of the data without affecting key features\n",
        "#     Dropout(0.25),                                          # Prevent overfitting by forcing the model to generalize - it does this by randomly deactivating a fraction of neurons during training\n",
        "\n",
        "#     Conv1D(filters=64, kernel_size=2, activation='relu'),   # Try detect more abstract/complex patterns from first Conv1D layer. Each filter will look at 2 consecutive input features at a time (kernel = 2) eg: [f1, f2], [f2, f3], ... #kernel_size was 3\n",
        "#     BatchNormalization(),\n",
        "#     MaxPooling1D(pool_size=2),\n",
        "\n",
        "#     Flatten(),                                                                        # Converts the output of the last Conv1D layer into a 1D vector for the next fully connected layers\n",
        "#     Dense(64, activation='relu', kernel_regularizer=tf.keras.regularizers.l2(0.01)),  # The layer learns 64 different feature detectors (kernels), each kernel learns a specific pattern\n",
        "#                                                                                       # Apply L2 regularisation to prevent overfitting (common in the dense layer) #https://medium.com/@bhatadithya54764118/day-49-overfitting-and-underfitting-in-dl-regularization-techniques-8ded20baa3d6\n",
        "\n",
        "#     Dropout(0.5),                                                                     # Randomly drop 50% of the network's neurons to further prevent overfitting\n",
        "#     Dense(1, activation='sigmoid')                                                    # Final output layer( '1' = 1 neuron for binary classification, 'sigmoid' = decides if input is malicious (1) or benign (0))\n",
        "# ])\n",
        "\n",
        "# # Compile 1DCNN_model\n",
        "# CNN_model.compile(optimizer='adam', loss='binary_crossentropy', metrics=['accuracy'])\n",
        "\n",
        "# # Summary\n",
        "# # CNN_model.summary()"
      ],
      "metadata": {
        "id": "5z09AdYcuSTj"
      },
      "execution_count": 6,
      "outputs": []
    },
    {
      "cell_type": "markdown",
      "source": [
        "Trying something new"
      ],
      "metadata": {
        "id": "mGJ7VIhg2Kpe"
      }
    },
    {
      "cell_type": "code",
      "source": [
        "import tensorflow as tf\n",
        "from tensorflow.keras.models import Sequential\n",
        "from tensorflow.keras.layers import Conv1D, MaxPooling1D, Flatten, Dense, Dropout, BatchNormalization, Input\n",
        "\n",
        "#Step 3: Define the 1D CNN Model\n",
        "\n",
        "# Input shape\n",
        "input_shape = (X_train.shape[1], 1)  # input_shape = (time_steps, features) of the training data\n",
        "\n",
        "# Build model\n",
        "CNN_model = Sequential([\n",
        "    Input(shape=input_shape),\n",
        "    Conv1D(filters=32, kernel_size=3, activation='relu'),   # Learn 32 distinct patterns from the data -> try detect low-level, local patterns from raw features\n",
        "    BatchNormalization(),                                   # Normalizes the outputs of a the Conv1D layer before passing them to the MaxPool layer\n",
        "    MaxPooling1D(pool_size=2),                              # Reduce the dimensions of the data without affecting key features\n",
        "\n",
        "    Conv1D(filters=64, kernel_size=2, activation='relu'),   # Try detect more abstract/complex patterns from first Conv1D layer. Each filter will look at 2 consecutive input features at a time (kernel = 2) eg: [f1, f2], [f2, f3], ... #kernel_size was 3\n",
        "    BatchNormalization(),\n",
        "    MaxPooling1D(pool_size=2),\n",
        "\n",
        "    Flatten(),                                                                        # Converts the output of the last Conv1D layer into a 1D vector for the next fully connected layers\n",
        "    Dense(64, activation='relu'),  # The layer learns 64 different feature detectors (kernels), each kernel learns a specific pattern\n",
        "                                                                                      # Apply L2 regularisation to prevent overfitting (common in the dense layer) #https://medium.com/@bhatadithya54764118/day-49-overfitting-and-underfitting-in-dl-regularization-techniques-8ded20baa3d6\n",
        "\n",
        "    Dense(1, activation='sigmoid')                                                    # Final output layer( '1' = 1 neuron for binary classification, 'sigmoid' = decides if input is malicious (1) or benign (0))\n",
        "])\n",
        "\n",
        "# Compile 1DCNN_model\n",
        "CNN_model.compile(optimizer='adam', loss='binary_crossentropy', metrics=['accuracy'])\n",
        "\n",
        "# Summary\n",
        "# CNN_model.summary()"
      ],
      "metadata": {
        "id": "P0arSG7f2OGT"
      },
      "execution_count": 7,
      "outputs": []
    },
    {
      "cell_type": "markdown",
      "source": [
        "#Train 1D CNN\n",
        "\n",
        "- Major problems with class imbalance"
      ],
      "metadata": {
        "id": "h5WWCRHmusAX"
      }
    },
    {
      "cell_type": "code",
      "source": [
        "import matplotlib.pyplot as plt\n",
        "import timeit\n",
        "\n",
        "# Train the Model\n",
        "start_time = timeit.default_timer()\n",
        "history = CNN_model.fit(\n",
        "    X_train, y_train,\n",
        "    epochs=10,\n",
        "    batch_size=64,\n",
        "    validation_data=(X_val, y_val),\n",
        "    verbose=1\n",
        ")\n",
        "end_time = timeit.default_timer()\n",
        "print(f\"Training time: {end_time - start_time:.2f} seconds\")\n",
        "\n",
        "\n",
        "# Plot Accuracy and Loss\n",
        "plt.figure(figsize=(12,5))\n",
        "\n",
        "# Accuracy plot\n",
        "plt.subplot(1, 2, 1)\n",
        "plt.plot(history.history['accuracy'], label='Train Acc')\n",
        "plt.plot(history.history['val_accuracy'], label='Val Acc')\n",
        "plt.title('Accuracy')\n",
        "plt.xlabel('Epoch')\n",
        "plt.ylabel('Accuracy')\n",
        "plt.legend()\n",
        "\n",
        "# Loss plot\n",
        "plt.subplot(1, 2, 2)\n",
        "plt.plot(history.history['loss'], label='Train Loss')\n",
        "plt.plot(history.history['val_loss'], label='Val Loss')\n",
        "plt.title('Loss')\n",
        "plt.xlabel('Epoch')\n",
        "plt.ylabel('Loss')\n",
        "plt.legend()\n",
        "\n",
        "plt.tight_layout()\n",
        "plt.show()\n",
        "\n"
      ],
      "metadata": {
        "colab": {
          "base_uri": "https://localhost:8080/",
          "height": 864
        },
        "id": "yGslPs6rurxy",
        "outputId": "15025e52-1f43-41e5-88bd-6a196707f53e"
      },
      "execution_count": 8,
      "outputs": [
        {
          "output_type": "stream",
          "name": "stdout",
          "text": [
            "Epoch 1/10\n",
            "\u001b[1m22057/22057\u001b[0m \u001b[32m━━━━━━━━━━━━━━━━━━━━\u001b[0m\u001b[37m\u001b[0m \u001b[1m90s\u001b[0m 4ms/step - accuracy: 0.9768 - loss: 0.0539 - val_accuracy: 0.9845 - val_loss: 0.0418\n",
            "Epoch 2/10\n",
            "\u001b[1m22057/22057\u001b[0m \u001b[32m━━━━━━━━━━━━━━━━━━━━\u001b[0m\u001b[37m\u001b[0m \u001b[1m129s\u001b[0m 3ms/step - accuracy: 0.9848 - loss: 0.0328 - val_accuracy: 0.9850 - val_loss: 0.4375\n",
            "Epoch 3/10\n",
            "\u001b[1m22057/22057\u001b[0m \u001b[32m━━━━━━━━━━━━━━━━━━━━\u001b[0m\u001b[37m\u001b[0m \u001b[1m75s\u001b[0m 3ms/step - accuracy: 0.9859 - loss: 0.0304 - val_accuracy: 0.9863 - val_loss: 0.5944\n",
            "Epoch 4/10\n",
            "\u001b[1m22057/22057\u001b[0m \u001b[32m━━━━━━━━━━━━━━━━━━━━\u001b[0m\u001b[37m\u001b[0m \u001b[1m75s\u001b[0m 3ms/step - accuracy: 0.9863 - loss: 0.0289 - val_accuracy: 0.9868 - val_loss: 0.2715\n",
            "Epoch 5/10\n",
            "\u001b[1m22057/22057\u001b[0m \u001b[32m━━━━━━━━━━━━━━━━━━━━\u001b[0m\u001b[37m\u001b[0m \u001b[1m91s\u001b[0m 4ms/step - accuracy: 0.9867 - loss: 0.0280 - val_accuracy: 0.9817 - val_loss: 0.2166\n",
            "Epoch 6/10\n",
            "\u001b[1m22057/22057\u001b[0m \u001b[32m━━━━━━━━━━━━━━━━━━━━\u001b[0m\u001b[37m\u001b[0m \u001b[1m75s\u001b[0m 3ms/step - accuracy: 0.9870 - loss: 0.0276 - val_accuracy: 0.9871 - val_loss: 0.0275\n",
            "Epoch 7/10\n",
            "\u001b[1m22057/22057\u001b[0m \u001b[32m━━━━━━━━━━━━━━━━━━━━\u001b[0m\u001b[37m\u001b[0m \u001b[1m75s\u001b[0m 3ms/step - accuracy: 0.9871 - loss: 0.0269 - val_accuracy: 0.9867 - val_loss: 0.0906\n",
            "Epoch 8/10\n",
            "\u001b[1m22057/22057\u001b[0m \u001b[32m━━━━━━━━━━━━━━━━━━━━\u001b[0m\u001b[37m\u001b[0m \u001b[1m83s\u001b[0m 4ms/step - accuracy: 0.9872 - loss: 0.0267 - val_accuracy: 0.9877 - val_loss: 0.0691\n",
            "Epoch 9/10\n",
            "\u001b[1m22057/22057\u001b[0m \u001b[32m━━━━━━━━━━━━━━━━━━━━\u001b[0m\u001b[37m\u001b[0m \u001b[1m136s\u001b[0m 3ms/step - accuracy: 0.9871 - loss: 0.0263 - val_accuracy: 0.9866 - val_loss: 0.0271\n",
            "Epoch 10/10\n",
            "\u001b[1m22057/22057\u001b[0m \u001b[32m━━━━━━━━━━━━━━━━━━━━\u001b[0m\u001b[37m\u001b[0m \u001b[1m75s\u001b[0m 3ms/step - accuracy: 0.9875 - loss: 0.0257 - val_accuracy: 0.9819 - val_loss: 0.1227\n",
            "Training time: 911.40 seconds\n"
          ]
        },
        {
          "output_type": "display_data",
          "data": {
            "text/plain": [
              "<Figure size 1200x500 with 2 Axes>"
            ],
            "image/png": "[encoded data removed]"
          },
          "metadata": {}
        }
      ]
    },
    {
      "cell_type": "markdown",
      "source": [
        "# Evaluate 1D CNN Malware Detection Results"
      ],
      "metadata": {
        "id": "xR3T_G90vSvu"
      }
    },
    {
      "cell_type": "code",
      "source": [
        "from sklearn.metrics import confusion_matrix, accuracy_score, classification_report\n",
        "\n",
        "# Get predictions of x_test dataset\n",
        "threshold = 0.5 #0.09 gave only 773 fn\n",
        "print(f\"threshold: {threshold}\")\n",
        "y_pred_probs = CNN_model.predict(X_test)\n",
        "y_pred = (y_pred_probs > threshold).astype(int).flatten()  # Boolean statmenent that flattens y_pred to 0 (False) if the CNN's prediction is bigger than the threshold\n",
        "\n",
        "# Confusion matrix\n",
        "cm = confusion_matrix(y_test, y_pred)\n",
        "\n",
        "# Optional: print as table\n",
        "print(\"Confusion Matrix:\")\n",
        "print(cm)\n",
        "\n",
        "# Detailed breakdown\n",
        "tn, fp, fn, tp = cm.ravel()\n",
        "print(f\"\\nTrue Negatives (Benign correctly classified): {tn}\")\n",
        "print(f\"False Positives (Benign misclassified as malware): {fp}\")\n",
        "print(f\"False Negatives (Malware missed): {fn}\")\n",
        "print(f\"True Positives (Malware correctly identified): {tp}\")\n",
        "\n",
        "# Accuracy scores\n",
        "print(\"Accuracy:\")\n",
        "print(\"sklearn Accuracy:\", accuracy_score(y_test, y_pred))\n",
        "test_loss, test_acc = CNN_model.evaluate(X_test, y_test, verbose=0)# Evaluate model with test set\n",
        "print(f\"model.evaluate Accuracy: {test_acc:.4f}\")\n",
        "print(f\"Confusion Matrix Accuracy: {(tp + tn) / (tp + tn + fp + fn)}\")\n",
        "print(f\"{(tp/(tp+fn))*100}% of malware idenetified\")\n",
        "\n",
        "# Classification report (accuracy, precision, recall, F1)\n",
        "print(\"\\nClassification Report:\")\n",
        "print(classification_report(y_test, y_pred, target_names=[\"Benign\", \"Malicious\"]))"
      ],
      "metadata": {
        "colab": {
          "base_uri": "https://localhost:8080/"
        },
        "id": "G1chgEQVvU-s",
        "outputId": "caacd203-905d-431d-b0e2-f2044256b0e4"
      },
      "execution_count": 13,
      "outputs": [
        {
          "output_type": "stream",
          "name": "stdout",
          "text": [
            "threshold: 0.5\n",
            "\u001b[1m23633/23633\u001b[0m \u001b[32m━━━━━━━━━━━━━━━━━━━━\u001b[0m\u001b[37m\u001b[0m \u001b[1m35s\u001b[0m 1ms/step\n",
            "Confusion Matrix:\n",
            "[[622070   6448]\n",
            " [  7517 120191]]\n",
            "\n",
            "True Negatives (Benign correctly classified): 622070\n",
            "False Positives (Benign misclassified as malware): 6448\n",
            "False Negatives (Malware missed): 7517\n",
            "True Positives (Malware correctly identified): 120191\n",
            "Accuracy:\n",
            "sklearn Accuracy: 0.9815332982468203\n",
            "model.evaluate Accuracy: 0.9815\n",
            "Confusion Matrix Accuracy: 0.9815332982468203\n",
            "94.11391612115138% of malware idenetified\n",
            "\n",
            "Classification Report:\n",
            "              precision    recall  f1-score   support\n",
            "\n",
            "      Benign       0.99      0.99      0.99    628518\n",
            "   Malicious       0.95      0.94      0.95    127708\n",
            "\n",
            "    accuracy                           0.98    756226\n",
            "   macro avg       0.97      0.97      0.97    756226\n",
            "weighted avg       0.98      0.98      0.98    756226\n",
            "\n"
          ]
        }
      ]
    },
    {
      "cell_type": "markdown",
      "source": [
        "#Plot of CNN's predictions vs. actual labels"
      ],
      "metadata": {
        "id": "JwIx117UuZXB"
      }
    },
    {
      "cell_type": "code",
      "source": [
        "import matplotlib.pyplot as plt\n",
        "import numpy as np\n",
        "\n",
        "# --- Plot CNN Prediction Probabilities ---\n",
        "# Map actual labels to colors: red = malicious (1), blue = benign (0)\n",
        "colors = np.where(y_test == 1, 'red', 'blue')\n",
        "\n",
        "# X-axis = sample index\n",
        "x_vals = np.arange(len(y_pred_probs))\n",
        "\n",
        "# Plot predictions with color by actual label\n",
        "plt.figure(figsize=(12, 6))\n",
        "plt.scatter(x_vals, y_pred_probs, c=colors, alpha=0.3, s=5)\n",
        "plt.axhline(y=threshold, color='r', linestyle='--', label='Threshold = 0.2')\n",
        "\n",
        "# Labels and styling\n",
        "plt.ylim([0, 1])\n",
        "plt.xlabel(\"Sample Index\")\n",
        "plt.ylabel(\"Predicted Probability\")\n",
        "plt.title(\"CNN Malware Prediction Probabilities Colored by Actual Label\")\n",
        "custom_lines = [\n",
        "    plt.Line2D([0], [0], marker='o', color='w', label='Benign (y=0)', markerfacecolor='blue', markersize=6),\n",
        "    plt.Line2D([0], [0], marker='o', color='w', label='Malicious (y=1)', markerfacecolor='red', markersize=6)\n",
        "]\n",
        "plt.legend(handles=custom_lines)\n",
        "plt.grid(True)\n",
        "plt.tight_layout()\n",
        "plt.show()"
      ],
      "metadata": {
        "colab": {
          "base_uri": "https://localhost:8080/"
        },
        "id": "Fjo0-Sc-ueHb",
        "outputId": "e3871902-7336-486b-8b0c-ce633c3df518"
      },
      "execution_count": null,
      "outputs": [
        {
          "output_type": "stream",
          "name": "stderr",
          "text": [
            "/tmp/ipython-input-14-445008161.py:27: UserWarning: Creating legend with loc=\"best\" can be slow with large amounts of data.\n",
            "  plt.tight_layout()\n",
            "/usr/local/lib/python3.11/dist-packages/IPython/core/pylabtools.py:151: UserWarning: Creating legend with loc=\"best\" can be slow with large amounts of data.\n",
            "  fig.canvas.print_figure(bytes_io, **kw)\n"
          ]
        }
      ]
    },
    {
      "cell_type": "markdown",
      "source": [
        "# 1D CNN Quant model"
      ],
      "metadata": {
        "id": "L3gfDVIU2grG"
      }
    },
    {
      "cell_type": "code",
      "source": [
        "import tensorflow as tf\n",
        "import numpy as np\n",
        "import os\n",
        "from sklearn.utils import shuffle\n",
        "\n",
        "# --- STEP 1: Balance the sample set to 40% benign, 60% malware ---\n",
        "def balance_sample_data(X_train, y_train, benign_ratio=0.4):\n",
        "    benign_X = X_train[y_train == 0]\n",
        "    malware_X = X_train[y_train == 1]\n",
        "\n",
        "    total = min(len(benign_X) + len(benign_X), 100000)\n",
        "    benign_n = int(benign_ratio * total)\n",
        "    malware_n = total - benign_n\n",
        "\n",
        "    benign_X_sampled = benign_X[np.random.choice(len(benign_X), benign_n)]\n",
        "    malware_X_sampled = malware_X[np.random.choice(len(malware_X), malware_n)] #ISSUE?\n",
        "\n",
        "    X_bal = np.vstack((benign_X_sampled, malware_X_sampled))\n",
        "    y_bal = np.array([0]*benign_n + [1]*malware_n)\n",
        "\n",
        "    return shuffle(X_bal, y_bal, random_state=42)\n",
        "\n",
        "# Apply balancing to training data\n",
        "X_sample, y_sample = balance_sample_data(X_train, y_train, benign_ratio=0.4)\n",
        "\n",
        "# Ensure 1D shape (samples, timesteps, 1)\n",
        "X_sample = X_sample.reshape((X_sample.shape[0], X_sample.shape[1], 1))\n",
        "\n",
        "# --- STEP 2: Define representative dataset for quantization ---\n",
        "def representative_dataset():\n",
        "    for i in range(1000):\n",
        "        index = np.random.randint(0, X_sample.shape[0]) #randomise choices from X_sample data to get a range of diverse samples (not just the first 1000)\n",
        "        yield [X_sample[index:index+1].astype(np.float32)]\n",
        "\n",
        "# --- STEP 3: Quantization function ---\n",
        "def converter_quantization_model(model, model_name):\n",
        "    os.makedirs('./models', exist_ok=True)\n",
        "\n",
        "    # Save float32 optimized model\n",
        "    converter = tf.lite.TFLiteConverter.from_keras_model(model)\n",
        "    converter.optimizations = [tf.lite.Optimize.DEFAULT]\n",
        "    converter.target_spec.supported_types = [tf.float32]\n",
        "    converter.representative_dataset = representative_dataset\n",
        "    tflite_model_float32 = converter.convert()\n",
        "    with open(model_name + '_quant_float32.tflite', 'wb') as f:\n",
        "        f.write(tflite_model_float32)\n",
        "\n",
        "    # Save int8 quantized model\n",
        "    converter = tf.lite.TFLiteConverter.from_keras_model(model)\n",
        "    converter.optimizations = [tf.lite.Optimize.DEFAULT]\n",
        "    converter.target_spec.supported_types = [tf.int8]\n",
        "    converter.inference_input_type = tf.int8\n",
        "    converter.inference_output_type = tf.int8\n",
        "    converter.representative_dataset = representative_dataset\n",
        "    tflite_model_int8 = converter.convert()\n",
        "    with open(model_name + '_quant_int8.tflite', 'wb') as f:\n",
        "        f.write(tflite_model_int8)\n",
        "\n",
        "# --- STEP 4: Apply conversion ---\n",
        "converter_quantization_model(CNN_model, './models/1Dcnn')\n"
      ],
      "metadata": {
        "colab": {
          "base_uri": "https://localhost:8080/"
        },
        "id": "PjeYR1Sf2j9d",
        "outputId": "2dc367f7-48b5-4e1f-b9e2-6351f9d05039"
      },
      "execution_count": 11,
      "outputs": [
        {
          "output_type": "stream",
          "name": "stdout",
          "text": [
            "Saved artifact at '/tmp/tmpwem_9lky'. The following endpoints are available:\n",
            "\n",
            "* Endpoint 'serve'\n",
            "  args_0 (POSITIONAL_ONLY): TensorSpec(shape=(None, 52, 1), dtype=tf.float32, name='keras_tensor')\n",
            "Output Type:\n",
            "  TensorSpec(shape=(None, 1), dtype=tf.float32, name=None)\n",
            "Captures:\n",
            "  135287917084304: TensorSpec(shape=(), dtype=tf.resource, name=None)\n",
            "  135287743929168: TensorSpec(shape=(), dtype=tf.resource, name=None)\n",
            "  135287743931472: TensorSpec(shape=(), dtype=tf.resource, name=None)\n",
            "  135287743929744: TensorSpec(shape=(), dtype=tf.resource, name=None)\n",
            "  135287743930128: TensorSpec(shape=(), dtype=tf.resource, name=None)\n",
            "  135287743927632: TensorSpec(shape=(), dtype=tf.resource, name=None)\n",
            "  135287743927440: TensorSpec(shape=(), dtype=tf.resource, name=None)\n",
            "  135287743927248: TensorSpec(shape=(), dtype=tf.resource, name=None)\n",
            "  135287743930320: TensorSpec(shape=(), dtype=tf.resource, name=None)\n",
            "  135287743930896: TensorSpec(shape=(), dtype=tf.resource, name=None)\n",
            "  135287743931856: TensorSpec(shape=(), dtype=tf.resource, name=None)\n",
            "  135287743929936: TensorSpec(shape=(), dtype=tf.resource, name=None)\n",
            "  135287743933200: TensorSpec(shape=(), dtype=tf.resource, name=None)\n",
            "  135287743934352: TensorSpec(shape=(), dtype=tf.resource, name=None)\n",
            "  135287743931088: TensorSpec(shape=(), dtype=tf.resource, name=None)\n",
            "  135287743935696: TensorSpec(shape=(), dtype=tf.resource, name=None)\n",
            "Saved artifact at '/tmp/tmpxsgc2z9k'. The following endpoints are available:\n",
            "\n",
            "* Endpoint 'serve'\n",
            "  args_0 (POSITIONAL_ONLY): TensorSpec(shape=(None, 52, 1), dtype=tf.float32, name='keras_tensor')\n",
            "Output Type:\n",
            "  TensorSpec(shape=(None, 1), dtype=tf.float32, name=None)\n",
            "Captures:\n",
            "  135287917084304: TensorSpec(shape=(), dtype=tf.resource, name=None)\n",
            "  135287743929168: TensorSpec(shape=(), dtype=tf.resource, name=None)\n",
            "  135287743931472: TensorSpec(shape=(), dtype=tf.resource, name=None)\n",
            "  135287743929744: TensorSpec(shape=(), dtype=tf.resource, name=None)\n",
            "  135287743930128: TensorSpec(shape=(), dtype=tf.resource, name=None)\n",
            "  135287743927632: TensorSpec(shape=(), dtype=tf.resource, name=None)\n",
            "  135287743927440: TensorSpec(shape=(), dtype=tf.resource, name=None)\n",
            "  135287743927248: TensorSpec(shape=(), dtype=tf.resource, name=None)\n",
            "  135287743930320: TensorSpec(shape=(), dtype=tf.resource, name=None)\n",
            "  135287743930896: TensorSpec(shape=(), dtype=tf.resource, name=None)\n",
            "  135287743931856: TensorSpec(shape=(), dtype=tf.resource, name=None)\n",
            "  135287743929936: TensorSpec(shape=(), dtype=tf.resource, name=None)\n",
            "  135287743933200: TensorSpec(shape=(), dtype=tf.resource, name=None)\n",
            "  135287743934352: TensorSpec(shape=(), dtype=tf.resource, name=None)\n",
            "  135287743931088: TensorSpec(shape=(), dtype=tf.resource, name=None)\n",
            "  135287743935696: TensorSpec(shape=(), dtype=tf.resource, name=None)\n"
          ]
        },
        {
          "output_type": "stream",
          "name": "stderr",
          "text": [
            "/usr/local/lib/python3.11/dist-packages/tensorflow/lite/python/convert.py:997: UserWarning: Statistics for quantized inputs were expected, but not specified; continuing anyway.\n",
            "  warnings.warn(\n"
          ]
        }
      ]
    },
    {
      "cell_type": "markdown",
      "source": [
        "#Evaluate int8 1D CNN"
      ],
      "metadata": {
        "id": "9Em5y-Cl26vO"
      }
    },
    {
      "cell_type": "code",
      "source": [
        "from tensorflow.lite.python.interpreter import Interpreter\n",
        "from sklearn.metrics import accuracy_score, confusion_matrix\n",
        "import numpy as np\n",
        "import time\n",
        "\n",
        "\n",
        "def evaluate_tflite_model(tflite_path, X_test, y_test):\n",
        "    #Load and Prepare TFLite Interpreter\n",
        "    interpreter = Interpreter(model_path=tflite_path)\n",
        "    interpreter.allocate_tensors()\n",
        "\n",
        "    #Fetch input & output Tensor Details from the TensorFlow Lite Interpreter after the model is loaded and memory for its tensors is allocated.\n",
        "    input_details = interpreter.get_input_details() #Input tensor: shape, dtype, index.\n",
        "    output_details = interpreter.get_output_details() #Output tensor: shape, dtype, index, quantisation.\n",
        "\n",
        "    #Store the tensor indices and data types for input/output\n",
        "    input_index = input_details[0]['index']\n",
        "    output_index = output_details[0]['index']\n",
        "    input_dtype = input_details[0]['dtype']\n",
        "    output_dtype = output_details[0]['dtype']\n",
        "\n",
        "    # Calculate Quantization Threshold\n",
        "    output_scale, output_zero_point = output_details[0]['quantization']#Get quantization parameters for the output\n",
        "    if output_dtype == np.int8:\n",
        "        quantized_threshold = int(round(0.5 / output_scale + output_zero_point)) #Computes the int8 value that corresponds to 0.5 — the usual binary classification threshold for float.\n",
        "\n",
        "    #Initializes empty lists to store predictions and timing\n",
        "    predictions = []\n",
        "    processing_times = []\n",
        "\n",
        "    for i in range(len(X_test)):\n",
        "        #input_data = np.expand_dims(X_test[i], axis=0).astype(input_dtype)#Prepare Input Tensor and Run Inference\n",
        "        input_data = np.expand_dims(X_test[i], axis=0)\n",
        "\n",
        "        if input_dtype == np.int8:\n",
        "            input_scale, input_zero_point = input_details[0]['quantization']\n",
        "            input_data = (input_data / input_scale + input_zero_point).astype(np.int8)\n",
        "        else:\n",
        "            input_data = input_data.astype(input_dtype)\n",
        "\n",
        "        start_time = time.time()\n",
        "        interpreter.set_tensor(input_index, input_data) #Loads input into the interpreter.\n",
        "        interpreter.invoke() #Execute the model\n",
        "        output = interpreter.get_tensor(output_index) #Gets the output tensor.\n",
        "        processing_times.append(time.time() - start_time)\n",
        "\n",
        "        # Handle prediction thresholding for float and int8 models\n",
        "        if output_dtype == np.float32:\n",
        "            pred = (output[0][0] > 0.5).astype(int)\n",
        "        elif output_dtype == np.int8:\n",
        "            pred = (output[0][0] > quantized_threshold).astype(int) #If int8, compare against precomputed quantized threshold\n",
        "        else:\n",
        "            raise ValueError(f\"Unsupported output dtype: {output_dtype}\")\n",
        "\n",
        "        predictions.append(pred)\n",
        "\n",
        "    #Evaluate Accuracy and Confusion Matrix\n",
        "    acc = accuracy_score(y_test, predictions)\n",
        "    cm = confusion_matrix(y_test, predictions)\n",
        "\n",
        "    print(f\"{tflite_path} Accuracy: {acc:.4f}\")\n",
        "    print(f\"Avg inference time: {np.mean(processing_times)*1000:.2f} ms/sample\")\n",
        "    print(\"Confusion Matrix:\")\n",
        "    print(cm)\n",
        "    print(f\"{(tp/(tp+fn))*100}% of malware idenetified\")\n",
        "\n",
        "    if cm.shape == (2, 2):\n",
        "        tn, fp, fn, tp = cm.ravel()\n",
        "        print(f\"\\nTrue Negatives (Benign correctly classified): {tn}\")\n",
        "        print(f\"False Positives (Benign misclassified as malware): {fp}\")\n",
        "        print(f\"False Negatives (Malware missed): {fn}\")\n",
        "        print(f\"True Positives (Malware correctly identified): {tp}\")\n",
        "    else:\n",
        "        print(\"\\nWarning: Confusion matrix is not 2x2 — check labels.\")\n",
        "\n",
        "# Execute evaluation function:\n",
        "evaluate_tflite_model(\"./models/1Dcnn_quant_float32.tflite\", X_test, y_test)\n",
        "evaluate_tflite_model(\"./models/1Dcnn_quant_int8.tflite\", X_test, y_test)\n"
      ],
      "metadata": {
        "colab": {
          "base_uri": "https://localhost:8080/",
          "height": 394
        },
        "id": "heu0aEfQ2_hA",
        "outputId": "c61d864b-38b1-483e-d43f-462b0a9a93e0"
      },
      "execution_count": 12,
      "outputs": [
        {
          "output_type": "stream",
          "name": "stdout",
          "text": [
            "./models/1Dcnn_quant_float32.tflite Accuracy: 0.9815\n",
            "Avg inference time: 0.02 ms/sample\n",
            "Confusion Matrix:\n",
            "[[622070   6448]\n",
            " [  7517 120191]]\n"
          ]
        },
        {
          "output_type": "error",
          "ename": "UnboundLocalError",
          "evalue": "cannot access local variable 'tp' where it is not associated with a value",
          "traceback": [
            "\u001b[0;31m---------------------------------------------------------------------------\u001b[0m",
            "\u001b[0;31mUnboundLocalError\u001b[0m                         Traceback (most recent call last)",
            "\u001b[0;32m/tmp/ipython-input-12-1072581799.py\u001b[0m in \u001b[0;36m<cell line: 0>\u001b[0;34m()\u001b[0m\n\u001b[1;32m     75\u001b[0m \u001b[0;34m\u001b[0m\u001b[0m\n\u001b[1;32m     76\u001b[0m \u001b[0;31m# Execute evaluation function:\u001b[0m\u001b[0;34m\u001b[0m\u001b[0;34m\u001b[0m\u001b[0m\n\u001b[0;32m---> 77\u001b[0;31m \u001b[0mevaluate_tflite_model\u001b[0m\u001b[0;34m(\u001b[0m\u001b[0;34m\"./models/1Dcnn_quant_float32.tflite\"\u001b[0m\u001b[0;34m,\u001b[0m \u001b[0mX_test\u001b[0m\u001b[0;34m,\u001b[0m \u001b[0my_test\u001b[0m\u001b[0;34m)\u001b[0m\u001b[0;34m\u001b[0m\u001b[0;34m\u001b[0m\u001b[0m\n\u001b[0m\u001b[1;32m     78\u001b[0m \u001b[0mevaluate_tflite_model\u001b[0m\u001b[0;34m(\u001b[0m\u001b[0;34m\"./models/1Dcnn_quant_int8.tflite\"\u001b[0m\u001b[0;34m,\u001b[0m \u001b[0mX_test\u001b[0m\u001b[0;34m,\u001b[0m \u001b[0my_test\u001b[0m\u001b[0;34m)\u001b[0m\u001b[0;34m\u001b[0m\u001b[0;34m\u001b[0m\u001b[0m\n",
            "\u001b[0;32m/tmp/ipython-input-12-1072581799.py\u001b[0m in \u001b[0;36mevaluate_tflite_model\u001b[0;34m(tflite_path, X_test, y_test)\u001b[0m\n\u001b[1;32m     63\u001b[0m     \u001b[0mprint\u001b[0m\u001b[0;34m(\u001b[0m\u001b[0;34m\"Confusion Matrix:\"\u001b[0m\u001b[0;34m)\u001b[0m\u001b[0;34m\u001b[0m\u001b[0;34m\u001b[0m\u001b[0m\n\u001b[1;32m     64\u001b[0m     \u001b[0mprint\u001b[0m\u001b[0;34m(\u001b[0m\u001b[0mcm\u001b[0m\u001b[0;34m)\u001b[0m\u001b[0;34m\u001b[0m\u001b[0;34m\u001b[0m\u001b[0m\n\u001b[0;32m---> 65\u001b[0;31m     \u001b[0mprint\u001b[0m\u001b[0;34m(\u001b[0m\u001b[0;34mf\"{(tp/(tp+fn))*100}% of malware idenetified\"\u001b[0m\u001b[0;34m)\u001b[0m\u001b[0;34m\u001b[0m\u001b[0;34m\u001b[0m\u001b[0m\n\u001b[0m\u001b[1;32m     66\u001b[0m \u001b[0;34m\u001b[0m\u001b[0m\n\u001b[1;32m     67\u001b[0m     \u001b[0;32mif\u001b[0m \u001b[0mcm\u001b[0m\u001b[0;34m.\u001b[0m\u001b[0mshape\u001b[0m \u001b[0;34m==\u001b[0m \u001b[0;34m(\u001b[0m\u001b[0;36m2\u001b[0m\u001b[0;34m,\u001b[0m \u001b[0;36m2\u001b[0m\u001b[0;34m)\u001b[0m\u001b[0;34m:\u001b[0m\u001b[0;34m\u001b[0m\u001b[0;34m\u001b[0m\u001b[0m\n",
            "\u001b[0;31mUnboundLocalError\u001b[0m: cannot access local variable 'tp' where it is not associated with a value"
          ]
        }
      ]
    }
  ]
}