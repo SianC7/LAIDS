{
  "nbformat": 4,
  "nbformat_minor": 0,
  "metadata": {
    "colab": {
      "provenance": [],
      "mount_file_id": "1_nEBkWalBNtm9uQccbc8maZKDVBx78fP",
      "authorship_tag": "ABX9TyMX6ZVtRpmh0jzTBRENEr0G",
      "include_colab_link": true
    },
    "kernelspec": {
      "name": "python3",
      "display_name": "Python 3"
    },
    "language_info": {
      "name": "python"
    }
  },
  "cells": [
    {
      "cell_type": "markdown",
      "metadata": {
        "id": "view-in-github",
        "colab_type": "text"
      },
      "source": [
        "<a href=\"https://colab.research.google.com/github/SianC7/LAIDS/blob/main/Sian's_1D_CNN_baseline_(%2Bquant).ipynb\" target=\"_parent\"><img src=\"https://colab.research.google.com/assets/colab-badge.svg\" alt=\"Open In Colab\"/></a>"
      ]
    },
    {
      "cell_type": "markdown",
      "source": [
        "#IoT-23 Data preprocessing\n",
        "- Collection\n",
        "- Cleaning\n",
        "- Encoding\n",
        "- Scaling\n",
        "- Normalisation"
      ],
      "metadata": {
        "id": "oOSaPtDFUdwR"
      }
    },
    {
      "cell_type": "code",
      "source": [
        "import pandas as pd\n",
        "import numpy as np\n",
        "from sklearn.preprocessing import LabelEncoder\n",
        "from sklearn.preprocessing import StandardScaler\n",
        "\n",
        "\n",
        "# Set pandas display options for wide output\n",
        "pd.set_option('display.max_columns', None)\n",
        "pd.set_option('display.width', None)\n",
        "pd.set_option('display.max_colwidth', None)\n",
        "\n",
        "# Step 1: Data Collection\n",
        "data_file_path = '/content/drive/MyDrive/Colab Notebooks/Honours Project/Datasets/IoT-23 8GB Dataset/Malware-Project/BigDataset/IoTScenarios/CTU-IoT-Malware-Capture-1-1/bro/conn.log.labeled'\n",
        "\n",
        "# Read the file\n",
        "df = pd.read_csv(\n",
        "    data_file_path,\n",
        "    sep=\"\\t\",\n",
        "    comment=\"#\",\n",
        "    header=None,\n",
        "    names=[\n",
        "        \"ts\", \"uid\", \"id.orig_h\", \"id.orig_p\", \"id.resp_h\", \"id.resp_p\", \"proto\",\n",
        "        \"service\", \"duration\", \"orig_bytes\", \"resp_bytes\", \"conn_state\",\n",
        "        \"local_orig\", \"local_resp\", \"missed_bytes\", \"history\", \"orig_pkts\",\n",
        "        \"orig_ip_bytes\", \"resp_pkts\", \"resp_ip_bytes\", \"label\"\n",
        "    ]\n",
        ")\n",
        "\n",
        "print(\"\\nInitial sample:\")\n",
        "print(df.head().to_string())\n",
        "\n",
        "# Step 2: Data Cleaning\n",
        "# Convert timestamp to datetime\n",
        "df[\"ts\"] = pd.to_datetime(df[\"ts\"], unit=\"s\", errors='coerce')\n",
        "\n",
        "# Drop non-informative or redundant columns\n",
        "df.drop(columns=['uid', 'id.orig_h', 'id.resp_h', 'local_orig', 'local_resp', 'history'], inplace=True)\n",
        "\n",
        "# Replace '-' with NaN for consistent handling\n",
        "df.replace('-', np.nan, inplace=True)\n",
        "\n",
        "# Drop rows where critical numeric fields are missing\n",
        "df.dropna(subset=[\n",
        "    'duration', 'orig_bytes', 'resp_bytes', 'id.orig_p', 'id.resp_p',\n",
        "    'orig_pkts', 'orig_ip_bytes', 'resp_pkts', 'resp_ip_bytes'\n",
        "], inplace=True)\n",
        "\n",
        "# Convert appropriate columns to numeric types\n",
        "numeric_columns = [\n",
        "    'duration', 'orig_bytes', 'resp_bytes', 'id.orig_p', 'id.resp_p',\n",
        "    'orig_pkts', 'orig_ip_bytes', 'resp_pkts', 'resp_ip_bytes', 'missed_bytes'\n",
        "]\n",
        "for col in numeric_columns:\n",
        "    df[col] = pd.to_numeric(df[col], errors='coerce').fillna(0)\n",
        "\n",
        "# Encode categorical columns\n",
        "categorical_columns = ['proto', 'conn_state', 'service']\n",
        "for col in categorical_columns:\n",
        "    df[col] = df[col].astype(str)  # Ensure strings\n",
        "    df[col] = LabelEncoder().fit_transform(df[col])\n",
        "\n",
        "# Convert label to binary (malicious=1, benign=0)\n",
        "df['label'] = df['label'].apply(lambda x: 1 if 'Malicious' in str(x) else 0)\n",
        "\n",
        "# Drop any rows still containing NaN\n",
        "df.dropna(inplace=True)\n",
        "\n",
        "print(\"\\nCleaned sample:\")\n",
        "print(df.head().to_string())\n",
        "print(\"\\nData types and nulls:\")\n",
        "print(df.info())\n",
        "# print(\"\\nStatistics:\")\n",
        "# print(df.describe().to_string())\n",
        "\n",
        "\n",
        "# --- Split features and labels ---\n",
        "X = df.drop(columns=['label', 'ts']).values  # Drop label and timestamp\n",
        "y = df['label'].values\n",
        "\n",
        "# --- Normalize ---\n",
        "scaler = StandardScaler()\n",
        "X_scaled = scaler.fit_transform(X)\n",
        "\n",
        "\n",
        "# --- Add counts of malware and benign logs ---\n",
        "total_logs = len(df)\n",
        "malware_logs = df['label'].sum()  # since malware=1\n",
        "benign_logs = total_logs - malware_logs\n",
        "\n",
        "print(f\"\\nTotal logs: {total_logs}\")\n",
        "print(f\"Malware logs: {malware_logs}\")\n",
        "print(f\"Benign (non-malicious) logs: {benign_logs}\")\n"
      ],
      "metadata": {
        "colab": {
          "base_uri": "https://localhost:8080/"
        },
        "id": "9S8k3TYGvIBW",
        "outputId": "b16a1deb-5c39-480c-d64d-7efdfa296eed"
      },
      "execution_count": null,
      "outputs": [
        {
          "output_type": "stream",
          "name": "stdout",
          "text": [
            "\n",
            "Initial sample:\n",
            "             ts                 uid        id.orig_h  id.orig_p        id.resp_h  id.resp_p proto service  duration orig_bytes resp_bytes conn_state local_orig local_resp  missed_bytes history  orig_pkts  orig_ip_bytes  resp_pkts  resp_ip_bytes                                            label\n",
            "0  1.525880e+09  CUmrqr4svHuSXJy5z7  192.168.100.103      51524   65.127.233.163         23   tcp       -  2.999051          0          0         S0          -          -             0       S          3            180          0              0  (empty)   Malicious   PartOfAHorizontalPortScan\n",
            "1  1.525880e+09  CH98aB3s1kJeq6SFOc  192.168.100.103      56305    63.150.16.171         23   tcp       -         -          -          -         S0          -          -             0       S          1             60          0              0  (empty)   Malicious   PartOfAHorizontalPortScan\n",
            "2  1.525880e+09   C3GBTkINvXNjVGtN5  192.168.100.103      41101     111.40.23.49         23   tcp       -         -          -          -         S0          -          -             0       S          1             60          0              0  (empty)   Malicious   PartOfAHorizontalPortScan\n",
            "3  1.525880e+09   CDe43c1PtgynajGI6  192.168.100.103      60905  131.174.215.147         23   tcp       -  2.998796          0          0         S0          -          -             0       S          3            180          0              0  (empty)   Malicious   PartOfAHorizontalPortScan\n",
            "4  1.525880e+09  CJaDcG3MZzvf1YVYI4  192.168.100.103      44301      91.42.47.63         23   tcp       -         -          -          -         S0          -          -             0       S          1             60          0              0  (empty)   Malicious   PartOfAHorizontalPortScan\n",
            "\n",
            "Cleaned sample:\n",
            "                              ts  id.orig_p  id.resp_p  proto  service  duration  orig_bytes  resp_bytes  conn_state  missed_bytes  orig_pkts  orig_ip_bytes  resp_pkts  resp_ip_bytes  label\n",
            "0  2018-05-09 15:30:31.015810966      51524         23      1        3  2.999051           0           0           6             0          3            180          0              0      1\n",
            "3  2018-05-09 15:30:32.016239882      60905         23      1        3  2.998796           0           0           6             0          3            180          0              0      1\n",
            "6  2018-05-09 15:30:33.016170978      34243      49560      1        3  2.998804           0           0           6             0          3            180          0              0      0\n",
            "11 2018-05-09 15:30:37.005651951      52259         23      1        3  2.999300           0           0           6             0          3            180          0              0      1\n",
            "12 2018-05-09 15:30:38.006081104      42207       8080      1        3  2.993548           0           0           6             0          3            180          0              0      1\n",
            "\n",
            "Data types and nulls:\n",
            "<class 'pandas.core.frame.DataFrame'>\n",
            "Index: 212448 entries, 0 to 1008685\n",
            "Data columns (total 15 columns):\n",
            " #   Column         Non-Null Count   Dtype         \n",
            "---  ------         --------------   -----         \n",
            " 0   ts             212448 non-null  datetime64[ns]\n",
            " 1   id.orig_p      212448 non-null  int64         \n",
            " 2   id.resp_p      212448 non-null  int64         \n",
            " 3   proto          212448 non-null  int64         \n",
            " 4   service        212448 non-null  int64         \n",
            " 5   duration       212448 non-null  float64       \n",
            " 6   orig_bytes     212448 non-null  int64         \n",
            " 7   resp_bytes     212448 non-null  int64         \n",
            " 8   conn_state     212448 non-null  int64         \n",
            " 9   missed_bytes   212448 non-null  int64         \n",
            " 10  orig_pkts      212448 non-null  int64         \n",
            " 11  orig_ip_bytes  212448 non-null  int64         \n",
            " 12  resp_pkts      212448 non-null  int64         \n",
            " 13  resp_ip_bytes  212448 non-null  int64         \n",
            " 14  label          212448 non-null  int64         \n",
            "dtypes: datetime64[ns](1), float64(1), int64(13)\n",
            "memory usage: 25.9 MB\n",
            "None\n",
            "\n",
            "Total logs: 212448\n",
            "Malware logs: 189291\n",
            "Benign (non-malicious) logs: 23157\n"
          ]
        }
      ]
    },
    {
      "cell_type": "markdown",
      "source": [
        "# Data reshaping for 1D CNN input"
      ],
      "metadata": {
        "id": "WBxWX3MftapB"
      }
    },
    {
      "cell_type": "code",
      "source": [
        "from sklearn.model_selection import train_test_split\n",
        "\n",
        "# Step 1: Reshape the data for 1D CNN input\n",
        "# --- 1D CNN expects input shape: (samples, timesteps, features) ---\n",
        "# Here: timesteps = number of features, features = 1 (per timestep)\n",
        "X_1dcnn = X_scaled.reshape((X_scaled.shape[0], X_scaled.shape[1], 1))\n",
        "\n",
        "#Step 2: Train/Validation/Test Split\n",
        "# --- Split into Train/Val/Test ---\n",
        "# Split test set (20%)\n",
        "X_temp, X_test, y_temp, y_test = train_test_split(X_1dcnn, y, test_size=0.2, random_state=42, stratify=y)\n",
        "# Split validation set (20% of remaining)\n",
        "X_train, X_val, y_train, y_val = train_test_split(X_temp, y_temp, test_size=0.2, random_state=42, stratify=y_temp)\n",
        "\n",
        "print(f\"Train shape: {X_train.shape}, Val shape: {X_val.shape}, Test shape: {X_test.shape}\")\n",
        "\n",
        "# --- Final Shape Confirmation ---\n",
        "print(\"1D CNN input shape:\", X_1dcnn.shape)\n",
        "print(f\"Train: {X_train.shape}, Val: {X_val.shape}, Test: {X_test.shape}\")\n",
        "print(f\"Labels - Train: {np.bincount(y_train)}, Val: {np.bincount(y_val)}, Test: {np.bincount(y_test)}\")"
      ],
      "metadata": {
        "colab": {
          "base_uri": "https://localhost:8080/"
        },
        "id": "V0JKdNVLteDk",
        "outputId": "3fa8688c-fac2-4a55-aa57-ffbcc2dfb7eb"
      },
      "execution_count": null,
      "outputs": [
        {
          "output_type": "stream",
          "name": "stdout",
          "text": [
            "Train shape: (135966, 13, 1), Val shape: (33992, 13, 1), Test shape: (42490, 13, 1)\n",
            "1D CNN input shape: (212448, 13, 1)\n",
            "Train: (135966, 13, 1), Val: (33992, 13, 1), Test: (42490, 13, 1)\n",
            "Labels - Train: [ 14821 121145], Val: [ 3705 30287], Test: [ 4631 37859]\n"
          ]
        }
      ]
    },
    {
      "cell_type": "markdown",
      "source": [
        "#1D CNN model"
      ],
      "metadata": {
        "id": "AaK_AOGeuPxj"
      }
    },
    {
      "cell_type": "code",
      "source": [
        "import tensorflow as tf\n",
        "from tensorflow.keras.models import Sequential\n",
        "from tensorflow.keras.layers import Conv1D, MaxPooling1D, Flatten, Dense, Dropout, BatchNormalization\n",
        "\n",
        "#Step 3: Define the 1D CNN Model\n",
        "\n",
        "# Define input shape\n",
        "input_shape = (X_train.shape[1], 1)  # (timesteps, features)\n",
        "\n",
        "# Build model\n",
        "model = Sequential([\n",
        "    Conv1D(filters=32, kernel_size=3, activation='relu', input_shape=input_shape),\n",
        "    BatchNormalization(),\n",
        "    MaxPooling1D(pool_size=2),\n",
        "    Conv1D(filters=64, kernel_size=3, activation='relu'),\n",
        "    BatchNormalization(),\n",
        "    MaxPooling1D(pool_size=2),\n",
        "    Flatten(),\n",
        "    Dense(64, activation='relu'),\n",
        "    Dropout(0.3),\n",
        "    Dense(1, activation='sigmoid')  # Binary classification\n",
        "])\n",
        "\n",
        "# Compile\n",
        "model.compile(optimizer='adam', loss='binary_crossentropy', metrics=['accuracy'])\n",
        "\n",
        "# Summary\n",
        "# model.summary()\n"
      ],
      "metadata": {
        "colab": {
          "base_uri": "https://localhost:8080/"
        },
        "id": "5z09AdYcuSTj",
        "outputId": "dbae690f-754d-44eb-e64d-1e5fb06e114e"
      },
      "execution_count": null,
      "outputs": [
        {
          "output_type": "stream",
          "name": "stderr",
          "text": [
            "/usr/local/lib/python3.11/dist-packages/keras/src/layers/convolutional/base_conv.py:107: UserWarning: Do not pass an `input_shape`/`input_dim` argument to a layer. When using Sequential models, prefer using an `Input(shape)` object as the first layer in the model instead.\n",
            "  super().__init__(activity_regularizer=activity_regularizer, **kwargs)\n"
          ]
        }
      ]
    },
    {
      "cell_type": "markdown",
      "source": [
        "#Train, Evaluate (Test) & Visualize 1D CNN"
      ],
      "metadata": {
        "id": "h5WWCRHmusAX"
      }
    },
    {
      "cell_type": "code",
      "source": [
        "import matplotlib.pyplot as plt\n",
        "\n",
        "#Step 4: Train the Model\n",
        "\n",
        "history = model.fit(\n",
        "    X_train, y_train,\n",
        "    epochs=10,\n",
        "    batch_size=64,\n",
        "    validation_data=(X_val, y_val),\n",
        "    verbose=1\n",
        ")\n",
        "\n",
        "# Step 5: Evaluate on Test Set\n",
        "test_loss, test_acc = model.evaluate(X_test, y_test, verbose=0)\n",
        "print(f\"\\nTest Accuracy: {test_acc:.4f}\")\n",
        "\n",
        "\n",
        "# Step 6: Plot Accuracy and Loss\n",
        "plt.figure(figsize=(12,5))\n",
        "\n",
        "# Accuracy plot\n",
        "plt.subplot(1, 2, 1)\n",
        "plt.plot(history.history['accuracy'], label='Train Acc')\n",
        "plt.plot(history.history['val_accuracy'], label='Val Acc')\n",
        "plt.title('Accuracy')\n",
        "plt.xlabel('Epoch')\n",
        "plt.ylabel('Accuracy')\n",
        "plt.legend()\n",
        "\n",
        "# Loss plot\n",
        "plt.subplot(1, 2, 2)\n",
        "plt.plot(history.history['loss'], label='Train Loss')\n",
        "plt.plot(history.history['val_loss'], label='Val Loss')\n",
        "plt.title('Loss')\n",
        "plt.xlabel('Epoch')\n",
        "plt.ylabel('Loss')\n",
        "plt.legend()\n",
        "\n",
        "plt.tight_layout()\n",
        "plt.show()\n",
        "\n"
      ],
      "metadata": {
        "colab": {
          "base_uri": "https://localhost:8080/",
          "height": 881
        },
        "id": "yGslPs6rurxy",
        "outputId": "ab40a3d6-a5a6-42c2-f37a-ae95310dbf65"
      },
      "execution_count": null,
      "outputs": [
        {
          "output_type": "stream",
          "name": "stdout",
          "text": [
            "Epoch 1/10\n",
            "\u001b[1m2125/2125\u001b[0m \u001b[32m━━━━━━━━━━━━━━━━━━━━\u001b[0m\u001b[37m\u001b[0m \u001b[1m11s\u001b[0m 4ms/step - accuracy: 0.9777 - loss: 0.0895 - val_accuracy: 0.9878 - val_loss: 0.0622\n",
            "Epoch 2/10\n",
            "\u001b[1m2125/2125\u001b[0m \u001b[32m━━━━━━━━━━━━━━━━━━━━\u001b[0m\u001b[37m\u001b[0m \u001b[1m9s\u001b[0m 4ms/step - accuracy: 0.9912 - loss: 0.0447 - val_accuracy: 0.9914 - val_loss: 0.0438\n",
            "Epoch 3/10\n",
            "\u001b[1m2125/2125\u001b[0m \u001b[32m━━━━━━━━━━━━━━━━━━━━\u001b[0m\u001b[37m\u001b[0m \u001b[1m8s\u001b[0m 4ms/step - accuracy: 0.9925 - loss: 0.0409 - val_accuracy: 0.9872 - val_loss: 0.0602\n",
            "Epoch 4/10\n",
            "\u001b[1m2125/2125\u001b[0m \u001b[32m━━━━━━━━━━━━━━━━━━━━\u001b[0m\u001b[37m\u001b[0m \u001b[1m9s\u001b[0m 4ms/step - accuracy: 0.9922 - loss: 0.0421 - val_accuracy: 0.9919 - val_loss: 0.0439\n",
            "Epoch 5/10\n",
            "\u001b[1m2125/2125\u001b[0m \u001b[32m━━━━━━━━━━━━━━━━━━━━\u001b[0m\u001b[37m\u001b[0m \u001b[1m10s\u001b[0m 4ms/step - accuracy: 0.9920 - loss: 0.0426 - val_accuracy: 0.9921 - val_loss: 0.0427\n",
            "Epoch 6/10\n",
            "\u001b[1m2125/2125\u001b[0m \u001b[32m━━━━━━━━━━━━━━━━━━━━\u001b[0m\u001b[37m\u001b[0m \u001b[1m8s\u001b[0m 4ms/step - accuracy: 0.9938 - loss: 0.0356 - val_accuracy: 0.9931 - val_loss: 0.0383\n",
            "Epoch 7/10\n",
            "\u001b[1m2125/2125\u001b[0m \u001b[32m━━━━━━━━━━━━━━━━━━━━\u001b[0m\u001b[37m\u001b[0m \u001b[1m11s\u001b[0m 4ms/step - accuracy: 0.9936 - loss: 0.0355 - val_accuracy: 0.9941 - val_loss: 0.0676\n",
            "Epoch 8/10\n",
            "\u001b[1m2125/2125\u001b[0m \u001b[32m━━━━━━━━━━━━━━━━━━━━\u001b[0m\u001b[37m\u001b[0m \u001b[1m11s\u001b[0m 4ms/step - accuracy: 0.9940 - loss: 0.0330 - val_accuracy: 0.9918 - val_loss: 0.0444\n",
            "Epoch 9/10\n",
            "\u001b[1m2125/2125\u001b[0m \u001b[32m━━━━━━━━━━━━━━━━━━━━\u001b[0m\u001b[37m\u001b[0m \u001b[1m10s\u001b[0m 4ms/step - accuracy: 0.9930 - loss: 0.0350 - val_accuracy: 0.9926 - val_loss: 0.0477\n",
            "Epoch 10/10\n",
            "\u001b[1m2125/2125\u001b[0m \u001b[32m━━━━━━━━━━━━━━━━━━━━\u001b[0m\u001b[37m\u001b[0m \u001b[1m8s\u001b[0m 4ms/step - accuracy: 0.9937 - loss: 0.0302 - val_accuracy: 0.9928 - val_loss: 0.0551\n",
            "\n",
            "Test Accuracy: 0.9936\n"
          ]
        },
        {
          "output_type": "display_data",
          "data": {
            "text/plain": [
              "<Figure size 1200x500 with 2 Axes>"
            ],
            "image/png": "[encoded data removed]"
          },
          "metadata": {}
        }
      ]
    },
    {
      "cell_type": "markdown",
      "source": [
        "# Evaluate 1D CNN Malware Detection Results"
      ],
      "metadata": {
        "id": "xR3T_G90vSvu"
      }
    },
    {
      "cell_type": "code",
      "source": [
        "from sklearn.metrics import confusion_matrix, accuracy_score, classification_report\n",
        "\n",
        "# Get predictions\n",
        "y_pred_probs = model.predict(X_test)\n",
        "y_pred = (y_pred_probs > 0.5).astype(int).flatten()  # Convert probabilities to 0 or 1\n",
        "\n",
        "# Confusion matrix\n",
        "cm = confusion_matrix(y_test, y_pred)\n",
        "\n",
        "# Optional: print as table\n",
        "print(\"Confusion Matrix:\")\n",
        "print(cm)\n",
        "\n",
        "# Detailed breakdown\n",
        "tn, fp, fn, tp = cm.ravel()\n",
        "print(f\"\\nTrue Negatives (Benign correctly classified): {tn}\")\n",
        "print(f\"False Positives (Benign misclassified as malware): {fp}\")\n",
        "print(f\"False Negatives (Malware missed): {fn}\")\n",
        "print(f\"True Positives (Malware correctly identified): {tp}\")\n",
        "\n",
        "# Accuracy score\n",
        "print(\"sklearn accuracy:\", accuracy_score(y_test, y_pred))\n",
        "\n",
        "# Classification report (accuracy, precision, recall, F1)\n",
        "print(\"\\nClassification Report:\")\n",
        "print(classification_report(y_test, y_pred, target_names=[\"Benign\", \"Malicious\"]))"
      ],
      "metadata": {
        "colab": {
          "base_uri": "https://localhost:8080/"
        },
        "id": "G1chgEQVvU-s",
        "outputId": "8e10d12f-ba6a-4437-ce3e-715622a0f904"
      },
      "execution_count": null,
      "outputs": [
        {
          "output_type": "stream",
          "name": "stdout",
          "text": [
            "\u001b[1m1328/1328\u001b[0m \u001b[32m━━━━━━━━━━━━━━━━━━━━\u001b[0m\u001b[37m\u001b[0m \u001b[1m2s\u001b[0m 1ms/step\n",
            "Confusion Matrix:\n",
            "[[ 4357   274]\n",
            " [    0 37859]]\n",
            "\n",
            "True Negatives (Benign correctly classified): 4357\n",
            "False Positives (Benign misclassified as malware): 274\n",
            "False Negatives (Malware missed): 0\n",
            "True Positives (Malware correctly identified): 37859\n",
            "sklearn accuracy: 0.9935514238644387\n",
            "\n",
            "Classification Report:\n",
            "              precision    recall  f1-score   support\n",
            "\n",
            "      Benign       1.00      0.94      0.97      4631\n",
            "   Malicious       0.99      1.00      1.00     37859\n",
            "\n",
            "    accuracy                           0.99     42490\n",
            "   macro avg       1.00      0.97      0.98     42490\n",
            "weighted avg       0.99      0.99      0.99     42490\n",
            "\n"
          ]
        }
      ]
    },
    {
      "cell_type": "markdown",
      "source": [
        "# 1D CNN Quant model"
      ],
      "metadata": {
        "id": "L3gfDVIU2grG"
      }
    },
    {
      "cell_type": "code",
      "source": [
        "import tensorflow as tf\n",
        "import numpy as np\n",
        "import os\n",
        "from sklearn.utils import shuffle\n",
        "\n",
        "# --- STEP 1: Balance the sample set to 40% benign, 60% malware ---\n",
        "def balance_sample_data(X_train, y_train, benign_ratio=0.4):\n",
        "    benign_X = X_train[y_train == 0]\n",
        "    malware_X = X_train[y_train == 1]\n",
        "\n",
        "    total = min(len(benign_X) + len(benign_X), 100000)\n",
        "    benign_n = int(benign_ratio * total)\n",
        "    malware_n = total - benign_n\n",
        "\n",
        "    benign_X_sampled = benign_X[np.random.choice(len(benign_X), benign_n)]\n",
        "    malware_X_sampled = malware_X[np.random.choice(len(malware_X), malware_n)] #ISSUE?\n",
        "\n",
        "    X_bal = np.vstack((benign_X_sampled, malware_X_sampled))\n",
        "    y_bal = np.array([0]*benign_n + [1]*malware_n)\n",
        "\n",
        "    return shuffle(X_bal, y_bal, random_state=42)\n",
        "\n",
        "# Apply balancing to training data\n",
        "X_sample, y_sample = balance_sample_data(X_train, y_train, benign_ratio=0.4)\n",
        "\n",
        "# Ensure 1D shape (samples, timesteps, 1)\n",
        "X_sample = X_sample.reshape((X_sample.shape[0], X_sample.shape[1], 1))\n",
        "\n",
        "# --- STEP 2: Define representative dataset for quantization ---\n",
        "def representative_dataset():\n",
        "    for i in range(1000):\n",
        "        index = np.random.randint(0, X_sample.shape[0]) #randomise choices from X_sample data to get a range of diverse samples (not just the first 1000)\n",
        "        yield [X_sample[index:index+1].astype(np.float32)]\n",
        "\n",
        "# --- STEP 3: Quantization function ---\n",
        "def converter_quantization_model(model, model_name):\n",
        "    os.makedirs('./models', exist_ok=True)\n",
        "\n",
        "    # Save float32 optimized model\n",
        "    converter = tf.lite.TFLiteConverter.from_keras_model(model)\n",
        "    converter.optimizations = [tf.lite.Optimize.DEFAULT]\n",
        "    converter.target_spec.supported_types = [tf.float32]\n",
        "    converter.representative_dataset = representative_dataset\n",
        "    tflite_model_float32 = converter.convert()\n",
        "    with open(model_name + '_quant_float32.tflite', 'wb') as f:\n",
        "        f.write(tflite_model_float32)\n",
        "\n",
        "    # Save int8 quantized model\n",
        "    converter = tf.lite.TFLiteConverter.from_keras_model(model)\n",
        "    converter.optimizations = [tf.lite.Optimize.DEFAULT]\n",
        "    converter.target_spec.supported_types = [tf.int8]\n",
        "    converter.inference_input_type = tf.int8\n",
        "    converter.inference_output_type = tf.int8\n",
        "    converter.representative_dataset = representative_dataset\n",
        "    tflite_model_int8 = converter.convert()\n",
        "    with open(model_name + '_quant_int8.tflite', 'wb') as f:\n",
        "        f.write(tflite_model_int8)\n",
        "\n",
        "# --- STEP 4: Apply conversion ---\n",
        "converter_quantization_model(model, './models/1Dcnn')\n"
      ],
      "metadata": {
        "colab": {
          "base_uri": "https://localhost:8080/"
        },
        "id": "PjeYR1Sf2j9d",
        "outputId": "6bd7e4d1-d401-4299-c8c0-8fd21ab17db9"
      },
      "execution_count": null,
      "outputs": [
        {
          "output_type": "stream",
          "name": "stdout",
          "text": [
            "Saved artifact at '/tmp/tmpmzvn1ftb'. The following endpoints are available:\n",
            "\n",
            "* Endpoint 'serve'\n",
            "  args_0 (POSITIONAL_ONLY): TensorSpec(shape=(None, 13, 1), dtype=tf.float32, name='keras_tensor_66')\n",
            "Output Type:\n",
            "  TensorSpec(shape=(None, 1), dtype=tf.float32, name=None)\n",
            "Captures:\n",
            "  132278918917456: TensorSpec(shape=(), dtype=tf.resource, name=None)\n",
            "  132278918917648: TensorSpec(shape=(), dtype=tf.resource, name=None)\n",
            "  132278918913616: TensorSpec(shape=(), dtype=tf.resource, name=None)\n",
            "  132278918918224: TensorSpec(shape=(), dtype=tf.resource, name=None)\n",
            "  132278918917072: TensorSpec(shape=(), dtype=tf.resource, name=None)\n",
            "  132278918917840: TensorSpec(shape=(), dtype=tf.resource, name=None)\n",
            "  132278918911888: TensorSpec(shape=(), dtype=tf.resource, name=None)\n",
            "  132278918913808: TensorSpec(shape=(), dtype=tf.resource, name=None)\n",
            "  132279277370256: TensorSpec(shape=(), dtype=tf.resource, name=None)\n",
            "  132279277356816: TensorSpec(shape=(), dtype=tf.resource, name=None)\n",
            "  132278918916880: TensorSpec(shape=(), dtype=tf.resource, name=None)\n",
            "  132279277359696: TensorSpec(shape=(), dtype=tf.resource, name=None)\n",
            "  132279277363152: TensorSpec(shape=(), dtype=tf.resource, name=None)\n",
            "  132279277358736: TensorSpec(shape=(), dtype=tf.resource, name=None)\n",
            "  132279277357584: TensorSpec(shape=(), dtype=tf.resource, name=None)\n",
            "  132279277364304: TensorSpec(shape=(), dtype=tf.resource, name=None)\n",
            "Saved artifact at '/tmp/tmpd55q56zk'. The following endpoints are available:\n",
            "\n",
            "* Endpoint 'serve'\n",
            "  args_0 (POSITIONAL_ONLY): TensorSpec(shape=(None, 13, 1), dtype=tf.float32, name='keras_tensor_66')\n",
            "Output Type:\n",
            "  TensorSpec(shape=(None, 1), dtype=tf.float32, name=None)\n",
            "Captures:\n",
            "  132278918917456: TensorSpec(shape=(), dtype=tf.resource, name=None)\n",
            "  132278918917648: TensorSpec(shape=(), dtype=tf.resource, name=None)\n",
            "  132278918913616: TensorSpec(shape=(), dtype=tf.resource, name=None)\n",
            "  132278918918224: TensorSpec(shape=(), dtype=tf.resource, name=None)\n",
            "  132278918917072: TensorSpec(shape=(), dtype=tf.resource, name=None)\n",
            "  132278918917840: TensorSpec(shape=(), dtype=tf.resource, name=None)\n",
            "  132278918911888: TensorSpec(shape=(), dtype=tf.resource, name=None)\n",
            "  132278918913808: TensorSpec(shape=(), dtype=tf.resource, name=None)\n",
            "  132279277370256: TensorSpec(shape=(), dtype=tf.resource, name=None)\n",
            "  132279277356816: TensorSpec(shape=(), dtype=tf.resource, name=None)\n",
            "  132278918916880: TensorSpec(shape=(), dtype=tf.resource, name=None)\n",
            "  132279277359696: TensorSpec(shape=(), dtype=tf.resource, name=None)\n",
            "  132279277363152: TensorSpec(shape=(), dtype=tf.resource, name=None)\n",
            "  132279277358736: TensorSpec(shape=(), dtype=tf.resource, name=None)\n",
            "  132279277357584: TensorSpec(shape=(), dtype=tf.resource, name=None)\n",
            "  132279277364304: TensorSpec(shape=(), dtype=tf.resource, name=None)\n"
          ]
        },
        {
          "output_type": "stream",
          "name": "stderr",
          "text": [
            "/usr/local/lib/python3.11/dist-packages/tensorflow/lite/python/convert.py:997: UserWarning: Statistics for quantized inputs were expected, but not specified; continuing anyway.\n",
            "  warnings.warn(\n"
          ]
        }
      ]
    },
    {
      "cell_type": "markdown",
      "source": [
        "#Evaluate int8 1D CNN"
      ],
      "metadata": {
        "id": "9Em5y-Cl26vO"
      }
    },
    {
      "cell_type": "code",
      "source": [
        "from tensorflow.lite.python.interpreter import Interpreter\n",
        "from sklearn.metrics import accuracy_score, confusion_matrix\n",
        "import numpy as np\n",
        "import time\n",
        "\n",
        "\n",
        "def evaluate_tflite_model(tflite_path, X_test, y_test):\n",
        "    #Load and Prepare TFLite Interpreter\n",
        "    interpreter = Interpreter(model_path=tflite_path)\n",
        "    interpreter.allocate_tensors()\n",
        "\n",
        "    #Fetch input & output Tensor Details from the TensorFlow Lite Interpreter after the model is loaded and memory for its tensors is allocated.\n",
        "    input_details = interpreter.get_input_details() #Input tensor: shape, dtype, index.\n",
        "    output_details = interpreter.get_output_details() #Output tensor: shape, dtype, index, quantisation.\n",
        "\n",
        "    #Store the tensor indices and data types for input/output\n",
        "    input_index = input_details[0]['index']\n",
        "    output_index = output_details[0]['index']\n",
        "    input_dtype = input_details[0]['dtype']\n",
        "    output_dtype = output_details[0]['dtype']\n",
        "\n",
        "    # Calculate Quantization Threshold\n",
        "    output_scale, output_zero_point = output_details[0]['quantization']#Get quantization parameters for the output\n",
        "    if output_dtype == np.int8:\n",
        "        quantized_threshold = int(round(0.5 / output_scale + output_zero_point)) #Computes the int8 value that corresponds to 0.5 — the usual binary classification threshold for float.\n",
        "\n",
        "    #Initializes empty lists to store predictions and timing\n",
        "    predictions = []\n",
        "    processing_times = []\n",
        "\n",
        "    for i in range(len(X_test)):\n",
        "        #input_data = np.expand_dims(X_test[i], axis=0).astype(input_dtype)#Prepare Input Tensor and Run Inference\n",
        "        input_data = np.expand_dims(X_test[i], axis=0)\n",
        "\n",
        "        if input_dtype == np.int8:\n",
        "            input_scale, input_zero_point = input_details[0]['quantization']\n",
        "            input_data = (input_data / input_scale + input_zero_point).astype(np.int8)\n",
        "        else:\n",
        "            input_data = input_data.astype(input_dtype)\n",
        "\n",
        "        start_time = time.time()\n",
        "        interpreter.set_tensor(input_index, input_data) #Loads input into the interpreter.\n",
        "        interpreter.invoke() #Execute the model\n",
        "        output = interpreter.get_tensor(output_index) #Gets the output tensor.\n",
        "        processing_times.append(time.time() - start_time)\n",
        "\n",
        "        # Handle prediction thresholding for float and int8 models\n",
        "        if output_dtype == np.float32:\n",
        "            pred = (output[0][0] > 0.5).astype(int)\n",
        "        elif output_dtype == np.int8:\n",
        "            pred = (output[0][0] > quantized_threshold).astype(int) #If int8, compare against precomputed quantized threshold\n",
        "        else:\n",
        "            raise ValueError(f\"Unsupported output dtype: {output_dtype}\")\n",
        "\n",
        "        predictions.append(pred)\n",
        "\n",
        "    #Evaluate Accuracy and Confusion Matrix\n",
        "    acc = accuracy_score(y_test, predictions)\n",
        "    cm = confusion_matrix(y_test, predictions)\n",
        "\n",
        "    print(f\"{tflite_path} Accuracy: {acc:.4f}\")\n",
        "    print(f\"Avg inference time: {np.mean(processing_times)*1000:.2f} ms/sample\")\n",
        "    print(\"Confusion Matrix:\")\n",
        "    print(cm)\n",
        "\n",
        "    if cm.shape == (2, 2):\n",
        "        tn, fp, fn, tp = cm.ravel()\n",
        "        print(f\"\\nTrue Negatives (Benign correctly classified): {tn}\")\n",
        "        print(f\"False Positives (Benign misclassified as malware): {fp}\")\n",
        "        print(f\"False Negatives (Malware missed): {fn}\")\n",
        "        print(f\"True Positives (Malware correctly identified): {tp}\")\n",
        "    else:\n",
        "        print(\"\\nWarning: Confusion matrix is not 2x2 — check labels.\")\n",
        "\n",
        "# Execute evaluation function:\n",
        "evaluate_tflite_model(\"./models/1Dcnn_quant_float32.tflite\", X_test, y_test)\n",
        "evaluate_tflite_model(\"./models/1Dcnn_quant_int8.tflite\", X_test, y_test)\n"
      ],
      "metadata": {
        "colab": {
          "base_uri": "https://localhost:8080/"
        },
        "id": "heu0aEfQ2_hA",
        "outputId": "42deaa90-d3da-4b69-f868-41feee7d2b3e"
      },
      "execution_count": null,
      "outputs": [
        {
          "output_type": "stream",
          "name": "stdout",
          "text": [
            "./models/1Dcnn_quant_float32.tflite Accuracy: 0.9936\n",
            "Avg inference time: 0.01 ms/sample\n",
            "Confusion Matrix:\n",
            "[[ 4357   274]\n",
            " [    0 37859]]\n",
            "\n",
            "True Negatives (Benign correctly classified): 4357\n",
            "False Positives (Benign misclassified as malware): 274\n",
            "False Negatives (Malware missed): 0\n",
            "True Positives (Malware correctly identified): 37859\n",
            "./models/1Dcnn_quant_int8.tflite Accuracy: 0.7995\n",
            "Avg inference time: 0.01 ms/sample\n",
            "Confusion Matrix:\n",
            "[[ 4296   335]\n",
            " [ 8183 29676]]\n",
            "\n",
            "True Negatives (Benign correctly classified): 4296\n",
            "False Positives (Benign misclassified as malware): 335\n",
            "False Negatives (Malware missed): 8183\n",
            "True Positives (Malware correctly identified): 29676\n"
          ]
        }
      ]
    }
  ]
}